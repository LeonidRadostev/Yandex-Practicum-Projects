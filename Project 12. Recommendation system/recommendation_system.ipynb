{
 "cells": [
  {
   "cell_type": "markdown",
   "id": "3f72201f",
   "metadata": {},
   "source": [
    "# Внедрение улучшенной рекомендательной системы (Выпускной проект: A/B-тестирование)"
   ]
  },
  {
   "cell_type": "markdown",
   "id": "af66ec28",
   "metadata": {},
   "source": [
    "**Цель исследования:**\n",
    "\n",
    "* Провести оценку результатов A/B-теста.\n",
    "\n",
    "**Постановка задачи**\n",
    "Оценим корректность проведения теста:\n",
    "\n",
    "- удостоверьтесь, что нет пересечений с конкурирующим тестом и нет пользователей, участвующих в двух группах теста одновременно;\n",
    "- проверим равномерность распределения пользователей по тестовым группам и правильность их формирования.\n",
    "\n",
    "\n",
    "**Техническое задание**\n",
    "\n",
    "- Название теста: `recommender_system_test`;\n",
    "- группы: А — контрольная, B — новая платёжная воронка;\n",
    "- дата запуска: 2020-12-07;\n",
    "- дата остановки набора новых пользователей: 2020-12-21;\n",
    "- дата остановки: 2021-01-04;\n",
    "- аудитория: в тест должно быть отобрано 15% новых пользователей из региона EU;\n",
    "- назначение теста: тестирование изменений, связанных с внедрением улучшенной рекомендательной системы;\n",
    "- ожидаемое количество участников теста: 6000.\n",
    "- ожидаемый эффект: за 14 дней с момента регистрации пользователи покажут улучшение каждой метрики не менее, чем на 10%:\n",
    "    - конверсии в просмотр карточек товаров — событие `product_page`,\n",
    "    - просмотры корзины — `product_cart`,\n",
    "    - покупки — `purchase`."
   ]
  },
  {
   "cell_type": "markdown",
   "id": "38538d76",
   "metadata": {},
   "source": [
    "**Исследование будет проходить в несколько этапов:**\n",
    "1. Откроем файлы с данными и изучим общую информацию.\n",
    "2. Предобработка данных:\n",
    "    - Требуется ли преобразование типов?\n",
    "    - Опишем природу пропущенных значений и дубликатов, если их обнаружим.\n",
    "3. Оценим корректность проведения теста, а именно:\n",
    "    - Соответствие данных требованиям технического задания. Проверим корректность всех пунктов технического задания.\n",
    "    - Время проведения теста. Убедимся, что оно не совпадает с маркетинговыми и другими активностями.\n",
    "    - Аудиторию теста. Удостоверимся, что нет пересечений с конкурирующим тестом и нет пользователей, участвующих в двух группах теста одновременно. Проверим равномерность распределения по тестовым группам и правильность их формирования.\n",
    "4. Исследовательский анализ данных:\n",
    "    - Количество событий на пользователя одинаково распределены в выборках?\n",
    "    - Как число событий в выборках распределено по дням?\n",
    "    - Как меняется конверсия в воронке в выборках на разных этапах?\n",
    "    - Какие особенности данных нужно учесть, прежде чем приступать к A/B-тестированию?\n",
    "5. Оценим результаты A/B-тестирования:\n",
    "    - Что можно сказать про результаты A/В-тестирования?\n",
    "    - Проверим статистическую разницу долей z-критерием.\n",
    "6. Общий вывод."
   ]
  },
  {
   "cell_type": "code",
   "execution_count": 1,
   "id": "821a3e37",
   "metadata": {},
   "outputs": [],
   "source": [
    "# импортируем необходимые библиотеки\n",
    "import pandas as pd\n",
    "import datetime as dt\n",
    "from datetime import datetime\n",
    "import numpy as np\n",
    "import matplotlib.pyplot as plt\n",
    "import scipy.stats as stats\n",
    "import seaborn as sns\n",
    "pd.set_option('display.max_colwidth', 0)\n",
    "from plotly import graph_objects as go\n",
    "import plotly.express as px\n",
    "import plotly.io as pio\n",
    "pio.renderers.default = \"svg\"\n",
    "svg_renderer = pio.renderers[\"svg\"]\n",
    "svg_renderer.scale = 1.2"
   ]
  },
  {
   "cell_type": "markdown",
   "id": "7eedabe4",
   "metadata": {},
   "source": [
    "## Откроем файлы с данными и изучим общую информацию"
   ]
  },
  {
   "cell_type": "code",
   "execution_count": 2,
   "id": "c7f5c1c2",
   "metadata": {},
   "outputs": [],
   "source": [
    "final_ab_events = pd.read_csv('C:\\\\StudentYandex\\\\Projekts\\\\Python\\\\ProjektXvupusk\\\\ABtest\\\\final_ab_events.csv');\n",
    "ab_project_marketing_events = pd.read_csv('C:\\\\StudentYandex\\\\Projekts\\\\Python\\\\ProjektXvupusk\\\\ABtest\\\\ab_project_marketing_events.csv');\n",
    "final_ab_new_users = pd.read_csv('C:\\\\StudentYandex\\\\Projekts\\\\Python\\\\ProjektXvupusk\\\\ABtest\\\\final_ab_new_users.csv');\n",
    "final_ab_participants = pd.read_csv('C:\\\\StudentYandex\\\\Projekts\\\\Python\\\\ProjektXvupusk\\\\ABtest\\\\final_ab_participants.csv')"
   ]
  },
  {
   "cell_type": "code",
   "execution_count": 3,
   "id": "4a0fa2c7",
   "metadata": {},
   "outputs": [
    {
     "data": {
      "text/html": [
       "<div>\n",
       "<style scoped>\n",
       "    .dataframe tbody tr th:only-of-type {\n",
       "        vertical-align: middle;\n",
       "    }\n",
       "\n",
       "    .dataframe tbody tr th {\n",
       "        vertical-align: top;\n",
       "    }\n",
       "\n",
       "    .dataframe thead th {\n",
       "        text-align: right;\n",
       "    }\n",
       "</style>\n",
       "<table border=\"1\" class=\"dataframe\">\n",
       "  <thead>\n",
       "    <tr style=\"text-align: right;\">\n",
       "      <th></th>\n",
       "      <th>user_id</th>\n",
       "      <th>event_dt</th>\n",
       "      <th>event_name</th>\n",
       "      <th>details</th>\n",
       "    </tr>\n",
       "  </thead>\n",
       "  <tbody>\n",
       "    <tr>\n",
       "      <th>0</th>\n",
       "      <td>E1BDDCE0DAFA2679</td>\n",
       "      <td>2020-12-07 20:22:03</td>\n",
       "      <td>purchase</td>\n",
       "      <td>99.99</td>\n",
       "    </tr>\n",
       "    <tr>\n",
       "      <th>1</th>\n",
       "      <td>7B6452F081F49504</td>\n",
       "      <td>2020-12-07 09:22:53</td>\n",
       "      <td>purchase</td>\n",
       "      <td>9.99</td>\n",
       "    </tr>\n",
       "    <tr>\n",
       "      <th>2</th>\n",
       "      <td>9CD9F34546DF254C</td>\n",
       "      <td>2020-12-07 12:59:29</td>\n",
       "      <td>purchase</td>\n",
       "      <td>4.99</td>\n",
       "    </tr>\n",
       "    <tr>\n",
       "      <th>3</th>\n",
       "      <td>96F27A054B191457</td>\n",
       "      <td>2020-12-07 04:02:40</td>\n",
       "      <td>purchase</td>\n",
       "      <td>4.99</td>\n",
       "    </tr>\n",
       "    <tr>\n",
       "      <th>4</th>\n",
       "      <td>1FD7660FDF94CA1F</td>\n",
       "      <td>2020-12-07 10:15:09</td>\n",
       "      <td>purchase</td>\n",
       "      <td>4.99</td>\n",
       "    </tr>\n",
       "  </tbody>\n",
       "</table>\n",
       "</div>"
      ],
      "text/plain": [
       "            user_id             event_dt event_name  details\n",
       "0  E1BDDCE0DAFA2679  2020-12-07 20:22:03  purchase   99.99  \n",
       "1  7B6452F081F49504  2020-12-07 09:22:53  purchase   9.99   \n",
       "2  9CD9F34546DF254C  2020-12-07 12:59:29  purchase   4.99   \n",
       "3  96F27A054B191457  2020-12-07 04:02:40  purchase   4.99   \n",
       "4  1FD7660FDF94CA1F  2020-12-07 10:15:09  purchase   4.99   "
      ]
     },
     "execution_count": 3,
     "metadata": {},
     "output_type": "execute_result"
    }
   ],
   "source": [
    "final_ab_events.head()"
   ]
  },
  {
   "cell_type": "code",
   "execution_count": 4,
   "id": "49839dbc",
   "metadata": {
    "scrolled": false
   },
   "outputs": [
    {
     "data": {
      "text/html": [
       "<div>\n",
       "<style scoped>\n",
       "    .dataframe tbody tr th:only-of-type {\n",
       "        vertical-align: middle;\n",
       "    }\n",
       "\n",
       "    .dataframe tbody tr th {\n",
       "        vertical-align: top;\n",
       "    }\n",
       "\n",
       "    .dataframe thead th {\n",
       "        text-align: right;\n",
       "    }\n",
       "</style>\n",
       "<table border=\"1\" class=\"dataframe\">\n",
       "  <thead>\n",
       "    <tr style=\"text-align: right;\">\n",
       "      <th></th>\n",
       "      <th>name</th>\n",
       "      <th>regions</th>\n",
       "      <th>start_dt</th>\n",
       "      <th>finish_dt</th>\n",
       "    </tr>\n",
       "  </thead>\n",
       "  <tbody>\n",
       "    <tr>\n",
       "      <th>0</th>\n",
       "      <td>Christmas&amp;New Year Promo</td>\n",
       "      <td>EU, N.America</td>\n",
       "      <td>2020-12-25</td>\n",
       "      <td>2021-01-03</td>\n",
       "    </tr>\n",
       "    <tr>\n",
       "      <th>1</th>\n",
       "      <td>St. Valentine's Day Giveaway</td>\n",
       "      <td>EU, CIS, APAC, N.America</td>\n",
       "      <td>2020-02-14</td>\n",
       "      <td>2020-02-16</td>\n",
       "    </tr>\n",
       "    <tr>\n",
       "      <th>2</th>\n",
       "      <td>St. Patric's Day Promo</td>\n",
       "      <td>EU, N.America</td>\n",
       "      <td>2020-03-17</td>\n",
       "      <td>2020-03-19</td>\n",
       "    </tr>\n",
       "    <tr>\n",
       "      <th>3</th>\n",
       "      <td>Easter Promo</td>\n",
       "      <td>EU, CIS, APAC, N.America</td>\n",
       "      <td>2020-04-12</td>\n",
       "      <td>2020-04-19</td>\n",
       "    </tr>\n",
       "    <tr>\n",
       "      <th>4</th>\n",
       "      <td>4th of July Promo</td>\n",
       "      <td>N.America</td>\n",
       "      <td>2020-07-04</td>\n",
       "      <td>2020-07-11</td>\n",
       "    </tr>\n",
       "  </tbody>\n",
       "</table>\n",
       "</div>"
      ],
      "text/plain": [
       "                           name                   regions    start_dt  \\\n",
       "0  Christmas&New Year Promo      EU, N.America             2020-12-25   \n",
       "1  St. Valentine's Day Giveaway  EU, CIS, APAC, N.America  2020-02-14   \n",
       "2  St. Patric's Day Promo        EU, N.America             2020-03-17   \n",
       "3  Easter Promo                  EU, CIS, APAC, N.America  2020-04-12   \n",
       "4  4th of July Promo             N.America                 2020-07-04   \n",
       "\n",
       "    finish_dt  \n",
       "0  2021-01-03  \n",
       "1  2020-02-16  \n",
       "2  2020-03-19  \n",
       "3  2020-04-19  \n",
       "4  2020-07-11  "
      ]
     },
     "execution_count": 4,
     "metadata": {},
     "output_type": "execute_result"
    }
   ],
   "source": [
    "ab_project_marketing_events.head()"
   ]
  },
  {
   "cell_type": "code",
   "execution_count": 5,
   "id": "9805108a",
   "metadata": {
    "scrolled": true
   },
   "outputs": [
    {
     "data": {
      "text/html": [
       "<div>\n",
       "<style scoped>\n",
       "    .dataframe tbody tr th:only-of-type {\n",
       "        vertical-align: middle;\n",
       "    }\n",
       "\n",
       "    .dataframe tbody tr th {\n",
       "        vertical-align: top;\n",
       "    }\n",
       "\n",
       "    .dataframe thead th {\n",
       "        text-align: right;\n",
       "    }\n",
       "</style>\n",
       "<table border=\"1\" class=\"dataframe\">\n",
       "  <thead>\n",
       "    <tr style=\"text-align: right;\">\n",
       "      <th></th>\n",
       "      <th>user_id</th>\n",
       "      <th>first_date</th>\n",
       "      <th>region</th>\n",
       "      <th>device</th>\n",
       "    </tr>\n",
       "  </thead>\n",
       "  <tbody>\n",
       "    <tr>\n",
       "      <th>0</th>\n",
       "      <td>D72A72121175D8BE</td>\n",
       "      <td>2020-12-07</td>\n",
       "      <td>EU</td>\n",
       "      <td>PC</td>\n",
       "    </tr>\n",
       "    <tr>\n",
       "      <th>1</th>\n",
       "      <td>F1C668619DFE6E65</td>\n",
       "      <td>2020-12-07</td>\n",
       "      <td>N.America</td>\n",
       "      <td>Android</td>\n",
       "    </tr>\n",
       "    <tr>\n",
       "      <th>2</th>\n",
       "      <td>2E1BF1D4C37EA01F</td>\n",
       "      <td>2020-12-07</td>\n",
       "      <td>EU</td>\n",
       "      <td>PC</td>\n",
       "    </tr>\n",
       "    <tr>\n",
       "      <th>3</th>\n",
       "      <td>50734A22C0C63768</td>\n",
       "      <td>2020-12-07</td>\n",
       "      <td>EU</td>\n",
       "      <td>iPhone</td>\n",
       "    </tr>\n",
       "    <tr>\n",
       "      <th>4</th>\n",
       "      <td>E1BDDCE0DAFA2679</td>\n",
       "      <td>2020-12-07</td>\n",
       "      <td>N.America</td>\n",
       "      <td>iPhone</td>\n",
       "    </tr>\n",
       "  </tbody>\n",
       "</table>\n",
       "</div>"
      ],
      "text/plain": [
       "            user_id  first_date     region   device\n",
       "0  D72A72121175D8BE  2020-12-07  EU         PC     \n",
       "1  F1C668619DFE6E65  2020-12-07  N.America  Android\n",
       "2  2E1BF1D4C37EA01F  2020-12-07  EU         PC     \n",
       "3  50734A22C0C63768  2020-12-07  EU         iPhone \n",
       "4  E1BDDCE0DAFA2679  2020-12-07  N.America  iPhone "
      ]
     },
     "execution_count": 5,
     "metadata": {},
     "output_type": "execute_result"
    }
   ],
   "source": [
    "final_ab_new_users.head()"
   ]
  },
  {
   "cell_type": "code",
   "execution_count": 6,
   "id": "07bba393",
   "metadata": {
    "scrolled": true
   },
   "outputs": [
    {
     "data": {
      "text/html": [
       "<div>\n",
       "<style scoped>\n",
       "    .dataframe tbody tr th:only-of-type {\n",
       "        vertical-align: middle;\n",
       "    }\n",
       "\n",
       "    .dataframe tbody tr th {\n",
       "        vertical-align: top;\n",
       "    }\n",
       "\n",
       "    .dataframe thead th {\n",
       "        text-align: right;\n",
       "    }\n",
       "</style>\n",
       "<table border=\"1\" class=\"dataframe\">\n",
       "  <thead>\n",
       "    <tr style=\"text-align: right;\">\n",
       "      <th></th>\n",
       "      <th>user_id</th>\n",
       "      <th>group</th>\n",
       "      <th>ab_test</th>\n",
       "    </tr>\n",
       "  </thead>\n",
       "  <tbody>\n",
       "    <tr>\n",
       "      <th>0</th>\n",
       "      <td>D1ABA3E2887B6A73</td>\n",
       "      <td>A</td>\n",
       "      <td>recommender_system_test</td>\n",
       "    </tr>\n",
       "    <tr>\n",
       "      <th>1</th>\n",
       "      <td>A7A3664BD6242119</td>\n",
       "      <td>A</td>\n",
       "      <td>recommender_system_test</td>\n",
       "    </tr>\n",
       "    <tr>\n",
       "      <th>2</th>\n",
       "      <td>DABC14FDDFADD29E</td>\n",
       "      <td>A</td>\n",
       "      <td>recommender_system_test</td>\n",
       "    </tr>\n",
       "    <tr>\n",
       "      <th>3</th>\n",
       "      <td>04988C5DF189632E</td>\n",
       "      <td>A</td>\n",
       "      <td>recommender_system_test</td>\n",
       "    </tr>\n",
       "    <tr>\n",
       "      <th>4</th>\n",
       "      <td>482F14783456D21B</td>\n",
       "      <td>B</td>\n",
       "      <td>recommender_system_test</td>\n",
       "    </tr>\n",
       "  </tbody>\n",
       "</table>\n",
       "</div>"
      ],
      "text/plain": [
       "            user_id group                  ab_test\n",
       "0  D1ABA3E2887B6A73  A     recommender_system_test\n",
       "1  A7A3664BD6242119  A     recommender_system_test\n",
       "2  DABC14FDDFADD29E  A     recommender_system_test\n",
       "3  04988C5DF189632E  A     recommender_system_test\n",
       "4  482F14783456D21B  B     recommender_system_test"
      ]
     },
     "execution_count": 6,
     "metadata": {},
     "output_type": "execute_result"
    }
   ],
   "source": [
    "final_ab_participants.head()"
   ]
  },
  {
   "cell_type": "markdown",
   "id": "4762b96b",
   "metadata": {},
   "source": [
    "**Вывод:**\n",
    "\n",
    "\n",
    "Описание данных\n",
    "\n",
    "`ab_project_marketing_events.csv` — календарь маркетинговых событий на 2020 год.\n",
    "\n",
    "Структура файла:\n",
    "\n",
    "- `name` — название маркетингового события;\n",
    "- `regions` — регионы, в которых будет проводиться рекламная кампания;\n",
    "- `start_dt` — дата начала кампании;\n",
    "- `finish_dt` — дата завершения кампании.\n",
    "\n",
    "`final_ab_new_users.csv` — пользователи, зарегистрировавшиеся с 7 до 21 декабря 2020 года.\n",
    "\n",
    "Структура файла:\n",
    "\n",
    "- `user_id` — идентификатор пользователя;\n",
    "- `first_date` — дата регистрации;\n",
    "- `region` — регион пользователя;\n",
    "- `device` — устройство, с которого происходила регистрация.\n",
    "\n",
    "`final_ab_events.csv` — действия новых пользователей в период с 7 декабря 2020 по 4 января 2021 года.\n",
    "\n",
    "Структура файла:\n",
    "\n",
    "- `user_id` — идентификатор пользователя;\n",
    "- `event_dt` — дата и время события;\n",
    "- `event_name` — тип события;\n",
    "- `details` — дополнительные данные о событии. Например, для покупок, `purchase`, в этом поле хранится стоимость покупки в долларах.\n",
    "\n",
    "`final_ab_participants.csv` — таблица участников тестов.\n",
    "\n",
    "Структура файла:\n",
    "\n",
    "- `user_id` — идентификатор пользователя;\n",
    "- `ab_test` — название теста;\n",
    "- `group` — группа пользователя."
   ]
  },
  {
   "cell_type": "markdown",
   "id": "9ae37ead",
   "metadata": {},
   "source": [
    "## Предобработка данных"
   ]
  },
  {
   "cell_type": "markdown",
   "id": "1ddbe403",
   "metadata": {},
   "source": [
    "**Проверим типы данных, дубликаты и пропуски:**"
   ]
  },
  {
   "cell_type": "code",
   "execution_count": 7,
   "id": "17828469",
   "metadata": {
    "scrolled": true
   },
   "outputs": [
    {
     "name": "stdout",
     "output_type": "stream",
     "text": [
      "<class 'pandas.core.frame.DataFrame'>\n",
      "RangeIndex: 440317 entries, 0 to 440316\n",
      "Data columns (total 4 columns):\n",
      " #   Column      Non-Null Count   Dtype  \n",
      "---  ------      --------------   -----  \n",
      " 0   user_id     440317 non-null  object \n",
      " 1   event_dt    440317 non-null  object \n",
      " 2   event_name  440317 non-null  object \n",
      " 3   details     62740 non-null   float64\n",
      "dtypes: float64(1), object(3)\n",
      "memory usage: 13.4+ MB\n"
     ]
    },
    {
     "data": {
      "text/plain": [
       "None"
      ]
     },
     "metadata": {},
     "output_type": "display_data"
    },
    {
     "data": {
      "text/plain": [
       "0"
      ]
     },
     "metadata": {},
     "output_type": "display_data"
    },
    {
     "data": {
      "text/plain": [
       "user_id       0     \n",
       "event_dt      0     \n",
       "event_name    0     \n",
       "details       377577\n",
       "dtype: int64"
      ]
     },
     "execution_count": 7,
     "metadata": {},
     "output_type": "execute_result"
    }
   ],
   "source": [
    "display(final_ab_events.info()) # Получаем информацию о таблице\n",
    "display(final_ab_events.duplicated().sum()) # Проверяем количество дубликатов\n",
    "final_ab_events.isna().sum() # Проверяем количество пропусков в каждом столбце"
   ]
  },
  {
   "cell_type": "code",
   "execution_count": 8,
   "id": "cc827cd6",
   "metadata": {},
   "outputs": [
    {
     "data": {
      "text/html": [
       "<div>\n",
       "<style scoped>\n",
       "    .dataframe tbody tr th:only-of-type {\n",
       "        vertical-align: middle;\n",
       "    }\n",
       "\n",
       "    .dataframe tbody tr th {\n",
       "        vertical-align: top;\n",
       "    }\n",
       "\n",
       "    .dataframe thead th {\n",
       "        text-align: right;\n",
       "    }\n",
       "</style>\n",
       "<table border=\"1\" class=\"dataframe\">\n",
       "  <thead>\n",
       "    <tr style=\"text-align: right;\">\n",
       "      <th></th>\n",
       "      <th>details</th>\n",
       "    </tr>\n",
       "    <tr>\n",
       "      <th>event_name</th>\n",
       "      <th></th>\n",
       "    </tr>\n",
       "  </thead>\n",
       "  <tbody>\n",
       "    <tr>\n",
       "      <th>login</th>\n",
       "      <td>0</td>\n",
       "    </tr>\n",
       "    <tr>\n",
       "      <th>product_cart</th>\n",
       "      <td>0</td>\n",
       "    </tr>\n",
       "    <tr>\n",
       "      <th>product_page</th>\n",
       "      <td>0</td>\n",
       "    </tr>\n",
       "    <tr>\n",
       "      <th>purchase</th>\n",
       "      <td>62740</td>\n",
       "    </tr>\n",
       "  </tbody>\n",
       "</table>\n",
       "</div>"
      ],
      "text/plain": [
       "              details\n",
       "event_name           \n",
       "login         0      \n",
       "product_cart  0      \n",
       "product_page  0      \n",
       "purchase      62740  "
      ]
     },
     "execution_count": 8,
     "metadata": {},
     "output_type": "execute_result"
    }
   ],
   "source": [
    "final_ab_events.groupby('event_name').agg({'details':'count'})"
   ]
  },
  {
   "cell_type": "code",
   "execution_count": 9,
   "id": "a0c844af",
   "metadata": {},
   "outputs": [],
   "source": [
    "final_ab_events['details'] = final_ab_events['details'].fillna(0)"
   ]
  },
  {
   "cell_type": "markdown",
   "id": "f1d854a0",
   "metadata": {},
   "source": [
    "* Явные дубликаты в таблице `final_ab_events` - отсутствуют. Обнаружили пропуски в столбце `details`. Заполнен только для покупок, `purchase`, хранится стоимость покупки в долларах; `product_cart` - по всей видимости отображает когда пользователь зашел на страницу \"корзина с товарами\"; `product_page` - отображает когда пользователь зашел на \"страницу продукта\"; `login` - событие когда пользователь \"авторизовался\". Заполнили эти пропуски числом `0`, для удобной работы с таблицей в дальнейшем."
   ]
  },
  {
   "cell_type": "code",
   "execution_count": 10,
   "id": "4998b5e1",
   "metadata": {},
   "outputs": [],
   "source": [
    "final_ab_events['event_dt'] = final_ab_events['event_dt'].map(lambda x: dt.datetime.strptime(x, '%Y-%m-%d %H:%M:%S'))"
   ]
  },
  {
   "cell_type": "code",
   "execution_count": 11,
   "id": "e5f10a35",
   "metadata": {},
   "outputs": [],
   "source": [
    "final_ab_events['event_date'] = final_ab_events['event_dt'].map(lambda x: dt.datetime.date(x))"
   ]
  },
  {
   "cell_type": "markdown",
   "id": "ea8c3b21",
   "metadata": {},
   "source": [
    "* Тип данных столбца `event_dt` таблицы `final_ab_events` - `object`, привели к типу `datetime` и добавили еще 1 столбец `event_date` - где отобразили только дату события;"
   ]
  },
  {
   "cell_type": "code",
   "execution_count": 12,
   "id": "5aaec698",
   "metadata": {
    "scrolled": true
   },
   "outputs": [
    {
     "name": "stdout",
     "output_type": "stream",
     "text": [
      "<class 'pandas.core.frame.DataFrame'>\n",
      "RangeIndex: 14 entries, 0 to 13\n",
      "Data columns (total 4 columns):\n",
      " #   Column     Non-Null Count  Dtype \n",
      "---  ------     --------------  ----- \n",
      " 0   name       14 non-null     object\n",
      " 1   regions    14 non-null     object\n",
      " 2   start_dt   14 non-null     object\n",
      " 3   finish_dt  14 non-null     object\n",
      "dtypes: object(4)\n",
      "memory usage: 576.0+ bytes\n"
     ]
    },
    {
     "data": {
      "text/plain": [
       "None"
      ]
     },
     "metadata": {},
     "output_type": "display_data"
    },
    {
     "data": {
      "text/plain": [
       "0"
      ]
     },
     "metadata": {},
     "output_type": "display_data"
    },
    {
     "data": {
      "text/plain": [
       "name         0\n",
       "regions      0\n",
       "start_dt     0\n",
       "finish_dt    0\n",
       "dtype: int64"
      ]
     },
     "execution_count": 12,
     "metadata": {},
     "output_type": "execute_result"
    }
   ],
   "source": [
    "display(ab_project_marketing_events.info()) # Получаем информацию о таблице\n",
    "display(ab_project_marketing_events.duplicated().sum()) # Проверяем количество дубликатов\n",
    "ab_project_marketing_events.isna().sum() # Проверяем количество пропусков в каждом столбце"
   ]
  },
  {
   "cell_type": "code",
   "execution_count": 13,
   "id": "69660df7",
   "metadata": {},
   "outputs": [
    {
     "name": "stdout",
     "output_type": "stream",
     "text": [
      "<class 'pandas.core.frame.DataFrame'>\n",
      "RangeIndex: 14 entries, 0 to 13\n",
      "Data columns (total 4 columns):\n",
      " #   Column     Non-Null Count  Dtype         \n",
      "---  ------     --------------  -----         \n",
      " 0   name       14 non-null     object        \n",
      " 1   regions    14 non-null     object        \n",
      " 2   start_dt   14 non-null     datetime64[ns]\n",
      " 3   finish_dt  14 non-null     datetime64[ns]\n",
      "dtypes: datetime64[ns](2), object(2)\n",
      "memory usage: 576.0+ bytes\n"
     ]
    }
   ],
   "source": [
    "ab_project_marketing_events['start_dt'] = ab_project_marketing_events['start_dt'].map(lambda x: dt.datetime.strptime(x, '%Y-%m-%d'))\n",
    "ab_project_marketing_events['finish_dt'] = ab_project_marketing_events['finish_dt'].map(lambda x: dt.datetime.strptime(x, '%Y-%m-%d'))\n",
    "ab_project_marketing_events.info()"
   ]
  },
  {
   "cell_type": "markdown",
   "id": "07730caa",
   "metadata": {},
   "source": [
    "* В таблице `ab_project_marketing_events` пропуски и явные дубликаты отсутствуют;\n",
    "* Тип данных столбцов `start_dt` и `finish_dt` таблицы `ab_project_marketing_events` - `object`, привели к типу `datetime`;"
   ]
  },
  {
   "cell_type": "code",
   "execution_count": 14,
   "id": "08be8f15",
   "metadata": {
    "scrolled": true
   },
   "outputs": [
    {
     "name": "stdout",
     "output_type": "stream",
     "text": [
      "<class 'pandas.core.frame.DataFrame'>\n",
      "RangeIndex: 61733 entries, 0 to 61732\n",
      "Data columns (total 4 columns):\n",
      " #   Column      Non-Null Count  Dtype \n",
      "---  ------      --------------  ----- \n",
      " 0   user_id     61733 non-null  object\n",
      " 1   first_date  61733 non-null  object\n",
      " 2   region      61733 non-null  object\n",
      " 3   device      61733 non-null  object\n",
      "dtypes: object(4)\n",
      "memory usage: 1.9+ MB\n"
     ]
    },
    {
     "data": {
      "text/plain": [
       "None"
      ]
     },
     "metadata": {},
     "output_type": "display_data"
    },
    {
     "data": {
      "text/plain": [
       "0"
      ]
     },
     "metadata": {},
     "output_type": "display_data"
    },
    {
     "data": {
      "text/plain": [
       "user_id       0\n",
       "first_date    0\n",
       "region        0\n",
       "device        0\n",
       "dtype: int64"
      ]
     },
     "execution_count": 14,
     "metadata": {},
     "output_type": "execute_result"
    }
   ],
   "source": [
    "display(final_ab_new_users.info()) # Получаем информацию о таблице\n",
    "display(final_ab_new_users.duplicated().sum()) # Проверяем количество дубликатов\n",
    "final_ab_new_users.isna().sum() # Проверяем количество пропусков в каждом столбце"
   ]
  },
  {
   "cell_type": "code",
   "execution_count": 15,
   "id": "7adea026",
   "metadata": {},
   "outputs": [],
   "source": [
    "final_ab_new_users['first_date'] = final_ab_new_users['first_date'].map(lambda x: dt.datetime.strptime(x, '%Y-%m-%d'))"
   ]
  },
  {
   "cell_type": "markdown",
   "id": "c3921533",
   "metadata": {},
   "source": [
    "* В таблице `final_ab_new_users` пропуски и явные дубликаты отсутствуют;\n",
    "* Тип данных столбца `first_date` таблицы `final_ab_new_users` - `object`, привели к типу `datetime`;"
   ]
  },
  {
   "cell_type": "code",
   "execution_count": 16,
   "id": "c55da93d",
   "metadata": {
    "scrolled": true
   },
   "outputs": [
    {
     "name": "stdout",
     "output_type": "stream",
     "text": [
      "<class 'pandas.core.frame.DataFrame'>\n",
      "RangeIndex: 18268 entries, 0 to 18267\n",
      "Data columns (total 3 columns):\n",
      " #   Column   Non-Null Count  Dtype \n",
      "---  ------   --------------  ----- \n",
      " 0   user_id  18268 non-null  object\n",
      " 1   group    18268 non-null  object\n",
      " 2   ab_test  18268 non-null  object\n",
      "dtypes: object(3)\n",
      "memory usage: 428.3+ KB\n"
     ]
    },
    {
     "data": {
      "text/plain": [
       "None"
      ]
     },
     "metadata": {},
     "output_type": "display_data"
    },
    {
     "data": {
      "text/plain": [
       "0"
      ]
     },
     "metadata": {},
     "output_type": "display_data"
    },
    {
     "data": {
      "text/plain": [
       "user_id    0\n",
       "group      0\n",
       "ab_test    0\n",
       "dtype: int64"
      ]
     },
     "execution_count": 16,
     "metadata": {},
     "output_type": "execute_result"
    }
   ],
   "source": [
    "display(final_ab_participants.info()) # Получаем информацию о таблице\n",
    "display(final_ab_participants.duplicated().sum()) # Проверяем количество дубликатов\n",
    "final_ab_participants.isna().sum() # Проверяем количество пропусков в каждом столбце"
   ]
  },
  {
   "cell_type": "markdown",
   "id": "129b1dda",
   "metadata": {},
   "source": [
    "* в таблице `ab_project_marketing_events` пропуски и явные дубликаты отсутствуют, типы данных так же в порядке - оставляем без изменений;"
   ]
  },
  {
   "cell_type": "markdown",
   "id": "b4a45d5b",
   "metadata": {},
   "source": [
    "**Вывод:**\n",
    "\n",
    "* Явные дубликаты в таблице `final_ab_events` - отсутствуют. Обнаружили пропуски в столбце `details`. Заполнен только для покупок, `purchase`, хранится стоимость покупки в долларах; `product_cart` - по всей видимости отображает когда пользователь зашел на страницу \"корзина с товарами\"; `product_page` - отображает когда пользователь зашел на \"страницу продукта\"; `login` - событие когда пользователь \"авторизовался\". Заполнили эти пропуски числом `0`, для удобной работы с таблицей в дальнейшем.\n",
    "* Тип данных столбца `event_dt` таблицы `final_ab_events` - `object`, привели к типу `datetime` и добавили еще 1 столбец `event_date` - где отобразили только дату события;\n",
    "* В таблице `ab_project_marketing_events` пропуски и явные дубликаты отсутствуют;\n",
    "* Тип данных столбцов `start_dt` и `finish_dt` таблицы `ab_project_marketing_events` - `object`, привели к типу `datetime`;\n",
    "* В таблице `final_ab_new_users` пропуски и явные дубликаты отсутствуют;\n",
    "* Тип данных столбца `first_date` таблицы `final_ab_new_users` - `object`, привели к типу `datetime`;\n",
    "* в таблице `ab_project_marketing_events` пропуски и явные дубликаты отсутствуют, типы данных так же в порядке - оставляем без изменений;"
   ]
  },
  {
   "cell_type": "markdown",
   "id": "feeddfd9",
   "metadata": {},
   "source": [
    "## Оценим корректность проведения теста"
   ]
  },
  {
   "cell_type": "markdown",
   "id": "7b476f2e",
   "metadata": {},
   "source": [
    "Еще раз посмотрим на наше ТЗ:"
   ]
  },
  {
   "cell_type": "markdown",
   "id": "766b155f",
   "metadata": {},
   "source": [
    "**1. Название теста: recommender_system_test**"
   ]
  },
  {
   "cell_type": "code",
   "execution_count": 17,
   "id": "ba50d642",
   "metadata": {},
   "outputs": [
    {
     "data": {
      "text/html": [
       "<div>\n",
       "<style scoped>\n",
       "    .dataframe tbody tr th:only-of-type {\n",
       "        vertical-align: middle;\n",
       "    }\n",
       "\n",
       "    .dataframe tbody tr th {\n",
       "        vertical-align: top;\n",
       "    }\n",
       "\n",
       "    .dataframe thead th {\n",
       "        text-align: right;\n",
       "    }\n",
       "</style>\n",
       "<table border=\"1\" class=\"dataframe\">\n",
       "  <thead>\n",
       "    <tr style=\"text-align: right;\">\n",
       "      <th></th>\n",
       "      <th>user_id</th>\n",
       "      <th>group</th>\n",
       "      <th>ab_test</th>\n",
       "    </tr>\n",
       "  </thead>\n",
       "  <tbody>\n",
       "    <tr>\n",
       "      <th>0</th>\n",
       "      <td>D1ABA3E2887B6A73</td>\n",
       "      <td>A</td>\n",
       "      <td>recommender_system_test</td>\n",
       "    </tr>\n",
       "    <tr>\n",
       "      <th>1</th>\n",
       "      <td>A7A3664BD6242119</td>\n",
       "      <td>A</td>\n",
       "      <td>recommender_system_test</td>\n",
       "    </tr>\n",
       "    <tr>\n",
       "      <th>2</th>\n",
       "      <td>DABC14FDDFADD29E</td>\n",
       "      <td>A</td>\n",
       "      <td>recommender_system_test</td>\n",
       "    </tr>\n",
       "    <tr>\n",
       "      <th>3</th>\n",
       "      <td>04988C5DF189632E</td>\n",
       "      <td>A</td>\n",
       "      <td>recommender_system_test</td>\n",
       "    </tr>\n",
       "    <tr>\n",
       "      <th>4</th>\n",
       "      <td>482F14783456D21B</td>\n",
       "      <td>B</td>\n",
       "      <td>recommender_system_test</td>\n",
       "    </tr>\n",
       "  </tbody>\n",
       "</table>\n",
       "</div>"
      ],
      "text/plain": [
       "            user_id group                  ab_test\n",
       "0  D1ABA3E2887B6A73  A     recommender_system_test\n",
       "1  A7A3664BD6242119  A     recommender_system_test\n",
       "2  DABC14FDDFADD29E  A     recommender_system_test\n",
       "3  04988C5DF189632E  A     recommender_system_test\n",
       "4  482F14783456D21B  B     recommender_system_test"
      ]
     },
     "execution_count": 17,
     "metadata": {},
     "output_type": "execute_result"
    }
   ],
   "source": [
    "final_ab_participants.head()"
   ]
  },
  {
   "cell_type": "code",
   "execution_count": 18,
   "id": "fd55f0e8",
   "metadata": {
    "scrolled": true
   },
   "outputs": [
    {
     "data": {
      "text/plain": [
       "array(['recommender_system_test', 'interface_eu_test'], dtype=object)"
      ]
     },
     "metadata": {},
     "output_type": "display_data"
    },
    {
     "data": {
      "text/plain": [
       "ab_test    1602\n",
       "dtype: int64"
      ]
     },
     "execution_count": 18,
     "metadata": {},
     "output_type": "execute_result"
    }
   ],
   "source": [
    "display(final_ab_participants['ab_test'].unique())\n",
    "final_ab_participants.groupby('user_id').agg({'ab_test':'nunique'}).query('ab_test > 1').count()"
   ]
  },
  {
   "cell_type": "markdown",
   "id": "ffd917e3",
   "metadata": {},
   "source": [
    "* В таблицу участников теста `final_ab_participants` зачесались данные другого теста, а именно `interface_eu_test` - конкурирующий тест. \n",
    "* Есть пересечения в группах нашего теста и конкурирующего. Всего 1602 пользователя учавствуют сразу в двух тестах.\n",
    "* Нам интересны только те пользователи которые попали в группу `A`(контрольную) теста `interface_eu_test`, иначе будет непонятно, что именно повлияло на действия пользователя новая система рекомендаций или новый интерфейс."
   ]
  },
  {
   "cell_type": "code",
   "execution_count": 19,
   "id": "f75eba95",
   "metadata": {
    "scrolled": false
   },
   "outputs": [
    {
     "data": {
      "text/html": [
       "<div>\n",
       "<style scoped>\n",
       "    .dataframe tbody tr th:only-of-type {\n",
       "        vertical-align: middle;\n",
       "    }\n",
       "\n",
       "    .dataframe tbody tr th {\n",
       "        vertical-align: top;\n",
       "    }\n",
       "\n",
       "    .dataframe thead th {\n",
       "        text-align: right;\n",
       "    }\n",
       "</style>\n",
       "<table border=\"1\" class=\"dataframe\">\n",
       "  <thead>\n",
       "    <tr style=\"text-align: right;\">\n",
       "      <th></th>\n",
       "      <th>user_id</th>\n",
       "      <th>group</th>\n",
       "      <th>ab_test</th>\n",
       "    </tr>\n",
       "  </thead>\n",
       "  <tbody>\n",
       "    <tr>\n",
       "      <th>0</th>\n",
       "      <td>D1ABA3E2887B6A73</td>\n",
       "      <td>A</td>\n",
       "      <td>recommender_system_test</td>\n",
       "    </tr>\n",
       "    <tr>\n",
       "      <th>1</th>\n",
       "      <td>A7A3664BD6242119</td>\n",
       "      <td>A</td>\n",
       "      <td>recommender_system_test</td>\n",
       "    </tr>\n",
       "    <tr>\n",
       "      <th>2</th>\n",
       "      <td>DABC14FDDFADD29E</td>\n",
       "      <td>A</td>\n",
       "      <td>recommender_system_test</td>\n",
       "    </tr>\n",
       "    <tr>\n",
       "      <th>4</th>\n",
       "      <td>04988C5DF189632E</td>\n",
       "      <td>A</td>\n",
       "      <td>recommender_system_test</td>\n",
       "    </tr>\n",
       "    <tr>\n",
       "      <th>6</th>\n",
       "      <td>482F14783456D21B</td>\n",
       "      <td>B</td>\n",
       "      <td>recommender_system_test</td>\n",
       "    </tr>\n",
       "  </tbody>\n",
       "</table>\n",
       "</div>"
      ],
      "text/plain": [
       "            user_id group                  ab_test\n",
       "0  D1ABA3E2887B6A73  A     recommender_system_test\n",
       "1  A7A3664BD6242119  A     recommender_system_test\n",
       "2  DABC14FDDFADD29E  A     recommender_system_test\n",
       "4  04988C5DF189632E  A     recommender_system_test\n",
       "6  482F14783456D21B  B     recommender_system_test"
      ]
     },
     "execution_count": 19,
     "metadata": {},
     "output_type": "execute_result"
    }
   ],
   "source": [
    "# создаем таблицу recommender_system_test с пользователями данного теста\n",
    "recommender_system_test = final_ab_participants.loc[final_ab_participants['ab_test']=='recommender_system_test'][['user_id','group']]\n",
    "# создаем таблицу interface_eu_test с пользователями данного теста и группой А\n",
    "interface_eu_test = final_ab_participants.loc[(final_ab_participants['ab_test']=='interface_eu_test')\\\n",
    "& (final_ab_participants['group']=='A')][['user_id','group']].rename(columns={'group':'group_a'})\n",
    "# обьединяем таблицы чтобы получить список пересечения\n",
    "users_one_group = recommender_system_test.merge(interface_eu_test)[['user_id','group_a']]\n",
    "# получаем список пользователей которые не пересекаются между тестами\n",
    "users_two_group = final_ab_participants\\\n",
    ".groupby(['user_id']).agg({'ab_test':'nunique'}).reset_index().query('ab_test == 1')\n",
    "# Объединяем таблицы и получаем конечный список с нашим тестом без \"лишних\" user_id\n",
    "final_ab_participants_filtered = final_ab_participants.merge(users_two_group.merge(recommender_system_test)\\\n",
    ".merge(users_one_group, how='outer')[['user_id','group_a']])[['user_id','group','ab_test']].query('ab_test==\"recommender_system_test\"')\n",
    "final_ab_participants_filtered.head()"
   ]
  },
  {
   "cell_type": "markdown",
   "id": "dc2aa81a",
   "metadata": {},
   "source": [
    "* Создали новую таблицу `final_ab_participants_filtered`, в нее включили отфильтрованные данные;"
   ]
  },
  {
   "cell_type": "markdown",
   "id": "bdd8317a",
   "metadata": {},
   "source": [
    "**2. Группы: А — контрольная, B — новая платёжная воронка**"
   ]
  },
  {
   "cell_type": "code",
   "execution_count": 20,
   "id": "a836e3ec",
   "metadata": {},
   "outputs": [
    {
     "data": {
      "text/plain": [
       "array(['A', 'B'], dtype=object)"
      ]
     },
     "execution_count": 20,
     "metadata": {},
     "output_type": "execute_result"
    }
   ],
   "source": [
    "final_ab_participants_filtered['group'].unique()"
   ]
  },
  {
   "cell_type": "markdown",
   "id": "e21c7b5c",
   "metadata": {},
   "source": [
    "* В столбце `group`таблицы `final_ab_participants` 2 значения `A` и `B` - лишних и пропущенных значений нет;"
   ]
  },
  {
   "cell_type": "code",
   "execution_count": 21,
   "id": "34ec4190",
   "metadata": {},
   "outputs": [
    {
     "data": {
      "text/html": [
       "<div>\n",
       "<style scoped>\n",
       "    .dataframe tbody tr th:only-of-type {\n",
       "        vertical-align: middle;\n",
       "    }\n",
       "\n",
       "    .dataframe tbody tr th {\n",
       "        vertical-align: top;\n",
       "    }\n",
       "\n",
       "    .dataframe thead th {\n",
       "        text-align: right;\n",
       "    }\n",
       "</style>\n",
       "<table border=\"1\" class=\"dataframe\">\n",
       "  <thead>\n",
       "    <tr style=\"text-align: right;\">\n",
       "      <th></th>\n",
       "      <th>group</th>\n",
       "    </tr>\n",
       "    <tr>\n",
       "      <th>user_id</th>\n",
       "      <th></th>\n",
       "    </tr>\n",
       "  </thead>\n",
       "  <tbody>\n",
       "  </tbody>\n",
       "</table>\n",
       "</div>"
      ],
      "text/plain": [
       "Empty DataFrame\n",
       "Columns: [group]\n",
       "Index: []"
      ]
     },
     "execution_count": 21,
     "metadata": {},
     "output_type": "execute_result"
    }
   ],
   "source": [
    "final_ab_participants_filtered.groupby('user_id').agg({'group':'nunique'}).query('group > 1')"
   ]
  },
  {
   "cell_type": "markdown",
   "id": "66cdecf6",
   "metadata": {},
   "source": [
    "* В нашей таблице нет участников теста котороый попали сразу в 2 группы(контрольную и экспериментальную) - это очень радует;"
   ]
  },
  {
   "cell_type": "markdown",
   "id": "3b272223",
   "metadata": {},
   "source": [
    "**3. Дата запуска теста: 2020-12-07**"
   ]
  },
  {
   "cell_type": "code",
   "execution_count": 22,
   "id": "453c2c4a",
   "metadata": {
    "scrolled": true
   },
   "outputs": [
    {
     "data": {
      "text/plain": [
       "Timestamp('2020-12-07 00:00:00')"
      ]
     },
     "execution_count": 22,
     "metadata": {},
     "output_type": "execute_result"
    }
   ],
   "source": [
    "min_reg_date = final_ab_participants_filtered.merge(final_ab_new_users)['first_date'].min()\n",
    "min_reg_date"
   ]
  },
  {
   "cell_type": "markdown",
   "id": "23d384ac",
   "metadata": {},
   "source": [
    "* в данных информация о пользователях зарегистрировавшихся 07.12.2020 и позже;"
   ]
  },
  {
   "cell_type": "markdown",
   "id": "397e796f",
   "metadata": {},
   "source": [
    "**4. Дата остановки набора новых пользователей: 2020-12-21**"
   ]
  },
  {
   "cell_type": "code",
   "execution_count": 23,
   "id": "0d7c889e",
   "metadata": {
    "scrolled": true
   },
   "outputs": [
    {
     "data": {
      "text/plain": [
       "Timestamp('2020-12-21 00:00:00')"
      ]
     },
     "execution_count": 23,
     "metadata": {},
     "output_type": "execute_result"
    }
   ],
   "source": [
    "max_reg_date = final_ab_participants_filtered.merge(final_ab_new_users)['first_date'].max()\n",
    "max_reg_date"
   ]
  },
  {
   "cell_type": "markdown",
   "id": "6212a1f7",
   "metadata": {},
   "source": [
    "* В данных информация о пользователях зарегистрировавшихся до 21.12.2020;"
   ]
  },
  {
   "cell_type": "markdown",
   "id": "3702a0b6",
   "metadata": {},
   "source": [
    "**Убедимся, что во время проведения теста не проходили маркетинговые активности.**"
   ]
  },
  {
   "cell_type": "code",
   "execution_count": 24,
   "id": "5419ca8c",
   "metadata": {
    "scrolled": true
   },
   "outputs": [
    {
     "data": {
      "text/html": [
       "<div>\n",
       "<style scoped>\n",
       "    .dataframe tbody tr th:only-of-type {\n",
       "        vertical-align: middle;\n",
       "    }\n",
       "\n",
       "    .dataframe tbody tr th {\n",
       "        vertical-align: top;\n",
       "    }\n",
       "\n",
       "    .dataframe thead th {\n",
       "        text-align: right;\n",
       "    }\n",
       "</style>\n",
       "<table border=\"1\" class=\"dataframe\">\n",
       "  <thead>\n",
       "    <tr style=\"text-align: right;\">\n",
       "      <th></th>\n",
       "      <th>name</th>\n",
       "      <th>regions</th>\n",
       "      <th>start_dt</th>\n",
       "      <th>finish_dt</th>\n",
       "    </tr>\n",
       "  </thead>\n",
       "  <tbody>\n",
       "    <tr>\n",
       "      <th>0</th>\n",
       "      <td>Christmas&amp;New Year Promo</td>\n",
       "      <td>EU, N.America</td>\n",
       "      <td>2020-12-25</td>\n",
       "      <td>2021-01-03</td>\n",
       "    </tr>\n",
       "    <tr>\n",
       "      <th>10</th>\n",
       "      <td>CIS New Year Gift Lottery</td>\n",
       "      <td>CIS</td>\n",
       "      <td>2020-12-30</td>\n",
       "      <td>2021-01-07</td>\n",
       "    </tr>\n",
       "  </tbody>\n",
       "</table>\n",
       "</div>"
      ],
      "text/plain": [
       "                         name        regions   start_dt  finish_dt\n",
       "0   Christmas&New Year Promo   EU, N.America 2020-12-25 2021-01-03\n",
       "10  CIS New Year Gift Lottery  CIS           2020-12-30 2021-01-07"
      ]
     },
     "execution_count": 24,
     "metadata": {},
     "output_type": "execute_result"
    }
   ],
   "source": [
    "ab_project_marketing_events[(ab_project_marketing_events['finish_dt'] < max_reg_date)\\\n",
    "                            & (ab_project_marketing_events['start_dt'] > min_reg_date)\\\n",
    "                           | (ab_project_marketing_events['start_dt'] > min_reg_date)]"
   ]
  },
  {
   "cell_type": "markdown",
   "id": "530fd0c9",
   "metadata": {},
   "source": [
    "* Во время набора пользователей маркетинговые акции не проходили, но проходили во время проведения теста, следовательно пользователи из регионов `EU, N.America` совершавшие события после `2020-12-25`включительно и региона `CIS` совершавшие события после `2020-12-30` включительно могли учавствовать в этих маркетинговых мероприятиях. На поведение данных пользователей могла повлиять и маркетинговая акция, но на группы А и В она повляет одинаково. Следовательно на относительную конверсию группы В к группе А - не будет иметь воздействие"
   ]
  },
  {
   "cell_type": "code",
   "execution_count": 25,
   "id": "3549a7b2",
   "metadata": {},
   "outputs": [],
   "source": [
    "# обьединяем все талицы\n",
    "merge_p_n_u = final_ab_participants_filtered.merge(final_ab_new_users)\n",
    "all_tables = merge_p_n_u.merge(final_ab_events, how = 'left')"
   ]
  },
  {
   "cell_type": "markdown",
   "id": "14ebe8a7",
   "metadata": {},
   "source": [
    "**5. Дата остановки теста: 2021-01-04**"
   ]
  },
  {
   "cell_type": "code",
   "execution_count": 26,
   "id": "90651dc3",
   "metadata": {},
   "outputs": [
    {
     "data": {
      "text/plain": [
       "datetime.date(2020, 12, 30)"
      ]
     },
     "execution_count": 26,
     "metadata": {},
     "output_type": "execute_result"
    }
   ],
   "source": [
    "all_tables[~all_tables['event_date'].isna()]['event_date'].max()"
   ]
  },
  {
   "cell_type": "markdown",
   "id": "ffb499a7",
   "metadata": {},
   "source": [
    "* Последнее действие пользователей в данных было 29.12.2020 - по всей видимости в январские праздники сервис не работал, так же часть событий мы удалили из-за того что они проходили в период маркетинговых акций;"
   ]
  },
  {
   "cell_type": "markdown",
   "id": "a946d5f6",
   "metadata": {},
   "source": [
    "**6. Аудитория: в тест должно быть отобрано 15% новых пользователей из региона EU**"
   ]
  },
  {
   "cell_type": "markdown",
   "id": "b0229ba1",
   "metadata": {},
   "source": [
    "* В наших данных есть пользователи и из других регионов, они могут повлиять на результаты теста, оставим только пользователей из региона EU"
   ]
  },
  {
   "cell_type": "code",
   "execution_count": 27,
   "id": "0fb8913b",
   "metadata": {},
   "outputs": [],
   "source": [
    "all_tables = all_tables[all_tables['region']=='EU']"
   ]
  },
  {
   "cell_type": "markdown",
   "id": "70d7d7c0",
   "metadata": {},
   "source": [
    "Проверим данные за какой период в таблице новых пользователей:"
   ]
  },
  {
   "cell_type": "code",
   "execution_count": 28,
   "id": "df2687af",
   "metadata": {},
   "outputs": [
    {
     "name": "stdout",
     "output_type": "stream",
     "text": [
      "Начало регистрации: 2020-12-07 00:00:00 Конец регистрации: 2020-12-23 00:00:00\n"
     ]
    }
   ],
   "source": [
    "print('Начало регистрации:',final_ab_new_users['first_date'].min(),'Конец регистрации:',final_ab_new_users['first_date'].max())"
   ]
  },
  {
   "cell_type": "markdown",
   "id": "3eca0b4e",
   "metadata": {},
   "source": [
    "Как видим сюда попали и пользователи зарегистрированные после \"периода набора\", учтем этот момент при расчете доли"
   ]
  },
  {
   "cell_type": "code",
   "execution_count": 29,
   "id": "09edc5ba",
   "metadata": {},
   "outputs": [
    {
     "data": {
      "text/plain": [
       "13"
      ]
     },
     "execution_count": 29,
     "metadata": {},
     "output_type": "execute_result"
    }
   ],
   "source": [
    " round((all_tables['user_id'].nunique()/final_ab_new_users[(final_ab_new_users['region']=='EU')\\\n",
    "                                                & (final_ab_new_users['first_date']<=max_reg_date)]['user_id'].count())*100)"
   ]
  },
  {
   "cell_type": "markdown",
   "id": "7c056dcf",
   "metadata": {},
   "source": [
    "* В тест попало только 7% новых пользователей из региона `EU` вместо ожидаемых 15%;"
   ]
  },
  {
   "cell_type": "markdown",
   "id": "d15c6bae",
   "metadata": {},
   "source": [
    "**7. Назначение теста: тестирование изменений, связанных с внедрением улучшенной рекомендательной системы**\n",
    "* Как раз мы используем данные `recommender_system_test`(тестирование рекомендательной системы);"
   ]
  },
  {
   "cell_type": "markdown",
   "id": "11e1c04e",
   "metadata": {},
   "source": [
    "**8. Ожидаемое количество участников теста: 6000**"
   ]
  },
  {
   "cell_type": "code",
   "execution_count": 30,
   "id": "b895d6e9",
   "metadata": {},
   "outputs": [
    {
     "data": {
      "text/plain": [
       "5568"
      ]
     },
     "execution_count": 30,
     "metadata": {},
     "output_type": "execute_result"
    }
   ],
   "source": [
    "all_tables['user_id'].nunique()"
   ]
  },
  {
   "cell_type": "markdown",
   "id": "c542bb0e",
   "metadata": {},
   "source": [
    "* В конечном итоге количество участников теста составляет 5568 пользователей, что меньше на 432 чем ожидалось;"
   ]
  },
  {
   "cell_type": "markdown",
   "id": "730542c7",
   "metadata": {},
   "source": [
    "**9. Ожидаемый эффект: за 14 дней с момента регистрации пользователи покажут улучшение каждой метрики не менее, чем на 10%:**\n",
    "* конверсии в просмотр карточек товаров — событие product_page,\n",
    "* просмотры корзины — product_cart,\n",
    "* покупки — purchase."
   ]
  },
  {
   "cell_type": "markdown",
   "id": "cd89b443",
   "metadata": {},
   "source": [
    "* То есть необходимо оценить улучшение метрик пользователей в первые 14 дней с момента регитрации, удалим события совершенные посльзователями после этого периода;"
   ]
  },
  {
   "cell_type": "code",
   "execution_count": 31,
   "id": "06ab7ca4",
   "metadata": {},
   "outputs": [],
   "source": [
    "all_tables['first_date'] = all_tables['first_date'].map(lambda x: dt.datetime.date(x))\n",
    "all_tables['lifetime'] = all_tables['event_date'] - all_tables['first_date']"
   ]
  },
  {
   "cell_type": "code",
   "execution_count": 32,
   "id": "3d8e6e4f",
   "metadata": {},
   "outputs": [],
   "source": [
    "all_tables = all_tables[all_tables['lifetime'] <= '14 days']"
   ]
  },
  {
   "cell_type": "markdown",
   "id": "39b9c4d0",
   "metadata": {},
   "source": [
    "**Вывод:**\n",
    "* В таблицу участников теста final_ab_participants зачесались данные другого теста, а именно interface_eu_test - конкурирующий тест.Есть пересечения в группах нашего теста и конкурирующего. Всего 1602 пользователя учавствуют сразу в двух тестах.Нам интересны только те пользователи которые попали в группу A(контрольную) теста interface_eu_test, иначе будет непонятно, что именно повлияло на действия пользователя новая система рекомендаций или новый интерфейс.\n",
    "* В нашей таблице нет участников теста котороый попали сразу в 2 группы(контрольную и экспериментальную) - это очень радует;\n",
    "* В данных информация о пользователях зарегистрировавшихся с 07.12.2020 по 21.12.2020;\n",
    "* Во время набора пользователей маркетинговые акции не проходили, но проходили во время проведения теста, следовательно пользователи из регионов `EU, N.America` совершавшие события после `2020-12-25`включительно и региона `CIS` совершавшие события после `2020-12-30` включительно могли учавствовать в этих маркетинговых мероприятиях. На поведение данных пользователей могла повлиять и маркетинговая акция, но на группы А и В она повляет одинаково. Следовательно на относительную конверсию группы В к группе А - не будет иметь воздействие;\n",
    "* Последнее действие пользователей в данных было 29.12.2020 - по всей видимости в январские праздники сервис не работал, так же часть событий мы удалили из-за того что они проходили в период маркетинговых акций;\n",
    "* В наших данных есть пользователи и из других регионов, они могут повлиять на результаты теста, оставили только пользователей из региона EU;\n",
    "* В тест попало только 7% новых пользователей из региона `EU` вместо ожидаемых 15%;\n",
    "* В конечном итоге количество участников теста составляет 5568 пользователей, что меньше на 432 чем ожидалось;\n",
    "* Необходимо оценить улучшение метрик пользователей в первые 14 дней с момента регитрации, удалили события совершенные посльзователями после этого периода;"
   ]
  },
  {
   "cell_type": "markdown",
   "id": "b24ab2f6",
   "metadata": {},
   "source": [
    "## Исследовательский анализ данных"
   ]
  },
  {
   "cell_type": "markdown",
   "id": "967a9628",
   "metadata": {},
   "source": [
    "**Посмотрим как количество событий на пользователя распределены в выборках:**"
   ]
  },
  {
   "cell_type": "code",
   "execution_count": 33,
   "id": "2fc087a1",
   "metadata": {},
   "outputs": [
    {
     "data": {
      "text/html": [
       "<div>\n",
       "<style scoped>\n",
       "    .dataframe tbody tr th:only-of-type {\n",
       "        vertical-align: middle;\n",
       "    }\n",
       "\n",
       "    .dataframe tbody tr th {\n",
       "        vertical-align: top;\n",
       "    }\n",
       "\n",
       "    .dataframe thead th {\n",
       "        text-align: right;\n",
       "    }\n",
       "</style>\n",
       "<table border=\"1\" class=\"dataframe\">\n",
       "  <thead>\n",
       "    <tr style=\"text-align: right;\">\n",
       "      <th></th>\n",
       "      <th>user_id</th>\n",
       "      <th>group</th>\n",
       "      <th>ab_test</th>\n",
       "      <th>first_date</th>\n",
       "      <th>region</th>\n",
       "      <th>device</th>\n",
       "      <th>event_dt</th>\n",
       "      <th>event_name</th>\n",
       "      <th>details</th>\n",
       "      <th>event_date</th>\n",
       "      <th>lifetime</th>\n",
       "    </tr>\n",
       "  </thead>\n",
       "  <tbody>\n",
       "    <tr>\n",
       "      <th>0</th>\n",
       "      <td>D1ABA3E2887B6A73</td>\n",
       "      <td>A</td>\n",
       "      <td>recommender_system_test</td>\n",
       "      <td>2020-12-07</td>\n",
       "      <td>EU</td>\n",
       "      <td>PC</td>\n",
       "      <td>2020-12-07 14:43:27</td>\n",
       "      <td>purchase</td>\n",
       "      <td>99.99</td>\n",
       "      <td>2020-12-07</td>\n",
       "      <td>0 days</td>\n",
       "    </tr>\n",
       "    <tr>\n",
       "      <th>2</th>\n",
       "      <td>D1ABA3E2887B6A73</td>\n",
       "      <td>A</td>\n",
       "      <td>recommender_system_test</td>\n",
       "      <td>2020-12-07</td>\n",
       "      <td>EU</td>\n",
       "      <td>PC</td>\n",
       "      <td>2020-12-07 14:43:29</td>\n",
       "      <td>product_cart</td>\n",
       "      <td>0.00</td>\n",
       "      <td>2020-12-07</td>\n",
       "      <td>0 days</td>\n",
       "    </tr>\n",
       "    <tr>\n",
       "      <th>4</th>\n",
       "      <td>D1ABA3E2887B6A73</td>\n",
       "      <td>A</td>\n",
       "      <td>recommender_system_test</td>\n",
       "      <td>2020-12-07</td>\n",
       "      <td>EU</td>\n",
       "      <td>PC</td>\n",
       "      <td>2020-12-07 14:43:27</td>\n",
       "      <td>product_page</td>\n",
       "      <td>0.00</td>\n",
       "      <td>2020-12-07</td>\n",
       "      <td>0 days</td>\n",
       "    </tr>\n",
       "    <tr>\n",
       "      <th>6</th>\n",
       "      <td>D1ABA3E2887B6A73</td>\n",
       "      <td>A</td>\n",
       "      <td>recommender_system_test</td>\n",
       "      <td>2020-12-07</td>\n",
       "      <td>EU</td>\n",
       "      <td>PC</td>\n",
       "      <td>2020-12-07 14:43:27</td>\n",
       "      <td>login</td>\n",
       "      <td>0.00</td>\n",
       "      <td>2020-12-07</td>\n",
       "      <td>0 days</td>\n",
       "    </tr>\n",
       "    <tr>\n",
       "      <th>8</th>\n",
       "      <td>A7A3664BD6242119</td>\n",
       "      <td>A</td>\n",
       "      <td>recommender_system_test</td>\n",
       "      <td>2020-12-20</td>\n",
       "      <td>EU</td>\n",
       "      <td>iPhone</td>\n",
       "      <td>2020-12-20 15:46:06</td>\n",
       "      <td>product_page</td>\n",
       "      <td>0.00</td>\n",
       "      <td>2020-12-20</td>\n",
       "      <td>0 days</td>\n",
       "    </tr>\n",
       "  </tbody>\n",
       "</table>\n",
       "</div>"
      ],
      "text/plain": [
       "            user_id group                  ab_test  first_date region  device  \\\n",
       "0  D1ABA3E2887B6A73  A     recommender_system_test  2020-12-07  EU     PC       \n",
       "2  D1ABA3E2887B6A73  A     recommender_system_test  2020-12-07  EU     PC       \n",
       "4  D1ABA3E2887B6A73  A     recommender_system_test  2020-12-07  EU     PC       \n",
       "6  D1ABA3E2887B6A73  A     recommender_system_test  2020-12-07  EU     PC       \n",
       "8  A7A3664BD6242119  A     recommender_system_test  2020-12-20  EU     iPhone   \n",
       "\n",
       "             event_dt    event_name  details  event_date lifetime  \n",
       "0 2020-12-07 14:43:27  purchase      99.99    2020-12-07 0 days    \n",
       "2 2020-12-07 14:43:29  product_cart  0.00     2020-12-07 0 days    \n",
       "4 2020-12-07 14:43:27  product_page  0.00     2020-12-07 0 days    \n",
       "6 2020-12-07 14:43:27  login         0.00     2020-12-07 0 days    \n",
       "8 2020-12-20 15:46:06  product_page  0.00     2020-12-20 0 days    "
      ]
     },
     "execution_count": 33,
     "metadata": {},
     "output_type": "execute_result"
    }
   ],
   "source": [
    "all_tables.head()"
   ]
  },
  {
   "cell_type": "code",
   "execution_count": 34,
   "id": "f38fba1a",
   "metadata": {
    "scrolled": false
   },
   "outputs": [
    {
     "data": {
      "image/png": "[encoded data removed]",
      "text/plain": [
       "<Figure size 1600x1000 with 1 Axes>"
      ]
     },
     "metadata": {},
     "output_type": "display_data"
    }
   ],
   "source": [
    "plt.figure(figsize=(16, 10))\n",
    "all_tables.groupby(['user_id','group']).agg({'event_name':'count'}).reset_index()\\\n",
    ".query('event_name != 0 and group == \"A\"')['event_name'].hist(bins=8, alpha=0.5, color='green')\n",
    "all_tables.groupby(['user_id','group']).agg({'event_name':'count'}).reset_index()\\\n",
    ".query('event_name != 0 and group == \"B\"')['event_name'].hist(bins=8, alpha=0.5, color='blue')\n",
    "plt.legend(['A', 'B'])\n",
    "plt.title('Распределение событий по группам')\n",
    "plt.xlabel('Корзины')\n",
    "plt.ylabel('Количество событий')\n",
    "plt.show()"
   ]
  },
  {
   "cell_type": "markdown",
   "id": "69c2d802",
   "metadata": {},
   "source": [
    "* Как видим событий на 1 пользователя больше в группе А, посмотрим на цифры;\n",
    "* Оба распределения похожи и по графику видно что они близки к нормальному;"
   ]
  },
  {
   "cell_type": "code",
   "execution_count": 35,
   "id": "1b063f35",
   "metadata": {
    "scrolled": false
   },
   "outputs": [
    {
     "data": {
      "text/html": [
       "<div>\n",
       "<style scoped>\n",
       "    .dataframe tbody tr th:only-of-type {\n",
       "        vertical-align: middle;\n",
       "    }\n",
       "\n",
       "    .dataframe tbody tr th {\n",
       "        vertical-align: top;\n",
       "    }\n",
       "\n",
       "    .dataframe thead th {\n",
       "        text-align: right;\n",
       "    }\n",
       "</style>\n",
       "<table border=\"1\" class=\"dataframe\">\n",
       "  <thead>\n",
       "    <tr style=\"text-align: right;\">\n",
       "      <th></th>\n",
       "      <th>event_name</th>\n",
       "    </tr>\n",
       "    <tr>\n",
       "      <th>group</th>\n",
       "      <th></th>\n",
       "    </tr>\n",
       "  </thead>\n",
       "  <tbody>\n",
       "    <tr>\n",
       "      <th>A</th>\n",
       "      <td>7.0</td>\n",
       "    </tr>\n",
       "    <tr>\n",
       "      <th>B</th>\n",
       "      <td>5.0</td>\n",
       "    </tr>\n",
       "  </tbody>\n",
       "</table>\n",
       "</div>"
      ],
      "text/plain": [
       "       event_name\n",
       "group            \n",
       "A      7.0       \n",
       "B      5.0       "
      ]
     },
     "execution_count": 35,
     "metadata": {},
     "output_type": "execute_result"
    }
   ],
   "source": [
    "all_tables.groupby(['user_id','group']).agg({'event_name':'count'}).reset_index()\\\n",
    ".groupby('group').mean().round()"
   ]
  },
  {
   "cell_type": "code",
   "execution_count": 36,
   "id": "02390454",
   "metadata": {},
   "outputs": [],
   "source": [
    "ttest_group = all_tables.groupby(['user_id','group']).agg({'event_name':'count'}).reset_index()"
   ]
  },
  {
   "cell_type": "markdown",
   "id": "9cf9eb94",
   "metadata": {},
   "source": [
    "* Среднее количество событий на пользователя, без учета пользователей не совершавших событий,  в группе А ~ 7, в группе B ~ 5;"
   ]
  },
  {
   "cell_type": "markdown",
   "id": "4e705162",
   "metadata": {},
   "source": [
    "**Посмотрим как число событий в выборках распределено по дням:**"
   ]
  },
  {
   "cell_type": "code",
   "execution_count": 37,
   "id": "26907f44",
   "metadata": {},
   "outputs": [
    {
     "data": {
      "image/png": "[encoded data removed]",
      "text/plain": [
       "<Figure size 1600x1000 with 1 Axes>"
      ]
     },
     "metadata": {},
     "output_type": "display_data"
    }
   ],
   "source": [
    "plt.figure(figsize=(16, 10))\n",
    "# строим столбчатый график средствами seaborn\n",
    "sns.countplot(x='event_date', data=all_tables.sort_values(by='event_date'), hue='group')\n",
    "# формируем заголовок графика и подписи осей средствами matplotlib\n",
    "plt.title('Распределение событий по дате и группе')\n",
    "plt.xlabel('Дата')\n",
    "plt.ylabel('Количество событий')\n",
    "# поворачиваем подписи значений по оси X на 45 градусов\n",
    "plt.xticks(rotation=90)\n",
    "# выбираем положение легенды и указываем размер шрифта\n",
    "plt.legend(loc='upper right', fontsize=10)\n",
    "# отображаем график на экране\n",
    "plt.show()"
   ]
  },
  {
   "cell_type": "markdown",
   "id": "0570614e",
   "metadata": {},
   "source": [
    "* Пользователи совершали события практически равномерно с 07.12 по 13.12 включительно, потом пошел резкий рост событий группы `A` вплоть до 21.12, потом пошло снижение;\n",
    "\n",
    "Посмотрим возможно это связано с тем что пользователи регистрировались непосредственно в данные даты:"
   ]
  },
  {
   "cell_type": "code",
   "execution_count": 38,
   "id": "99489aed",
   "metadata": {},
   "outputs": [
    {
     "data": {
      "image/png": "[encoded data removed]",
      "text/plain": [
       "<Figure size 1600x1000 with 1 Axes>"
      ]
     },
     "metadata": {},
     "output_type": "display_data"
    }
   ],
   "source": [
    "plt.figure(figsize=(16, 10))\n",
    "# строим столбчатый график средствами seaborn\n",
    "sns.countplot(x='first_date', data=all_tables.sort_values(by='first_date'), hue='group')\n",
    "# формируем заголовок графика и подписи осей средствами matplotlib\n",
    "plt.title('Распределение событий по дате регистрации пользователя и группе')\n",
    "plt.xlabel('Дата')\n",
    "plt.ylabel('Количество событий')\n",
    "# поворачиваем подписи значений по оси X на 45 градусов\n",
    "plt.xticks(rotation=90)\n",
    "# выбираем положение легенды и указываем размер шрифта\n",
    "plt.legend(loc='upper right', fontsize=10)\n",
    "# отображаем график на экране\n",
    "plt.show()"
   ]
  },
  {
   "cell_type": "markdown",
   "id": "0830a1af",
   "metadata": {},
   "source": [
    "* Пользователи группы `А` зарегистрированные 14.12 оказались очень активными, они и задали планку по количеству событий на предыдущем графике;"
   ]
  },
  {
   "cell_type": "markdown",
   "id": "6c68c5b0",
   "metadata": {},
   "source": [
    "**Посмотрим Как меняется конверсия в воронке в выборках на разных этапах**"
   ]
  },
  {
   "cell_type": "markdown",
   "id": "c90e2646",
   "metadata": {},
   "source": [
    "Посмотрим как выглядит продуктовая воронка по событиям. Если читать логику наименований события то получается такая картина:\n",
    "\n",
    "* Сначала клиент совершает login(вход) \n",
    "* Потом product_page(заходит на страницу продукта) \n",
    "* Далее product_cart\t(заходит в корзину с товарами) \n",
    "* И в конечном итоге purchase(совершает покупку). \n",
    "\n",
    "Проверим эту гипотезу:"
   ]
  },
  {
   "cell_type": "code",
   "execution_count": 39,
   "id": "df20b6d1",
   "metadata": {
    "scrolled": false
   },
   "outputs": [
    {
     "data": {
      "text/html": [
       "<div>\n",
       "<style scoped>\n",
       "    .dataframe tbody tr th:only-of-type {\n",
       "        vertical-align: middle;\n",
       "    }\n",
       "\n",
       "    .dataframe tbody tr th {\n",
       "        vertical-align: top;\n",
       "    }\n",
       "\n",
       "    .dataframe thead th {\n",
       "        text-align: right;\n",
       "    }\n",
       "</style>\n",
       "<table border=\"1\" class=\"dataframe\">\n",
       "  <thead>\n",
       "    <tr style=\"text-align: right;\">\n",
       "      <th></th>\n",
       "      <th>event_dt</th>\n",
       "    </tr>\n",
       "    <tr>\n",
       "      <th>event_name</th>\n",
       "      <th></th>\n",
       "    </tr>\n",
       "  </thead>\n",
       "  <tbody>\n",
       "    <tr>\n",
       "      <th>login</th>\n",
       "      <td>9054</td>\n",
       "    </tr>\n",
       "    <tr>\n",
       "      <th>product_page</th>\n",
       "      <td>5588</td>\n",
       "    </tr>\n",
       "    <tr>\n",
       "      <th>purchase</th>\n",
       "      <td>2736</td>\n",
       "    </tr>\n",
       "    <tr>\n",
       "      <th>product_cart</th>\n",
       "      <td>2656</td>\n",
       "    </tr>\n",
       "  </tbody>\n",
       "</table>\n",
       "</div>"
      ],
      "text/plain": [
       "              event_dt\n",
       "event_name            \n",
       "login         9054    \n",
       "product_page  5588    \n",
       "purchase      2736    \n",
       "product_cart  2656    "
      ]
     },
     "execution_count": 39,
     "metadata": {},
     "output_type": "execute_result"
    }
   ],
   "source": [
    "funnel_tables = all_tables.groupby('event_name').agg({'event_dt':'count'}).sort_values(by='event_dt',ascending=False)\n",
    "funnel_tables"
   ]
  },
  {
   "cell_type": "code",
   "execution_count": 40,
   "id": "e0d667c2",
   "metadata": {
    "scrolled": true
   },
   "outputs": [
    {
     "name": "stderr",
     "output_type": "stream",
     "text": [
      "C:\\Users\\Леонид\\AppData\\Local\\Temp\\ipykernel_6664\\1972795851.py:4: FutureWarning:\n",
      "\n",
      "The frame.append method is deprecated and will be removed from pandas in a future version. Use pandas.concat instead.\n",
      "\n",
      "C:\\Users\\Леонид\\AppData\\Local\\Temp\\ipykernel_6664\\1972795851.py:6: FutureWarning:\n",
      "\n",
      "The frame.append method is deprecated and will be removed from pandas in a future version. Use pandas.concat instead.\n",
      "\n"
     ]
    }
   ],
   "source": [
    "funnel_tables = all_tables.groupby(['event_name','group']).agg({'user_id':'nunique'}).reset_index()\n",
    "funnel_tables_A = funnel_tables[funnel_tables['group']=='A'].sort_values(by='user_id',ascending=False)\n",
    "funnel_tables_B = funnel_tables[funnel_tables['group']=='B'].sort_values(by='user_id',ascending=False)\n",
    "funnel_tables_A = funnel_tables_A.append(funnel_tables_A[funnel_tables_A.index==6]).reset_index().drop(index=2)\\\n",
    "[['event_name','user_id','group']]\n",
    "funnel_tables_B = funnel_tables_B.append(funnel_tables_B[funnel_tables_B.index==7]).reset_index().drop(index=2)\\\n",
    "[['event_name','user_id','group']]"
   ]
  },
  {
   "cell_type": "code",
   "execution_count": 41,
   "id": "97bd2af1",
   "metadata": {
    "scrolled": false
   },
   "outputs": [
    {
     "data": {
      "image/svg+xml": [
       "<svg class=\"main-svg\" xmlns=\"http://www.w3.org/2000/svg\" xmlns:xlink=\"http://www.w3.org/1999/xlink\" width=\"840\" height=\"600\" style=\"\" viewBox=\"0 0 700 500\"><rect x=\"0\" y=\"0\" width=\"700\" height=\"500\" style=\"fill: rgb(255, 255, 255); fill-opacity: 1;\"/><defs id=\"defs-426945\"><g class=\"clips\"><clipPath id=\"clip426945xyplot\" class=\"plotclip\"><rect width=\"499\" height=\"360\"/></clipPath><clipPath class=\"axesclip\" id=\"clip426945x\"><rect x=\"121\" y=\"0\" width=\"499\" height=\"500\"/></clipPath><clipPath class=\"axesclip\" id=\"clip426945y\"><rect x=\"0\" y=\"60\" width=\"700\" height=\"360\"/></clipPath><clipPath class=\"axesclip\" id=\"clip426945xy\"><rect x=\"121\" y=\"60\" width=\"499\" height=\"360\"/></clipPath></g><g class=\"gradients\"/><g class=\"patterns\"/></defs><g class=\"bglayer\"><rect class=\"bg\" x=\"121\" y=\"60\" width=\"499\" height=\"360\" style=\"fill: rgb(229, 236, 246); fill-opacity: 1; stroke-width: 0;\"/></g><g class=\"layer-below\"><g class=\"imagelayer\"/><g class=\"shapelayer\"/></g><g class=\"cartesianlayer\"><g class=\"subplot xy\"><g class=\"layer-subplot\"><g class=\"shapelayer\"/><g class=\"imagelayer\"/></g><g class=\"minor-gridlayer\"><g class=\"x\"/><g class=\"y\"/></g><g class=\"gridlayer\"><g class=\"x\"/><g class=\"y\"/></g><g class=\"zerolinelayer\"/><path class=\"xlines-below\"/><path class=\"ylines-below\"/><g class=\"overlines-below\"/><g class=\"xaxislayer-below\"/><g class=\"yaxislayer-below\"/><g class=\"overaxes-below\"/><g class=\"plot\" transform=\"translate(121,60)\" clip-path=\"url(#clip426945xyplot)\"><g class=\"funnellayer mlayer\"><g class=\"trace bars\" style=\"opacity: 1;\"><g class=\"regions\"><g class=\"region\"><path d=\"M24.95,81L109.2,99H326.61L360.63,81Z\" style=\"stroke-width: 0; fill: rgb(99, 110, 250); fill-opacity: 0.5;\"/></g><g class=\"region\"><path d=\"M109.2,171L183.22,189H284.26L326.61,171Z\" style=\"stroke-width: 0; fill: rgb(99, 110, 250); fill-opacity: 0.5;\"/></g><g class=\"region\"><path d=\"M183.22,261L179.31,279H287.43L284.26,261Z\" style=\"stroke-width: 0; fill: rgb(99, 110, 250); fill-opacity: 0.5;\"/></g><g class=\"region\"><path d=\"M0,0Z\" style=\"stroke-width: 0; fill: rgb(99, 110, 250); fill-opacity: 0.5;\"/></g></g><g class=\"points\"><g class=\"point\"><path d=\"M24.95,9V81H360.63V9Z\" style=\"vector-effect: non-scaling-stroke; fill: rgb(99, 110, 250); fill-opacity: 1; stroke: rgb(68, 68, 68); stroke-opacity: 1; stroke-width: 0px; opacity: 1;\"/><text class=\"bartext bartext-inside\" text-anchor=\"middle\" data-notex=\"1\" x=\"0\" y=\"0\" style=\"font-family: 'Open Sans', verdana, arial, sans-serif; font-size: 12px; fill: rgb(255, 255, 255); fill-opacity: 1; white-space: pre;\" transform=\"translate(192.6025,49.5)\">2279</text></g><g class=\"point\"><path d=\"M109.2,99V171H326.61V99Z\" style=\"vector-effect: non-scaling-stroke; fill: rgb(99, 110, 250); fill-opacity: 1; stroke: rgb(68, 68, 68); stroke-opacity: 1; stroke-width: 0px; opacity: 1;\"/><text class=\"bartext bartext-inside\" text-anchor=\"middle\" data-notex=\"1\" x=\"0\" y=\"0\" style=\"font-family: 'Open Sans', verdana, arial, sans-serif; font-size: 12px; fill: rgb(255, 255, 255); fill-opacity: 1; white-space: pre;\" transform=\"translate(217.7175,139.5)\">1476</text></g><g class=\"point\"><path d=\"M183.22,189V261H284.26V189Z\" style=\"vector-effect: non-scaling-stroke; fill: rgb(99, 110, 250); fill-opacity: 1; stroke: rgb(68, 68, 68); stroke-opacity: 1; stroke-width: 0px; opacity: 1;\"/><text class=\"bartext bartext-inside\" text-anchor=\"middle\" data-notex=\"1\" x=\"0\" y=\"0\" style=\"font-family: 'Open Sans', verdana, arial, sans-serif; font-size: 12px; fill: rgb(255, 255, 255); fill-opacity: 1; white-space: pre;\" transform=\"translate(233.5525,229.5)\">686</text></g><g class=\"point\"><path d=\"M179.31,279V351H287.43V279Z\" style=\"vector-effect: non-scaling-stroke; fill: rgb(99, 110, 250); fill-opacity: 1; stroke: rgb(68, 68, 68); stroke-opacity: 1; stroke-width: 0px; opacity: 1;\"/><text class=\"bartext bartext-inside\" text-anchor=\"middle\" data-notex=\"1\" x=\"0\" y=\"0\" style=\"font-family: 'Open Sans', verdana, arial, sans-serif; font-size: 12px; fill: rgb(255, 255, 255); fill-opacity: 1; white-space: pre;\" transform=\"translate(233.1825,319.5)\">734</text></g></g></g><g class=\"trace bars\" style=\"opacity: 1;\"><g class=\"regions\"><g class=\"region\"><path d=\"M360.63,81L326.61,99H389.8L474.05,81Z\" style=\"stroke-width: 0; fill: rgb(239, 85, 59); fill-opacity: 0.5;\"/></g><g class=\"region\"><path d=\"M326.61,171L284.26,189H315.78L389.8,171Z\" style=\"stroke-width: 0; fill: rgb(239, 85, 59); fill-opacity: 0.5;\"/></g><g class=\"region\"><path d=\"M284.26,261L287.43,279H319.69L315.78,261Z\" style=\"stroke-width: 0; fill: rgb(239, 85, 59); fill-opacity: 0.5;\"/></g><g class=\"region\"><path d=\"M0,0Z\" style=\"stroke-width: 0; fill: rgb(239, 85, 59); fill-opacity: 0.5;\"/></g></g><g class=\"points\"><g class=\"point\"><path d=\"M360.63,9V81H474.05V9Z\" style=\"vector-effect: non-scaling-stroke; fill: rgb(239, 85, 59); fill-opacity: 1; stroke: rgb(68, 68, 68); stroke-opacity: 1; stroke-width: 0px; opacity: 1;\"/><text class=\"bartext bartext-inside\" text-anchor=\"middle\" data-notex=\"1\" x=\"0\" y=\"0\" style=\"font-family: 'Open Sans', verdana, arial, sans-serif; font-size: 12px; fill: rgb(68, 68, 68); fill-opacity: 1; white-space: pre;\" transform=\"translate(417.15250000000003,49.5)\">770</text></g><g class=\"point\"><path d=\"M326.61,99V171H389.8V99Z\" style=\"vector-effect: non-scaling-stroke; fill: rgb(239, 85, 59); fill-opacity: 1; stroke: rgb(68, 68, 68); stroke-opacity: 1; stroke-width: 0px; opacity: 1;\"/><text class=\"bartext bartext-inside\" text-anchor=\"middle\" data-notex=\"1\" x=\"0\" y=\"0\" style=\"font-family: 'Open Sans', verdana, arial, sans-serif; font-size: 12px; fill: rgb(68, 68, 68); fill-opacity: 1; white-space: pre;\" transform=\"translate(358.01750000000004,139.5)\">429</text></g><g class=\"point\"><path d=\"M284.26,189V261H315.78V189Z\" style=\"vector-effect: non-scaling-stroke; fill: rgb(239, 85, 59); fill-opacity: 1; stroke: rgb(68, 68, 68); stroke-opacity: 1; stroke-width: 0px; opacity: 1;\"/><text class=\"bartext bartext-inside\" text-anchor=\"middle\" data-notex=\"1\" x=\"0\" y=\"0\" style=\"font-family: 'Open Sans', verdana, arial, sans-serif; font-size: 12px; fill: rgb(68, 68, 68); fill-opacity: 1; white-space: pre;\" transform=\"translate(299.8325,229.5)\">214</text></g><g class=\"point\"><path d=\"M287.43,279V351H319.69V279Z\" style=\"vector-effect: non-scaling-stroke; fill: rgb(239, 85, 59); fill-opacity: 1; stroke: rgb(68, 68, 68); stroke-opacity: 1; stroke-width: 0px; opacity: 1;\"/><text class=\"bartext bartext-inside\" text-anchor=\"middle\" data-notex=\"1\" x=\"0\" y=\"0\" style=\"font-family: 'Open Sans', verdana, arial, sans-serif; font-size: 12px; fill: rgb(68, 68, 68); fill-opacity: 1; white-space: pre;\" transform=\"translate(303.3725,319.5)\">219</text></g></g></g></g></g><g class=\"overplot\"/><path class=\"xlines-above crisp\" d=\"M0,0\" style=\"fill: none;\"/><path class=\"ylines-above crisp\" d=\"M0,0\" style=\"fill: none;\"/><g class=\"overlines-above\"/><g class=\"xaxislayer-above\"/><g class=\"yaxislayer-above\"><g class=\"ytick\"><text text-anchor=\"end\" x=\"120\" y=\"4.199999999999999\" transform=\"translate(0,375)\" style=\"font-family: 'Open Sans', verdana, arial, sans-serif; font-size: 12px; fill: rgb(42, 63, 95); fill-opacity: 1; white-space: pre; opacity: 1;\">purchase</text></g><g class=\"ytick\"><text text-anchor=\"end\" x=\"120\" y=\"4.199999999999999\" transform=\"translate(0,285)\" style=\"font-family: 'Open Sans', verdana, arial, sans-serif; font-size: 12px; fill: rgb(42, 63, 95); fill-opacity: 1; white-space: pre; opacity: 1;\">product_cart</text></g><g class=\"ytick\"><text text-anchor=\"end\" x=\"120\" y=\"4.199999999999999\" transform=\"translate(0,195)\" style=\"font-family: 'Open Sans', verdana, arial, sans-serif; font-size: 12px; fill: rgb(42, 63, 95); fill-opacity: 1; white-space: pre; opacity: 1;\">product_page</text></g><g class=\"ytick\"><text text-anchor=\"end\" x=\"120\" y=\"4.199999999999999\" transform=\"translate(0,105)\" style=\"font-family: 'Open Sans', verdana, arial, sans-serif; font-size: 12px; fill: rgb(42, 63, 95); fill-opacity: 1; white-space: pre; opacity: 1;\">login</text></g></g><g class=\"overaxes-above\"/></g></g><g class=\"polarlayer\"/><g class=\"smithlayer\"/><g class=\"ternarylayer\"/><g class=\"geolayer\"/><g class=\"funnelarealayer\"/><g class=\"pielayer\"/><g class=\"iciclelayer\"/><g class=\"treemaplayer\"/><g class=\"sunburstlayer\"/><g class=\"glimages\"/><defs id=\"topdefs-426945\"><g class=\"clips\"/><clipPath id=\"legend426945\"><rect width=\"55\" height=\"67\" x=\"0\" y=\"0\"/></clipPath></defs><g class=\"layer-above\"><g class=\"imagelayer\"/><g class=\"shapelayer\"/></g><g class=\"infolayer\"><g class=\"legend\" pointer-events=\"all\" transform=\"translate(629.98,60)\"><rect class=\"bg\" shape-rendering=\"crispEdges\" style=\"stroke: rgb(68, 68, 68); stroke-opacity: 1; fill: rgb(255, 255, 255); fill-opacity: 1; stroke-width: 0px;\" width=\"55\" height=\"67\" x=\"0\" y=\"0\"/><g class=\"scrollbox\" transform=\"\" clip-path=\"url(#legend426945)\"><text class=\"legendtitletext\" text-anchor=\"start\" x=\"2\" y=\"18.2\" style=\"font-family: 'Open Sans', verdana, arial, sans-serif; font-size: 14px; fill: rgb(42, 63, 95); fill-opacity: 1; white-space: pre;\">group</text><g class=\"groups\" transform=\"\"><g class=\"traces\" transform=\"translate(0,32.7)\" style=\"opacity: 1;\"><text class=\"legendtext\" text-anchor=\"start\" x=\"40\" y=\"4.680000000000001\" style=\"font-family: 'Open Sans', verdana, arial, sans-serif; font-size: 12px; fill: rgb(42, 63, 95); fill-opacity: 1; white-space: pre;\">A</text><g class=\"layers\" style=\"opacity: 1;\"><g class=\"legendfill\"/><g class=\"legendlines\"/><g class=\"legendsymbols\"><g class=\"legendpoints\"><path class=\"legendfunnel\" d=\"M6,6H-6V-6H6Z\" transform=\"translate(20,0)\" style=\"stroke-width: 0px; fill: rgb(99, 110, 250); fill-opacity: 1;\"/></g></g></g><rect class=\"legendtoggle\" x=\"0\" y=\"-9.5\" width=\"50\" height=\"19\" style=\"fill: rgb(0, 0, 0); fill-opacity: 0;\"/></g></g><g class=\"groups\" transform=\"\"><g class=\"traces\" transform=\"translate(0,51.7)\" style=\"opacity: 1;\"><text class=\"legendtext\" text-anchor=\"start\" x=\"40\" y=\"4.680000000000001\" style=\"font-family: 'Open Sans', verdana, arial, sans-serif; font-size: 12px; fill: rgb(42, 63, 95); fill-opacity: 1; white-space: pre;\">B</text><g class=\"layers\" style=\"opacity: 1;\"><g class=\"legendfill\"/><g class=\"legendlines\"/><g class=\"legendsymbols\"><g class=\"legendpoints\"><path class=\"legendfunnel\" d=\"M6,6H-6V-6H6Z\" transform=\"translate(20,0)\" style=\"stroke-width: 0px; fill: rgb(239, 85, 59); fill-opacity: 1;\"/></g></g></g><rect class=\"legendtoggle\" x=\"0\" y=\"-9.5\" width=\"50\" height=\"19\" style=\"fill: rgb(0, 0, 0); fill-opacity: 0;\"/></g></g></g><rect class=\"scrollbar\" rx=\"20\" ry=\"3\" width=\"0\" height=\"0\" style=\"fill: rgb(128, 139, 164); fill-opacity: 1;\" x=\"0\" y=\"0\"/></g><g class=\"g-gtitle\"/><g class=\"g-ytitle\" transform=\"translate(1.6748046875,0)\"><text class=\"ytitle\" transform=\"rotate(-90,12.325000000000003,240)\" x=\"12.325000000000003\" y=\"240\" text-anchor=\"middle\" style=\"font-family: 'Open Sans', verdana, arial, sans-serif; font-size: 14px; fill: rgb(42, 63, 95); opacity: 1; font-weight: normal; white-space: pre;\">event_name</text></g></g></svg>"
      ]
     },
     "metadata": {},
     "output_type": "display_data"
    }
   ],
   "source": [
    "fig = px.funnel(funnel_tables_A.merge(funnel_tables_B, how='outer'), x='user_id', y='event_name', color='group')\n",
    "fig.show()"
   ]
  },
  {
   "cell_type": "code",
   "execution_count": 42,
   "id": "9bca5a51",
   "metadata": {},
   "outputs": [
    {
     "data": {
      "text/plain": [
       "3050"
      ]
     },
     "execution_count": 42,
     "metadata": {},
     "output_type": "execute_result"
    }
   ],
   "source": [
    "all_tables['user_id'].nunique()"
   ]
  },
  {
   "cell_type": "markdown",
   "id": "c3e7d25b",
   "metadata": {},
   "source": [
    "Видим что предположение почти подтвердилось кроме последних 2х событий, рассмотрим события на примере случайных пользователей из выборки отсортируем по времени события:"
   ]
  },
  {
   "cell_type": "code",
   "execution_count": 43,
   "id": "29e467ec",
   "metadata": {},
   "outputs": [
    {
     "data": {
      "text/html": [
       "<div>\n",
       "<style scoped>\n",
       "    .dataframe tbody tr th:only-of-type {\n",
       "        vertical-align: middle;\n",
       "    }\n",
       "\n",
       "    .dataframe tbody tr th {\n",
       "        vertical-align: top;\n",
       "    }\n",
       "\n",
       "    .dataframe thead th {\n",
       "        text-align: right;\n",
       "    }\n",
       "</style>\n",
       "<table border=\"1\" class=\"dataframe\">\n",
       "  <thead>\n",
       "    <tr style=\"text-align: right;\">\n",
       "      <th></th>\n",
       "      <th>user_id</th>\n",
       "      <th>group</th>\n",
       "      <th>ab_test</th>\n",
       "      <th>first_date</th>\n",
       "      <th>region</th>\n",
       "      <th>device</th>\n",
       "      <th>event_dt</th>\n",
       "      <th>event_name</th>\n",
       "      <th>details</th>\n",
       "      <th>event_date</th>\n",
       "      <th>lifetime</th>\n",
       "    </tr>\n",
       "  </thead>\n",
       "  <tbody>\n",
       "    <tr>\n",
       "      <th>0</th>\n",
       "      <td>D1ABA3E2887B6A73</td>\n",
       "      <td>A</td>\n",
       "      <td>recommender_system_test</td>\n",
       "      <td>2020-12-07</td>\n",
       "      <td>EU</td>\n",
       "      <td>PC</td>\n",
       "      <td>2020-12-07 14:43:27</td>\n",
       "      <td>purchase</td>\n",
       "      <td>99.99</td>\n",
       "      <td>2020-12-07</td>\n",
       "      <td>0 days</td>\n",
       "    </tr>\n",
       "    <tr>\n",
       "      <th>17</th>\n",
       "      <td>04988C5DF189632E</td>\n",
       "      <td>A</td>\n",
       "      <td>recommender_system_test</td>\n",
       "      <td>2020-12-14</td>\n",
       "      <td>EU</td>\n",
       "      <td>iPhone</td>\n",
       "      <td>2020-12-14 18:51:34</td>\n",
       "      <td>purchase</td>\n",
       "      <td>4.99</td>\n",
       "      <td>2020-12-14</td>\n",
       "      <td>0 days</td>\n",
       "    </tr>\n",
       "    <tr>\n",
       "      <th>18</th>\n",
       "      <td>04988C5DF189632E</td>\n",
       "      <td>A</td>\n",
       "      <td>recommender_system_test</td>\n",
       "      <td>2020-12-14</td>\n",
       "      <td>EU</td>\n",
       "      <td>iPhone</td>\n",
       "      <td>2020-12-15 02:39:20</td>\n",
       "      <td>purchase</td>\n",
       "      <td>4.99</td>\n",
       "      <td>2020-12-15</td>\n",
       "      <td>1 days</td>\n",
       "    </tr>\n",
       "    <tr>\n",
       "      <th>19</th>\n",
       "      <td>04988C5DF189632E</td>\n",
       "      <td>A</td>\n",
       "      <td>recommender_system_test</td>\n",
       "      <td>2020-12-14</td>\n",
       "      <td>EU</td>\n",
       "      <td>iPhone</td>\n",
       "      <td>2020-12-18 04:33:43</td>\n",
       "      <td>purchase</td>\n",
       "      <td>9.99</td>\n",
       "      <td>2020-12-18</td>\n",
       "      <td>4 days</td>\n",
       "    </tr>\n",
       "    <tr>\n",
       "      <th>20</th>\n",
       "      <td>04988C5DF189632E</td>\n",
       "      <td>A</td>\n",
       "      <td>recommender_system_test</td>\n",
       "      <td>2020-12-14</td>\n",
       "      <td>EU</td>\n",
       "      <td>iPhone</td>\n",
       "      <td>2020-12-20 04:12:27</td>\n",
       "      <td>purchase</td>\n",
       "      <td>4.99</td>\n",
       "      <td>2020-12-20</td>\n",
       "      <td>6 days</td>\n",
       "    </tr>\n",
       "    <tr>\n",
       "      <th>...</th>\n",
       "      <td>...</td>\n",
       "      <td>...</td>\n",
       "      <td>...</td>\n",
       "      <td>...</td>\n",
       "      <td>...</td>\n",
       "      <td>...</td>\n",
       "      <td>...</td>\n",
       "      <td>...</td>\n",
       "      <td>...</td>\n",
       "      <td>...</td>\n",
       "      <td>...</td>\n",
       "    </tr>\n",
       "    <tr>\n",
       "      <th>23030</th>\n",
       "      <td>183D7512DBC06186</td>\n",
       "      <td>A</td>\n",
       "      <td>recommender_system_test</td>\n",
       "      <td>2020-12-20</td>\n",
       "      <td>EU</td>\n",
       "      <td>PC</td>\n",
       "      <td>2020-12-23 23:26:31</td>\n",
       "      <td>purchase</td>\n",
       "      <td>4.99</td>\n",
       "      <td>2020-12-23</td>\n",
       "      <td>3 days</td>\n",
       "    </tr>\n",
       "    <tr>\n",
       "      <th>23051</th>\n",
       "      <td>7C5C12FA1B5AB710</td>\n",
       "      <td>A</td>\n",
       "      <td>recommender_system_test</td>\n",
       "      <td>2020-12-21</td>\n",
       "      <td>EU</td>\n",
       "      <td>Android</td>\n",
       "      <td>2020-12-21 07:05:07</td>\n",
       "      <td>purchase</td>\n",
       "      <td>4.99</td>\n",
       "      <td>2020-12-21</td>\n",
       "      <td>0 days</td>\n",
       "    </tr>\n",
       "    <tr>\n",
       "      <th>23052</th>\n",
       "      <td>7C5C12FA1B5AB710</td>\n",
       "      <td>A</td>\n",
       "      <td>recommender_system_test</td>\n",
       "      <td>2020-12-21</td>\n",
       "      <td>EU</td>\n",
       "      <td>Android</td>\n",
       "      <td>2020-12-22 17:04:22</td>\n",
       "      <td>purchase</td>\n",
       "      <td>4.99</td>\n",
       "      <td>2020-12-22</td>\n",
       "      <td>1 days</td>\n",
       "    </tr>\n",
       "    <tr>\n",
       "      <th>23053</th>\n",
       "      <td>7C5C12FA1B5AB710</td>\n",
       "      <td>A</td>\n",
       "      <td>recommender_system_test</td>\n",
       "      <td>2020-12-21</td>\n",
       "      <td>EU</td>\n",
       "      <td>Android</td>\n",
       "      <td>2020-12-23 10:04:37</td>\n",
       "      <td>purchase</td>\n",
       "      <td>4.99</td>\n",
       "      <td>2020-12-23</td>\n",
       "      <td>2 days</td>\n",
       "    </tr>\n",
       "    <tr>\n",
       "      <th>23054</th>\n",
       "      <td>7C5C12FA1B5AB710</td>\n",
       "      <td>A</td>\n",
       "      <td>recommender_system_test</td>\n",
       "      <td>2020-12-21</td>\n",
       "      <td>EU</td>\n",
       "      <td>Android</td>\n",
       "      <td>2020-12-26 10:43:10</td>\n",
       "      <td>purchase</td>\n",
       "      <td>4.99</td>\n",
       "      <td>2020-12-26</td>\n",
       "      <td>5 days</td>\n",
       "    </tr>\n",
       "  </tbody>\n",
       "</table>\n",
       "<p>2736 rows × 11 columns</p>\n",
       "</div>"
      ],
      "text/plain": [
       "                user_id group                  ab_test  first_date region  \\\n",
       "0      D1ABA3E2887B6A73  A     recommender_system_test  2020-12-07  EU      \n",
       "17     04988C5DF189632E  A     recommender_system_test  2020-12-14  EU      \n",
       "18     04988C5DF189632E  A     recommender_system_test  2020-12-14  EU      \n",
       "19     04988C5DF189632E  A     recommender_system_test  2020-12-14  EU      \n",
       "20     04988C5DF189632E  A     recommender_system_test  2020-12-14  EU      \n",
       "...                 ... ..                         ...         ...  ..      \n",
       "23030  183D7512DBC06186  A     recommender_system_test  2020-12-20  EU      \n",
       "23051  7C5C12FA1B5AB710  A     recommender_system_test  2020-12-21  EU      \n",
       "23052  7C5C12FA1B5AB710  A     recommender_system_test  2020-12-21  EU      \n",
       "23053  7C5C12FA1B5AB710  A     recommender_system_test  2020-12-21  EU      \n",
       "23054  7C5C12FA1B5AB710  A     recommender_system_test  2020-12-21  EU      \n",
       "\n",
       "        device            event_dt event_name  details  event_date lifetime  \n",
       "0      PC      2020-12-07 14:43:27  purchase   99.99    2020-12-07 0 days    \n",
       "17     iPhone  2020-12-14 18:51:34  purchase   4.99     2020-12-14 0 days    \n",
       "18     iPhone  2020-12-15 02:39:20  purchase   4.99     2020-12-15 1 days    \n",
       "19     iPhone  2020-12-18 04:33:43  purchase   9.99     2020-12-18 4 days    \n",
       "20     iPhone  2020-12-20 04:12:27  purchase   4.99     2020-12-20 6 days    \n",
       "...       ...                  ...       ...    ...            ...    ...    \n",
       "23030  PC      2020-12-23 23:26:31  purchase   4.99     2020-12-23 3 days    \n",
       "23051  Android 2020-12-21 07:05:07  purchase   4.99     2020-12-21 0 days    \n",
       "23052  Android 2020-12-22 17:04:22  purchase   4.99     2020-12-22 1 days    \n",
       "23053  Android 2020-12-23 10:04:37  purchase   4.99     2020-12-23 2 days    \n",
       "23054  Android 2020-12-26 10:43:10  purchase   4.99     2020-12-26 5 days    \n",
       "\n",
       "[2736 rows x 11 columns]"
      ]
     },
     "execution_count": 43,
     "metadata": {},
     "output_type": "execute_result"
    }
   ],
   "source": [
    "all_tables[all_tables['details'] != 0]"
   ]
  },
  {
   "cell_type": "code",
   "execution_count": 44,
   "id": "482e278e",
   "metadata": {
    "scrolled": true
   },
   "outputs": [
    {
     "data": {
      "text/html": [
       "<div>\n",
       "<style scoped>\n",
       "    .dataframe tbody tr th:only-of-type {\n",
       "        vertical-align: middle;\n",
       "    }\n",
       "\n",
       "    .dataframe tbody tr th {\n",
       "        vertical-align: top;\n",
       "    }\n",
       "\n",
       "    .dataframe thead th {\n",
       "        text-align: right;\n",
       "    }\n",
       "</style>\n",
       "<table border=\"1\" class=\"dataframe\">\n",
       "  <thead>\n",
       "    <tr style=\"text-align: right;\">\n",
       "      <th></th>\n",
       "      <th>user_id</th>\n",
       "      <th>group</th>\n",
       "      <th>ab_test</th>\n",
       "      <th>first_date</th>\n",
       "      <th>region</th>\n",
       "      <th>device</th>\n",
       "      <th>event_dt</th>\n",
       "      <th>event_name</th>\n",
       "      <th>details</th>\n",
       "      <th>event_date</th>\n",
       "      <th>lifetime</th>\n",
       "    </tr>\n",
       "  </thead>\n",
       "  <tbody>\n",
       "    <tr>\n",
       "      <th>11</th>\n",
       "      <td>A7A3664BD6242119</td>\n",
       "      <td>A</td>\n",
       "      <td>recommender_system_test</td>\n",
       "      <td>2020-12-20</td>\n",
       "      <td>EU</td>\n",
       "      <td>iPhone</td>\n",
       "      <td>2020-12-20 15:46:02</td>\n",
       "      <td>login</td>\n",
       "      <td>0.0</td>\n",
       "      <td>2020-12-20</td>\n",
       "      <td>0 days</td>\n",
       "    </tr>\n",
       "    <tr>\n",
       "      <th>8</th>\n",
       "      <td>A7A3664BD6242119</td>\n",
       "      <td>A</td>\n",
       "      <td>recommender_system_test</td>\n",
       "      <td>2020-12-20</td>\n",
       "      <td>EU</td>\n",
       "      <td>iPhone</td>\n",
       "      <td>2020-12-20 15:46:06</td>\n",
       "      <td>product_page</td>\n",
       "      <td>0.0</td>\n",
       "      <td>2020-12-20</td>\n",
       "      <td>0 days</td>\n",
       "    </tr>\n",
       "    <tr>\n",
       "      <th>12</th>\n",
       "      <td>A7A3664BD6242119</td>\n",
       "      <td>A</td>\n",
       "      <td>recommender_system_test</td>\n",
       "      <td>2020-12-20</td>\n",
       "      <td>EU</td>\n",
       "      <td>iPhone</td>\n",
       "      <td>2020-12-21 00:40:58</td>\n",
       "      <td>login</td>\n",
       "      <td>0.0</td>\n",
       "      <td>2020-12-21</td>\n",
       "      <td>1 days</td>\n",
       "    </tr>\n",
       "    <tr>\n",
       "      <th>9</th>\n",
       "      <td>A7A3664BD6242119</td>\n",
       "      <td>A</td>\n",
       "      <td>recommender_system_test</td>\n",
       "      <td>2020-12-20</td>\n",
       "      <td>EU</td>\n",
       "      <td>iPhone</td>\n",
       "      <td>2020-12-21 00:40:59</td>\n",
       "      <td>product_page</td>\n",
       "      <td>0.0</td>\n",
       "      <td>2020-12-21</td>\n",
       "      <td>1 days</td>\n",
       "    </tr>\n",
       "    <tr>\n",
       "      <th>10</th>\n",
       "      <td>A7A3664BD6242119</td>\n",
       "      <td>A</td>\n",
       "      <td>recommender_system_test</td>\n",
       "      <td>2020-12-20</td>\n",
       "      <td>EU</td>\n",
       "      <td>iPhone</td>\n",
       "      <td>2020-12-25 05:19:45</td>\n",
       "      <td>product_page</td>\n",
       "      <td>0.0</td>\n",
       "      <td>2020-12-25</td>\n",
       "      <td>5 days</td>\n",
       "    </tr>\n",
       "    <tr>\n",
       "      <th>13</th>\n",
       "      <td>A7A3664BD6242119</td>\n",
       "      <td>A</td>\n",
       "      <td>recommender_system_test</td>\n",
       "      <td>2020-12-20</td>\n",
       "      <td>EU</td>\n",
       "      <td>iPhone</td>\n",
       "      <td>2020-12-25 05:19:45</td>\n",
       "      <td>login</td>\n",
       "      <td>0.0</td>\n",
       "      <td>2020-12-25</td>\n",
       "      <td>5 days</td>\n",
       "    </tr>\n",
       "  </tbody>\n",
       "</table>\n",
       "</div>"
      ],
      "text/plain": [
       "             user_id group                  ab_test  first_date region  \\\n",
       "11  A7A3664BD6242119  A     recommender_system_test  2020-12-20  EU      \n",
       "8   A7A3664BD6242119  A     recommender_system_test  2020-12-20  EU      \n",
       "12  A7A3664BD6242119  A     recommender_system_test  2020-12-20  EU      \n",
       "9   A7A3664BD6242119  A     recommender_system_test  2020-12-20  EU      \n",
       "10  A7A3664BD6242119  A     recommender_system_test  2020-12-20  EU      \n",
       "13  A7A3664BD6242119  A     recommender_system_test  2020-12-20  EU      \n",
       "\n",
       "    device            event_dt    event_name  details  event_date lifetime  \n",
       "11  iPhone 2020-12-20 15:46:02  login         0.0      2020-12-20 0 days    \n",
       "8   iPhone 2020-12-20 15:46:06  product_page  0.0      2020-12-20 0 days    \n",
       "12  iPhone 2020-12-21 00:40:58  login         0.0      2020-12-21 1 days    \n",
       "9   iPhone 2020-12-21 00:40:59  product_page  0.0      2020-12-21 1 days    \n",
       "10  iPhone 2020-12-25 05:19:45  product_page  0.0      2020-12-25 5 days    \n",
       "13  iPhone 2020-12-25 05:19:45  login         0.0      2020-12-25 5 days    "
      ]
     },
     "execution_count": 44,
     "metadata": {},
     "output_type": "execute_result"
    }
   ],
   "source": [
    "all_tables[all_tables['user_id']=='A7A3664BD6242119'].sort_values(by='event_dt')"
   ]
  },
  {
   "cell_type": "code",
   "execution_count": 45,
   "id": "d860386a",
   "metadata": {},
   "outputs": [
    {
     "data": {
      "text/html": [
       "<div>\n",
       "<style scoped>\n",
       "    .dataframe tbody tr th:only-of-type {\n",
       "        vertical-align: middle;\n",
       "    }\n",
       "\n",
       "    .dataframe tbody tr th {\n",
       "        vertical-align: top;\n",
       "    }\n",
       "\n",
       "    .dataframe thead th {\n",
       "        text-align: right;\n",
       "    }\n",
       "</style>\n",
       "<table border=\"1\" class=\"dataframe\">\n",
       "  <thead>\n",
       "    <tr style=\"text-align: right;\">\n",
       "      <th></th>\n",
       "      <th>user_id</th>\n",
       "      <th>group</th>\n",
       "      <th>ab_test</th>\n",
       "      <th>first_date</th>\n",
       "      <th>region</th>\n",
       "      <th>device</th>\n",
       "      <th>event_dt</th>\n",
       "      <th>event_name</th>\n",
       "      <th>details</th>\n",
       "      <th>event_date</th>\n",
       "      <th>lifetime</th>\n",
       "    </tr>\n",
       "  </thead>\n",
       "  <tbody>\n",
       "    <tr>\n",
       "      <th>0</th>\n",
       "      <td>D1ABA3E2887B6A73</td>\n",
       "      <td>A</td>\n",
       "      <td>recommender_system_test</td>\n",
       "      <td>2020-12-07</td>\n",
       "      <td>EU</td>\n",
       "      <td>PC</td>\n",
       "      <td>2020-12-07 14:43:27</td>\n",
       "      <td>purchase</td>\n",
       "      <td>99.99</td>\n",
       "      <td>2020-12-07</td>\n",
       "      <td>0 days</td>\n",
       "    </tr>\n",
       "    <tr>\n",
       "      <th>4</th>\n",
       "      <td>D1ABA3E2887B6A73</td>\n",
       "      <td>A</td>\n",
       "      <td>recommender_system_test</td>\n",
       "      <td>2020-12-07</td>\n",
       "      <td>EU</td>\n",
       "      <td>PC</td>\n",
       "      <td>2020-12-07 14:43:27</td>\n",
       "      <td>product_page</td>\n",
       "      <td>0.00</td>\n",
       "      <td>2020-12-07</td>\n",
       "      <td>0 days</td>\n",
       "    </tr>\n",
       "    <tr>\n",
       "      <th>6</th>\n",
       "      <td>D1ABA3E2887B6A73</td>\n",
       "      <td>A</td>\n",
       "      <td>recommender_system_test</td>\n",
       "      <td>2020-12-07</td>\n",
       "      <td>EU</td>\n",
       "      <td>PC</td>\n",
       "      <td>2020-12-07 14:43:27</td>\n",
       "      <td>login</td>\n",
       "      <td>0.00</td>\n",
       "      <td>2020-12-07</td>\n",
       "      <td>0 days</td>\n",
       "    </tr>\n",
       "    <tr>\n",
       "      <th>2</th>\n",
       "      <td>D1ABA3E2887B6A73</td>\n",
       "      <td>A</td>\n",
       "      <td>recommender_system_test</td>\n",
       "      <td>2020-12-07</td>\n",
       "      <td>EU</td>\n",
       "      <td>PC</td>\n",
       "      <td>2020-12-07 14:43:29</td>\n",
       "      <td>product_cart</td>\n",
       "      <td>0.00</td>\n",
       "      <td>2020-12-07</td>\n",
       "      <td>0 days</td>\n",
       "    </tr>\n",
       "  </tbody>\n",
       "</table>\n",
       "</div>"
      ],
      "text/plain": [
       "            user_id group                  ab_test  first_date region device  \\\n",
       "0  D1ABA3E2887B6A73  A     recommender_system_test  2020-12-07  EU     PC      \n",
       "4  D1ABA3E2887B6A73  A     recommender_system_test  2020-12-07  EU     PC      \n",
       "6  D1ABA3E2887B6A73  A     recommender_system_test  2020-12-07  EU     PC      \n",
       "2  D1ABA3E2887B6A73  A     recommender_system_test  2020-12-07  EU     PC      \n",
       "\n",
       "             event_dt    event_name  details  event_date lifetime  \n",
       "0 2020-12-07 14:43:27  purchase      99.99    2020-12-07 0 days    \n",
       "4 2020-12-07 14:43:27  product_page  0.00     2020-12-07 0 days    \n",
       "6 2020-12-07 14:43:27  login         0.00     2020-12-07 0 days    \n",
       "2 2020-12-07 14:43:29  product_cart  0.00     2020-12-07 0 days    "
      ]
     },
     "execution_count": 45,
     "metadata": {},
     "output_type": "execute_result"
    }
   ],
   "source": [
    "all_tables[all_tables['user_id']=='D1ABA3E2887B6A73'].sort_values(by='event_dt')"
   ]
  },
  {
   "cell_type": "code",
   "execution_count": 46,
   "id": "0adb82e0",
   "metadata": {
    "scrolled": true
   },
   "outputs": [
    {
     "data": {
      "text/html": [
       "<div>\n",
       "<style scoped>\n",
       "    .dataframe tbody tr th:only-of-type {\n",
       "        vertical-align: middle;\n",
       "    }\n",
       "\n",
       "    .dataframe tbody tr th {\n",
       "        vertical-align: top;\n",
       "    }\n",
       "\n",
       "    .dataframe thead th {\n",
       "        text-align: right;\n",
       "    }\n",
       "</style>\n",
       "<table border=\"1\" class=\"dataframe\">\n",
       "  <thead>\n",
       "    <tr style=\"text-align: right;\">\n",
       "      <th></th>\n",
       "      <th>user_id</th>\n",
       "      <th>group</th>\n",
       "      <th>ab_test</th>\n",
       "      <th>first_date</th>\n",
       "      <th>region</th>\n",
       "      <th>device</th>\n",
       "      <th>event_dt</th>\n",
       "      <th>event_name</th>\n",
       "      <th>details</th>\n",
       "      <th>event_date</th>\n",
       "      <th>lifetime</th>\n",
       "    </tr>\n",
       "  </thead>\n",
       "  <tbody>\n",
       "    <tr>\n",
       "      <th>23051</th>\n",
       "      <td>7C5C12FA1B5AB710</td>\n",
       "      <td>A</td>\n",
       "      <td>recommender_system_test</td>\n",
       "      <td>2020-12-21</td>\n",
       "      <td>EU</td>\n",
       "      <td>Android</td>\n",
       "      <td>2020-12-21 07:05:07</td>\n",
       "      <td>purchase</td>\n",
       "      <td>4.99</td>\n",
       "      <td>2020-12-21</td>\n",
       "      <td>0 days</td>\n",
       "    </tr>\n",
       "    <tr>\n",
       "      <th>23059</th>\n",
       "      <td>7C5C12FA1B5AB710</td>\n",
       "      <td>A</td>\n",
       "      <td>recommender_system_test</td>\n",
       "      <td>2020-12-21</td>\n",
       "      <td>EU</td>\n",
       "      <td>Android</td>\n",
       "      <td>2020-12-21 07:05:07</td>\n",
       "      <td>login</td>\n",
       "      <td>0.00</td>\n",
       "      <td>2020-12-21</td>\n",
       "      <td>0 days</td>\n",
       "    </tr>\n",
       "    <tr>\n",
       "      <th>23055</th>\n",
       "      <td>7C5C12FA1B5AB710</td>\n",
       "      <td>A</td>\n",
       "      <td>recommender_system_test</td>\n",
       "      <td>2020-12-21</td>\n",
       "      <td>EU</td>\n",
       "      <td>Android</td>\n",
       "      <td>2020-12-21 07:05:08</td>\n",
       "      <td>product_page</td>\n",
       "      <td>0.00</td>\n",
       "      <td>2020-12-21</td>\n",
       "      <td>0 days</td>\n",
       "    </tr>\n",
       "    <tr>\n",
       "      <th>23052</th>\n",
       "      <td>7C5C12FA1B5AB710</td>\n",
       "      <td>A</td>\n",
       "      <td>recommender_system_test</td>\n",
       "      <td>2020-12-21</td>\n",
       "      <td>EU</td>\n",
       "      <td>Android</td>\n",
       "      <td>2020-12-22 17:04:22</td>\n",
       "      <td>purchase</td>\n",
       "      <td>4.99</td>\n",
       "      <td>2020-12-22</td>\n",
       "      <td>1 days</td>\n",
       "    </tr>\n",
       "    <tr>\n",
       "      <th>23056</th>\n",
       "      <td>7C5C12FA1B5AB710</td>\n",
       "      <td>A</td>\n",
       "      <td>recommender_system_test</td>\n",
       "      <td>2020-12-21</td>\n",
       "      <td>EU</td>\n",
       "      <td>Android</td>\n",
       "      <td>2020-12-22 17:04:22</td>\n",
       "      <td>product_page</td>\n",
       "      <td>0.00</td>\n",
       "      <td>2020-12-22</td>\n",
       "      <td>1 days</td>\n",
       "    </tr>\n",
       "    <tr>\n",
       "      <th>23060</th>\n",
       "      <td>7C5C12FA1B5AB710</td>\n",
       "      <td>A</td>\n",
       "      <td>recommender_system_test</td>\n",
       "      <td>2020-12-21</td>\n",
       "      <td>EU</td>\n",
       "      <td>Android</td>\n",
       "      <td>2020-12-22 17:04:22</td>\n",
       "      <td>login</td>\n",
       "      <td>0.00</td>\n",
       "      <td>2020-12-22</td>\n",
       "      <td>1 days</td>\n",
       "    </tr>\n",
       "    <tr>\n",
       "      <th>23053</th>\n",
       "      <td>7C5C12FA1B5AB710</td>\n",
       "      <td>A</td>\n",
       "      <td>recommender_system_test</td>\n",
       "      <td>2020-12-21</td>\n",
       "      <td>EU</td>\n",
       "      <td>Android</td>\n",
       "      <td>2020-12-23 10:04:37</td>\n",
       "      <td>purchase</td>\n",
       "      <td>4.99</td>\n",
       "      <td>2020-12-23</td>\n",
       "      <td>2 days</td>\n",
       "    </tr>\n",
       "    <tr>\n",
       "      <th>23061</th>\n",
       "      <td>7C5C12FA1B5AB710</td>\n",
       "      <td>A</td>\n",
       "      <td>recommender_system_test</td>\n",
       "      <td>2020-12-21</td>\n",
       "      <td>EU</td>\n",
       "      <td>Android</td>\n",
       "      <td>2020-12-23 10:04:37</td>\n",
       "      <td>login</td>\n",
       "      <td>0.00</td>\n",
       "      <td>2020-12-23</td>\n",
       "      <td>2 days</td>\n",
       "    </tr>\n",
       "    <tr>\n",
       "      <th>23057</th>\n",
       "      <td>7C5C12FA1B5AB710</td>\n",
       "      <td>A</td>\n",
       "      <td>recommender_system_test</td>\n",
       "      <td>2020-12-21</td>\n",
       "      <td>EU</td>\n",
       "      <td>Android</td>\n",
       "      <td>2020-12-23 10:04:40</td>\n",
       "      <td>product_page</td>\n",
       "      <td>0.00</td>\n",
       "      <td>2020-12-23</td>\n",
       "      <td>2 days</td>\n",
       "    </tr>\n",
       "    <tr>\n",
       "      <th>23054</th>\n",
       "      <td>7C5C12FA1B5AB710</td>\n",
       "      <td>A</td>\n",
       "      <td>recommender_system_test</td>\n",
       "      <td>2020-12-21</td>\n",
       "      <td>EU</td>\n",
       "      <td>Android</td>\n",
       "      <td>2020-12-26 10:43:10</td>\n",
       "      <td>purchase</td>\n",
       "      <td>4.99</td>\n",
       "      <td>2020-12-26</td>\n",
       "      <td>5 days</td>\n",
       "    </tr>\n",
       "    <tr>\n",
       "      <th>23058</th>\n",
       "      <td>7C5C12FA1B5AB710</td>\n",
       "      <td>A</td>\n",
       "      <td>recommender_system_test</td>\n",
       "      <td>2020-12-21</td>\n",
       "      <td>EU</td>\n",
       "      <td>Android</td>\n",
       "      <td>2020-12-26 10:43:10</td>\n",
       "      <td>product_page</td>\n",
       "      <td>0.00</td>\n",
       "      <td>2020-12-26</td>\n",
       "      <td>5 days</td>\n",
       "    </tr>\n",
       "    <tr>\n",
       "      <th>23062</th>\n",
       "      <td>7C5C12FA1B5AB710</td>\n",
       "      <td>A</td>\n",
       "      <td>recommender_system_test</td>\n",
       "      <td>2020-12-21</td>\n",
       "      <td>EU</td>\n",
       "      <td>Android</td>\n",
       "      <td>2020-12-26 10:43:10</td>\n",
       "      <td>login</td>\n",
       "      <td>0.00</td>\n",
       "      <td>2020-12-26</td>\n",
       "      <td>5 days</td>\n",
       "    </tr>\n",
       "  </tbody>\n",
       "</table>\n",
       "</div>"
      ],
      "text/plain": [
       "                user_id group                  ab_test  first_date region  \\\n",
       "23051  7C5C12FA1B5AB710  A     recommender_system_test  2020-12-21  EU      \n",
       "23059  7C5C12FA1B5AB710  A     recommender_system_test  2020-12-21  EU      \n",
       "23055  7C5C12FA1B5AB710  A     recommender_system_test  2020-12-21  EU      \n",
       "23052  7C5C12FA1B5AB710  A     recommender_system_test  2020-12-21  EU      \n",
       "23056  7C5C12FA1B5AB710  A     recommender_system_test  2020-12-21  EU      \n",
       "23060  7C5C12FA1B5AB710  A     recommender_system_test  2020-12-21  EU      \n",
       "23053  7C5C12FA1B5AB710  A     recommender_system_test  2020-12-21  EU      \n",
       "23061  7C5C12FA1B5AB710  A     recommender_system_test  2020-12-21  EU      \n",
       "23057  7C5C12FA1B5AB710  A     recommender_system_test  2020-12-21  EU      \n",
       "23054  7C5C12FA1B5AB710  A     recommender_system_test  2020-12-21  EU      \n",
       "23058  7C5C12FA1B5AB710  A     recommender_system_test  2020-12-21  EU      \n",
       "23062  7C5C12FA1B5AB710  A     recommender_system_test  2020-12-21  EU      \n",
       "\n",
       "        device            event_dt    event_name  details  event_date lifetime  \n",
       "23051  Android 2020-12-21 07:05:07  purchase      4.99     2020-12-21 0 days    \n",
       "23059  Android 2020-12-21 07:05:07  login         0.00     2020-12-21 0 days    \n",
       "23055  Android 2020-12-21 07:05:08  product_page  0.00     2020-12-21 0 days    \n",
       "23052  Android 2020-12-22 17:04:22  purchase      4.99     2020-12-22 1 days    \n",
       "23056  Android 2020-12-22 17:04:22  product_page  0.00     2020-12-22 1 days    \n",
       "23060  Android 2020-12-22 17:04:22  login         0.00     2020-12-22 1 days    \n",
       "23053  Android 2020-12-23 10:04:37  purchase      4.99     2020-12-23 2 days    \n",
       "23061  Android 2020-12-23 10:04:37  login         0.00     2020-12-23 2 days    \n",
       "23057  Android 2020-12-23 10:04:40  product_page  0.00     2020-12-23 2 days    \n",
       "23054  Android 2020-12-26 10:43:10  purchase      4.99     2020-12-26 5 days    \n",
       "23058  Android 2020-12-26 10:43:10  product_page  0.00     2020-12-26 5 days    \n",
       "23062  Android 2020-12-26 10:43:10  login         0.00     2020-12-26 5 days    "
      ]
     },
     "execution_count": 46,
     "metadata": {},
     "output_type": "execute_result"
    }
   ],
   "source": [
    "all_tables[all_tables['user_id']=='7C5C12FA1B5AB710'].sort_values(by='event_dt')"
   ]
  },
  {
   "cell_type": "markdown",
   "id": "b3e2bc64",
   "metadata": {},
   "source": [
    "* По полученым данным видим что клиент обязательно проходит вход(login), а затем он может и посмотреть карточку товара(product_page) и совершить покупку(purchase), а после совершения покупки(через несколько секунд) попадает в корзину (product_cart) и то не всегда, возможно (т.к. события происходят одномоментно) клиент перенаправляется с другого сайта или приложения. Следовательно отследить точную продуктовую воронку на основе большого кольчиства данных не предстваляется возможным. **БУДЕМ СЧИТАТЬ КОНВЕРСИЮ ОТ ЧИСЛА ВХОДОВ(`login`)**"
   ]
  },
  {
   "cell_type": "markdown",
   "id": "aab3aa5a",
   "metadata": {},
   "source": [
    "**Вывод:**\n",
    "* Событий на 1 пользователя больше в группе А. Среднее количество событий на пользователя, без учета пользователей не совершавших событий, в группе А ~ 7, в группе B ~ 5;\n",
    "* Оба распределения похожи и по графику видно что они близки к нормальному;\n",
    "* По полученым данным видим что клиент обязательно проходит вход(login), а затем он может и посмотреть карточку товара(product_page) и совершить покупку(purchase), а после совершения покупки(через несколько секунд) попадает в корзину (product_cart) и то не всегда, возможно (т.к. события происходят одномоментно) клиент перенаправляется с другого сайта или приложения. Следовательно отследить точную продуктовую воронку на основе большого кольчиства данных не предстваляется возможным. БУДЕМ СЧИТАТЬ КОНВЕРСИЮ ОТ ЧИСЛА ВХОДОВ(login);"
   ]
  },
  {
   "cell_type": "markdown",
   "id": "38e1fd5f",
   "metadata": {},
   "source": [
    "## Оценим результаты A/B-тестирования"
   ]
  },
  {
   "cell_type": "code",
   "execution_count": 47,
   "id": "629b2fe8",
   "metadata": {
    "scrolled": false
   },
   "outputs": [],
   "source": [
    "all_tables_pivot = all_tables.pivot_table(index = 'event_name',columns = 'group',values = 'user_id', aggfunc = 'nunique')\\\n",
    ".sort_values(by = 'A',ascending=False).reset_index()"
   ]
  },
  {
   "cell_type": "code",
   "execution_count": 48,
   "id": "0b2db803",
   "metadata": {
    "scrolled": true
   },
   "outputs": [
    {
     "data": {
      "text/html": [
       "<div>\n",
       "<style scoped>\n",
       "    .dataframe tbody tr th:only-of-type {\n",
       "        vertical-align: middle;\n",
       "    }\n",
       "\n",
       "    .dataframe tbody tr th {\n",
       "        vertical-align: top;\n",
       "    }\n",
       "\n",
       "    .dataframe thead th {\n",
       "        text-align: right;\n",
       "    }\n",
       "</style>\n",
       "<table border=\"1\" class=\"dataframe\">\n",
       "  <thead>\n",
       "    <tr style=\"text-align: right;\">\n",
       "      <th>group</th>\n",
       "      <th>event_name</th>\n",
       "      <th>A</th>\n",
       "      <th>B</th>\n",
       "      <th>conversion_A</th>\n",
       "      <th>conversion_B</th>\n",
       "      <th>delta</th>\n",
       "    </tr>\n",
       "  </thead>\n",
       "  <tbody>\n",
       "    <tr>\n",
       "      <th>0</th>\n",
       "      <td>login</td>\n",
       "      <td>2279</td>\n",
       "      <td>770</td>\n",
       "      <td>100.000000</td>\n",
       "      <td>100.000000</td>\n",
       "      <td>0.0</td>\n",
       "    </tr>\n",
       "    <tr>\n",
       "      <th>1</th>\n",
       "      <td>product_page</td>\n",
       "      <td>1476</td>\n",
       "      <td>429</td>\n",
       "      <td>64.765248</td>\n",
       "      <td>55.714286</td>\n",
       "      <td>-9.0</td>\n",
       "    </tr>\n",
       "    <tr>\n",
       "      <th>2</th>\n",
       "      <td>purchase</td>\n",
       "      <td>734</td>\n",
       "      <td>219</td>\n",
       "      <td>32.207108</td>\n",
       "      <td>28.441558</td>\n",
       "      <td>-4.0</td>\n",
       "    </tr>\n",
       "    <tr>\n",
       "      <th>3</th>\n",
       "      <td>product_cart</td>\n",
       "      <td>686</td>\n",
       "      <td>214</td>\n",
       "      <td>30.100921</td>\n",
       "      <td>27.792208</td>\n",
       "      <td>-2.0</td>\n",
       "    </tr>\n",
       "  </tbody>\n",
       "</table>\n",
       "</div>"
      ],
      "text/plain": [
       "group    event_name     A    B  conversion_A  conversion_B  delta\n",
       "0      login         2279  770  100.000000    100.000000    0.0  \n",
       "1      product_page  1476  429  64.765248     55.714286    -9.0  \n",
       "2      purchase      734   219  32.207108     28.441558    -4.0  \n",
       "3      product_cart  686   214  30.100921     27.792208    -2.0  "
      ]
     },
     "execution_count": 48,
     "metadata": {},
     "output_type": "execute_result"
    }
   ],
   "source": [
    "all_tables_pivot['conversion_A'] = all_tables_pivot['A']/all_tables_pivot['A'][0]*100\n",
    "all_tables_pivot['conversion_B'] = all_tables_pivot['B']/all_tables_pivot['B'][0]*100\n",
    "all_tables_pivot['delta'] = (all_tables_pivot['conversion_B'] - all_tables_pivot['conversion_A']).round()\n",
    "all_tables_pivot"
   ]
  },
  {
   "cell_type": "markdown",
   "id": "f58716f6",
   "metadata": {},
   "source": [
    "* Результат A/B теста: Конверсия группы В относительно группы А, вместо роста показала только снижение по всем показателям, а именно: product_page -9%, purchase -4%, product_cart -2%."
   ]
  },
  {
   "cell_type": "markdown",
   "id": "50125afa",
   "metadata": {},
   "source": [
    "Проверим статистическую разницу долей z-критерием."
   ]
  },
  {
   "cell_type": "markdown",
   "id": "4003f729",
   "metadata": {},
   "source": [
    "**Сделаем функцию для проверки гипотезы о равенстве долей для двух групп:**\n",
    "\n",
    "* event_1 - количество пользователей совершивших действие в 1 группе\n",
    "\n",
    "* event_2 - количество пользователей совершивших действие в 2 группе\n",
    "\n",
    "* total_1 - количество пользователей всего в 1 группе\n",
    "\n",
    "* total_2 - количество пользователей всего во 2 группе\n",
    "\n",
    "* alpha - критический уровень статистической значимости"
   ]
  },
  {
   "cell_type": "code",
   "execution_count": 49,
   "id": "4f647230",
   "metadata": {},
   "outputs": [],
   "source": [
    "def z_test_value(event_1, event_2, total_1, total_2, alpha):\n",
    "    # доля успешных действий в 1 группе\n",
    "    share_1 = event_1/total_1\n",
    "    # доля успешных действий во 2 группе\n",
    "    share_2 = event_2/total_2\n",
    "    \n",
    "    print(event_1, event_2, total_1,total_2)\n",
    "    \n",
    "    # комбинированная доля\n",
    "    share_combined = (event_1 + event_2)/(total_1 + total_2)\n",
    "    # разница в долях между группами\n",
    "    diff = share_1 - share_2\n",
    "    # считаем статистику в ст.отклонениях стандартного нормального распределения\n",
    "    z_value = diff/(share_combined *(1-share_combined)*(1/total_1 + 1/total_2))**0.5\n",
    "    # задаем стандартное нормальное распределение (среднее 0, ст.отклонение 1)\n",
    "    dist = stats.norm(0,1)\n",
    "    # считаем p-value\n",
    "    p_value = (1 - dist.cdf(abs(z_value))) * 2\n",
    "    print('p-значение: ', p_value)\n",
    "\n",
    "    if p_value < alpha:\n",
    "        print('Отвергаем нулевую гипотезу: между долями есть значимая разница')\n",
    "    else:\n",
    "        print('Не получилось отвергнуть нулевую гипотезу, нет оснований считать доли разными') "
   ]
  },
  {
   "cell_type": "markdown",
   "id": "a2895610",
   "metadata": {},
   "source": [
    "Сформулируем гипотезы и проведем `z-test` по каждому событию групп `A` и `B`:"
   ]
  },
  {
   "cell_type": "markdown",
   "id": "443da3fb",
   "metadata": {},
   "source": [
    "Гипотезы:\n",
    "\n",
    "**Нулевая: Статистических различий в долях между группами `A` и `B`, по событию `product_page`, нет.** \n",
    "\n",
    "**Альтернативная: Статистические различия в долях между группами `A` и `B`, по событию `product_page`, есть.**\n",
    "\n",
    "**alpha = 0.05**"
   ]
  },
  {
   "cell_type": "markdown",
   "id": "b6bc4373",
   "metadata": {},
   "source": [
    "Обрати, пожалуйста, внимание, что воронка должна заканчиваться целевым действием (оплата), но на графике - последнее событие продуктовая карта, т.е. основная цель пользователя - просмотр продуктовой корзины, что является не совсем корректно. Тут стоит поменять местами"
   ]
  },
  {
   "cell_type": "code",
   "execution_count": 50,
   "id": "b6483544",
   "metadata": {},
   "outputs": [],
   "source": [
    "event_1 = all_tables_pivot.loc[1, 'A']\n",
    "event_2 = all_tables_pivot.loc[1, 'B']\n",
    "total_1 = all_tables_pivot.loc[0, 'A']\n",
    "total_2 = all_tables_pivot.loc[0, 'B']\n",
    "alpha = 0.05"
   ]
  },
  {
   "cell_type": "code",
   "execution_count": 51,
   "id": "1e258edd",
   "metadata": {},
   "outputs": [
    {
     "name": "stdout",
     "output_type": "stream",
     "text": [
      "1476 429 2279 770\n",
      "p-значение:  7.302688278310043e-06\n",
      "Отвергаем нулевую гипотезу: между долями есть значимая разница\n"
     ]
    }
   ],
   "source": [
    "z_test_value(event_1, event_2, total_1, total_2, alpha)"
   ]
  },
  {
   "cell_type": "markdown",
   "id": "9067aa6a",
   "metadata": {},
   "source": [
    "Гипотезы:\n",
    "\n",
    "**Нулевая: Статистических различий в долях между группами `A` и `B`, по событию `purchase`, нет.** \n",
    "\n",
    "**Альтернативная: Статистические различия в долях между группами `A` и `B`, по событию `purchase`, есть.**\n",
    "\n",
    "**alpha = 0.05**"
   ]
  },
  {
   "cell_type": "code",
   "execution_count": 52,
   "id": "602e5d5a",
   "metadata": {},
   "outputs": [],
   "source": [
    "event_1 = all_tables_pivot.loc[2, 'A']\n",
    "event_2 = all_tables_pivot.loc[2, 'B']"
   ]
  },
  {
   "cell_type": "code",
   "execution_count": 53,
   "id": "0fb9eed3",
   "metadata": {},
   "outputs": [
    {
     "name": "stdout",
     "output_type": "stream",
     "text": [
      "734 219 2279 770\n",
      "p-значение:  0.05131111814183842\n",
      "Не получилось отвергнуть нулевую гипотезу, нет оснований считать доли разными\n"
     ]
    }
   ],
   "source": [
    "z_test_value(event_1, event_2, total_1, total_2, alpha)"
   ]
  },
  {
   "cell_type": "markdown",
   "id": "cbe5352f",
   "metadata": {},
   "source": [
    "Гипотезы:\n",
    "\n",
    "**Нулевая: Статистических различий в долях между группами `A` и `B`, по событию `product_cart`, нет.** \n",
    "\n",
    "**Альтернативная: Статистические различия в долях между группами `A` и `B`, по событию `product_cart`, есть.**\n",
    "\n",
    "**alpha = 0.05**"
   ]
  },
  {
   "cell_type": "code",
   "execution_count": 54,
   "id": "ee7a8a5b",
   "metadata": {},
   "outputs": [],
   "source": [
    "event_1 = all_tables_pivot.loc[3, 'A']\n",
    "event_2 = all_tables_pivot.loc[3, 'B']"
   ]
  },
  {
   "cell_type": "code",
   "execution_count": 55,
   "id": "b6d49380",
   "metadata": {},
   "outputs": [
    {
     "name": "stdout",
     "output_type": "stream",
     "text": [
      "686 214 2279 770\n",
      "p-значение:  0.22463227493216675\n",
      "Не получилось отвергнуть нулевую гипотезу, нет оснований считать доли разными\n"
     ]
    }
   ],
   "source": [
    "z_test_value(event_1, event_2, total_1, total_2, alpha)"
   ]
  },
  {
   "cell_type": "markdown",
   "id": "cde7b718",
   "metadata": {},
   "source": [
    "**Вывод:**\n",
    "* Результат A/B теста: Конверсия группы В относительно группы А, вместо роста показала только снижение по всем показателям, а именно: product_page -9%, purchase -4%, product_cart -2%.\n",
    "* По событию `product_page` есть статистическая разница между группами `A` и `B`. По событиям `product_cart` и `purchase` стастистических различий в долях - нет."
   ]
  },
  {
   "cell_type": "markdown",
   "id": "f4f448a8",
   "metadata": {},
   "source": [
    "## Общий вывод"
   ]
  },
  {
   "cell_type": "markdown",
   "id": "854119c2",
   "metadata": {},
   "source": [
    "Мы провели оценку результатов A/B теста, к таким выводам мы пришли:\n",
    "* Явные дубликаты в таблице `final_ab_events` - отсутствуют. Обнаружили пропуски в столбце `details`. Заполнен только для покупок, `purchase`, хранится стоимость покупки в долларах; `product_cart` - по всей видимости отображает когда пользователь зашел на страницу \"корзина с товарами\"; `product_page` - отображает когда пользователь зашел на \"страницу продукта\"; `login` - событие когда пользователь \"авторизовался\". Заполнили эти пропуски числом `0`, для удобной работы с таблицей в дальнейшем.\n",
    "* Тип данных столбца `event_dt` таблицы `final_ab_events` - `object`, привели к типу `datetime` и добавили еще 1 столбец `event_date` - где отобразили только дату события;\n",
    "* В таблице `ab_project_marketing_events` пропуски и явные дубликаты отсутствуют;\n",
    "* Тип данных столбцов `start_dt` и `finish_dt` таблицы `ab_project_marketing_events` - `object`, привели к типу `datetime`;\n",
    "* В таблице `final_ab_new_users` пропуски и явные дубликаты отсутствуют;\n",
    "* Тип данных столбца `first_date` таблицы `final_ab_new_users` - `object`, привели к типу `datetime`;\n",
    "* в таблице `ab_project_marketing_events` пропуски и явные дубликаты отсутствуют, типы данных так же в порядке - оставляем без изменений;\n",
    "* В таблицу участников теста `final_ab_participants` зачесались данные другого теста, а именно `interface_eu_test` - конкурирующий тест.Есть пересечения в группах нашего теста и конкурирующего. Всего 1602 пользователя учавствуют сразу в двух тестах.Нам интересны только те пользователи которые попали в группу A(контрольную) теста `interface_eu_test`, иначе будет непонятно, что именно повлияло на действия пользователя новая система рекомендаций или новый интерфейс.\n",
    "* В нашей таблице нет участников теста котороый попали сразу в 2 группы(контрольную и экспериментальную) - это очень радует;\n",
    "* В данных информация о пользователях зарегистрировавшихся с 07.12.2020 по 21.12.2020;\n",
    "* Во время набора пользователей маркетинговые акции не проходили, но проходили во время проведения теста, следовательно пользователи из регионов `EU, N.America` совершавшие события после `2020-12-25`включительно и региона `CIS` совершавшие события после `2020-12-30` включительно могли учавствовать в этих маркетинговых мероприятиях. На поведение данных пользователей могла повлиять и маркетинговая акция, но на группы А и В она повляет одинаково. Следовательно на относительную конверсию группы В к группе А - не будет иметь воздействие;\n",
    "* Последнее действие пользователей в данных было 29.12.2020 - по всей видимости в январские праздники сервис не работал;\n",
    "* В наших данных есть пользователи и из других регионов, они могут повлиять на результаты теста, оставили только пользователей из региона EU;\n",
    "* В тест попало только 7% новых пользователей из региона `EU` вместо ожидаемых 15%;\n",
    "* В конечном итоге количество участников теста составляет 5568 пользователей, что меньше на 432 чем ожидалось;\n",
    "* Необходимо оценить улучшение метрик пользователей в первые 14 дней с момента регитрации, удалили события совершенные посльзователями после этого периода;\n",
    "* Событий на 1 пользователя больше в группе А. Среднее количество событий на пользователя, без учета пользователей не совершавших событий, в группе А ~ 7, в группе B ~ 5;\n",
    "* Оба распределения похожи и по графику видно что они близки к нормальному;\n",
    "* По полученым данным видим что клиент обязательно проходит вход(login), а затем он может и посмотреть карточку товара(product_page) и совершить покупку(purchase), а после совершения покупки(через несколько секунд) попадает в корзину (product_cart) и то не всегда, возможно (т.к. события происходят одномоментно) клиент перенаправляется с другого сайта или приложения. Следовательно отследить точную продуктовую воронку на основе большого кольчиства данных не предстваляется возможным. БУДЕМ СЧИТАТЬ КОНВЕРСИЮ ОТ ЧИСЛА ВХОДОВ(login);\n",
    "* **Результат A/B теста: Конверсия группы В относительно группы А, вместо роста показала только снижение по всем показателям, а именно: product_page -9%, purchase -4%, product_cart -2%.**\n",
    "* **По событию `product_page` есть статистическая разница между группами `A` и `B`. По событиям `product_cart` и `purchase` стастистических различий в долях - нет.**"
   ]
  },
  {
   "cell_type": "markdown",
   "id": "f0d31e14",
   "metadata": {},
   "source": [
    "**Общие рекомендации оп результатам A/B теста:**\n",
    "\n",
    "Новая система рекомендаций по предоставленным данным имеет отрицательное влияние на конверсию пользователей.\n",
    "\n",
    "Но учитывая то, что некоторые пункты ТЗ не соблюдены. \n",
    "\n",
    "И имеются статистические различия в долях между группами `A` и `B`, по обытию `product_page`. \n",
    "\n",
    "**РЕКОМЕНДУЮ ПЕРЕЗАПУСТИТЬ ТЕСТ И ЗАНОВО ПРОАНАЛИЗИРОВАТЬ**"
   ]
  }
 ],
 "metadata": {
  "ExecuteTimeLog": [
   {
    "duration": 1302,
    "start_time": "2023-05-14T13:33:24.549Z"
   },
   {
    "duration": 620,
    "start_time": "2023-05-14T13:33:25.853Z"
   },
   {
    "duration": 15,
    "start_time": "2023-05-14T13:33:26.474Z"
   },
   {
    "duration": 25,
    "start_time": "2023-05-14T13:33:26.491Z"
   },
   {
    "duration": 21,
    "start_time": "2023-05-14T13:33:26.518Z"
   },
   {
    "duration": 19,
    "start_time": "2023-05-14T13:33:26.541Z"
   },
   {
    "duration": 453,
    "start_time": "2023-05-14T13:33:26.562Z"
   },
   {
    "duration": 54,
    "start_time": "2023-05-14T13:33:27.017Z"
   },
   {
    "duration": 10,
    "start_time": "2023-05-14T13:33:27.073Z"
   },
   {
    "duration": 3580,
    "start_time": "2023-05-14T13:33:27.087Z"
   },
   {
    "duration": 1564,
    "start_time": "2023-05-14T13:33:30.669Z"
   },
   {
    "duration": 23,
    "start_time": "2023-05-14T13:33:32.235Z"
   },
   {
    "duration": 39,
    "start_time": "2023-05-14T13:33:32.260Z"
   },
   {
    "duration": 131,
    "start_time": "2023-05-14T13:33:32.301Z"
   },
   {
    "duration": 546,
    "start_time": "2023-05-14T13:33:32.434Z"
   },
   {
    "duration": 32,
    "start_time": "2023-05-14T13:33:32.982Z"
   },
   {
    "duration": 8,
    "start_time": "2023-05-14T13:33:33.016Z"
   },
   {
    "duration": 54,
    "start_time": "2023-05-14T13:33:33.047Z"
   },
   {
    "duration": 84,
    "start_time": "2023-05-14T13:33:33.103Z"
   },
   {
    "duration": 5,
    "start_time": "2023-05-14T13:33:33.189Z"
   },
   {
    "duration": 37,
    "start_time": "2023-05-14T13:33:33.197Z"
   },
   {
    "duration": 46,
    "start_time": "2023-05-14T13:33:33.246Z"
   },
   {
    "duration": 29,
    "start_time": "2023-05-14T13:33:33.294Z"
   },
   {
    "duration": 29,
    "start_time": "2023-05-14T13:33:33.325Z"
   },
   {
    "duration": 282,
    "start_time": "2023-05-14T13:33:33.356Z"
   },
   {
    "duration": 8,
    "start_time": "2023-05-14T13:33:33.646Z"
   },
   {
    "duration": 17,
    "start_time": "2023-05-14T13:33:33.656Z"
   },
   {
    "duration": 7,
    "start_time": "2023-05-14T13:33:33.677Z"
   },
   {
    "duration": 16,
    "start_time": "2023-05-14T13:33:33.687Z"
   },
   {
    "duration": 40,
    "start_time": "2023-05-14T13:33:33.706Z"
   },
   {
    "duration": 104,
    "start_time": "2023-05-14T13:33:33.748Z"
   },
   {
    "duration": 10,
    "start_time": "2023-05-14T13:33:33.854Z"
   },
   {
    "duration": 15,
    "start_time": "2023-05-14T13:33:33.866Z"
   },
   {
    "duration": 282,
    "start_time": "2023-05-14T13:33:33.883Z"
   },
   {
    "duration": 30,
    "start_time": "2023-05-14T13:33:34.167Z"
   },
   {
    "duration": 19,
    "start_time": "2023-05-14T13:33:34.199Z"
   },
   {
    "duration": 412,
    "start_time": "2023-05-14T13:33:34.221Z"
   },
   {
    "duration": 333,
    "start_time": "2023-05-14T13:33:34.635Z"
   },
   {
    "duration": 10,
    "start_time": "2023-05-14T13:33:34.970Z"
   },
   {
    "duration": 735,
    "start_time": "2023-05-14T13:33:34.982Z"
   },
   {
    "duration": 50,
    "start_time": "2023-05-14T13:33:35.719Z"
   },
   {
    "duration": 17,
    "start_time": "2023-05-14T13:33:35.771Z"
   },
   {
    "duration": 19,
    "start_time": "2023-05-14T13:33:35.847Z"
   },
   {
    "duration": 35,
    "start_time": "2023-05-14T13:33:35.868Z"
   },
   {
    "duration": 47,
    "start_time": "2023-05-14T13:33:35.905Z"
   },
   {
    "duration": 14,
    "start_time": "2023-05-14T13:33:35.953Z"
   },
   {
    "duration": 13,
    "start_time": "2023-05-14T13:33:35.969Z"
   },
   {
    "duration": 26,
    "start_time": "2023-05-14T13:33:35.984Z"
   },
   {
    "duration": 18,
    "start_time": "2023-05-14T13:33:36.011Z"
   },
   {
    "duration": 34,
    "start_time": "2023-05-14T13:33:36.031Z"
   },
   {
    "duration": 36,
    "start_time": "2023-05-14T13:33:36.066Z"
   },
   {
    "duration": 16,
    "start_time": "2023-05-14T13:33:36.104Z"
   },
   {
    "duration": 16,
    "start_time": "2023-05-14T13:33:36.122Z"
   },
   {
    "duration": 17,
    "start_time": "2023-05-14T13:36:05.000Z"
   },
   {
    "duration": 23,
    "start_time": "2023-05-14T13:36:31.227Z"
   },
   {
    "duration": 10,
    "start_time": "2023-05-14T13:37:20.629Z"
   },
   {
    "duration": 7,
    "start_time": "2023-05-14T13:37:26.646Z"
   },
   {
    "duration": 6,
    "start_time": "2023-05-14T13:38:35.991Z"
   },
   {
    "duration": 4,
    "start_time": "2023-05-14T13:38:37.730Z"
   },
   {
    "duration": 9,
    "start_time": "2023-05-14T13:38:38.816Z"
   },
   {
    "duration": 3,
    "start_time": "2023-05-14T13:38:41.296Z"
   },
   {
    "duration": 6,
    "start_time": "2023-05-14T13:38:41.437Z"
   },
   {
    "duration": 3,
    "start_time": "2023-05-14T13:38:41.763Z"
   },
   {
    "duration": 5,
    "start_time": "2023-05-14T13:38:41.918Z"
   },
   {
    "duration": 50,
    "start_time": "2023-05-15T04:28:16.849Z"
   },
   {
    "duration": 1296,
    "start_time": "2023-05-15T04:29:32.560Z"
   },
   {
    "duration": 1347,
    "start_time": "2023-05-15T04:29:33.860Z"
   },
   {
    "duration": 14,
    "start_time": "2023-05-15T04:29:35.208Z"
   },
   {
    "duration": 8,
    "start_time": "2023-05-15T04:29:35.224Z"
   },
   {
    "duration": 8,
    "start_time": "2023-05-15T04:29:35.235Z"
   },
   {
    "duration": 13,
    "start_time": "2023-05-15T04:29:35.245Z"
   },
   {
    "duration": 364,
    "start_time": "2023-05-15T04:29:35.259Z"
   },
   {
    "duration": 43,
    "start_time": "2023-05-15T04:29:35.625Z"
   },
   {
    "duration": 6,
    "start_time": "2023-05-15T04:29:35.670Z"
   },
   {
    "duration": 3111,
    "start_time": "2023-05-15T04:29:35.678Z"
   },
   {
    "duration": 1346,
    "start_time": "2023-05-15T04:29:38.791Z"
   },
   {
    "duration": 22,
    "start_time": "2023-05-15T04:29:40.139Z"
   },
   {
    "duration": 15,
    "start_time": "2023-05-15T04:29:40.163Z"
   },
   {
    "duration": 53,
    "start_time": "2023-05-15T04:29:40.179Z"
   },
   {
    "duration": 352,
    "start_time": "2023-05-15T04:29:40.251Z"
   },
   {
    "duration": 25,
    "start_time": "2023-05-15T04:29:40.604Z"
   },
   {
    "duration": 20,
    "start_time": "2023-05-15T04:29:40.631Z"
   },
   {
    "duration": 37,
    "start_time": "2023-05-15T04:29:40.653Z"
   },
   {
    "duration": 71,
    "start_time": "2023-05-15T04:29:40.692Z"
   },
   {
    "duration": 4,
    "start_time": "2023-05-15T04:29:40.764Z"
   },
   {
    "duration": 26,
    "start_time": "2023-05-15T04:29:40.770Z"
   },
   {
    "duration": 28,
    "start_time": "2023-05-15T04:29:40.798Z"
   },
   {
    "duration": 43,
    "start_time": "2023-05-15T04:29:40.828Z"
   },
   {
    "duration": 10,
    "start_time": "2023-05-15T04:29:40.872Z"
   },
   {
    "duration": 232,
    "start_time": "2023-05-15T04:29:40.883Z"
   },
   {
    "duration": 95,
    "start_time": "2023-05-15T04:29:41.117Z"
   },
   {
    "duration": 0,
    "start_time": "2023-05-15T04:29:41.214Z"
   },
   {
    "duration": 0,
    "start_time": "2023-05-15T04:29:41.215Z"
   },
   {
    "duration": 0,
    "start_time": "2023-05-15T04:29:41.216Z"
   },
   {
    "duration": 0,
    "start_time": "2023-05-15T04:29:41.217Z"
   },
   {
    "duration": 0,
    "start_time": "2023-05-15T04:29:41.218Z"
   },
   {
    "duration": 0,
    "start_time": "2023-05-15T04:29:41.219Z"
   },
   {
    "duration": 0,
    "start_time": "2023-05-15T04:29:41.220Z"
   },
   {
    "duration": 0,
    "start_time": "2023-05-15T04:29:41.221Z"
   },
   {
    "duration": 0,
    "start_time": "2023-05-15T04:29:41.221Z"
   },
   {
    "duration": 0,
    "start_time": "2023-05-15T04:29:41.222Z"
   },
   {
    "duration": 0,
    "start_time": "2023-05-15T04:29:41.223Z"
   },
   {
    "duration": 0,
    "start_time": "2023-05-15T04:29:41.224Z"
   },
   {
    "duration": 0,
    "start_time": "2023-05-15T04:29:41.225Z"
   },
   {
    "duration": 0,
    "start_time": "2023-05-15T04:29:41.226Z"
   },
   {
    "duration": 0,
    "start_time": "2023-05-15T04:29:41.227Z"
   },
   {
    "duration": 0,
    "start_time": "2023-05-15T04:29:41.228Z"
   },
   {
    "duration": 0,
    "start_time": "2023-05-15T04:29:41.229Z"
   },
   {
    "duration": 0,
    "start_time": "2023-05-15T04:29:41.251Z"
   },
   {
    "duration": 0,
    "start_time": "2023-05-15T04:29:41.252Z"
   },
   {
    "duration": 0,
    "start_time": "2023-05-15T04:29:41.253Z"
   },
   {
    "duration": 0,
    "start_time": "2023-05-15T04:29:41.253Z"
   },
   {
    "duration": 0,
    "start_time": "2023-05-15T04:29:41.254Z"
   },
   {
    "duration": 0,
    "start_time": "2023-05-15T04:29:41.255Z"
   },
   {
    "duration": 0,
    "start_time": "2023-05-15T04:29:41.256Z"
   },
   {
    "duration": 0,
    "start_time": "2023-05-15T04:29:41.257Z"
   },
   {
    "duration": 0,
    "start_time": "2023-05-15T04:29:41.258Z"
   },
   {
    "duration": 0,
    "start_time": "2023-05-15T04:29:41.259Z"
   },
   {
    "duration": 0,
    "start_time": "2023-05-15T04:29:41.260Z"
   },
   {
    "duration": 1098,
    "start_time": "2023-05-15T04:30:54.843Z"
   },
   {
    "duration": 537,
    "start_time": "2023-05-15T04:30:55.943Z"
   },
   {
    "duration": 13,
    "start_time": "2023-05-15T04:30:56.482Z"
   },
   {
    "duration": 7,
    "start_time": "2023-05-15T04:30:56.497Z"
   },
   {
    "duration": 16,
    "start_time": "2023-05-15T04:30:56.506Z"
   },
   {
    "duration": 15,
    "start_time": "2023-05-15T04:30:56.524Z"
   },
   {
    "duration": 350,
    "start_time": "2023-05-15T04:30:56.540Z"
   },
   {
    "duration": 38,
    "start_time": "2023-05-15T04:30:56.891Z"
   },
   {
    "duration": 20,
    "start_time": "2023-05-15T04:30:56.931Z"
   },
   {
    "duration": 3145,
    "start_time": "2023-05-15T04:30:56.953Z"
   },
   {
    "duration": 1352,
    "start_time": "2023-05-15T04:31:00.099Z"
   },
   {
    "duration": 16,
    "start_time": "2023-05-15T04:31:01.452Z"
   },
   {
    "duration": 34,
    "start_time": "2023-05-15T04:31:01.469Z"
   },
   {
    "duration": 66,
    "start_time": "2023-05-15T04:31:01.505Z"
   },
   {
    "duration": 390,
    "start_time": "2023-05-15T04:31:01.572Z"
   },
   {
    "duration": 23,
    "start_time": "2023-05-15T04:31:01.964Z"
   },
   {
    "duration": 41,
    "start_time": "2023-05-15T04:31:01.989Z"
   },
   {
    "duration": 42,
    "start_time": "2023-05-15T04:31:02.031Z"
   },
   {
    "duration": 62,
    "start_time": "2023-05-15T04:31:02.074Z"
   },
   {
    "duration": 14,
    "start_time": "2023-05-15T04:31:02.138Z"
   },
   {
    "duration": 42,
    "start_time": "2023-05-15T04:31:02.153Z"
   },
   {
    "duration": 32,
    "start_time": "2023-05-15T04:31:02.197Z"
   },
   {
    "duration": 25,
    "start_time": "2023-05-15T04:31:02.231Z"
   },
   {
    "duration": 9,
    "start_time": "2023-05-15T04:31:02.257Z"
   },
   {
    "duration": 207,
    "start_time": "2023-05-15T04:31:02.268Z"
   },
   {
    "duration": 19,
    "start_time": "2023-05-15T04:31:02.477Z"
   },
   {
    "duration": 9,
    "start_time": "2023-05-15T04:31:02.498Z"
   },
   {
    "duration": 39,
    "start_time": "2023-05-15T04:31:02.511Z"
   },
   {
    "duration": 6,
    "start_time": "2023-05-15T04:31:02.552Z"
   },
   {
    "duration": 103,
    "start_time": "2023-05-15T04:31:02.559Z"
   },
   {
    "duration": 9,
    "start_time": "2023-05-15T04:31:02.664Z"
   },
   {
    "duration": 12,
    "start_time": "2023-05-15T04:31:02.674Z"
   },
   {
    "duration": 247,
    "start_time": "2023-05-15T04:31:02.688Z"
   },
   {
    "duration": 26,
    "start_time": "2023-05-15T04:31:02.936Z"
   },
   {
    "duration": 11,
    "start_time": "2023-05-15T04:31:02.964Z"
   },
   {
    "duration": 374,
    "start_time": "2023-05-15T04:31:02.976Z"
   },
   {
    "duration": 292,
    "start_time": "2023-05-15T04:31:03.352Z"
   },
   {
    "duration": 11,
    "start_time": "2023-05-15T04:31:03.645Z"
   },
   {
    "duration": 166,
    "start_time": "2023-05-15T04:31:03.657Z"
   },
   {
    "duration": 7,
    "start_time": "2023-05-15T04:31:03.825Z"
   },
   {
    "duration": 31,
    "start_time": "2023-05-15T04:31:03.833Z"
   },
   {
    "duration": 15,
    "start_time": "2023-05-15T04:31:03.866Z"
   },
   {
    "duration": 17,
    "start_time": "2023-05-15T04:31:03.883Z"
   },
   {
    "duration": 66,
    "start_time": "2023-05-15T04:31:03.901Z"
   },
   {
    "duration": 23,
    "start_time": "2023-05-15T04:31:03.968Z"
   },
   {
    "duration": 11,
    "start_time": "2023-05-15T04:31:03.993Z"
   },
   {
    "duration": 8,
    "start_time": "2023-05-15T04:31:04.005Z"
   },
   {
    "duration": 11,
    "start_time": "2023-05-15T04:31:04.014Z"
   },
   {
    "duration": 7,
    "start_time": "2023-05-15T04:31:04.026Z"
   },
   {
    "duration": 3,
    "start_time": "2023-05-15T04:31:04.050Z"
   },
   {
    "duration": 8,
    "start_time": "2023-05-15T04:31:04.055Z"
   },
   {
    "duration": 4,
    "start_time": "2023-05-15T04:31:04.065Z"
   },
   {
    "duration": 6,
    "start_time": "2023-05-15T04:31:04.071Z"
   },
   {
    "duration": 145,
    "start_time": "2023-05-15T05:35:43.961Z"
   },
   {
    "duration": 12,
    "start_time": "2023-05-15T05:35:51.310Z"
   },
   {
    "duration": 16,
    "start_time": "2023-05-15T05:37:58.965Z"
   },
   {
    "duration": 14,
    "start_time": "2023-05-15T05:38:38.084Z"
   },
   {
    "duration": 11,
    "start_time": "2023-05-15T06:02:54.868Z"
   },
   {
    "duration": 19,
    "start_time": "2023-05-15T06:06:02.278Z"
   },
   {
    "duration": 12,
    "start_time": "2023-05-15T06:06:37.278Z"
   },
   {
    "duration": 16,
    "start_time": "2023-05-15T06:06:43.255Z"
   },
   {
    "duration": 19,
    "start_time": "2023-05-15T06:13:36.759Z"
   },
   {
    "duration": 19,
    "start_time": "2023-05-15T06:14:16.709Z"
   },
   {
    "duration": 19,
    "start_time": "2023-05-15T06:14:49.086Z"
   },
   {
    "duration": 92,
    "start_time": "2023-05-15T06:16:47.058Z"
   },
   {
    "duration": 19,
    "start_time": "2023-05-15T06:16:57.569Z"
   },
   {
    "duration": 19,
    "start_time": "2023-05-15T06:17:10.256Z"
   },
   {
    "duration": 17,
    "start_time": "2023-05-15T06:17:22.389Z"
   },
   {
    "duration": 9,
    "start_time": "2023-05-15T06:17:38.327Z"
   },
   {
    "duration": 18,
    "start_time": "2023-05-15T06:19:38.987Z"
   },
   {
    "duration": 14,
    "start_time": "2023-05-15T06:19:49.879Z"
   },
   {
    "duration": 19,
    "start_time": "2023-05-15T06:20:01.366Z"
   },
   {
    "duration": 1860,
    "start_time": "2023-05-15T06:21:48.954Z"
   },
   {
    "duration": 1569,
    "start_time": "2023-05-15T06:22:01.768Z"
   },
   {
    "duration": 78,
    "start_time": "2023-05-15T06:22:15.554Z"
   },
   {
    "duration": 88,
    "start_time": "2023-05-15T06:22:21.859Z"
   },
   {
    "duration": 1613,
    "start_time": "2023-05-15T06:22:27.459Z"
   },
   {
    "duration": 19,
    "start_time": "2023-05-15T06:22:37.169Z"
   },
   {
    "duration": 16,
    "start_time": "2023-05-15T06:22:44.619Z"
   },
   {
    "duration": 1482,
    "start_time": "2023-05-15T06:22:57.916Z"
   },
   {
    "duration": 19,
    "start_time": "2023-05-15T06:24:08.500Z"
   },
   {
    "duration": 17,
    "start_time": "2023-05-15T06:24:50.959Z"
   },
   {
    "duration": 20,
    "start_time": "2023-05-15T06:27:44.986Z"
   },
   {
    "duration": 18,
    "start_time": "2023-05-15T06:28:07.566Z"
   },
   {
    "duration": 21,
    "start_time": "2023-05-15T06:29:35.129Z"
   },
   {
    "duration": 10,
    "start_time": "2023-05-15T06:30:57.758Z"
   },
   {
    "duration": 10,
    "start_time": "2023-05-15T06:41:51.529Z"
   },
   {
    "duration": 4410,
    "start_time": "2023-05-15T06:42:09.193Z"
   },
   {
    "duration": 13,
    "start_time": "2023-05-15T06:42:23.209Z"
   },
   {
    "duration": 9,
    "start_time": "2023-05-15T06:42:44.633Z"
   },
   {
    "duration": 9,
    "start_time": "2023-05-15T06:42:55.972Z"
   },
   {
    "duration": 10,
    "start_time": "2023-05-15T06:43:05.450Z"
   },
   {
    "duration": 12,
    "start_time": "2023-05-15T06:43:10.923Z"
   },
   {
    "duration": 3917,
    "start_time": "2023-05-15T06:48:28.830Z"
   },
   {
    "duration": 2605,
    "start_time": "2023-05-15T06:50:51.423Z"
   },
   {
    "duration": 11,
    "start_time": "2023-05-15T06:51:04.124Z"
   },
   {
    "duration": 2800,
    "start_time": "2023-05-15T06:51:13.398Z"
   },
   {
    "duration": 8,
    "start_time": "2023-05-15T06:51:19.593Z"
   },
   {
    "duration": 2828,
    "start_time": "2023-05-15T06:51:32.143Z"
   },
   {
    "duration": 6,
    "start_time": "2023-05-15T06:51:43.078Z"
   },
   {
    "duration": 1999,
    "start_time": "2023-05-15T06:51:50.630Z"
   },
   {
    "duration": 5,
    "start_time": "2023-05-15T06:51:57.913Z"
   },
   {
    "duration": 4,
    "start_time": "2023-05-15T06:52:13.470Z"
   },
   {
    "duration": 4193,
    "start_time": "2023-05-15T06:52:28.229Z"
   },
   {
    "duration": 2322,
    "start_time": "2023-05-15T06:52:34.713Z"
   },
   {
    "duration": 10,
    "start_time": "2023-05-15T06:52:45.990Z"
   },
   {
    "duration": 11,
    "start_time": "2023-05-15T06:53:19.433Z"
   },
   {
    "duration": 10,
    "start_time": "2023-05-15T06:53:35.501Z"
   },
   {
    "duration": 12,
    "start_time": "2023-05-15T06:54:36.293Z"
   },
   {
    "duration": 20,
    "start_time": "2023-05-15T06:55:32.563Z"
   },
   {
    "duration": 11,
    "start_time": "2023-05-15T06:55:35.893Z"
   },
   {
    "duration": 10,
    "start_time": "2023-05-15T06:56:06.163Z"
   },
   {
    "duration": 19,
    "start_time": "2023-05-15T06:57:34.918Z"
   },
   {
    "duration": 11,
    "start_time": "2023-05-15T06:59:08.563Z"
   },
   {
    "duration": 14,
    "start_time": "2023-05-15T07:01:09.761Z"
   },
   {
    "duration": 22,
    "start_time": "2023-05-15T07:01:35.441Z"
   },
   {
    "duration": 4,
    "start_time": "2023-05-15T07:04:54.412Z"
   },
   {
    "duration": 14,
    "start_time": "2023-05-15T07:04:59.638Z"
   },
   {
    "duration": 105,
    "start_time": "2023-05-15T07:21:39.599Z"
   },
   {
    "duration": 21,
    "start_time": "2023-05-15T07:22:45.424Z"
   },
   {
    "duration": 8,
    "start_time": "2023-05-15T07:22:46.685Z"
   },
   {
    "duration": 7,
    "start_time": "2023-05-15T07:22:48.779Z"
   },
   {
    "duration": 13,
    "start_time": "2023-05-15T07:23:13.006Z"
   },
   {
    "duration": 231,
    "start_time": "2023-05-15T07:25:10.485Z"
   },
   {
    "duration": 104,
    "start_time": "2023-05-15T07:26:12.846Z"
   },
   {
    "duration": 68,
    "start_time": "2023-05-15T07:27:07.238Z"
   },
   {
    "duration": 11,
    "start_time": "2023-05-15T07:27:23.326Z"
   },
   {
    "duration": 53,
    "start_time": "2023-05-15T07:28:47.318Z"
   },
   {
    "duration": 62,
    "start_time": "2023-05-15T07:31:55.130Z"
   },
   {
    "duration": 62,
    "start_time": "2023-05-15T07:32:01.630Z"
   },
   {
    "duration": 52,
    "start_time": "2023-05-15T07:33:13.150Z"
   },
   {
    "duration": 53,
    "start_time": "2023-05-15T07:33:57.558Z"
   },
   {
    "duration": 48,
    "start_time": "2023-05-15T07:34:02.076Z"
   },
   {
    "duration": 17,
    "start_time": "2023-05-15T07:36:01.836Z"
   },
   {
    "duration": 17,
    "start_time": "2023-05-15T07:37:08.618Z"
   },
   {
    "duration": 16,
    "start_time": "2023-05-15T07:37:18.708Z"
   },
   {
    "duration": 16,
    "start_time": "2023-05-15T07:37:28.218Z"
   },
   {
    "duration": 46,
    "start_time": "2023-05-15T07:37:35.479Z"
   },
   {
    "duration": 160,
    "start_time": "2023-05-15T07:37:57.947Z"
   },
   {
    "duration": 143,
    "start_time": "2023-05-15T07:38:16.288Z"
   },
   {
    "duration": 217,
    "start_time": "2023-05-15T07:38:36.037Z"
   },
   {
    "duration": 47,
    "start_time": "2023-05-15T07:41:53.413Z"
   },
   {
    "duration": 167,
    "start_time": "2023-05-15T07:45:19.939Z"
   },
   {
    "duration": 16,
    "start_time": "2023-05-15T07:55:40.704Z"
   },
   {
    "duration": 6,
    "start_time": "2023-05-15T08:02:13.596Z"
   },
   {
    "duration": 6,
    "start_time": "2023-05-15T08:02:22.005Z"
   },
   {
    "duration": 14,
    "start_time": "2023-05-15T08:08:03.176Z"
   },
   {
    "duration": 48,
    "start_time": "2023-05-15T13:12:03.923Z"
   },
   {
    "duration": 1222,
    "start_time": "2023-05-15T13:12:14.913Z"
   },
   {
    "duration": 561,
    "start_time": "2023-05-15T13:12:16.137Z"
   },
   {
    "duration": 18,
    "start_time": "2023-05-15T13:12:16.700Z"
   },
   {
    "duration": 21,
    "start_time": "2023-05-15T13:12:16.721Z"
   },
   {
    "duration": 24,
    "start_time": "2023-05-15T13:12:16.745Z"
   },
   {
    "duration": 20,
    "start_time": "2023-05-15T13:12:16.771Z"
   },
   {
    "duration": 413,
    "start_time": "2023-05-15T13:12:16.793Z"
   },
   {
    "duration": 49,
    "start_time": "2023-05-15T13:12:17.208Z"
   },
   {
    "duration": 8,
    "start_time": "2023-05-15T13:12:17.259Z"
   },
   {
    "duration": 3495,
    "start_time": "2023-05-15T13:12:17.271Z"
   },
   {
    "duration": 1459,
    "start_time": "2023-05-15T13:12:20.767Z"
   },
   {
    "duration": 26,
    "start_time": "2023-05-15T13:12:22.228Z"
   },
   {
    "duration": 15,
    "start_time": "2023-05-15T13:12:22.256Z"
   },
   {
    "duration": 101,
    "start_time": "2023-05-15T13:12:22.272Z"
   },
   {
    "duration": 417,
    "start_time": "2023-05-15T13:12:22.375Z"
   },
   {
    "duration": 26,
    "start_time": "2023-05-15T13:12:22.794Z"
   },
   {
    "duration": 31,
    "start_time": "2023-05-15T13:12:22.822Z"
   },
   {
    "duration": 31,
    "start_time": "2023-05-15T13:12:22.854Z"
   },
   {
    "duration": 85,
    "start_time": "2023-05-15T13:12:22.887Z"
   },
   {
    "duration": 4,
    "start_time": "2023-05-15T13:12:22.974Z"
   },
   {
    "duration": 48,
    "start_time": "2023-05-15T13:12:22.980Z"
   },
   {
    "duration": 36,
    "start_time": "2023-05-15T13:12:23.029Z"
   },
   {
    "duration": 28,
    "start_time": "2023-05-15T13:12:23.066Z"
   },
   {
    "duration": 34,
    "start_time": "2023-05-15T13:12:23.096Z"
   },
   {
    "duration": 211,
    "start_time": "2023-05-15T13:12:23.132Z"
   },
   {
    "duration": 20,
    "start_time": "2023-05-15T13:12:23.345Z"
   },
   {
    "duration": 20,
    "start_time": "2023-05-15T13:12:23.366Z"
   },
   {
    "duration": 32,
    "start_time": "2023-05-15T13:12:23.390Z"
   },
   {
    "duration": 23,
    "start_time": "2023-05-15T13:12:23.424Z"
   },
   {
    "duration": 18,
    "start_time": "2023-05-15T13:12:23.449Z"
   },
   {
    "duration": 24,
    "start_time": "2023-05-15T13:12:23.469Z"
   },
   {
    "duration": 106,
    "start_time": "2023-05-15T13:12:23.495Z"
   },
   {
    "duration": 11,
    "start_time": "2023-05-15T13:12:23.603Z"
   },
   {
    "duration": 18,
    "start_time": "2023-05-15T13:12:23.616Z"
   },
   {
    "duration": 255,
    "start_time": "2023-05-15T13:12:23.651Z"
   },
   {
    "duration": 21,
    "start_time": "2023-05-15T13:12:23.908Z"
   },
   {
    "duration": 24,
    "start_time": "2023-05-15T13:12:23.930Z"
   },
   {
    "duration": 477,
    "start_time": "2023-05-15T13:12:23.956Z"
   },
   {
    "duration": 342,
    "start_time": "2023-05-15T13:12:24.435Z"
   },
   {
    "duration": 11,
    "start_time": "2023-05-15T13:12:24.778Z"
   },
   {
    "duration": 101,
    "start_time": "2023-05-15T13:12:24.790Z"
   },
   {
    "duration": 873,
    "start_time": "2023-05-15T13:12:24.893Z"
   },
   {
    "duration": 7,
    "start_time": "2023-05-15T13:12:25.768Z"
   },
   {
    "duration": 74,
    "start_time": "2023-05-15T13:12:25.777Z"
   },
   {
    "duration": 19,
    "start_time": "2023-05-15T13:12:25.854Z"
   },
   {
    "duration": 49,
    "start_time": "2023-05-15T13:12:25.876Z"
   },
   {
    "duration": 18,
    "start_time": "2023-05-15T13:12:25.950Z"
   },
   {
    "duration": 30,
    "start_time": "2023-05-15T13:12:25.970Z"
   },
   {
    "duration": 14,
    "start_time": "2023-05-15T13:12:26.002Z"
   },
   {
    "duration": 33,
    "start_time": "2023-05-15T13:12:26.018Z"
   },
   {
    "duration": 12,
    "start_time": "2023-05-15T13:12:26.052Z"
   },
   {
    "duration": 20,
    "start_time": "2023-05-15T13:12:26.066Z"
   },
   {
    "duration": 4,
    "start_time": "2023-05-15T13:12:26.088Z"
   },
   {
    "duration": 14,
    "start_time": "2023-05-15T13:12:26.094Z"
   },
   {
    "duration": 16,
    "start_time": "2023-05-15T13:12:26.109Z"
   },
   {
    "duration": 11,
    "start_time": "2023-05-15T13:12:26.127Z"
   },
   {
    "duration": 24,
    "start_time": "2023-05-15T13:42:08.050Z"
   },
   {
    "duration": 29,
    "start_time": "2023-05-15T13:42:11.337Z"
   },
   {
    "duration": 1219,
    "start_time": "2023-05-15T13:42:40.523Z"
   },
   {
    "duration": 603,
    "start_time": "2023-05-15T13:42:41.744Z"
   },
   {
    "duration": 20,
    "start_time": "2023-05-15T13:42:42.348Z"
   },
   {
    "duration": 8,
    "start_time": "2023-05-15T13:42:42.370Z"
   },
   {
    "duration": 9,
    "start_time": "2023-05-15T13:42:42.379Z"
   },
   {
    "duration": 8,
    "start_time": "2023-05-15T13:42:42.390Z"
   },
   {
    "duration": 415,
    "start_time": "2023-05-15T13:42:42.399Z"
   },
   {
    "duration": 49,
    "start_time": "2023-05-15T13:42:42.815Z"
   },
   {
    "duration": 9,
    "start_time": "2023-05-15T13:42:42.865Z"
   },
   {
    "duration": 3509,
    "start_time": "2023-05-15T13:42:42.877Z"
   },
   {
    "duration": 1456,
    "start_time": "2023-05-15T13:42:46.388Z"
   },
   {
    "duration": 26,
    "start_time": "2023-05-15T13:42:47.845Z"
   },
   {
    "duration": 12,
    "start_time": "2023-05-15T13:42:47.872Z"
   },
   {
    "duration": 88,
    "start_time": "2023-05-15T13:42:47.887Z"
   },
   {
    "duration": 413,
    "start_time": "2023-05-15T13:42:47.977Z"
   },
   {
    "duration": 26,
    "start_time": "2023-05-15T13:42:48.392Z"
   },
   {
    "duration": 8,
    "start_time": "2023-05-15T13:42:48.419Z"
   },
   {
    "duration": 45,
    "start_time": "2023-05-15T13:42:48.450Z"
   },
   {
    "duration": 83,
    "start_time": "2023-05-15T13:42:48.497Z"
   },
   {
    "duration": 4,
    "start_time": "2023-05-15T13:42:48.582Z"
   },
   {
    "duration": 22,
    "start_time": "2023-05-15T13:42:48.587Z"
   },
   {
    "duration": 50,
    "start_time": "2023-05-15T13:42:48.610Z"
   },
   {
    "duration": 29,
    "start_time": "2023-05-15T13:42:48.663Z"
   },
   {
    "duration": 10,
    "start_time": "2023-05-15T13:42:48.694Z"
   },
   {
    "duration": 226,
    "start_time": "2023-05-15T13:42:48.705Z"
   },
   {
    "duration": 32,
    "start_time": "2023-05-15T13:42:48.933Z"
   },
   {
    "duration": 8,
    "start_time": "2023-05-15T13:42:48.966Z"
   },
   {
    "duration": 6,
    "start_time": "2023-05-15T13:42:48.977Z"
   },
   {
    "duration": 20,
    "start_time": "2023-05-15T13:42:48.984Z"
   },
   {
    "duration": 12,
    "start_time": "2023-05-15T13:42:49.006Z"
   },
   {
    "duration": 117,
    "start_time": "2023-05-15T13:42:49.019Z"
   },
   {
    "duration": 25,
    "start_time": "2023-05-15T13:42:49.137Z"
   },
   {
    "duration": 14,
    "start_time": "2023-05-15T13:42:49.168Z"
   },
   {
    "duration": 255,
    "start_time": "2023-05-15T13:42:49.184Z"
   },
   {
    "duration": 26,
    "start_time": "2023-05-15T13:42:49.441Z"
   },
   {
    "duration": 13,
    "start_time": "2023-05-15T13:42:49.469Z"
   },
   {
    "duration": 436,
    "start_time": "2023-05-15T13:42:49.483Z"
   },
   {
    "duration": 342,
    "start_time": "2023-05-15T13:42:49.921Z"
   },
   {
    "duration": 10,
    "start_time": "2023-05-15T13:42:50.265Z"
   },
   {
    "duration": 97,
    "start_time": "2023-05-15T13:42:50.277Z"
   },
   {
    "duration": 419,
    "start_time": "2023-05-15T13:42:50.376Z"
   },
   {
    "duration": 6,
    "start_time": "2023-05-15T13:42:50.797Z"
   },
   {
    "duration": 65,
    "start_time": "2023-05-15T13:42:50.805Z"
   },
   {
    "duration": 18,
    "start_time": "2023-05-15T13:42:50.872Z"
   },
   {
    "duration": 43,
    "start_time": "2023-05-15T13:42:50.892Z"
   },
   {
    "duration": 39,
    "start_time": "2023-05-15T13:42:50.937Z"
   },
   {
    "duration": 21,
    "start_time": "2023-05-15T13:42:50.978Z"
   },
   {
    "duration": 12,
    "start_time": "2023-05-15T13:42:51.001Z"
   },
   {
    "duration": 11,
    "start_time": "2023-05-15T13:42:51.014Z"
   },
   {
    "duration": 13,
    "start_time": "2023-05-15T13:42:51.026Z"
   },
   {
    "duration": 13,
    "start_time": "2023-05-15T13:42:51.041Z"
   },
   {
    "duration": 5,
    "start_time": "2023-05-15T13:42:51.057Z"
   },
   {
    "duration": 8,
    "start_time": "2023-05-15T13:42:51.064Z"
   },
   {
    "duration": 4,
    "start_time": "2023-05-15T13:42:51.074Z"
   },
   {
    "duration": 10,
    "start_time": "2023-05-15T13:42:51.079Z"
   },
   {
    "duration": 22,
    "start_time": "2023-05-15T13:49:08.049Z"
   },
   {
    "duration": 5,
    "start_time": "2023-05-15T13:52:51.945Z"
   },
   {
    "duration": 3,
    "start_time": "2023-05-15T13:53:00.297Z"
   },
   {
    "duration": 5,
    "start_time": "2023-05-15T13:53:01.590Z"
   },
   {
    "duration": 6,
    "start_time": "2023-05-15T13:57:00.471Z"
   },
   {
    "duration": 4,
    "start_time": "2023-05-15T13:57:03.209Z"
   },
   {
    "duration": 6,
    "start_time": "2023-05-15T13:57:06.243Z"
   },
   {
    "duration": 5,
    "start_time": "2023-05-15T13:57:14.137Z"
   },
   {
    "duration": 6,
    "start_time": "2023-05-15T13:57:15.530Z"
   },
   {
    "duration": 4,
    "start_time": "2023-05-15T13:57:20.458Z"
   },
   {
    "duration": 5,
    "start_time": "2023-05-15T13:57:21.610Z"
   },
   {
    "duration": 1808,
    "start_time": "2023-05-15T14:35:54.777Z"
   },
   {
    "duration": 2722,
    "start_time": "2023-05-15T14:35:56.591Z"
   },
   {
    "duration": 21,
    "start_time": "2023-05-15T14:35:59.315Z"
   },
   {
    "duration": 11,
    "start_time": "2023-05-15T14:35:59.338Z"
   },
   {
    "duration": 16,
    "start_time": "2023-05-15T14:35:59.353Z"
   },
   {
    "duration": 23,
    "start_time": "2023-05-15T14:35:59.373Z"
   },
   {
    "duration": 661,
    "start_time": "2023-05-15T14:35:59.400Z"
   },
   {
    "duration": 63,
    "start_time": "2023-05-15T14:36:00.068Z"
   },
   {
    "duration": 12,
    "start_time": "2023-05-15T14:36:00.135Z"
   },
   {
    "duration": 5121,
    "start_time": "2023-05-15T14:36:00.158Z"
   },
   {
    "duration": 2321,
    "start_time": "2023-05-15T14:36:05.281Z"
   },
   {
    "duration": 27,
    "start_time": "2023-05-15T14:36:07.605Z"
   },
   {
    "duration": 39,
    "start_time": "2023-05-15T14:36:07.634Z"
   },
   {
    "duration": 113,
    "start_time": "2023-05-15T14:36:07.678Z"
   },
   {
    "duration": 616,
    "start_time": "2023-05-15T14:36:07.798Z"
   },
   {
    "duration": 65,
    "start_time": "2023-05-15T14:36:08.417Z"
   },
   {
    "duration": 12,
    "start_time": "2023-05-15T14:36:08.484Z"
   },
   {
    "duration": 72,
    "start_time": "2023-05-15T14:36:08.499Z"
   },
   {
    "duration": 127,
    "start_time": "2023-05-15T14:36:08.574Z"
   },
   {
    "duration": 7,
    "start_time": "2023-05-15T14:36:08.703Z"
   },
   {
    "duration": 44,
    "start_time": "2023-05-15T14:36:08.712Z"
   },
   {
    "duration": 63,
    "start_time": "2023-05-15T14:36:08.758Z"
   },
   {
    "duration": 71,
    "start_time": "2023-05-15T14:36:08.823Z"
   },
   {
    "duration": 21,
    "start_time": "2023-05-15T14:36:08.896Z"
   },
   {
    "duration": 428,
    "start_time": "2023-05-15T14:36:08.920Z"
   },
   {
    "duration": 25,
    "start_time": "2023-05-15T14:36:09.356Z"
   },
   {
    "duration": 15,
    "start_time": "2023-05-15T14:36:09.384Z"
   },
   {
    "duration": 20,
    "start_time": "2023-05-15T14:36:09.401Z"
   },
   {
    "duration": 40,
    "start_time": "2023-05-15T14:36:09.424Z"
   },
   {
    "duration": 16,
    "start_time": "2023-05-15T14:36:09.467Z"
   },
   {
    "duration": 189,
    "start_time": "2023-05-15T14:36:09.486Z"
   },
   {
    "duration": 15,
    "start_time": "2023-05-15T14:36:09.677Z"
   },
   {
    "duration": 21,
    "start_time": "2023-05-15T14:36:09.694Z"
   },
   {
    "duration": 409,
    "start_time": "2023-05-15T14:36:09.718Z"
   },
   {
    "duration": 51,
    "start_time": "2023-05-15T14:36:10.129Z"
   },
   {
    "duration": 21,
    "start_time": "2023-05-15T14:36:10.183Z"
   },
   {
    "duration": 679,
    "start_time": "2023-05-15T14:36:10.206Z"
   },
   {
    "duration": 543,
    "start_time": "2023-05-15T14:36:10.890Z"
   },
   {
    "duration": 26,
    "start_time": "2023-05-15T14:36:11.436Z"
   },
   {
    "duration": 146,
    "start_time": "2023-05-15T14:36:11.468Z"
   },
   {
    "duration": 2133,
    "start_time": "2023-05-15T14:36:11.620Z"
   },
   {
    "duration": 11,
    "start_time": "2023-05-15T14:36:13.755Z"
   },
   {
    "duration": 37,
    "start_time": "2023-05-15T14:36:13.768Z"
   },
   {
    "duration": 32,
    "start_time": "2023-05-15T14:36:13.853Z"
   },
   {
    "duration": 95,
    "start_time": "2023-05-15T14:36:13.888Z"
   },
   {
    "duration": 29,
    "start_time": "2023-05-15T14:36:13.990Z"
   },
   {
    "duration": 67,
    "start_time": "2023-05-15T14:36:14.021Z"
   },
   {
    "duration": 22,
    "start_time": "2023-05-15T14:36:14.090Z"
   },
   {
    "duration": 11,
    "start_time": "2023-05-15T14:36:14.115Z"
   },
   {
    "duration": 5,
    "start_time": "2023-05-15T14:36:14.129Z"
   },
   {
    "duration": 19,
    "start_time": "2023-05-15T14:36:14.136Z"
   },
   {
    "duration": 8,
    "start_time": "2023-05-15T14:36:14.157Z"
   },
   {
    "duration": 16,
    "start_time": "2023-05-15T14:36:14.167Z"
   },
   {
    "duration": 6,
    "start_time": "2023-05-15T14:36:14.186Z"
   },
   {
    "duration": 7,
    "start_time": "2023-05-15T14:36:14.202Z"
   },
   {
    "duration": 11,
    "start_time": "2023-05-15T14:38:38.555Z"
   },
   {
    "duration": 6,
    "start_time": "2023-05-15T14:38:40.736Z"
   },
   {
    "duration": 7,
    "start_time": "2023-05-15T14:38:42.412Z"
   },
   {
    "duration": 4,
    "start_time": "2023-05-15T14:38:45.301Z"
   },
   {
    "duration": 7,
    "start_time": "2023-05-15T14:38:45.487Z"
   },
   {
    "duration": 4,
    "start_time": "2023-05-15T14:38:46.303Z"
   },
   {
    "duration": 7,
    "start_time": "2023-05-15T14:38:46.489Z"
   }
  ],
  "kernelspec": {
   "display_name": "Python 3 (ipykernel)",
   "language": "python",
   "name": "python3"
  },
  "language_info": {
   "codemirror_mode": {
    "name": "ipython",
    "version": 3
   },
   "file_extension": ".py",
   "mimetype": "text/x-python",
   "name": "python",
   "nbconvert_exporter": "python",
   "pygments_lexer": "ipython3",
   "version": "3.9.13"
  },
  "toc": {
   "base_numbering": 1,
   "nav_menu": {},
   "number_sections": true,
   "sideBar": true,
   "skip_h1_title": true,
   "title_cell": "Table of Contents",
   "title_sidebar": "Contents",
   "toc_cell": false,
   "toc_position": {
    "height": "calc(100% - 180px)",
    "left": "10px",
    "top": "150px",
    "width": "165px"
   },
   "toc_section_display": true,
   "toc_window_display": true
  }
 },
 "nbformat": 4,
 "nbformat_minor": 5
}
