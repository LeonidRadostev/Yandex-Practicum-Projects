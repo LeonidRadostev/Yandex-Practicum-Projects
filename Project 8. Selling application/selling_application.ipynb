{
 "cells": [
  {
   "cell_type": "markdown",
   "metadata": {},
   "source": [
    "# Анализ поведения пользователей продающего приложения (Сборный проект 2)"
   ]
  },
  {
   "cell_type": "markdown",
   "metadata": {},
   "source": [
    "Мы работаем в стартапе. Нужно разобраться, как ведут себя пользователи нашего мобильного приложения. Изучим воронку продаж. Узнаем, как пользователи доходят до покупки. Сколько пользователей доходит до покупки, а сколько — «застревает» на предыдущих шагах? На каких именно?\n",
    "После этого исследуем результаты A/A/B-эксперимента. Дизайнеры захотели поменять шрифты во всём приложении, а менеджеры испугались, что пользователям будет непривычно. Договорились принять решение по результатам A/A/B-теста. Пользователей разбили на 3 группы: 2 контрольные со старыми шрифтами и одну экспериментальную — с новыми. Выясним, какой шрифт лучше.\n",
    "\n",
    "Создание двух групп A вместо одной имеет определённые преимущества. Если две контрольные группы окажутся равны, мы можем быть уверены в точности проведенного тестирования. Если же между значениями A и A будут существенные различия, это поможет обнаружить факторы, которые привели к искажению результатов. Сравнение контрольных групп также помогает понять, сколько времени и данных потребуется для дальнейших тестов.\n",
    "\n",
    "Исходя из опасений менеджеров сформировали цель исследования.\n",
    "\n",
    "**Цель исследования:**\n",
    "* Как повлияло изменение шрифта в приложении на поведение пользователей."
   ]
  },
  {
   "cell_type": "markdown",
   "metadata": {},
   "source": [
    "**Исследование будет проходить в несколько шагов:**\n",
    "* Шаг 1. Откроем файл с данными и изучим общую информацию;\n",
    "* Шаг 2. Подготовим данные;\n",
    "* Шаг 3. Изучим и проверьте данные;\n",
    "* Шаг 4. Изучим воронку событий;\n",
    "* Шаг 5. Изучим результаты эксперимента."
   ]
  },
  {
   "cell_type": "code",
   "execution_count": 1,
   "metadata": {},
   "outputs": [],
   "source": [
    "# импортируем необходимые библиотеки\n",
    "import pandas as pd\n",
    "import datetime as dt\n",
    "from datetime import datetime\n",
    "import numpy as np\n",
    "import matplotlib.pyplot as plt\n",
    "import scipy.stats as stats\n",
    "import seaborn as sns\n",
    "pd.set_option('display.max_colwidth', 0)"
   ]
  },
  {
   "cell_type": "markdown",
   "metadata": {},
   "source": [
    "## Откроем файл с данными и изучим общую информацию"
   ]
  },
  {
   "cell_type": "code",
   "execution_count": 2,
   "metadata": {},
   "outputs": [],
   "source": [
    "logs = pd.read_csv('C:\\\\StudentYandex\\\\Projekts\\\\Python\\\\Project8sbornuy2\\\\logs_exp.csv', sep = '\\t')"
   ]
  },
  {
   "cell_type": "code",
   "execution_count": 3,
   "metadata": {},
   "outputs": [
    {
     "data": {
      "text/html": [
       "<div>\n",
       "<style scoped>\n",
       "    .dataframe tbody tr th:only-of-type {\n",
       "        vertical-align: middle;\n",
       "    }\n",
       "\n",
       "    .dataframe tbody tr th {\n",
       "        vertical-align: top;\n",
       "    }\n",
       "\n",
       "    .dataframe thead th {\n",
       "        text-align: right;\n",
       "    }\n",
       "</style>\n",
       "<table border=\"1\" class=\"dataframe\">\n",
       "  <thead>\n",
       "    <tr style=\"text-align: right;\">\n",
       "      <th></th>\n",
       "      <th>EventName</th>\n",
       "      <th>DeviceIDHash</th>\n",
       "      <th>EventTimestamp</th>\n",
       "      <th>ExpId</th>\n",
       "    </tr>\n",
       "  </thead>\n",
       "  <tbody>\n",
       "    <tr>\n",
       "      <th>0</th>\n",
       "      <td>MainScreenAppear</td>\n",
       "      <td>4575588528974610257</td>\n",
       "      <td>1564029816</td>\n",
       "      <td>246</td>\n",
       "    </tr>\n",
       "    <tr>\n",
       "      <th>1</th>\n",
       "      <td>MainScreenAppear</td>\n",
       "      <td>7416695313311560658</td>\n",
       "      <td>1564053102</td>\n",
       "      <td>246</td>\n",
       "    </tr>\n",
       "    <tr>\n",
       "      <th>2</th>\n",
       "      <td>PaymentScreenSuccessful</td>\n",
       "      <td>3518123091307005509</td>\n",
       "      <td>1564054127</td>\n",
       "      <td>248</td>\n",
       "    </tr>\n",
       "    <tr>\n",
       "      <th>3</th>\n",
       "      <td>CartScreenAppear</td>\n",
       "      <td>3518123091307005509</td>\n",
       "      <td>1564054127</td>\n",
       "      <td>248</td>\n",
       "    </tr>\n",
       "    <tr>\n",
       "      <th>4</th>\n",
       "      <td>PaymentScreenSuccessful</td>\n",
       "      <td>6217807653094995999</td>\n",
       "      <td>1564055322</td>\n",
       "      <td>248</td>\n",
       "    </tr>\n",
       "  </tbody>\n",
       "</table>\n",
       "</div>"
      ],
      "text/plain": [
       "                 EventName         DeviceIDHash  EventTimestamp  ExpId\n",
       "0  MainScreenAppear         4575588528974610257  1564029816      246  \n",
       "1  MainScreenAppear         7416695313311560658  1564053102      246  \n",
       "2  PaymentScreenSuccessful  3518123091307005509  1564054127      248  \n",
       "3  CartScreenAppear         3518123091307005509  1564054127      248  \n",
       "4  PaymentScreenSuccessful  6217807653094995999  1564055322      248  "
      ]
     },
     "execution_count": 3,
     "metadata": {},
     "output_type": "execute_result"
    }
   ],
   "source": [
    "logs.head()"
   ]
  },
  {
   "cell_type": "code",
   "execution_count": 4,
   "metadata": {},
   "outputs": [
    {
     "name": "stdout",
     "output_type": "stream",
     "text": [
      "<class 'pandas.core.frame.DataFrame'>\n",
      "RangeIndex: 244126 entries, 0 to 244125\n",
      "Data columns (total 4 columns):\n",
      " #   Column          Non-Null Count   Dtype \n",
      "---  ------          --------------   ----- \n",
      " 0   EventName       244126 non-null  object\n",
      " 1   DeviceIDHash    244126 non-null  int64 \n",
      " 2   EventTimestamp  244126 non-null  int64 \n",
      " 3   ExpId           244126 non-null  int64 \n",
      "dtypes: int64(3), object(1)\n",
      "memory usage: 7.5+ MB\n"
     ]
    }
   ],
   "source": [
    "logs.info()"
   ]
  },
  {
   "cell_type": "markdown",
   "metadata": {},
   "source": [
    "**Вывод:**\n",
    "\n",
    "Каждая запись в логе — это действие пользователя, или событие.\n",
    "\n",
    "* EventName — название события;\n",
    "* DeviceIDHash — уникальный идентификатор пользователя;\n",
    "* EventTimestamp — время события;\n",
    "* ExpId — номер эксперимента: 246 и 247 — контрольные группы, а 248 — экспериментальная."
   ]
  },
  {
   "cell_type": "markdown",
   "metadata": {},
   "source": [
    "## Подготовим данные"
   ]
  },
  {
   "cell_type": "markdown",
   "metadata": {},
   "source": [
    "### Заменим названия столбцов"
   ]
  },
  {
   "cell_type": "code",
   "execution_count": 5,
   "metadata": {},
   "outputs": [],
   "source": [
    "logs.columns = [column.lower() for column in logs.columns] # Приводим названия столбцов к нижнему регистру "
   ]
  },
  {
   "cell_type": "code",
   "execution_count": 6,
   "metadata": {},
   "outputs": [],
   "source": [
    "logs = logs.rename(columns={'expid':'group', 'deviceidhash':'visitorid'}) # Меняем названия столбцов"
   ]
  },
  {
   "cell_type": "code",
   "execution_count": 7,
   "metadata": {},
   "outputs": [
    {
     "data": {
      "text/html": [
       "<div>\n",
       "<style scoped>\n",
       "    .dataframe tbody tr th:only-of-type {\n",
       "        vertical-align: middle;\n",
       "    }\n",
       "\n",
       "    .dataframe tbody tr th {\n",
       "        vertical-align: top;\n",
       "    }\n",
       "\n",
       "    .dataframe thead th {\n",
       "        text-align: right;\n",
       "    }\n",
       "</style>\n",
       "<table border=\"1\" class=\"dataframe\">\n",
       "  <thead>\n",
       "    <tr style=\"text-align: right;\">\n",
       "      <th></th>\n",
       "      <th>eventname</th>\n",
       "      <th>visitorid</th>\n",
       "      <th>eventtimestamp</th>\n",
       "      <th>group</th>\n",
       "    </tr>\n",
       "  </thead>\n",
       "  <tbody>\n",
       "    <tr>\n",
       "      <th>0</th>\n",
       "      <td>MainScreenAppear</td>\n",
       "      <td>4575588528974610257</td>\n",
       "      <td>1564029816</td>\n",
       "      <td>246</td>\n",
       "    </tr>\n",
       "    <tr>\n",
       "      <th>1</th>\n",
       "      <td>MainScreenAppear</td>\n",
       "      <td>7416695313311560658</td>\n",
       "      <td>1564053102</td>\n",
       "      <td>246</td>\n",
       "    </tr>\n",
       "    <tr>\n",
       "      <th>2</th>\n",
       "      <td>PaymentScreenSuccessful</td>\n",
       "      <td>3518123091307005509</td>\n",
       "      <td>1564054127</td>\n",
       "      <td>248</td>\n",
       "    </tr>\n",
       "    <tr>\n",
       "      <th>3</th>\n",
       "      <td>CartScreenAppear</td>\n",
       "      <td>3518123091307005509</td>\n",
       "      <td>1564054127</td>\n",
       "      <td>248</td>\n",
       "    </tr>\n",
       "    <tr>\n",
       "      <th>4</th>\n",
       "      <td>PaymentScreenSuccessful</td>\n",
       "      <td>6217807653094995999</td>\n",
       "      <td>1564055322</td>\n",
       "      <td>248</td>\n",
       "    </tr>\n",
       "  </tbody>\n",
       "</table>\n",
       "</div>"
      ],
      "text/plain": [
       "                 eventname            visitorid  eventtimestamp  group\n",
       "0  MainScreenAppear         4575588528974610257  1564029816      246  \n",
       "1  MainScreenAppear         7416695313311560658  1564053102      246  \n",
       "2  PaymentScreenSuccessful  3518123091307005509  1564054127      248  \n",
       "3  CartScreenAppear         3518123091307005509  1564054127      248  \n",
       "4  PaymentScreenSuccessful  6217807653094995999  1564055322      248  "
      ]
     },
     "execution_count": 7,
     "metadata": {},
     "output_type": "execute_result"
    }
   ],
   "source": [
    "logs.head()"
   ]
  },
  {
   "cell_type": "markdown",
   "metadata": {},
   "source": [
    "### Проверим пропуски и типы данных."
   ]
  },
  {
   "cell_type": "code",
   "execution_count": 8,
   "metadata": {},
   "outputs": [
    {
     "name": "stdout",
     "output_type": "stream",
     "text": [
      "<class 'pandas.core.frame.DataFrame'>\n",
      "RangeIndex: 244126 entries, 0 to 244125\n",
      "Data columns (total 4 columns):\n",
      " #   Column          Non-Null Count   Dtype \n",
      "---  ------          --------------   ----- \n",
      " 0   eventname       244126 non-null  object\n",
      " 1   visitorid       244126 non-null  int64 \n",
      " 2   eventtimestamp  244126 non-null  int64 \n",
      " 3   group           244126 non-null  int64 \n",
      "dtypes: int64(3), object(1)\n",
      "memory usage: 7.5+ MB\n"
     ]
    },
    {
     "data": {
      "text/plain": [
       "None"
      ]
     },
     "metadata": {},
     "output_type": "display_data"
    },
    {
     "data": {
      "text/plain": [
       "413"
      ]
     },
     "metadata": {},
     "output_type": "display_data"
    },
    {
     "data": {
      "text/plain": [
       "eventname         0\n",
       "visitorid         0\n",
       "eventtimestamp    0\n",
       "group             0\n",
       "dtype: int64"
      ]
     },
     "execution_count": 8,
     "metadata": {},
     "output_type": "execute_result"
    }
   ],
   "source": [
    "display(logs.info()) # Получаем информацию о таблице\n",
    "display(logs.duplicated().sum()) # Проверяем количество дубликатов\n",
    "logs.isna().sum() # Проверяем количество пропусков в каждом столбце"
   ]
  },
  {
   "cell_type": "code",
   "execution_count": 9,
   "metadata": {},
   "outputs": [],
   "source": [
    "logs = logs.drop_duplicates()# Удалим явные дубликаты"
   ]
  },
  {
   "cell_type": "markdown",
   "metadata": {},
   "source": [
    "### Добавим столбец даты и времени, а также отдельный столбец дат"
   ]
  },
  {
   "cell_type": "code",
   "execution_count": 10,
   "metadata": {},
   "outputs": [],
   "source": [
    "logs['eventdt'] = logs['eventtimestamp'].map(lambda x: dt.datetime.fromtimestamp(x)) \n"
   ]
  },
  {
   "cell_type": "code",
   "execution_count": 11,
   "metadata": {},
   "outputs": [],
   "source": [
    "logs['date'] = logs['eventdt'].map(lambda x: dt.datetime.date(x))"
   ]
  },
  {
   "cell_type": "code",
   "execution_count": 12,
   "metadata": {
    "scrolled": true
   },
   "outputs": [
    {
     "data": {
      "text/html": [
       "<div>\n",
       "<style scoped>\n",
       "    .dataframe tbody tr th:only-of-type {\n",
       "        vertical-align: middle;\n",
       "    }\n",
       "\n",
       "    .dataframe tbody tr th {\n",
       "        vertical-align: top;\n",
       "    }\n",
       "\n",
       "    .dataframe thead th {\n",
       "        text-align: right;\n",
       "    }\n",
       "</style>\n",
       "<table border=\"1\" class=\"dataframe\">\n",
       "  <thead>\n",
       "    <tr style=\"text-align: right;\">\n",
       "      <th></th>\n",
       "      <th>eventname</th>\n",
       "      <th>visitorid</th>\n",
       "      <th>eventtimestamp</th>\n",
       "      <th>group</th>\n",
       "      <th>eventdt</th>\n",
       "      <th>date</th>\n",
       "    </tr>\n",
       "  </thead>\n",
       "  <tbody>\n",
       "    <tr>\n",
       "      <th>0</th>\n",
       "      <td>MainScreenAppear</td>\n",
       "      <td>4575588528974610257</td>\n",
       "      <td>1564029816</td>\n",
       "      <td>246</td>\n",
       "      <td>2019-07-25 09:43:36</td>\n",
       "      <td>2019-07-25</td>\n",
       "    </tr>\n",
       "    <tr>\n",
       "      <th>1</th>\n",
       "      <td>MainScreenAppear</td>\n",
       "      <td>7416695313311560658</td>\n",
       "      <td>1564053102</td>\n",
       "      <td>246</td>\n",
       "      <td>2019-07-25 16:11:42</td>\n",
       "      <td>2019-07-25</td>\n",
       "    </tr>\n",
       "    <tr>\n",
       "      <th>2</th>\n",
       "      <td>PaymentScreenSuccessful</td>\n",
       "      <td>3518123091307005509</td>\n",
       "      <td>1564054127</td>\n",
       "      <td>248</td>\n",
       "      <td>2019-07-25 16:28:47</td>\n",
       "      <td>2019-07-25</td>\n",
       "    </tr>\n",
       "    <tr>\n",
       "      <th>3</th>\n",
       "      <td>CartScreenAppear</td>\n",
       "      <td>3518123091307005509</td>\n",
       "      <td>1564054127</td>\n",
       "      <td>248</td>\n",
       "      <td>2019-07-25 16:28:47</td>\n",
       "      <td>2019-07-25</td>\n",
       "    </tr>\n",
       "    <tr>\n",
       "      <th>4</th>\n",
       "      <td>PaymentScreenSuccessful</td>\n",
       "      <td>6217807653094995999</td>\n",
       "      <td>1564055322</td>\n",
       "      <td>248</td>\n",
       "      <td>2019-07-25 16:48:42</td>\n",
       "      <td>2019-07-25</td>\n",
       "    </tr>\n",
       "  </tbody>\n",
       "</table>\n",
       "</div>"
      ],
      "text/plain": [
       "                 eventname            visitorid  eventtimestamp  group  \\\n",
       "0  MainScreenAppear         4575588528974610257  1564029816      246     \n",
       "1  MainScreenAppear         7416695313311560658  1564053102      246     \n",
       "2  PaymentScreenSuccessful  3518123091307005509  1564054127      248     \n",
       "3  CartScreenAppear         3518123091307005509  1564054127      248     \n",
       "4  PaymentScreenSuccessful  6217807653094995999  1564055322      248     \n",
       "\n",
       "              eventdt        date  \n",
       "0 2019-07-25 09:43:36  2019-07-25  \n",
       "1 2019-07-25 16:11:42  2019-07-25  \n",
       "2 2019-07-25 16:28:47  2019-07-25  \n",
       "3 2019-07-25 16:28:47  2019-07-25  \n",
       "4 2019-07-25 16:48:42  2019-07-25  "
      ]
     },
     "execution_count": 12,
     "metadata": {},
     "output_type": "execute_result"
    }
   ],
   "source": [
    "logs.head()"
   ]
  },
  {
   "cell_type": "markdown",
   "metadata": {},
   "source": [
    "**Вывод:**\n",
    "* При предобработке данных заголовки столбцов привели к хорошему стилю и перерименовали;\n",
    "* Пропуски в логах отсутствуют;\n",
    "* Удалили явные дубликаты;\n",
    "* Добавили и преобразовали столбцы с датой и временем;"
   ]
  },
  {
   "cell_type": "markdown",
   "metadata": {},
   "source": [
    "## Изучим и проверим данные"
   ]
  },
  {
   "cell_type": "markdown",
   "metadata": {},
   "source": [
    "### Посчитаем сколько всего событий в логе"
   ]
  },
  {
   "cell_type": "code",
   "execution_count": 13,
   "metadata": {},
   "outputs": [
    {
     "data": {
      "text/plain": [
       "eventname         243713\n",
       "visitorid         243713\n",
       "eventtimestamp    243713\n",
       "group             243713\n",
       "eventdt           243713\n",
       "date              243713\n",
       "dtype: int64"
      ]
     },
     "execution_count": 13,
     "metadata": {},
     "output_type": "execute_result"
    }
   ],
   "source": [
    "logs.count()"
   ]
  },
  {
   "cell_type": "code",
   "execution_count": 14,
   "metadata": {},
   "outputs": [
    {
     "data": {
      "text/plain": [
       "array(['MainScreenAppear', 'PaymentScreenSuccessful', 'CartScreenAppear',\n",
       "       'OffersScreenAppear', 'Tutorial'], dtype=object)"
      ]
     },
     "metadata": {},
     "output_type": "display_data"
    },
    {
     "data": {
      "text/plain": [
       "5"
      ]
     },
     "execution_count": 14,
     "metadata": {},
     "output_type": "execute_result"
    }
   ],
   "source": [
    "display(logs['eventname'].unique())\n",
    "logs['eventname'].nunique()"
   ]
  },
  {
   "cell_type": "markdown",
   "metadata": {},
   "source": [
    "### Посчитаем сколько всего пользователей в логе"
   ]
  },
  {
   "cell_type": "code",
   "execution_count": 15,
   "metadata": {},
   "outputs": [
    {
     "data": {
      "text/plain": [
       "7551"
      ]
     },
     "execution_count": 15,
     "metadata": {},
     "output_type": "execute_result"
    }
   ],
   "source": [
    "visitorid = logs['visitorid'].nunique()\n",
    "visitorid"
   ]
  },
  {
   "cell_type": "markdown",
   "metadata": {},
   "source": [
    "### Посчитаем сколько в среднем событий приходится на пользователя"
   ]
  },
  {
   "cell_type": "code",
   "execution_count": 16,
   "metadata": {},
   "outputs": [
    {
     "data": {
      "text/plain": [
       "eventtimestamp    32.0\n",
       "dtype: float64"
      ]
     },
     "execution_count": 16,
     "metadata": {},
     "output_type": "execute_result"
    }
   ],
   "source": [
    "round(logs.groupby('visitorid').agg({'eventtimestamp':'count'}).mean())"
   ]
  },
  {
   "cell_type": "markdown",
   "metadata": {},
   "source": [
    "### Посмотрим данными за какой период мы располагаем:"
   ]
  },
  {
   "cell_type": "code",
   "execution_count": 17,
   "metadata": {},
   "outputs": [
    {
     "name": "stdout",
     "output_type": "stream",
     "text": [
      "Минимальная дата 2019-07-25\n",
      "Максимальная дата 2019-08-08\n"
     ]
    }
   ],
   "source": [
    "print('Минимальная дата', min(logs['date']))\n",
    "print('Максимальная дата', max(logs['date']))"
   ]
  },
  {
   "cell_type": "code",
   "execution_count": 18,
   "metadata": {},
   "outputs": [
    {
     "data": {
      "image/png": "[encoded data removed]",
      "text/plain": [
       "<Figure size 1600x1000 with 1 Axes>"
      ]
     },
     "metadata": {},
     "output_type": "display_data"
    }
   ],
   "source": [
    "plt.figure(figsize=(16, 10))\n",
    "logs['eventdt'].hist()\n",
    "plt.title('Гистограмма по количеству событий отностительно даты')\n",
    "plt.xlabel('Дата')\n",
    "plt.ylabel('Количество событий')\n",
    "plt.show()"
   ]
  },
  {
   "cell_type": "markdown",
   "metadata": {},
   "source": [
    "* По гистограмме видим что данные полные за период с 01.08.2019 по 07.08.2019"
   ]
  },
  {
   "cell_type": "markdown",
   "metadata": {},
   "source": [
    "### Отбросим старые данные и посчитаем количество \"событий из прошлого\""
   ]
  },
  {
   "cell_type": "code",
   "execution_count": 19,
   "metadata": {},
   "outputs": [
    {
     "data": {
      "text/plain": [
       "1868"
      ]
     },
     "execution_count": 19,
     "metadata": {},
     "output_type": "execute_result"
    }
   ],
   "source": [
    "logs[logs['date'] < datetime(2019, 8, 1).date()]['date'].count()"
   ]
  },
  {
   "cell_type": "code",
   "execution_count": 20,
   "metadata": {},
   "outputs": [],
   "source": [
    "logs = logs[logs['date'] >= datetime(2019, 8, 1).date()]"
   ]
  },
  {
   "cell_type": "code",
   "execution_count": 21,
   "metadata": {},
   "outputs": [
    {
     "data": {
      "text/plain": [
       "12"
      ]
     },
     "execution_count": 21,
     "metadata": {},
     "output_type": "execute_result"
    }
   ],
   "source": [
    "# Считаем потери уникальных пользователей\n",
    "visitorid - logs['visitorid'].nunique()"
   ]
  },
  {
   "cell_type": "markdown",
   "metadata": {},
   "source": [
    "### Проверим, что у нас есть пользователи из всех трёх экспериментальных групп."
   ]
  },
  {
   "cell_type": "code",
   "execution_count": 22,
   "metadata": {
    "scrolled": true
   },
   "outputs": [
    {
     "data": {
      "text/html": [
       "<div>\n",
       "<style scoped>\n",
       "    .dataframe tbody tr th:only-of-type {\n",
       "        vertical-align: middle;\n",
       "    }\n",
       "\n",
       "    .dataframe tbody tr th {\n",
       "        vertical-align: top;\n",
       "    }\n",
       "\n",
       "    .dataframe thead th {\n",
       "        text-align: right;\n",
       "    }\n",
       "</style>\n",
       "<table border=\"1\" class=\"dataframe\">\n",
       "  <thead>\n",
       "    <tr style=\"text-align: right;\">\n",
       "      <th></th>\n",
       "      <th>eventname</th>\n",
       "    </tr>\n",
       "    <tr>\n",
       "      <th>group</th>\n",
       "      <th></th>\n",
       "    </tr>\n",
       "  </thead>\n",
       "  <tbody>\n",
       "    <tr>\n",
       "      <th>246</th>\n",
       "      <td>79591</td>\n",
       "    </tr>\n",
       "    <tr>\n",
       "      <th>247</th>\n",
       "      <td>77339</td>\n",
       "    </tr>\n",
       "    <tr>\n",
       "      <th>248</th>\n",
       "      <td>84915</td>\n",
       "    </tr>\n",
       "  </tbody>\n",
       "</table>\n",
       "</div>"
      ],
      "text/plain": [
       "       eventname\n",
       "group           \n",
       "246    79591    \n",
       "247    77339    \n",
       "248    84915    "
      ]
     },
     "execution_count": 22,
     "metadata": {},
     "output_type": "execute_result"
    }
   ],
   "source": [
    "logs.groupby('group').agg({'eventname':'count'})"
   ]
  },
  {
   "cell_type": "markdown",
   "metadata": {},
   "source": [
    "**Вывод:**\n",
    "* В логе всего 5 событий: 'MainScreenAppear', 'PaymentScreenSuccessful', 'CartScreenAppear', 'OffersScreenAppear', 'Tutorial';\n",
    "* На одного пользователя в среднем приходится 32 события;\n",
    "* В нашем распоряжении данные с 25.07.2019 по 07.08.2019;\n",
    "* Было всего 2826 событий и 17 пользователей за период с 25.07.2019 по 01.08.2019 - исключили их из анализа, т.к. есть сомнения по поводу полноты данных за этот период;\n",
    "* В базе есть данные по всем трем экпериментальным группам;"
   ]
  },
  {
   "cell_type": "markdown",
   "metadata": {},
   "source": [
    "##  Изучим воронку событий"
   ]
  },
  {
   "cell_type": "markdown",
   "metadata": {},
   "source": [
    "### Посмотрим, какие события есть в логах, как часто они встречаются. Отсортируем события по частоте"
   ]
  },
  {
   "cell_type": "code",
   "execution_count": 23,
   "metadata": {},
   "outputs": [
    {
     "data": {
      "text/html": [
       "<div>\n",
       "<style scoped>\n",
       "    .dataframe tbody tr th:only-of-type {\n",
       "        vertical-align: middle;\n",
       "    }\n",
       "\n",
       "    .dataframe tbody tr th {\n",
       "        vertical-align: top;\n",
       "    }\n",
       "\n",
       "    .dataframe thead th {\n",
       "        text-align: right;\n",
       "    }\n",
       "</style>\n",
       "<table border=\"1\" class=\"dataframe\">\n",
       "  <thead>\n",
       "    <tr style=\"text-align: right;\">\n",
       "      <th></th>\n",
       "      <th>date</th>\n",
       "    </tr>\n",
       "    <tr>\n",
       "      <th>eventname</th>\n",
       "      <th></th>\n",
       "    </tr>\n",
       "  </thead>\n",
       "  <tbody>\n",
       "    <tr>\n",
       "      <th>MainScreenAppear</th>\n",
       "      <td>117955</td>\n",
       "    </tr>\n",
       "    <tr>\n",
       "      <th>OffersScreenAppear</th>\n",
       "      <td>46559</td>\n",
       "    </tr>\n",
       "    <tr>\n",
       "      <th>CartScreenAppear</th>\n",
       "      <td>42361</td>\n",
       "    </tr>\n",
       "    <tr>\n",
       "      <th>PaymentScreenSuccessful</th>\n",
       "      <td>33960</td>\n",
       "    </tr>\n",
       "    <tr>\n",
       "      <th>Tutorial</th>\n",
       "      <td>1010</td>\n",
       "    </tr>\n",
       "  </tbody>\n",
       "</table>\n",
       "</div>"
      ],
      "text/plain": [
       "                           date\n",
       "eventname                      \n",
       "MainScreenAppear         117955\n",
       "OffersScreenAppear       46559 \n",
       "CartScreenAppear         42361 \n",
       "PaymentScreenSuccessful  33960 \n",
       "Tutorial                 1010  "
      ]
     },
     "metadata": {},
     "output_type": "display_data"
    },
    {
     "data": {
      "image/png": "[encoded data removed]",
      "text/plain": [
       "<Figure size 1600x1000 with 1 Axes>"
      ]
     },
     "metadata": {},
     "output_type": "display_data"
    }
   ],
   "source": [
    "data = logs.groupby('eventname').agg({'date':'count'}).sort_values(by = 'date', ascending = False)\n",
    "display(data)\n",
    "plt.figure(figsize=(16, 10))\n",
    "(sns.barplot(data = data, y = 'date', x = data.index)\n",
    "    .set(title = 'Количество событий в логах', xlabel = 'Событие', ylabel = 'Количество событий'))\n",
    "plt.show()"
   ]
  },
  {
   "cell_type": "markdown",
   "metadata": {},
   "source": [
    "### Посчитаем, сколько пользователей совершали каждое из этих событий. Отсортируем события по числу пользователей. Посчитаем долю пользователей, которые хоть раз совершали событие."
   ]
  },
  {
   "cell_type": "code",
   "execution_count": 24,
   "metadata": {},
   "outputs": [
    {
     "data": {
      "text/html": [
       "<div>\n",
       "<style scoped>\n",
       "    .dataframe tbody tr th:only-of-type {\n",
       "        vertical-align: middle;\n",
       "    }\n",
       "\n",
       "    .dataframe tbody tr th {\n",
       "        vertical-align: top;\n",
       "    }\n",
       "\n",
       "    .dataframe thead th {\n",
       "        text-align: right;\n",
       "    }\n",
       "</style>\n",
       "<table border=\"1\" class=\"dataframe\">\n",
       "  <thead>\n",
       "    <tr style=\"text-align: right;\">\n",
       "      <th></th>\n",
       "      <th>visitorid</th>\n",
       "    </tr>\n",
       "    <tr>\n",
       "      <th>eventname</th>\n",
       "      <th></th>\n",
       "    </tr>\n",
       "  </thead>\n",
       "  <tbody>\n",
       "    <tr>\n",
       "      <th>MainScreenAppear</th>\n",
       "      <td>7424</td>\n",
       "    </tr>\n",
       "    <tr>\n",
       "      <th>OffersScreenAppear</th>\n",
       "      <td>4599</td>\n",
       "    </tr>\n",
       "    <tr>\n",
       "      <th>CartScreenAppear</th>\n",
       "      <td>3736</td>\n",
       "    </tr>\n",
       "    <tr>\n",
       "      <th>PaymentScreenSuccessful</th>\n",
       "      <td>3540</td>\n",
       "    </tr>\n",
       "    <tr>\n",
       "      <th>Tutorial</th>\n",
       "      <td>843</td>\n",
       "    </tr>\n",
       "  </tbody>\n",
       "</table>\n",
       "</div>"
      ],
      "text/plain": [
       "                         visitorid\n",
       "eventname                         \n",
       "MainScreenAppear         7424     \n",
       "OffersScreenAppear       4599     \n",
       "CartScreenAppear         3736     \n",
       "PaymentScreenSuccessful  3540     \n",
       "Tutorial                 843      "
      ]
     },
     "execution_count": 24,
     "metadata": {},
     "output_type": "execute_result"
    }
   ],
   "source": [
    "data = logs.groupby('eventname').agg({'visitorid':'nunique'}).sort_values(by = 'visitorid', ascending = False)\n",
    "data"
   ]
  },
  {
   "cell_type": "code",
   "execution_count": 25,
   "metadata": {},
   "outputs": [
    {
     "data": {
      "text/plain": [
       "7539"
      ]
     },
     "execution_count": 25,
     "metadata": {},
     "output_type": "execute_result"
    }
   ],
   "source": [
    "sum_visitors = logs['visitorid'].nunique()\n",
    "sum_visitors"
   ]
  },
  {
   "cell_type": "code",
   "execution_count": 26,
   "metadata": {
    "scrolled": true
   },
   "outputs": [
    {
     "data": {
      "text/html": [
       "<div>\n",
       "<style scoped>\n",
       "    .dataframe tbody tr th:only-of-type {\n",
       "        vertical-align: middle;\n",
       "    }\n",
       "\n",
       "    .dataframe tbody tr th {\n",
       "        vertical-align: top;\n",
       "    }\n",
       "\n",
       "    .dataframe thead th {\n",
       "        text-align: right;\n",
       "    }\n",
       "</style>\n",
       "<table border=\"1\" class=\"dataframe\">\n",
       "  <thead>\n",
       "    <tr style=\"text-align: right;\">\n",
       "      <th></th>\n",
       "      <th>visitorid</th>\n",
       "      <th>percent</th>\n",
       "    </tr>\n",
       "    <tr>\n",
       "      <th>eventname</th>\n",
       "      <th></th>\n",
       "      <th></th>\n",
       "    </tr>\n",
       "  </thead>\n",
       "  <tbody>\n",
       "    <tr>\n",
       "      <th>MainScreenAppear</th>\n",
       "      <td>7424</td>\n",
       "      <td>98.0</td>\n",
       "    </tr>\n",
       "    <tr>\n",
       "      <th>OffersScreenAppear</th>\n",
       "      <td>4599</td>\n",
       "      <td>61.0</td>\n",
       "    </tr>\n",
       "    <tr>\n",
       "      <th>CartScreenAppear</th>\n",
       "      <td>3736</td>\n",
       "      <td>50.0</td>\n",
       "    </tr>\n",
       "    <tr>\n",
       "      <th>PaymentScreenSuccessful</th>\n",
       "      <td>3540</td>\n",
       "      <td>47.0</td>\n",
       "    </tr>\n",
       "    <tr>\n",
       "      <th>Tutorial</th>\n",
       "      <td>843</td>\n",
       "      <td>11.0</td>\n",
       "    </tr>\n",
       "  </tbody>\n",
       "</table>\n",
       "</div>"
      ],
      "text/plain": [
       "                         visitorid  percent\n",
       "eventname                                  \n",
       "MainScreenAppear         7424       98.0   \n",
       "OffersScreenAppear       4599       61.0   \n",
       "CartScreenAppear         3736       50.0   \n",
       "PaymentScreenSuccessful  3540       47.0   \n",
       "Tutorial                 843        11.0   "
      ]
     },
     "execution_count": 26,
     "metadata": {},
     "output_type": "execute_result"
    }
   ],
   "source": [
    "data['percent'] = round((data['visitorid']/sum_visitors)*100)\n",
    "data"
   ]
  },
  {
   "cell_type": "code",
   "execution_count": 27,
   "metadata": {},
   "outputs": [
    {
     "data": {
      "image/png": "[encoded data removed]",
      "text/plain": [
       "<Figure size 1600x1000 with 1 Axes>"
      ]
     },
     "metadata": {},
     "output_type": "display_data"
    }
   ],
   "source": [
    "data = data[data.index != 'Tutorial']\n",
    "plt.figure(figsize=(16, 10))\n",
    "(sns.barplot(data = data, y = 'visitorid', x = data.index)\n",
    "    .set(title = 'Количество пользователей по событиям', xlabel = 'Событие', ylabel = 'Количество пользователей'))\n",
    "plt.show()"
   ]
  },
  {
   "cell_type": "markdown",
   "metadata": {},
   "source": [
    "### Порядок в котором происходят события"
   ]
  },
  {
   "cell_type": "markdown",
   "metadata": {},
   "source": [
    "Посмотрев воронку событий и количество пользователей по кадому событию можно предположитьчто порядок событий такой:\n",
    "1. MainScreenAppear\t(Появится главный экран);\n",
    "2. OffersScreenAppear (Появится экран предложений);\n",
    "3. CartScreenAppear\t(Появится экран корзины);\n",
    "4. PaymentScreenSuccessful (Экран оплаты прошел успешно).\n",
    "\n",
    "Событие Tutorial (Руководство) - не обязательное, к нему обращаются пользователи для получения подсказок в ходе покупки. Но надо будет проверить смогли ли пользователи после обращения к подсказке продолжить покупку.\n",
    "\n",
    "98% от всех пользователей приходят на главный экран, 61% на экран предложений, 50% переходят на экран корзины, 47% на экран оплаты прошел успешно и только 11% заходят в руководство"
   ]
  },
  {
   "cell_type": "markdown",
   "metadata": {},
   "source": [
    "### По воронке событий посчитаем, какая доля пользователей проходит на следующий шаг воронки (от числа пользователей на предыдущем). То есть для последовательности событий A → B → C посчитаем отношение числа пользователей с событием B к количеству пользователей с событием A, а также отношение числа пользователей с событием C к количеству пользователей с событием B."
   ]
  },
  {
   "cell_type": "code",
   "execution_count": 28,
   "metadata": {},
   "outputs": [],
   "source": [
    "data = logs.groupby('eventname').agg({'visitorid':'nunique'}).sort_values(by = 'visitorid', ascending = False).reset_index()"
   ]
  },
  {
   "cell_type": "code",
   "execution_count": 29,
   "metadata": {},
   "outputs": [],
   "source": [
    "data.columns = ['eventname','count_visitors']"
   ]
  },
  {
   "cell_type": "code",
   "execution_count": 30,
   "metadata": {},
   "outputs": [],
   "source": [
    "# исключаем из воронки Tutorial\n",
    "data = data[data['eventname'] != 'Tutorial']\n",
    "data['fraction'] = data['count_visitors']\n",
    "logs = logs[logs['eventname'] != 'Tutorial']"
   ]
  },
  {
   "cell_type": "code",
   "execution_count": 31,
   "metadata": {},
   "outputs": [],
   "source": [
    "for i in data.index:\n",
    "    try:        \n",
    "        if i == 0:\n",
    "            data.loc[i, 'fraction'] = 0\n",
    "        else:\n",
    "            data.loc[i, 'fraction'] = round((data['count_visitors'][i]/data['count_visitors'][i-1])*100)\n",
    "    except:\n",
    "        pass"
   ]
  },
  {
   "cell_type": "code",
   "execution_count": 32,
   "metadata": {},
   "outputs": [
    {
     "data": {
      "text/html": [
       "<div>\n",
       "<style scoped>\n",
       "    .dataframe tbody tr th:only-of-type {\n",
       "        vertical-align: middle;\n",
       "    }\n",
       "\n",
       "    .dataframe tbody tr th {\n",
       "        vertical-align: top;\n",
       "    }\n",
       "\n",
       "    .dataframe thead th {\n",
       "        text-align: right;\n",
       "    }\n",
       "</style>\n",
       "<table border=\"1\" class=\"dataframe\">\n",
       "  <thead>\n",
       "    <tr style=\"text-align: right;\">\n",
       "      <th></th>\n",
       "      <th>eventname</th>\n",
       "      <th>count_visitors</th>\n",
       "      <th>fraction</th>\n",
       "    </tr>\n",
       "  </thead>\n",
       "  <tbody>\n",
       "    <tr>\n",
       "      <th>0</th>\n",
       "      <td>MainScreenAppear</td>\n",
       "      <td>7424</td>\n",
       "      <td>0</td>\n",
       "    </tr>\n",
       "    <tr>\n",
       "      <th>1</th>\n",
       "      <td>OffersScreenAppear</td>\n",
       "      <td>4599</td>\n",
       "      <td>62</td>\n",
       "    </tr>\n",
       "    <tr>\n",
       "      <th>2</th>\n",
       "      <td>CartScreenAppear</td>\n",
       "      <td>3736</td>\n",
       "      <td>81</td>\n",
       "    </tr>\n",
       "    <tr>\n",
       "      <th>3</th>\n",
       "      <td>PaymentScreenSuccessful</td>\n",
       "      <td>3540</td>\n",
       "      <td>95</td>\n",
       "    </tr>\n",
       "  </tbody>\n",
       "</table>\n",
       "</div>"
      ],
      "text/plain": [
       "                 eventname  count_visitors  fraction\n",
       "0  MainScreenAppear         7424            0       \n",
       "1  OffersScreenAppear       4599            62      \n",
       "2  CartScreenAppear         3736            81      \n",
       "3  PaymentScreenSuccessful  3540            95      "
      ]
     },
     "execution_count": 32,
     "metadata": {},
     "output_type": "execute_result"
    }
   ],
   "source": [
    "data"
   ]
  },
  {
   "cell_type": "code",
   "execution_count": 33,
   "metadata": {},
   "outputs": [
    {
     "data": {
      "text/plain": [
       "48"
      ]
     },
     "execution_count": 33,
     "metadata": {},
     "output_type": "execute_result"
    }
   ],
   "source": [
    "# считаем сколько пользователей доходит от первого события до оплаты\n",
    "round((data['count_visitors'][3]/data['count_visitors'][0])*100)"
   ]
  },
  {
   "cell_type": "markdown",
   "metadata": {},
   "source": [
    "**Вывод:**\n",
    "\n",
    "* Больше всего пользователей теряются между первым и вторым этапом ~ 39%;\n",
    "* До события оплата доходит 48 % пользователей от первого события;"
   ]
  },
  {
   "cell_type": "markdown",
   "metadata": {},
   "source": [
    "## Изучим результаты эксперимента"
   ]
  },
  {
   "cell_type": "markdown",
   "metadata": {},
   "source": [
    "### Посмотрим сколько пользователей в каждой экспериментальной группе"
   ]
  },
  {
   "cell_type": "code",
   "execution_count": 34,
   "metadata": {},
   "outputs": [
    {
     "data": {
      "text/html": [
       "<div>\n",
       "<style scoped>\n",
       "    .dataframe tbody tr th:only-of-type {\n",
       "        vertical-align: middle;\n",
       "    }\n",
       "\n",
       "    .dataframe tbody tr th {\n",
       "        vertical-align: top;\n",
       "    }\n",
       "\n",
       "    .dataframe thead th {\n",
       "        text-align: right;\n",
       "    }\n",
       "</style>\n",
       "<table border=\"1\" class=\"dataframe\">\n",
       "  <thead>\n",
       "    <tr style=\"text-align: right;\">\n",
       "      <th></th>\n",
       "      <th>eventname</th>\n",
       "      <th>visitorid</th>\n",
       "      <th>eventtimestamp</th>\n",
       "      <th>group</th>\n",
       "      <th>eventdt</th>\n",
       "      <th>date</th>\n",
       "    </tr>\n",
       "  </thead>\n",
       "  <tbody>\n",
       "    <tr>\n",
       "      <th>1869</th>\n",
       "      <td>MainScreenAppear</td>\n",
       "      <td>5522310194885794315</td>\n",
       "      <td>1564599640</td>\n",
       "      <td>247</td>\n",
       "      <td>2019-08-01 00:00:40</td>\n",
       "      <td>2019-08-01</td>\n",
       "    </tr>\n",
       "    <tr>\n",
       "      <th>1870</th>\n",
       "      <td>MainScreenAppear</td>\n",
       "      <td>3211698728226180240</td>\n",
       "      <td>1564599646</td>\n",
       "      <td>247</td>\n",
       "      <td>2019-08-01 00:00:46</td>\n",
       "      <td>2019-08-01</td>\n",
       "    </tr>\n",
       "    <tr>\n",
       "      <th>1871</th>\n",
       "      <td>MainScreenAppear</td>\n",
       "      <td>1390588986616082110</td>\n",
       "      <td>1564599680</td>\n",
       "      <td>247</td>\n",
       "      <td>2019-08-01 00:01:20</td>\n",
       "      <td>2019-08-01</td>\n",
       "    </tr>\n",
       "    <tr>\n",
       "      <th>1872</th>\n",
       "      <td>MainScreenAppear</td>\n",
       "      <td>5522310194885794315</td>\n",
       "      <td>1564599749</td>\n",
       "      <td>247</td>\n",
       "      <td>2019-08-01 00:02:29</td>\n",
       "      <td>2019-08-01</td>\n",
       "    </tr>\n",
       "    <tr>\n",
       "      <th>1873</th>\n",
       "      <td>OffersScreenAppear</td>\n",
       "      <td>5476114506218237691</td>\n",
       "      <td>1564599827</td>\n",
       "      <td>247</td>\n",
       "      <td>2019-08-01 00:03:47</td>\n",
       "      <td>2019-08-01</td>\n",
       "    </tr>\n",
       "  </tbody>\n",
       "</table>\n",
       "</div>"
      ],
      "text/plain": [
       "               eventname            visitorid  eventtimestamp  group  \\\n",
       "1869  MainScreenAppear    5522310194885794315  1564599640      247     \n",
       "1870  MainScreenAppear    3211698728226180240  1564599646      247     \n",
       "1871  MainScreenAppear    1390588986616082110  1564599680      247     \n",
       "1872  MainScreenAppear    5522310194885794315  1564599749      247     \n",
       "1873  OffersScreenAppear  5476114506218237691  1564599827      247     \n",
       "\n",
       "                 eventdt        date  \n",
       "1869 2019-08-01 00:00:40  2019-08-01  \n",
       "1870 2019-08-01 00:00:46  2019-08-01  \n",
       "1871 2019-08-01 00:01:20  2019-08-01  \n",
       "1872 2019-08-01 00:02:29  2019-08-01  \n",
       "1873 2019-08-01 00:03:47  2019-08-01  "
      ]
     },
     "execution_count": 34,
     "metadata": {},
     "output_type": "execute_result"
    }
   ],
   "source": [
    "logs.head()"
   ]
  },
  {
   "cell_type": "code",
   "execution_count": 35,
   "metadata": {},
   "outputs": [
    {
     "data": {
      "text/html": [
       "<div>\n",
       "<style scoped>\n",
       "    .dataframe tbody tr th:only-of-type {\n",
       "        vertical-align: middle;\n",
       "    }\n",
       "\n",
       "    .dataframe tbody tr th {\n",
       "        vertical-align: top;\n",
       "    }\n",
       "\n",
       "    .dataframe thead th {\n",
       "        text-align: right;\n",
       "    }\n",
       "</style>\n",
       "<table border=\"1\" class=\"dataframe\">\n",
       "  <thead>\n",
       "    <tr style=\"text-align: right;\">\n",
       "      <th></th>\n",
       "      <th>visitorid</th>\n",
       "    </tr>\n",
       "    <tr>\n",
       "      <th>group</th>\n",
       "      <th></th>\n",
       "    </tr>\n",
       "  </thead>\n",
       "  <tbody>\n",
       "    <tr>\n",
       "      <th>246</th>\n",
       "      <td>2483</td>\n",
       "    </tr>\n",
       "    <tr>\n",
       "      <th>247</th>\n",
       "      <td>2516</td>\n",
       "    </tr>\n",
       "    <tr>\n",
       "      <th>248</th>\n",
       "      <td>2536</td>\n",
       "    </tr>\n",
       "  </tbody>\n",
       "</table>\n",
       "</div>"
      ],
      "text/plain": [
       "       visitorid\n",
       "group           \n",
       "246    2483     \n",
       "247    2516     \n",
       "248    2536     "
      ]
     },
     "execution_count": 35,
     "metadata": {},
     "output_type": "execute_result"
    }
   ],
   "source": [
    "logs.groupby('group').agg({'visitorid':'nunique'})"
   ]
  },
  {
   "cell_type": "code",
   "execution_count": 36,
   "metadata": {},
   "outputs": [
    {
     "data": {
      "text/plain": [
       "group    0\n",
       "dtype: int64"
      ]
     },
     "execution_count": 36,
     "metadata": {},
     "output_type": "execute_result"
    }
   ],
   "source": [
    "# проверяем есть ли пользователи которые попали в 2 и более группы\n",
    "logs.groupby('visitorid').agg({'group':'nunique'}).query('group > 1').count()"
   ]
  },
  {
   "cell_type": "markdown",
   "metadata": {},
   "source": [
    "### Проверьте, находят ли статистические критерии разницу между выборками 246 и 247"
   ]
  },
  {
   "cell_type": "markdown",
   "metadata": {},
   "source": [
    "Построим сводную таблицу по событию, группе и количеству уникальных пользователей:"
   ]
  },
  {
   "cell_type": "code",
   "execution_count": 37,
   "metadata": {},
   "outputs": [
    {
     "data": {
      "text/html": [
       "<div>\n",
       "<style scoped>\n",
       "    .dataframe tbody tr th:only-of-type {\n",
       "        vertical-align: middle;\n",
       "    }\n",
       "\n",
       "    .dataframe tbody tr th {\n",
       "        vertical-align: top;\n",
       "    }\n",
       "\n",
       "    .dataframe thead th {\n",
       "        text-align: right;\n",
       "    }\n",
       "</style>\n",
       "<table border=\"1\" class=\"dataframe\">\n",
       "  <thead>\n",
       "    <tr style=\"text-align: right;\">\n",
       "      <th>group</th>\n",
       "      <th>eventname</th>\n",
       "      <th>246</th>\n",
       "      <th>247</th>\n",
       "      <th>248</th>\n",
       "    </tr>\n",
       "  </thead>\n",
       "  <tbody>\n",
       "    <tr>\n",
       "      <th>0</th>\n",
       "      <td>MainScreenAppear</td>\n",
       "      <td>2450</td>\n",
       "      <td>2479</td>\n",
       "      <td>2495</td>\n",
       "    </tr>\n",
       "    <tr>\n",
       "      <th>1</th>\n",
       "      <td>OffersScreenAppear</td>\n",
       "      <td>1542</td>\n",
       "      <td>1525</td>\n",
       "      <td>1532</td>\n",
       "    </tr>\n",
       "    <tr>\n",
       "      <th>2</th>\n",
       "      <td>CartScreenAppear</td>\n",
       "      <td>1266</td>\n",
       "      <td>1239</td>\n",
       "      <td>1231</td>\n",
       "    </tr>\n",
       "    <tr>\n",
       "      <th>3</th>\n",
       "      <td>PaymentScreenSuccessful</td>\n",
       "      <td>1200</td>\n",
       "      <td>1158</td>\n",
       "      <td>1182</td>\n",
       "    </tr>\n",
       "  </tbody>\n",
       "</table>\n",
       "</div>"
      ],
      "text/plain": [
       "group                eventname   246   247   248\n",
       "0      MainScreenAppear         2450  2479  2495\n",
       "1      OffersScreenAppear       1542  1525  1532\n",
       "2      CartScreenAppear         1266  1239  1231\n",
       "3      PaymentScreenSuccessful  1200  1158  1182"
      ]
     },
     "execution_count": 37,
     "metadata": {},
     "output_type": "execute_result"
    }
   ],
   "source": [
    "event_per_groups = logs.pivot_table(index = 'eventname',columns = 'group',values = 'visitorid', aggfunc = 'nunique')\\\n",
    ".sort_values(by = 246, ascending = False).reset_index()\n",
    "event_per_groups"
   ]
  },
  {
   "cell_type": "markdown",
   "metadata": {},
   "source": [
    "**Сделаем функцию для проверки гипотезы о равенстве долей для двух групп:**\n",
    "\n",
    "* event_1 - количество пользователей совершивших действие в 1 группе\n",
    "\n",
    "* event_2 - количество пользователей совершивших действие в 2 группе\n",
    "\n",
    "* total_1 - количество пользователей всего в 1 группе\n",
    "\n",
    "* total_2 - количество пользователей всего во 2 группе\n",
    "\n",
    "* alpha - критический уровень статистической значимости"
   ]
  },
  {
   "cell_type": "code",
   "execution_count": 38,
   "metadata": {},
   "outputs": [],
   "source": [
    "def z_test_value(event_1, event_2, total_1, total_2, alpha):\n",
    "    # доля успешных действий в 1 группе\n",
    "    share_1 = event_1/total_1\n",
    "    # доля успешных действий во 2 группе\n",
    "    share_2 = event_2/total_2\n",
    "    # комбинированная доля\n",
    "    share_combined = (event_1 + event_2)/(total_1 + total_2)\n",
    "    # разница в долях между группами\n",
    "    diff = share_1 - share_2\n",
    "    # считаем статистику в ст.отклонениях стандартного нормального распределения\n",
    "    z_value = diff/(share_combined *(1-share_combined)*(1/total_1 + 1/total_2))**0.5\n",
    "    # задаем стандартное нормальное распределение (среднее 0, ст.отклонение 1)\n",
    "    dist = stats.norm(0,1)\n",
    "    # считаем p-value\n",
    "    p_value = (1 - dist.cdf(abs(z_value))) * 2\n",
    "    print('p-значение: ', p_value)\n",
    "\n",
    "    if p_value < alpha:\n",
    "        print('Отвергаем нулевую гипотезу: между долями есть значимая разница')\n",
    "    else:\n",
    "        print('Не получилось отвергнуть нулевую гипотезу, нет оснований считать доли разными') "
   ]
  },
  {
   "cell_type": "markdown",
   "metadata": {},
   "source": [
    "Сформулируем гипотезы и проведем `z-test` по каждому событию групп 246 и 247"
   ]
  },
  {
   "cell_type": "markdown",
   "metadata": {},
   "source": [
    "Гипотезы:\n",
    "**Нулевая: Статистических различий в долях между группами 246 и 247, по событию MainScreenAppear, нет.** \n",
    "\n",
    "**Альтернативная: Статистические различия в долях между группами 246 и 247, по событию MainScreenAppear, есть.**\n",
    "\n",
    "**alpha = 0.05**"
   ]
  },
  {
   "cell_type": "code",
   "execution_count": 39,
   "metadata": {},
   "outputs": [
    {
     "name": "stdout",
     "output_type": "stream",
     "text": [
      "p-значение:  0.35637224236778686\n",
      "Не получилось отвергнуть нулевую гипотезу, нет оснований считать доли разными\n"
     ]
    }
   ],
   "source": [
    "event_246 = event_per_groups.loc[0, 246]\n",
    "event_247 = event_per_groups.loc[0, 247]\n",
    "total_246 = event_per_groups[246].sum()\n",
    "total_247 = event_per_groups[247].sum()\n",
    "alpha = 0.05\n",
    "z_test_value(event_246, event_247, total_246, total_247, alpha)"
   ]
  },
  {
   "cell_type": "markdown",
   "metadata": {},
   "source": [
    "\n",
    "**Нулевая: Статистических различий в долях между группами 246 и 247, по событию OffersScreenAppear, нет.** \n",
    "\n",
    "**Альтернативная: Статистические различия в долях между группами 246 и 247, по событию OffersScreenAppear, есть**\n",
    "\n",
    "**alpha = 0.05**"
   ]
  },
  {
   "cell_type": "code",
   "execution_count": 40,
   "metadata": {},
   "outputs": [
    {
     "name": "stdout",
     "output_type": "stream",
     "text": [
      "p-значение:  0.9438300063525629\n",
      "Не получилось отвергнуть нулевую гипотезу, нет оснований считать доли разными\n"
     ]
    }
   ],
   "source": [
    "event_246 = event_per_groups.loc[1, 246]\n",
    "event_247 = event_per_groups.loc[1, 247]\n",
    "alpha = 0.05\n",
    "z_test_value(event_246, event_247, total_246, total_247, alpha)"
   ]
  },
  {
   "cell_type": "markdown",
   "metadata": {},
   "source": [
    "**Нулевая: Статистических различий в долях между группами 246 и 247, по событию CartScreenAppear, нет.** \n",
    "\n",
    "**Альтернативная: Статистические различия в долях между группами 246 и 247, по событию CartScreenAppear, есть.**\n",
    "\n",
    "**alpha = 0.05**"
   ]
  },
  {
   "cell_type": "code",
   "execution_count": 41,
   "metadata": {},
   "outputs": [
    {
     "name": "stdout",
     "output_type": "stream",
     "text": [
      "p-значение:  0.7233771516281546\n",
      "Не получилось отвергнуть нулевую гипотезу, нет оснований считать доли разными\n"
     ]
    }
   ],
   "source": [
    "event_246 = event_per_groups.loc[2, 246]\n",
    "event_247 = event_per_groups.loc[2, 247]\n",
    "alpha = 0.05\n",
    "z_test_value(event_246, event_247, total_246, total_247, alpha)"
   ]
  },
  {
   "cell_type": "markdown",
   "metadata": {},
   "source": [
    "**Нулевая: Статистических различий в долях между группами 246 и 247, по событию PaymentScreenSuccessful, нет.** \n",
    "\n",
    "**Альтернативная: Статистические различия в долях между группами 246 и 247, по событию PaymentScreenSuccessful, есть.**\n",
    "\n",
    "**alpha = 0.05**"
   ]
  },
  {
   "cell_type": "code",
   "execution_count": 42,
   "metadata": {},
   "outputs": [
    {
     "name": "stdout",
     "output_type": "stream",
     "text": [
      "p-значение:  0.47218214802805614\n",
      "Не получилось отвергнуть нулевую гипотезу, нет оснований считать доли разными\n"
     ]
    }
   ],
   "source": [
    "event_246 = event_per_groups.loc[3, 246]\n",
    "event_247 = event_per_groups.loc[3, 247]\n",
    "alpha = 0.05\n",
    "z_test_value(event_246, event_247, total_246, total_247, alpha)"
   ]
  },
  {
   "cell_type": "markdown",
   "metadata": {},
   "source": [
    "**Вывод:**\n",
    "* Статистически значимой разницы между группами 246 и 247 - нет, значит на результаты исследования не влияют внешние факторы которые мы не учли."
   ]
  },
  {
   "cell_type": "markdown",
   "metadata": {},
   "source": [
    "### Сравним результаты каждой из контрольных групп в отдельности по каждому событию с экспериментальной группой. А так же экспериментальную группу с объединённой контрольной группой"
   ]
  },
  {
   "cell_type": "markdown",
   "metadata": {},
   "source": [
    "Для начала добавим в сводную таблицу `event_per_groups` столбец с объединенной контрольной группой"
   ]
  },
  {
   "cell_type": "code",
   "execution_count": 43,
   "metadata": {},
   "outputs": [],
   "source": [
    "event_per_groups['246_247'] = event_per_groups[246] + event_per_groups[247]"
   ]
  },
  {
   "cell_type": "code",
   "execution_count": 44,
   "metadata": {},
   "outputs": [
    {
     "data": {
      "text/html": [
       "<div>\n",
       "<style scoped>\n",
       "    .dataframe tbody tr th:only-of-type {\n",
       "        vertical-align: middle;\n",
       "    }\n",
       "\n",
       "    .dataframe tbody tr th {\n",
       "        vertical-align: top;\n",
       "    }\n",
       "\n",
       "    .dataframe thead th {\n",
       "        text-align: right;\n",
       "    }\n",
       "</style>\n",
       "<table border=\"1\" class=\"dataframe\">\n",
       "  <thead>\n",
       "    <tr style=\"text-align: right;\">\n",
       "      <th>group</th>\n",
       "      <th>eventname</th>\n",
       "      <th>246</th>\n",
       "      <th>247</th>\n",
       "      <th>248</th>\n",
       "      <th>246_247</th>\n",
       "    </tr>\n",
       "  </thead>\n",
       "  <tbody>\n",
       "    <tr>\n",
       "      <th>0</th>\n",
       "      <td>MainScreenAppear</td>\n",
       "      <td>2450</td>\n",
       "      <td>2479</td>\n",
       "      <td>2495</td>\n",
       "      <td>4929</td>\n",
       "    </tr>\n",
       "    <tr>\n",
       "      <th>1</th>\n",
       "      <td>OffersScreenAppear</td>\n",
       "      <td>1542</td>\n",
       "      <td>1525</td>\n",
       "      <td>1532</td>\n",
       "      <td>3067</td>\n",
       "    </tr>\n",
       "    <tr>\n",
       "      <th>2</th>\n",
       "      <td>CartScreenAppear</td>\n",
       "      <td>1266</td>\n",
       "      <td>1239</td>\n",
       "      <td>1231</td>\n",
       "      <td>2505</td>\n",
       "    </tr>\n",
       "    <tr>\n",
       "      <th>3</th>\n",
       "      <td>PaymentScreenSuccessful</td>\n",
       "      <td>1200</td>\n",
       "      <td>1158</td>\n",
       "      <td>1182</td>\n",
       "      <td>2358</td>\n",
       "    </tr>\n",
       "  </tbody>\n",
       "</table>\n",
       "</div>"
      ],
      "text/plain": [
       "group                eventname   246   247   248  246_247\n",
       "0      MainScreenAppear         2450  2479  2495  4929   \n",
       "1      OffersScreenAppear       1542  1525  1532  3067   \n",
       "2      CartScreenAppear         1266  1239  1231  2505   \n",
       "3      PaymentScreenSuccessful  1200  1158  1182  2358   "
      ]
     },
     "execution_count": 44,
     "metadata": {},
     "output_type": "execute_result"
    }
   ],
   "source": [
    "event_per_groups"
   ]
  },
  {
   "cell_type": "markdown",
   "metadata": {},
   "source": [
    "**Сравним группы 246 и 248**"
   ]
  },
  {
   "cell_type": "markdown",
   "metadata": {},
   "source": [
    "**Нулевая: Статистических различий в долях между группами 246 и 248, по событию MainScreenAppear, нет.** \n",
    "\n",
    "**Альтернативная: Статистические различия в долях между группами 246 и 248, по событию MainScreenAppear, есть.**\n",
    "\n",
    "**alpha = 0.05**"
   ]
  },
  {
   "cell_type": "code",
   "execution_count": 45,
   "metadata": {},
   "outputs": [
    {
     "name": "stdout",
     "output_type": "stream",
     "text": [
      "p-значение:  0.3472603849755036\n",
      "Не получилось отвергнуть нулевую гипотезу, нет оснований считать доли разными\n"
     ]
    }
   ],
   "source": [
    "event_246 = event_per_groups.loc[0, 246]\n",
    "event_248 = event_per_groups.loc[0, 248]\n",
    "total_248 = event_per_groups[248].sum()\n",
    "alpha = 0.05\n",
    "z_test_value(event_246, event_248, total_246, total_248, alpha)"
   ]
  },
  {
   "cell_type": "markdown",
   "metadata": {},
   "source": [
    "**Нулевая: Статистических различий в долях между группами 246 и 248, по событию OffersScreenAppear, нет.** \n",
    "\n",
    "**Альтернативная: Статистические различия в долях между группами 246 и 248, по событию OffersScreenAppear, есть.**\n",
    "\n",
    "**alpha = 0.05**"
   ]
  },
  {
   "cell_type": "code",
   "execution_count": 46,
   "metadata": {},
   "outputs": [
    {
     "name": "stdout",
     "output_type": "stream",
     "text": [
      "p-значение:  0.9060629046155502\n",
      "Не получилось отвергнуть нулевую гипотезу, нет оснований считать доли разными\n"
     ]
    }
   ],
   "source": [
    "event_246 = event_per_groups.loc[1, 246]\n",
    "event_248 = event_per_groups.loc[1, 248]\n",
    "alpha = 0.05\n",
    "z_test_value(event_246, event_248, total_246, total_248, alpha)"
   ]
  },
  {
   "cell_type": "markdown",
   "metadata": {},
   "source": [
    "**Нулевая: Статистических различий в долях между группами 246 и 248, по событию CartScreenAppear, нет.** \n",
    "\n",
    "**Альтернативная: Статистические различия в долях между группами 246 и 248, по событию CartScreenAppear, есть.**\n",
    "\n",
    "**alpha = 0.05**"
   ]
  },
  {
   "cell_type": "code",
   "execution_count": 47,
   "metadata": {},
   "outputs": [
    {
     "name": "stdout",
     "output_type": "stream",
     "text": [
      "p-значение:  0.48247877957098506\n",
      "Не получилось отвергнуть нулевую гипотезу, нет оснований считать доли разными\n"
     ]
    }
   ],
   "source": [
    "event_246 = event_per_groups.loc[2, 246]\n",
    "event_248 = event_per_groups.loc[2, 248]\n",
    "alpha = 0.05\n",
    "z_test_value(event_246, event_248, total_246, total_248, alpha)"
   ]
  },
  {
   "cell_type": "markdown",
   "metadata": {},
   "source": [
    "**Нулевая: Статистических различий в долях между группами 246 и 248, по событию PaymentScreenSuccessful, нет.** \n",
    "\n",
    "**Альтернативная: Статистические различия в долях между группами 246 и 248, по событию PaymentScreenSuccessful, есть.**\n",
    "\n",
    "**alpha = 0.05**"
   ]
  },
  {
   "cell_type": "code",
   "execution_count": 48,
   "metadata": {},
   "outputs": [
    {
     "name": "stdout",
     "output_type": "stream",
     "text": [
      "p-значение:  0.7391215967525937\n",
      "Не получилось отвергнуть нулевую гипотезу, нет оснований считать доли разными\n"
     ]
    }
   ],
   "source": [
    "event_246 = event_per_groups.loc[3, 246]\n",
    "event_248 = event_per_groups.loc[3, 248]\n",
    "alpha = 0.05\n",
    "z_test_value(event_246, event_248, total_246, total_248, alpha)"
   ]
  },
  {
   "cell_type": "markdown",
   "metadata": {},
   "source": [
    "**Вывод:**\n",
    "* Статистически значимой разницы между группами 246 и 248(экспериментальной) - нет, значит на результаты исследования не влияют внешние факторы которые мы не учли."
   ]
  },
  {
   "cell_type": "markdown",
   "metadata": {},
   "source": [
    "**Сравним группы 247 и 248**"
   ]
  },
  {
   "cell_type": "markdown",
   "metadata": {},
   "source": [
    "**Нулевая: Статистических различий в долях между группами 247 и 248, по событию MainScreenAppear, нет.** \n",
    "\n",
    "**Альтернативная: Статистические различия в долях между группами 247 и 248, по событию MainScreenAppear, есть.**\n",
    "\n",
    "**alpha = 0.05**"
   ]
  },
  {
   "cell_type": "code",
   "execution_count": 49,
   "metadata": {},
   "outputs": [
    {
     "name": "stdout",
     "output_type": "stream",
     "text": [
      "p-значение:  0.9870898989252077\n",
      "Не получилось отвергнуть нулевую гипотезу, нет оснований считать доли разными\n"
     ]
    }
   ],
   "source": [
    "event_247 = event_per_groups.loc[0, 247]\n",
    "event_248 = event_per_groups.loc[0, 248]\n",
    "alpha = 0.05\n",
    "z_test_value(event_247, event_248, total_247, total_248, alpha)"
   ]
  },
  {
   "cell_type": "markdown",
   "metadata": {},
   "source": [
    "**Нулевая: Статистических различий в долях между группами 247 и 248, по событию OffersScreenAppear, нет.** \n",
    "\n",
    "**Альтернативная: Статистические различия в долях между группами 247 и 248, по событию OffersScreenAppear, есть.**\n",
    "\n",
    "**alpha = 0.05**"
   ]
  },
  {
   "cell_type": "code",
   "execution_count": 50,
   "metadata": {},
   "outputs": [
    {
     "name": "stdout",
     "output_type": "stream",
     "text": [
      "p-значение:  0.9622449169593523\n",
      "Не получилось отвергнуть нулевую гипотезу, нет оснований считать доли разными\n"
     ]
    }
   ],
   "source": [
    "event_247 = event_per_groups.loc[1, 247]\n",
    "event_248 = event_per_groups.loc[1, 248]\n",
    "alpha = 0.05\n",
    "z_test_value(event_247, event_248, total_247, total_248, alpha)"
   ]
  },
  {
   "cell_type": "markdown",
   "metadata": {},
   "source": [
    "**Нулевая: Статистических различий в долях между группами 247 и 248, по событию CartScreenAppear, нет.** \n",
    "\n",
    "**Альтернативная: Статистические различия в долях между группами 247 и 248, по событию CartScreenAppear, есть.**\n",
    "\n",
    "**alpha = 0.05**"
   ]
  },
  {
   "cell_type": "code",
   "execution_count": 51,
   "metadata": {},
   "outputs": [
    {
     "name": "stdout",
     "output_type": "stream",
     "text": [
      "p-значение:  0.7285349204144302\n",
      "Не получилось отвергнуть нулевую гипотезу, нет оснований считать доли разными\n"
     ]
    }
   ],
   "source": [
    "event_247 = event_per_groups.loc[2, 247]\n",
    "event_248 = event_per_groups.loc[2, 248]\n",
    "alpha = 0.05\n",
    "z_test_value(event_247, event_248, total_247, total_248, alpha)"
   ]
  },
  {
   "cell_type": "markdown",
   "metadata": {},
   "source": [
    "**Нулевая: Статистических различий в долях между группами 247 и 248, по событию PaymentScreenSuccessful\t, нет.** \n",
    "\n",
    "**Альтернативная: Статистические различия в долях между группами 247 и 248, по событию PaymentScreenSuccessful, есть.**\n",
    "\n",
    "**alpha = 0.05**"
   ]
  },
  {
   "cell_type": "code",
   "execution_count": 52,
   "metadata": {},
   "outputs": [
    {
     "name": "stdout",
     "output_type": "stream",
     "text": [
      "p-значение:  0.699365242822227\n",
      "Не получилось отвергнуть нулевую гипотезу, нет оснований считать доли разными\n"
     ]
    }
   ],
   "source": [
    "event_247 = event_per_groups.loc[3, 247]\n",
    "event_248 = event_per_groups.loc[3, 248]\n",
    "alpha = 0.05\n",
    "z_test_value(event_247, event_248, total_247, total_248, alpha)"
   ]
  },
  {
   "cell_type": "markdown",
   "metadata": {},
   "source": [
    "**Вывод:**\n",
    "* Статистически значимой разницы между группами 246 и 248(экспериментальной) - нет, значит на результаты исследования не влияют внешние факторы которые мы не учли."
   ]
  },
  {
   "cell_type": "markdown",
   "metadata": {},
   "source": [
    "**Сравним группы 246+247 и 248**"
   ]
  },
  {
   "cell_type": "markdown",
   "metadata": {},
   "source": [
    "**Нулевая: Статистических различий в долях между группами 246+247 и 248, по событию MainScreenAppear, нет.** \n",
    "\n",
    "**Альтернативная: Статистические различия в долях между группами 246+247 и 248, по событию MainScreenAppear, есть.**\n",
    "\n",
    "**alpha = 0.05**"
   ]
  },
  {
   "cell_type": "code",
   "execution_count": 53,
   "metadata": {},
   "outputs": [
    {
     "name": "stdout",
     "output_type": "stream",
     "text": [
      "p-значение:  0.5799085034541913\n",
      "Не получилось отвергнуть нулевую гипотезу, нет оснований считать доли разными\n"
     ]
    }
   ],
   "source": [
    "event_246_247 = event_per_groups.loc[0, '246_247']\n",
    "event_248 = event_per_groups.loc[0, 248]\n",
    "total_246_247 = event_per_groups['246_247'].sum()\n",
    "alpha = 0.05\n",
    "z_test_value(event_246_247, event_248, total_246_247, total_248, alpha)"
   ]
  },
  {
   "cell_type": "markdown",
   "metadata": {},
   "source": [
    "**Нулевая: Статистических различий в долях между группами 246+247 и 248, по событию OffersScreenAppear, нет.** \n",
    "\n",
    "**Альтернативная: Статистические различия в долях между группами 246+247 и 248, по событию OffersScreenAppear, есть.**\n",
    "\n",
    "**alpha = 0.05**"
   ]
  },
  {
   "cell_type": "code",
   "execution_count": 54,
   "metadata": {},
   "outputs": [
    {
     "name": "stdout",
     "output_type": "stream",
     "text": [
      "p-значение:  0.9238361029197553\n",
      "Не получилось отвергнуть нулевую гипотезу, нет оснований считать доли разными\n"
     ]
    }
   ],
   "source": [
    "event_246_247 = event_per_groups.loc[1, '246_247']\n",
    "event_248 = event_per_groups.loc[1, 248]\n",
    "alpha = 0.05\n",
    "z_test_value(event_246_247, event_248, total_246_247, total_248, alpha)"
   ]
  },
  {
   "cell_type": "markdown",
   "metadata": {},
   "source": [
    "**Нулевая: Статистических различий в долях между группами 246+247 и 248, по событию CartScreenAppear\t, нет.** \n",
    "\n",
    "**Альтернативная: Статистические различия в долях между группами 246+247 и 248, по событию CartScreenAppear, есть.**\n",
    "\n",
    "**alpha = 0.05**"
   ]
  },
  {
   "cell_type": "code",
   "execution_count": 55,
   "metadata": {},
   "outputs": [
    {
     "name": "stdout",
     "output_type": "stream",
     "text": [
      "p-значение:  0.5444105692059629\n",
      "Не получилось отвергнуть нулевую гипотезу, нет оснований считать доли разными\n"
     ]
    }
   ],
   "source": [
    "event_246_247 = event_per_groups.loc[2, '246_247']\n",
    "event_248 = event_per_groups.loc[2, 248]\n",
    "alpha = 0.05\n",
    "z_test_value(event_246_247, event_248, total_246_247, total_248, alpha)"
   ]
  },
  {
   "cell_type": "markdown",
   "metadata": {},
   "source": [
    "**Нулевая: Статистических различий в долях между группами 246+247 и 248, по событию PaymentScreenSuccessful, нет.** \n",
    "\n",
    "**Альтернативная: Статистические различия в долях между группами 246+247 и 248, по событию PaymentScreenSuccessful, есть.**\n",
    "\n",
    "**alpha = 0.05**"
   ]
  },
  {
   "cell_type": "code",
   "execution_count": 56,
   "metadata": {},
   "outputs": [
    {
     "name": "stdout",
     "output_type": "stream",
     "text": [
      "p-значение:  0.9774688981310373\n",
      "Не получилось отвергнуть нулевую гипотезу, нет оснований считать доли разными\n"
     ]
    }
   ],
   "source": [
    "event_246_247 = event_per_groups.loc[3, '246_247']\n",
    "event_248 = event_per_groups.loc[3, 248]\n",
    "alpha = 0.05\n",
    "z_test_value(event_246_247, event_248, total_246_247, total_248, alpha)"
   ]
  },
  {
   "cell_type": "markdown",
   "metadata": {},
   "source": [
    "**Вывод:**\n",
    "* Статистически значимой разницы между группами 246+247(объединенной) и 248(экспериментальной) - нет, значит на результаты исследования не влияют внешние факторы которые мы не учли."
   ]
  },
  {
   "cell_type": "code",
   "execution_count": 57,
   "metadata": {},
   "outputs": [],
   "source": [
    "event_per_groups['p246'] = event_per_groups[246]/event_per_groups[246].sum()\n",
    "event_per_groups['p247'] = event_per_groups[247]/event_per_groups[247].sum()\n",
    "event_per_groups['p248'] = event_per_groups[248]/event_per_groups[248].sum()"
   ]
  },
  {
   "cell_type": "code",
   "execution_count": 58,
   "metadata": {},
   "outputs": [
    {
     "data": {
      "image/png": "[encoded data removed]",
      "text/plain": [
       "<Figure size 1600x1000 with 1 Axes>"
      ]
     },
     "metadata": {},
     "output_type": "display_data"
    }
   ],
   "source": [
    "plt.figure(figsize=(16, 10))\n",
    "# строим графики\n",
    "plt.plot(event_per_groups['eventname'], event_per_groups[246], label='Контрольная 246')\n",
    "plt.plot(event_per_groups['eventname'], event_per_groups[247], label='Контрольная 247')\n",
    "plt.plot(event_per_groups['eventname'], event_per_groups[248], label='Экпериментальная 248')\n",
    "plt.legend()\n",
    "plt.title('График изменения количества пользователей отностиельно событий')\n",
    "plt.xlabel('Событие')\n",
    "plt.ylabel('Количество пользователей')\n",
    "plt.show()"
   ]
  },
  {
   "cell_type": "code",
   "execution_count": 59,
   "metadata": {},
   "outputs": [
    {
     "data": {
      "text/html": [
       "<div>\n",
       "<style scoped>\n",
       "    .dataframe tbody tr th:only-of-type {\n",
       "        vertical-align: middle;\n",
       "    }\n",
       "\n",
       "    .dataframe tbody tr th {\n",
       "        vertical-align: top;\n",
       "    }\n",
       "\n",
       "    .dataframe thead th {\n",
       "        text-align: right;\n",
       "    }\n",
       "</style>\n",
       "<table border=\"1\" class=\"dataframe\">\n",
       "  <thead>\n",
       "    <tr style=\"text-align: right;\">\n",
       "      <th>group</th>\n",
       "      <th>eventname</th>\n",
       "      <th>246</th>\n",
       "      <th>247</th>\n",
       "      <th>248</th>\n",
       "      <th>246_247</th>\n",
       "      <th>p246</th>\n",
       "      <th>p247</th>\n",
       "      <th>p248</th>\n",
       "    </tr>\n",
       "  </thead>\n",
       "  <tbody>\n",
       "    <tr>\n",
       "      <th>0</th>\n",
       "      <td>MainScreenAppear</td>\n",
       "      <td>2450</td>\n",
       "      <td>2479</td>\n",
       "      <td>2495</td>\n",
       "      <td>4929</td>\n",
       "      <td>0.379374</td>\n",
       "      <td>0.387283</td>\n",
       "      <td>0.387422</td>\n",
       "    </tr>\n",
       "    <tr>\n",
       "      <th>1</th>\n",
       "      <td>OffersScreenAppear</td>\n",
       "      <td>1542</td>\n",
       "      <td>1525</td>\n",
       "      <td>1532</td>\n",
       "      <td>3067</td>\n",
       "      <td>0.238774</td>\n",
       "      <td>0.238244</td>\n",
       "      <td>0.237888</td>\n",
       "    </tr>\n",
       "    <tr>\n",
       "      <th>2</th>\n",
       "      <td>CartScreenAppear</td>\n",
       "      <td>1266</td>\n",
       "      <td>1239</td>\n",
       "      <td>1231</td>\n",
       "      <td>2505</td>\n",
       "      <td>0.196036</td>\n",
       "      <td>0.193564</td>\n",
       "      <td>0.191149</td>\n",
       "    </tr>\n",
       "    <tr>\n",
       "      <th>3</th>\n",
       "      <td>PaymentScreenSuccessful</td>\n",
       "      <td>1200</td>\n",
       "      <td>1158</td>\n",
       "      <td>1182</td>\n",
       "      <td>2358</td>\n",
       "      <td>0.185816</td>\n",
       "      <td>0.180909</td>\n",
       "      <td>0.183540</td>\n",
       "    </tr>\n",
       "  </tbody>\n",
       "</table>\n",
       "</div>"
      ],
      "text/plain": [
       "group                eventname   246   247   248  246_247      p246      p247  \\\n",
       "0      MainScreenAppear         2450  2479  2495  4929     0.379374  0.387283   \n",
       "1      OffersScreenAppear       1542  1525  1532  3067     0.238774  0.238244   \n",
       "2      CartScreenAppear         1266  1239  1231  2505     0.196036  0.193564   \n",
       "3      PaymentScreenSuccessful  1200  1158  1182  2358     0.185816  0.180909   \n",
       "\n",
       "group      p248  \n",
       "0      0.387422  \n",
       "1      0.237888  \n",
       "2      0.191149  \n",
       "3      0.183540  "
      ]
     },
     "execution_count": 59,
     "metadata": {},
     "output_type": "execute_result"
    }
   ],
   "source": [
    "event_per_groups"
   ]
  },
  {
   "cell_type": "code",
   "execution_count": 60,
   "metadata": {
    "scrolled": false
   },
   "outputs": [
    {
     "data": {
      "image/png": "[encoded data removed]",
      "text/plain": [
       "<Figure size 1600x1000 with 1 Axes>"
      ]
     },
     "metadata": {},
     "output_type": "display_data"
    }
   ],
   "source": [
    "plt.figure(figsize=(16, 10))\n",
    "# строим графики\n",
    "plt.plot(event_per_groups['eventname'], event_per_groups['p246'], label='Контрольная 246')\n",
    "plt.plot(event_per_groups['eventname'], event_per_groups['p247'], label='Контрольная 247')\n",
    "plt.plot(event_per_groups['eventname'], event_per_groups['p248'], label='Экпериментальная 248')\n",
    "plt.legend()\n",
    "plt.title('График изменения доли пользователей отностиельно событий в группе')\n",
    "plt.xlabel('События')\n",
    "plt.ylabel('Доля пользователей в группе')\n",
    "plt.show()"
   ]
  },
  {
   "cell_type": "markdown",
   "metadata": {},
   "source": [
    "**Вывод:**\n",
    "* Мы провели 16 проверок статистических гипотез с уровнем значимости 0.05 (12 из них проверяли разницу между контрольными группами и группой с изменённым шрифтом) и ни одна из них не выявила значимой разницы.\n",
    "* Судя по графикам можем сказать, что на поведение пользователей изменение шрифта значимого эффекта(как положительного так и отрицательного) не оказало."
   ]
  },
  {
   "cell_type": "markdown",
   "metadata": {},
   "source": [
    "# Общий вывод"
   ]
  },
  {
   "cell_type": "markdown",
   "metadata": {},
   "source": [
    "Мы провели исследование поведения пользователей продающего приложения до и после изменений в приложении. Такие выводы мы получили:\n",
    "* Анализируя гистограмму по дате и времени, мы приняли решение отбросить неполные данные и оставить только период с 01.08.2019;\n",
    "* При исследовании воронки событий мы выяснили, что от первого события до оплаты доходит меньше половины пользователей ~ 48%;\n",
    "* Только 98,5% всех пользователей хотя бы раз открывали главную страницу приложения (возможно оставшиеся пользователи не смогли попасть на главную страницу из-за ошибок/некорректной работы приложения).\n",
    "* Мы провели 16 проверок статистических гипотез с уровнем значимости 0.05 (12 из них проверяли разницу между контрольными группами и группой с изменённым шрифтом) и ни одна из них не выявила значимой разницы.\n",
    "\n",
    "* При уровне значимости 0.1 ни одна из проверок не покажет значимую разницу между группами. И при уровне значимости 0.1 каждый десятый раз можно получать ложный результат, поэтому стоит применить изначально выбранный нами уровень значимости 0.05.\n",
    "\n",
    "* Исходя из результатов данного A/A/B-эксперимента, мы можем судить, что на поведение пользователей изменение шрифта значимого эффекта не оказало. Что можно считать успехом, т.к. целью было узнать не отпугнут ли изменения пользователей. В то же время учитывая результаты эксперимента, если изменение шрифта не продиктовано проблемами в работе приложения, его можно не менять."
   ]
  }
 ],
 "metadata": {
  "ExecuteTimeLog": [
   {
    "duration": 416,
    "start_time": "2023-03-19T07:14:14.001Z"
   },
   {
    "duration": 69,
    "start_time": "2023-03-19T07:32:24.457Z"
   },
   {
    "duration": 70,
    "start_time": "2023-03-19T07:33:43.008Z"
   },
   {
    "duration": 77,
    "start_time": "2023-03-19T07:37:11.209Z"
   },
   {
    "duration": 935,
    "start_time": "2023-03-19T07:38:14.491Z"
   },
   {
    "duration": 15,
    "start_time": "2023-03-19T07:38:23.990Z"
   },
   {
    "duration": 157,
    "start_time": "2023-03-19T07:38:52.083Z"
   },
   {
    "duration": 9,
    "start_time": "2023-03-19T07:38:55.800Z"
   },
   {
    "duration": 7,
    "start_time": "2023-03-19T07:39:05.400Z"
   },
   {
    "duration": 18,
    "start_time": "2023-03-19T07:42:03.700Z"
   },
   {
    "duration": 1010,
    "start_time": "2023-03-19T10:09:13.656Z"
   },
   {
    "duration": 62,
    "start_time": "2023-03-19T10:13:36.164Z"
   },
   {
    "duration": 14,
    "start_time": "2023-03-19T10:13:45.249Z"
   },
   {
    "duration": 87,
    "start_time": "2023-03-19T10:20:29.169Z"
   },
   {
    "duration": 299,
    "start_time": "2023-03-19T10:20:50.022Z"
   },
   {
    "duration": 8,
    "start_time": "2023-03-19T10:20:52.905Z"
   },
   {
    "duration": 168,
    "start_time": "2023-03-19T10:21:15.235Z"
   },
   {
    "duration": 8,
    "start_time": "2023-03-19T10:21:19.362Z"
   },
   {
    "duration": 124,
    "start_time": "2023-03-19T10:57:01.397Z"
   },
   {
    "duration": 15,
    "start_time": "2023-03-19T10:57:45.821Z"
   },
   {
    "duration": 10,
    "start_time": "2023-03-19T10:58:48.588Z"
   },
   {
    "duration": 4,
    "start_time": "2023-03-19T10:59:13.801Z"
   },
   {
    "duration": 9,
    "start_time": "2023-03-19T10:59:17.819Z"
   },
   {
    "duration": 8,
    "start_time": "2023-03-19T10:59:25.702Z"
   },
   {
    "duration": 13,
    "start_time": "2023-03-19T11:00:11.095Z"
   },
   {
    "duration": 11,
    "start_time": "2023-03-19T11:00:25.200Z"
   },
   {
    "duration": 348,
    "start_time": "2023-03-19T11:00:35.519Z"
   },
   {
    "duration": 19,
    "start_time": "2023-03-19T11:05:45.572Z"
   },
   {
    "duration": 12,
    "start_time": "2023-03-19T11:06:21.092Z"
   },
   {
    "duration": 16,
    "start_time": "2023-03-19T11:06:27.732Z"
   },
   {
    "duration": 5,
    "start_time": "2023-03-19T11:14:56.305Z"
   },
   {
    "duration": 12,
    "start_time": "2023-03-19T11:15:12.149Z"
   },
   {
    "duration": 20,
    "start_time": "2023-03-19T11:18:14.413Z"
   },
   {
    "duration": 12,
    "start_time": "2023-03-19T11:18:23.777Z"
   },
   {
    "duration": 8,
    "start_time": "2023-03-19T11:18:32.220Z"
   },
   {
    "duration": 15,
    "start_time": "2023-03-19T11:18:36.089Z"
   },
   {
    "duration": 8,
    "start_time": "2023-03-19T11:19:02.278Z"
   },
   {
    "duration": 9,
    "start_time": "2023-03-19T11:21:08.378Z"
   },
   {
    "duration": 9,
    "start_time": "2023-03-19T11:22:31.100Z"
   },
   {
    "duration": 8,
    "start_time": "2023-03-19T11:22:34.299Z"
   },
   {
    "duration": 7,
    "start_time": "2023-03-19T11:22:46.259Z"
   },
   {
    "duration": 114,
    "start_time": "2023-03-19T11:25:10.579Z"
   },
   {
    "duration": 66,
    "start_time": "2023-03-19T11:25:34.690Z"
   },
   {
    "duration": 67,
    "start_time": "2023-03-19T11:44:05.337Z"
   },
   {
    "duration": 68,
    "start_time": "2023-03-19T11:44:17.267Z"
   },
   {
    "duration": 10,
    "start_time": "2023-03-19T11:47:47.693Z"
   },
   {
    "duration": 12,
    "start_time": "2023-03-19T11:48:14.973Z"
   },
   {
    "duration": 11,
    "start_time": "2023-03-19T11:48:34.308Z"
   },
   {
    "duration": 74,
    "start_time": "2023-03-19T11:51:56.456Z"
   },
   {
    "duration": 10,
    "start_time": "2023-03-19T11:59:43.548Z"
   },
   {
    "duration": 325,
    "start_time": "2023-03-19T12:00:01.333Z"
   },
   {
    "duration": 353,
    "start_time": "2023-03-19T12:00:24.150Z"
   },
   {
    "duration": 158,
    "start_time": "2023-03-19T12:02:59.404Z"
   },
   {
    "duration": 193,
    "start_time": "2023-03-19T12:03:19.805Z"
   },
   {
    "duration": 1029,
    "start_time": "2023-03-19T12:03:45.617Z"
   },
   {
    "duration": 1099,
    "start_time": "2023-03-19T12:03:56.108Z"
   },
   {
    "duration": 1193,
    "start_time": "2023-03-19T12:04:04.029Z"
   },
   {
    "duration": 171,
    "start_time": "2023-03-19T12:04:05.224Z"
   },
   {
    "duration": 14,
    "start_time": "2023-03-19T12:04:05.397Z"
   },
   {
    "duration": 20,
    "start_time": "2023-03-19T12:04:05.413Z"
   },
   {
    "duration": 3,
    "start_time": "2023-03-19T12:04:05.436Z"
   },
   {
    "duration": 38,
    "start_time": "2023-03-19T12:04:05.441Z"
   },
   {
    "duration": 8,
    "start_time": "2023-03-19T12:04:05.480Z"
   },
   {
    "duration": 132,
    "start_time": "2023-03-19T12:04:05.490Z"
   },
   {
    "duration": 81,
    "start_time": "2023-03-19T12:04:05.624Z"
   },
   {
    "duration": 169,
    "start_time": "2023-03-19T12:04:05.707Z"
   },
   {
    "duration": 12,
    "start_time": "2023-03-19T12:04:20.578Z"
   },
   {
    "duration": 1102,
    "start_time": "2023-03-19T12:06:41.147Z"
   },
   {
    "duration": 1196,
    "start_time": "2023-03-19T12:07:54.054Z"
   },
   {
    "duration": 158,
    "start_time": "2023-03-19T12:07:55.252Z"
   },
   {
    "duration": 13,
    "start_time": "2023-03-19T12:07:55.412Z"
   },
   {
    "duration": 22,
    "start_time": "2023-03-19T12:07:55.426Z"
   },
   {
    "duration": 3,
    "start_time": "2023-03-19T12:07:55.450Z"
   },
   {
    "duration": 22,
    "start_time": "2023-03-19T12:07:55.454Z"
   },
   {
    "duration": 8,
    "start_time": "2023-03-19T12:07:55.478Z"
   },
   {
    "duration": 122,
    "start_time": "2023-03-19T12:07:55.487Z"
   },
   {
    "duration": 83,
    "start_time": "2023-03-19T12:07:55.611Z"
   },
   {
    "duration": 155,
    "start_time": "2023-03-19T12:07:55.696Z"
   },
   {
    "duration": 10,
    "start_time": "2023-03-19T12:07:55.853Z"
   },
   {
    "duration": 1144,
    "start_time": "2023-03-19T12:10:49.028Z"
   },
   {
    "duration": 1024,
    "start_time": "2023-03-19T12:14:08.318Z"
   },
   {
    "duration": 12,
    "start_time": "2023-03-19T12:16:16.259Z"
   },
   {
    "duration": 9,
    "start_time": "2023-03-19T12:16:22.256Z"
   },
   {
    "duration": 813,
    "start_time": "2023-03-19T12:16:47.738Z"
   },
   {
    "duration": 15,
    "start_time": "2023-03-19T12:16:54.329Z"
   },
   {
    "duration": 9,
    "start_time": "2023-03-19T12:18:23.978Z"
   },
   {
    "duration": 867,
    "start_time": "2023-03-19T12:18:47.653Z"
   },
   {
    "duration": 9,
    "start_time": "2023-03-19T12:18:50.828Z"
   },
   {
    "duration": 11,
    "start_time": "2023-03-19T12:30:10.348Z"
   },
   {
    "duration": 53,
    "start_time": "2023-03-19T12:59:52.489Z"
   },
   {
    "duration": 1198,
    "start_time": "2023-03-19T13:11:17.938Z"
   },
   {
    "duration": 20,
    "start_time": "2023-03-19T13:11:30.824Z"
   },
   {
    "duration": 41,
    "start_time": "2023-03-19T13:11:45.697Z"
   },
   {
    "duration": 5,
    "start_time": "2023-03-19T13:12:01.787Z"
   },
   {
    "duration": 42,
    "start_time": "2023-03-19T13:12:07.129Z"
   },
   {
    "duration": 46,
    "start_time": "2023-03-19T13:18:49.995Z"
   },
   {
    "duration": 15,
    "start_time": "2023-03-19T13:22:36.924Z"
   },
   {
    "duration": 36,
    "start_time": "2023-03-19T13:25:33.904Z"
   },
   {
    "duration": 26,
    "start_time": "2023-03-19T13:25:59.266Z"
   },
   {
    "duration": 59,
    "start_time": "2023-03-19T13:26:29.297Z"
   },
   {
    "duration": 4,
    "start_time": "2023-03-19T13:26:59.696Z"
   },
   {
    "duration": 23,
    "start_time": "2023-03-19T13:27:13.307Z"
   },
   {
    "duration": 34,
    "start_time": "2023-03-19T13:35:35.505Z"
   },
   {
    "duration": 511,
    "start_time": "2023-03-19T13:35:54.888Z"
   },
   {
    "duration": 665,
    "start_time": "2023-03-19T13:36:56.626Z"
   },
   {
    "duration": 554,
    "start_time": "2023-03-19T13:37:07.990Z"
   },
   {
    "duration": 355,
    "start_time": "2023-03-19T13:38:32.166Z"
   },
   {
    "duration": 350,
    "start_time": "2023-03-19T13:38:43.097Z"
   },
   {
    "duration": 312,
    "start_time": "2023-03-19T14:33:00.027Z"
   },
   {
    "duration": 340,
    "start_time": "2023-03-19T14:33:14.445Z"
   },
   {
    "duration": 4,
    "start_time": "2023-03-19T14:33:29.227Z"
   },
   {
    "duration": 330,
    "start_time": "2023-03-19T14:33:35.364Z"
   },
   {
    "duration": 24,
    "start_time": "2023-03-19T14:39:59.787Z"
   },
   {
    "duration": 14,
    "start_time": "2023-03-19T14:40:53.003Z"
   },
   {
    "duration": 30,
    "start_time": "2023-03-19T14:42:36.961Z"
   },
   {
    "duration": 6,
    "start_time": "2023-03-19T14:52:48.662Z"
   },
   {
    "duration": 19,
    "start_time": "2023-03-19T14:53:30.702Z"
   },
   {
    "duration": 1135,
    "start_time": "2023-03-19T15:33:40.605Z"
   },
   {
    "duration": 164,
    "start_time": "2023-03-19T15:33:41.742Z"
   },
   {
    "duration": 13,
    "start_time": "2023-03-19T15:33:41.908Z"
   },
   {
    "duration": 20,
    "start_time": "2023-03-19T15:33:41.923Z"
   },
   {
    "duration": 3,
    "start_time": "2023-03-19T15:33:41.945Z"
   },
   {
    "duration": 34,
    "start_time": "2023-03-19T15:33:41.950Z"
   },
   {
    "duration": 8,
    "start_time": "2023-03-19T15:33:41.986Z"
   },
   {
    "duration": 114,
    "start_time": "2023-03-19T15:33:41.996Z"
   },
   {
    "duration": 85,
    "start_time": "2023-03-19T15:33:42.112Z"
   },
   {
    "duration": 150,
    "start_time": "2023-03-19T15:33:42.200Z"
   },
   {
    "duration": 799,
    "start_time": "2023-03-19T15:33:42.351Z"
   },
   {
    "duration": 10,
    "start_time": "2023-03-19T15:33:43.152Z"
   },
   {
    "duration": 55,
    "start_time": "2023-03-19T15:33:43.163Z"
   },
   {
    "duration": 45,
    "start_time": "2023-03-19T15:33:43.219Z"
   },
   {
    "duration": 9,
    "start_time": "2023-03-19T15:33:43.266Z"
   },
   {
    "duration": 14,
    "start_time": "2023-03-19T15:33:43.277Z"
   },
   {
    "duration": 30,
    "start_time": "2023-03-19T15:33:43.293Z"
   },
   {
    "duration": 345,
    "start_time": "2023-03-19T15:33:43.325Z"
   },
   {
    "duration": 28,
    "start_time": "2023-03-19T15:33:43.676Z"
   },
   {
    "duration": 25,
    "start_time": "2023-03-19T15:33:43.707Z"
   },
   {
    "duration": 17,
    "start_time": "2023-03-19T15:33:43.734Z"
   },
   {
    "duration": 30,
    "start_time": "2023-03-19T15:33:43.775Z"
   },
   {
    "duration": 27,
    "start_time": "2023-03-19T15:35:14.715Z"
   },
   {
    "duration": 117,
    "start_time": "2023-03-19T15:37:04.295Z"
   },
   {
    "duration": 30,
    "start_time": "2023-03-19T15:37:13.133Z"
   },
   {
    "duration": 27,
    "start_time": "2023-03-19T15:37:25.377Z"
   },
   {
    "duration": 221,
    "start_time": "2023-03-19T15:41:48.003Z"
   },
   {
    "duration": 270,
    "start_time": "2023-03-19T15:42:00.976Z"
   },
   {
    "duration": 38,
    "start_time": "2023-03-19T15:46:24.886Z"
   },
   {
    "duration": 73,
    "start_time": "2023-03-19T15:47:43.126Z"
   },
   {
    "duration": 78,
    "start_time": "2023-03-19T15:48:04.246Z"
   },
   {
    "duration": 208,
    "start_time": "2023-03-19T15:49:05.696Z"
   },
   {
    "duration": 250,
    "start_time": "2023-03-19T15:55:28.193Z"
   },
   {
    "duration": 1356,
    "start_time": "2023-03-20T05:36:55.907Z"
   },
   {
    "duration": 877,
    "start_time": "2023-03-20T05:36:57.265Z"
   },
   {
    "duration": 12,
    "start_time": "2023-03-20T05:36:58.143Z"
   },
   {
    "duration": 22,
    "start_time": "2023-03-20T05:36:58.156Z"
   },
   {
    "duration": 3,
    "start_time": "2023-03-20T05:36:58.181Z"
   },
   {
    "duration": 10,
    "start_time": "2023-03-20T05:36:58.185Z"
   },
   {
    "duration": 7,
    "start_time": "2023-03-20T05:36:58.196Z"
   },
   {
    "duration": 137,
    "start_time": "2023-03-20T05:36:58.204Z"
   },
   {
    "duration": 77,
    "start_time": "2023-03-20T05:36:58.342Z"
   },
   {
    "duration": 191,
    "start_time": "2023-03-20T05:36:58.421Z"
   },
   {
    "duration": 755,
    "start_time": "2023-03-20T05:36:58.614Z"
   },
   {
    "duration": 10,
    "start_time": "2023-03-20T05:36:59.370Z"
   },
   {
    "duration": 30,
    "start_time": "2023-03-20T05:36:59.381Z"
   },
   {
    "duration": 70,
    "start_time": "2023-03-20T05:36:59.414Z"
   },
   {
    "duration": 10,
    "start_time": "2023-03-20T05:36:59.486Z"
   },
   {
    "duration": 13,
    "start_time": "2023-03-20T05:36:59.497Z"
   },
   {
    "duration": 72,
    "start_time": "2023-03-20T05:36:59.511Z"
   },
   {
    "duration": 384,
    "start_time": "2023-03-20T05:36:59.585Z"
   },
   {
    "duration": 28,
    "start_time": "2023-03-20T05:36:59.971Z"
   },
   {
    "duration": 41,
    "start_time": "2023-03-20T05:37:00.000Z"
   },
   {
    "duration": 19,
    "start_time": "2023-03-20T05:37:00.042Z"
   },
   {
    "duration": 221,
    "start_time": "2023-03-20T05:37:00.062Z"
   },
   {
    "duration": 63,
    "start_time": "2023-03-20T05:48:59.521Z"
   },
   {
    "duration": 62,
    "start_time": "2023-03-20T06:12:02.851Z"
   },
   {
    "duration": 50,
    "start_time": "2023-03-20T06:14:02.220Z"
   },
   {
    "duration": 65,
    "start_time": "2023-03-20T06:15:03.939Z"
   },
   {
    "duration": 5,
    "start_time": "2023-03-20T06:15:27.370Z"
   },
   {
    "duration": 4,
    "start_time": "2023-03-20T06:16:03.889Z"
   },
   {
    "duration": 7,
    "start_time": "2023-03-20T06:16:36.250Z"
   },
   {
    "duration": 9,
    "start_time": "2023-03-20T06:16:40.065Z"
   },
   {
    "duration": 8,
    "start_time": "2023-03-20T06:16:50.190Z"
   },
   {
    "duration": 232,
    "start_time": "2023-03-20T06:18:33.831Z"
   },
   {
    "duration": 10,
    "start_time": "2023-03-20T06:28:52.240Z"
   },
   {
    "duration": 8,
    "start_time": "2023-03-20T06:28:56.058Z"
   },
   {
    "duration": 1497,
    "start_time": "2023-03-20T08:55:06.431Z"
   },
   {
    "duration": 811,
    "start_time": "2023-03-20T08:55:07.931Z"
   },
   {
    "duration": 17,
    "start_time": "2023-03-20T08:55:08.750Z"
   },
   {
    "duration": 68,
    "start_time": "2023-03-20T08:55:08.769Z"
   },
   {
    "duration": 17,
    "start_time": "2023-03-20T08:55:08.844Z"
   },
   {
    "duration": 34,
    "start_time": "2023-03-20T08:55:08.869Z"
   },
   {
    "duration": 11,
    "start_time": "2023-03-20T08:55:08.908Z"
   },
   {
    "duration": 156,
    "start_time": "2023-03-20T08:55:08.922Z"
   },
   {
    "duration": 118,
    "start_time": "2023-03-20T08:55:09.084Z"
   },
   {
    "duration": 255,
    "start_time": "2023-03-20T08:55:09.209Z"
   },
   {
    "duration": 1061,
    "start_time": "2023-03-20T08:55:09.470Z"
   },
   {
    "duration": 27,
    "start_time": "2023-03-20T08:55:10.533Z"
   },
   {
    "duration": 51,
    "start_time": "2023-03-20T08:55:10.565Z"
   },
   {
    "duration": 88,
    "start_time": "2023-03-20T08:55:10.618Z"
   },
   {
    "duration": 11,
    "start_time": "2023-03-20T08:55:10.708Z"
   },
   {
    "duration": 15,
    "start_time": "2023-03-20T08:55:10.721Z"
   },
   {
    "duration": 67,
    "start_time": "2023-03-20T08:55:10.738Z"
   },
   {
    "duration": 463,
    "start_time": "2023-03-20T08:55:10.807Z"
   },
   {
    "duration": 40,
    "start_time": "2023-03-20T08:55:11.272Z"
   },
   {
    "duration": 37,
    "start_time": "2023-03-20T08:55:11.314Z"
   },
   {
    "duration": 47,
    "start_time": "2023-03-20T08:55:11.361Z"
   },
   {
    "duration": 328,
    "start_time": "2023-03-20T08:55:11.411Z"
   },
   {
    "duration": 86,
    "start_time": "2023-03-20T08:55:11.744Z"
   },
   {
    "duration": 44,
    "start_time": "2023-03-20T08:55:11.832Z"
   },
   {
    "duration": 17,
    "start_time": "2023-03-20T08:55:11.885Z"
   },
   {
    "duration": 250,
    "start_time": "2023-03-20T08:55:11.904Z"
   },
   {
    "duration": 13,
    "start_time": "2023-03-20T08:58:18.717Z"
   },
   {
    "duration": 123,
    "start_time": "2023-03-20T09:25:04.912Z"
   },
   {
    "duration": 10,
    "start_time": "2023-03-20T09:25:14.920Z"
   },
   {
    "duration": 13,
    "start_time": "2023-03-20T09:25:22.085Z"
   },
   {
    "duration": 15,
    "start_time": "2023-03-20T09:25:49.020Z"
   },
   {
    "duration": 15,
    "start_time": "2023-03-20T09:26:32.996Z"
   },
   {
    "duration": 13,
    "start_time": "2023-03-20T09:26:53.983Z"
   },
   {
    "duration": 1864,
    "start_time": "2023-03-20T09:27:00.767Z"
   },
   {
    "duration": 23,
    "start_time": "2023-03-20T09:27:10.841Z"
   },
   {
    "duration": 19,
    "start_time": "2023-03-20T09:27:59.823Z"
   },
   {
    "duration": 6,
    "start_time": "2023-03-20T09:28:03.196Z"
   },
   {
    "duration": 15,
    "start_time": "2023-03-20T09:28:19.962Z"
   },
   {
    "duration": 9,
    "start_time": "2023-03-20T09:29:18.869Z"
   },
   {
    "duration": 9,
    "start_time": "2023-03-20T09:35:23.777Z"
   },
   {
    "duration": 11,
    "start_time": "2023-03-20T09:35:29.754Z"
   },
   {
    "duration": 12,
    "start_time": "2023-03-20T09:35:34.663Z"
   },
   {
    "duration": 7,
    "start_time": "2023-03-20T09:35:38.209Z"
   },
   {
    "duration": 10,
    "start_time": "2023-03-20T09:35:45.770Z"
   },
   {
    "duration": 14,
    "start_time": "2023-03-20T09:35:55.833Z"
   },
   {
    "duration": 783,
    "start_time": "2023-03-20T09:36:11.213Z"
   },
   {
    "duration": 1007,
    "start_time": "2023-03-20T09:36:18.896Z"
   },
   {
    "duration": 1618,
    "start_time": "2023-03-20T09:36:27.613Z"
   },
   {
    "duration": 1573,
    "start_time": "2023-03-20T09:36:38.532Z"
   },
   {
    "duration": 99,
    "start_time": "2023-03-20T09:36:43.180Z"
   },
   {
    "duration": 1563,
    "start_time": "2023-03-20T09:36:51.033Z"
   },
   {
    "duration": 2,
    "start_time": "2023-03-20T09:38:08.323Z"
   },
   {
    "duration": 6,
    "start_time": "2023-03-20T09:38:13.072Z"
   },
   {
    "duration": 10,
    "start_time": "2023-03-20T09:38:35.099Z"
   },
   {
    "duration": 26,
    "start_time": "2023-03-20T09:40:47.332Z"
   },
   {
    "duration": 3,
    "start_time": "2023-03-20T09:43:14.108Z"
   },
   {
    "duration": 4,
    "start_time": "2023-03-20T09:43:28.282Z"
   },
   {
    "duration": 3,
    "start_time": "2023-03-20T09:43:36.872Z"
   },
   {
    "duration": 8,
    "start_time": "2023-03-20T09:43:38.831Z"
   },
   {
    "duration": 1560,
    "start_time": "2023-03-20T09:44:04.071Z"
   },
   {
    "duration": 5,
    "start_time": "2023-03-20T09:44:55.303Z"
   },
   {
    "duration": 17,
    "start_time": "2023-03-20T09:47:03.838Z"
   },
   {
    "duration": 10,
    "start_time": "2023-03-20T09:48:28.211Z"
   },
   {
    "duration": 9,
    "start_time": "2023-03-20T09:49:34.389Z"
   },
   {
    "duration": 1274,
    "start_time": "2023-03-20T09:49:49.317Z"
   },
   {
    "duration": 1716,
    "start_time": "2023-03-20T09:50:01.150Z"
   },
   {
    "duration": 14,
    "start_time": "2023-03-20T09:50:12.646Z"
   },
   {
    "duration": 11,
    "start_time": "2023-03-20T09:50:32.593Z"
   },
   {
    "duration": 11,
    "start_time": "2023-03-20T09:52:16.432Z"
   },
   {
    "duration": 4,
    "start_time": "2023-03-20T09:52:31.921Z"
   },
   {
    "duration": 1189,
    "start_time": "2023-03-20T09:52:46.679Z"
   },
   {
    "duration": 170,
    "start_time": "2023-03-20T09:52:47.871Z"
   },
   {
    "duration": 11,
    "start_time": "2023-03-20T09:52:48.043Z"
   },
   {
    "duration": 21,
    "start_time": "2023-03-20T09:52:48.056Z"
   },
   {
    "duration": 3,
    "start_time": "2023-03-20T09:52:48.079Z"
   },
   {
    "duration": 9,
    "start_time": "2023-03-20T09:52:48.083Z"
   },
   {
    "duration": 7,
    "start_time": "2023-03-20T09:52:48.094Z"
   },
   {
    "duration": 124,
    "start_time": "2023-03-20T09:52:48.102Z"
   },
   {
    "duration": 90,
    "start_time": "2023-03-20T09:52:48.228Z"
   },
   {
    "duration": 171,
    "start_time": "2023-03-20T09:52:48.319Z"
   },
   {
    "duration": 816,
    "start_time": "2023-03-20T09:52:48.492Z"
   },
   {
    "duration": 12,
    "start_time": "2023-03-20T09:52:49.311Z"
   },
   {
    "duration": 44,
    "start_time": "2023-03-20T09:52:49.325Z"
   },
   {
    "duration": 78,
    "start_time": "2023-03-20T09:52:49.372Z"
   },
   {
    "duration": 13,
    "start_time": "2023-03-20T09:52:49.452Z"
   },
   {
    "duration": 22,
    "start_time": "2023-03-20T09:52:49.467Z"
   },
   {
    "duration": 52,
    "start_time": "2023-03-20T09:52:49.491Z"
   },
   {
    "duration": 408,
    "start_time": "2023-03-20T09:52:49.545Z"
   },
   {
    "duration": 26,
    "start_time": "2023-03-20T09:52:49.955Z"
   },
   {
    "duration": 22,
    "start_time": "2023-03-20T09:52:49.983Z"
   },
   {
    "duration": 41,
    "start_time": "2023-03-20T09:52:50.007Z"
   },
   {
    "duration": 221,
    "start_time": "2023-03-20T09:52:50.049Z"
   },
   {
    "duration": 51,
    "start_time": "2023-03-20T09:52:50.272Z"
   },
   {
    "duration": 7,
    "start_time": "2023-03-20T09:52:50.341Z"
   },
   {
    "duration": 17,
    "start_time": "2023-03-20T09:52:50.350Z"
   },
   {
    "duration": 204,
    "start_time": "2023-03-20T09:52:50.369Z"
   },
   {
    "duration": 3,
    "start_time": "2023-03-20T09:52:50.574Z"
   },
   {
    "duration": 14,
    "start_time": "2023-03-20T09:52:50.579Z"
   },
   {
    "duration": 6,
    "start_time": "2023-03-20T09:52:50.595Z"
   },
   {
    "duration": 125,
    "start_time": "2023-03-20T09:52:50.603Z"
   },
   {
    "duration": 0,
    "start_time": "2023-03-20T09:52:50.729Z"
   },
   {
    "duration": 6,
    "start_time": "2023-03-20T09:52:58.902Z"
   },
   {
    "duration": 12,
    "start_time": "2023-03-20T09:53:15.550Z"
   },
   {
    "duration": 9,
    "start_time": "2023-03-20T09:53:38.550Z"
   },
   {
    "duration": 85,
    "start_time": "2023-03-20T09:53:47.912Z"
   },
   {
    "duration": 6,
    "start_time": "2023-03-20T09:53:52.775Z"
   },
   {
    "duration": 4,
    "start_time": "2023-03-20T09:54:05.904Z"
   },
   {
    "duration": 5,
    "start_time": "2023-03-20T09:54:11.604Z"
   },
   {
    "duration": 5,
    "start_time": "2023-03-20T09:55:05.968Z"
   },
   {
    "duration": 1195,
    "start_time": "2023-03-20T09:55:22.768Z"
   },
   {
    "duration": 177,
    "start_time": "2023-03-20T09:55:23.965Z"
   },
   {
    "duration": 16,
    "start_time": "2023-03-20T09:55:24.144Z"
   },
   {
    "duration": 33,
    "start_time": "2023-03-20T09:55:24.163Z"
   },
   {
    "duration": 4,
    "start_time": "2023-03-20T09:55:24.198Z"
   },
   {
    "duration": 37,
    "start_time": "2023-03-20T09:55:24.204Z"
   },
   {
    "duration": 8,
    "start_time": "2023-03-20T09:55:24.243Z"
   },
   {
    "duration": 128,
    "start_time": "2023-03-20T09:55:24.253Z"
   },
   {
    "duration": 91,
    "start_time": "2023-03-20T09:55:24.383Z"
   },
   {
    "duration": 167,
    "start_time": "2023-03-20T09:55:24.478Z"
   },
   {
    "duration": 773,
    "start_time": "2023-03-20T09:55:24.647Z"
   },
   {
    "duration": 12,
    "start_time": "2023-03-20T09:55:25.422Z"
   },
   {
    "duration": 85,
    "start_time": "2023-03-20T09:55:25.441Z"
   },
   {
    "duration": 60,
    "start_time": "2023-03-20T09:55:25.528Z"
   },
   {
    "duration": 11,
    "start_time": "2023-03-20T09:55:25.589Z"
   },
   {
    "duration": 28,
    "start_time": "2023-03-20T09:55:25.601Z"
   },
   {
    "duration": 38,
    "start_time": "2023-03-20T09:55:25.631Z"
   },
   {
    "duration": 394,
    "start_time": "2023-03-20T09:55:25.671Z"
   },
   {
    "duration": 28,
    "start_time": "2023-03-20T09:55:26.067Z"
   },
   {
    "duration": 45,
    "start_time": "2023-03-20T09:55:26.097Z"
   },
   {
    "duration": 18,
    "start_time": "2023-03-20T09:55:26.144Z"
   },
   {
    "duration": 224,
    "start_time": "2023-03-20T09:55:26.163Z"
   },
   {
    "duration": 58,
    "start_time": "2023-03-20T09:55:26.389Z"
   },
   {
    "duration": 7,
    "start_time": "2023-03-20T09:55:26.449Z"
   },
   {
    "duration": 20,
    "start_time": "2023-03-20T09:55:26.457Z"
   },
   {
    "duration": 208,
    "start_time": "2023-03-20T09:55:26.479Z"
   },
   {
    "duration": 2,
    "start_time": "2023-03-20T09:55:26.689Z"
   },
   {
    "duration": 6,
    "start_time": "2023-03-20T09:55:26.694Z"
   },
   {
    "duration": 4,
    "start_time": "2023-03-20T09:55:56.733Z"
   },
   {
    "duration": 43,
    "start_time": "2023-03-20T10:00:08.148Z"
   },
   {
    "duration": 3,
    "start_time": "2023-03-20T10:00:40.349Z"
   },
   {
    "duration": 7,
    "start_time": "2023-03-20T10:00:43.812Z"
   },
   {
    "duration": 3,
    "start_time": "2023-03-20T10:00:52.864Z"
   },
   {
    "duration": 7,
    "start_time": "2023-03-20T10:00:55.600Z"
   },
   {
    "duration": 105,
    "start_time": "2023-03-20T10:10:01.042Z"
   },
   {
    "duration": 3,
    "start_time": "2023-03-20T10:10:06.422Z"
   },
   {
    "duration": 9,
    "start_time": "2023-03-20T10:10:21.273Z"
   },
   {
    "duration": 8,
    "start_time": "2023-03-20T10:10:28.310Z"
   },
   {
    "duration": 8,
    "start_time": "2023-03-20T10:10:35.469Z"
   },
   {
    "duration": 8,
    "start_time": "2023-03-20T10:10:40.805Z"
   },
   {
    "duration": 10,
    "start_time": "2023-03-20T10:11:00.783Z"
   },
   {
    "duration": 5,
    "start_time": "2023-03-20T10:11:09.195Z"
   },
   {
    "duration": 9,
    "start_time": "2023-03-20T10:11:13.906Z"
   },
   {
    "duration": 92,
    "start_time": "2023-03-20T10:12:45.017Z"
   },
   {
    "duration": 8,
    "start_time": "2023-03-20T10:13:26.981Z"
   },
   {
    "duration": 1292,
    "start_time": "2023-03-20T10:13:30.405Z"
   },
   {
    "duration": 1182,
    "start_time": "2023-03-20T10:13:39.728Z"
   },
   {
    "duration": 2325,
    "start_time": "2023-03-20T10:13:45.021Z"
   },
   {
    "duration": 7,
    "start_time": "2023-03-20T10:13:50.006Z"
   },
   {
    "duration": 7,
    "start_time": "2023-03-20T10:14:00.707Z"
   },
   {
    "duration": 8,
    "start_time": "2023-03-20T10:14:06.044Z"
   },
   {
    "duration": 1196,
    "start_time": "2023-03-20T10:14:12.472Z"
   },
   {
    "duration": 581,
    "start_time": "2023-03-20T10:14:18.219Z"
   },
   {
    "duration": 7,
    "start_time": "2023-03-20T10:14:39.617Z"
   },
   {
    "duration": 4,
    "start_time": "2023-03-20T10:15:35.254Z"
   },
   {
    "duration": 9,
    "start_time": "2023-03-20T10:15:38.326Z"
   },
   {
    "duration": 5,
    "start_time": "2023-03-20T13:34:25.259Z"
   },
   {
    "duration": 83,
    "start_time": "2023-03-20T13:35:17.577Z"
   },
   {
    "duration": 20,
    "start_time": "2023-03-20T13:35:22.234Z"
   },
   {
    "duration": 10,
    "start_time": "2023-03-20T13:35:31.693Z"
   },
   {
    "duration": 7,
    "start_time": "2023-03-20T13:36:00.091Z"
   },
   {
    "duration": 35,
    "start_time": "2023-03-20T13:37:24.092Z"
   },
   {
    "duration": 43,
    "start_time": "2023-03-20T13:37:51.441Z"
   },
   {
    "duration": 5,
    "start_time": "2023-03-20T13:38:26.081Z"
   },
   {
    "duration": 10,
    "start_time": "2023-03-20T13:38:31.900Z"
   },
   {
    "duration": 10,
    "start_time": "2023-03-20T13:38:53.200Z"
   },
   {
    "duration": 9,
    "start_time": "2023-03-20T13:38:56.783Z"
   },
   {
    "duration": 7,
    "start_time": "2023-03-20T13:39:13.283Z"
   },
   {
    "duration": 13,
    "start_time": "2023-03-20T13:39:16.566Z"
   },
   {
    "duration": 10,
    "start_time": "2023-03-20T13:42:48.932Z"
   },
   {
    "duration": 15,
    "start_time": "2023-03-20T13:53:40.240Z"
   },
   {
    "duration": 10,
    "start_time": "2023-03-20T13:53:46.783Z"
   },
   {
    "duration": 8,
    "start_time": "2023-03-20T13:54:39.454Z"
   },
   {
    "duration": 8,
    "start_time": "2023-03-20T13:54:55.962Z"
   },
   {
    "duration": 8,
    "start_time": "2023-03-20T13:55:15.002Z"
   },
   {
    "duration": 8,
    "start_time": "2023-03-20T13:55:33.502Z"
   },
   {
    "duration": 9,
    "start_time": "2023-03-20T13:55:36.842Z"
   },
   {
    "duration": 5,
    "start_time": "2023-03-20T13:58:22.233Z"
   },
   {
    "duration": 7,
    "start_time": "2023-03-20T13:58:33.605Z"
   },
   {
    "duration": 8,
    "start_time": "2023-03-20T13:58:36.665Z"
   },
   {
    "duration": 10,
    "start_time": "2023-03-20T13:59:15.639Z"
   },
   {
    "duration": 1233,
    "start_time": "2023-03-20T13:59:29.099Z"
   },
   {
    "duration": 0,
    "start_time": "2023-03-20T13:59:30.341Z"
   },
   {
    "duration": 0,
    "start_time": "2023-03-20T13:59:30.344Z"
   },
   {
    "duration": 0,
    "start_time": "2023-03-20T13:59:30.345Z"
   },
   {
    "duration": 0,
    "start_time": "2023-03-20T13:59:30.346Z"
   },
   {
    "duration": 0,
    "start_time": "2023-03-20T13:59:30.347Z"
   },
   {
    "duration": 0,
    "start_time": "2023-03-20T13:59:30.348Z"
   },
   {
    "duration": 0,
    "start_time": "2023-03-20T13:59:30.349Z"
   },
   {
    "duration": 0,
    "start_time": "2023-03-20T13:59:30.350Z"
   },
   {
    "duration": 0,
    "start_time": "2023-03-20T13:59:30.352Z"
   },
   {
    "duration": 0,
    "start_time": "2023-03-20T13:59:30.353Z"
   },
   {
    "duration": 0,
    "start_time": "2023-03-20T13:59:30.355Z"
   },
   {
    "duration": 0,
    "start_time": "2023-03-20T13:59:30.356Z"
   },
   {
    "duration": 0,
    "start_time": "2023-03-20T13:59:30.357Z"
   },
   {
    "duration": 0,
    "start_time": "2023-03-20T13:59:30.358Z"
   },
   {
    "duration": 0,
    "start_time": "2023-03-20T13:59:30.359Z"
   },
   {
    "duration": 0,
    "start_time": "2023-03-20T13:59:30.360Z"
   },
   {
    "duration": 0,
    "start_time": "2023-03-20T13:59:30.362Z"
   },
   {
    "duration": 0,
    "start_time": "2023-03-20T13:59:30.363Z"
   },
   {
    "duration": 0,
    "start_time": "2023-03-20T13:59:30.364Z"
   },
   {
    "duration": 0,
    "start_time": "2023-03-20T13:59:30.365Z"
   },
   {
    "duration": 0,
    "start_time": "2023-03-20T13:59:30.367Z"
   },
   {
    "duration": 0,
    "start_time": "2023-03-20T13:59:30.368Z"
   },
   {
    "duration": 0,
    "start_time": "2023-03-20T13:59:30.369Z"
   },
   {
    "duration": 0,
    "start_time": "2023-03-20T13:59:30.370Z"
   },
   {
    "duration": 0,
    "start_time": "2023-03-20T13:59:30.371Z"
   },
   {
    "duration": 0,
    "start_time": "2023-03-20T13:59:30.373Z"
   },
   {
    "duration": 0,
    "start_time": "2023-03-20T13:59:30.374Z"
   },
   {
    "duration": 0,
    "start_time": "2023-03-20T13:59:30.375Z"
   },
   {
    "duration": 0,
    "start_time": "2023-03-20T13:59:30.376Z"
   },
   {
    "duration": 0,
    "start_time": "2023-03-20T13:59:30.377Z"
   },
   {
    "duration": 4,
    "start_time": "2023-03-20T14:00:00.192Z"
   },
   {
    "duration": 1204,
    "start_time": "2023-03-20T14:00:08.281Z"
   },
   {
    "duration": 166,
    "start_time": "2023-03-20T14:00:09.487Z"
   },
   {
    "duration": 11,
    "start_time": "2023-03-20T14:00:09.655Z"
   },
   {
    "duration": 21,
    "start_time": "2023-03-20T14:00:09.669Z"
   },
   {
    "duration": 3,
    "start_time": "2023-03-20T14:00:09.691Z"
   },
   {
    "duration": 11,
    "start_time": "2023-03-20T14:00:09.696Z"
   },
   {
    "duration": 35,
    "start_time": "2023-03-20T14:00:09.708Z"
   },
   {
    "duration": 111,
    "start_time": "2023-03-20T14:00:09.745Z"
   },
   {
    "duration": 84,
    "start_time": "2023-03-20T14:00:09.857Z"
   },
   {
    "duration": 146,
    "start_time": "2023-03-20T14:00:09.943Z"
   },
   {
    "duration": 731,
    "start_time": "2023-03-20T14:00:10.091Z"
   },
   {
    "duration": 18,
    "start_time": "2023-03-20T14:00:10.823Z"
   },
   {
    "duration": 32,
    "start_time": "2023-03-20T14:00:10.842Z"
   },
   {
    "duration": 67,
    "start_time": "2023-03-20T14:00:10.875Z"
   },
   {
    "duration": 12,
    "start_time": "2023-03-20T14:00:10.943Z"
   },
   {
    "duration": 23,
    "start_time": "2023-03-20T14:00:10.957Z"
   },
   {
    "duration": 36,
    "start_time": "2023-03-20T14:00:10.982Z"
   },
   {
    "duration": 383,
    "start_time": "2023-03-20T14:00:11.020Z"
   },
   {
    "duration": 41,
    "start_time": "2023-03-20T14:00:11.405Z"
   },
   {
    "duration": 23,
    "start_time": "2023-03-20T14:00:11.448Z"
   },
   {
    "duration": 17,
    "start_time": "2023-03-20T14:00:11.473Z"
   },
   {
    "duration": 235,
    "start_time": "2023-03-20T14:00:11.491Z"
   },
   {
    "duration": 57,
    "start_time": "2023-03-20T14:00:11.727Z"
   },
   {
    "duration": 7,
    "start_time": "2023-03-20T14:00:11.785Z"
   },
   {
    "duration": 13,
    "start_time": "2023-03-20T14:00:11.794Z"
   },
   {
    "duration": 217,
    "start_time": "2023-03-20T14:00:11.809Z"
   },
   {
    "duration": 51,
    "start_time": "2023-03-20T14:00:12.028Z"
   },
   {
    "duration": 3,
    "start_time": "2023-03-20T14:00:12.083Z"
   },
   {
    "duration": 19,
    "start_time": "2023-03-20T14:00:12.088Z"
   },
   {
    "duration": 14,
    "start_time": "2023-03-20T14:00:12.109Z"
   },
   {
    "duration": 11,
    "start_time": "2023-03-20T14:00:12.125Z"
   },
   {
    "duration": 3,
    "start_time": "2023-03-20T14:00:29.923Z"
   },
   {
    "duration": 6,
    "start_time": "2023-03-20T14:00:32.162Z"
   },
   {
    "duration": 4,
    "start_time": "2023-03-20T14:00:54.822Z"
   },
   {
    "duration": 8,
    "start_time": "2023-03-20T14:00:57.827Z"
   },
   {
    "duration": 1289,
    "start_time": "2023-03-20T14:01:08.835Z"
   },
   {
    "duration": 1205,
    "start_time": "2023-03-20T14:01:18.652Z"
   },
   {
    "duration": 3,
    "start_time": "2023-03-20T14:01:46.492Z"
   },
   {
    "duration": 1116,
    "start_time": "2023-03-20T14:01:52.272Z"
   },
   {
    "duration": 4,
    "start_time": "2023-03-20T14:02:26.753Z"
   },
   {
    "duration": 7,
    "start_time": "2023-03-20T14:02:31.019Z"
   },
   {
    "duration": 1182,
    "start_time": "2023-03-20T14:02:39.043Z"
   },
   {
    "duration": 170,
    "start_time": "2023-03-20T14:02:40.226Z"
   },
   {
    "duration": 10,
    "start_time": "2023-03-20T14:02:40.398Z"
   },
   {
    "duration": 31,
    "start_time": "2023-03-20T14:02:40.410Z"
   },
   {
    "duration": 3,
    "start_time": "2023-03-20T14:02:40.443Z"
   },
   {
    "duration": 23,
    "start_time": "2023-03-20T14:02:40.447Z"
   },
   {
    "duration": 7,
    "start_time": "2023-03-20T14:02:40.472Z"
   },
   {
    "duration": 107,
    "start_time": "2023-03-20T14:02:40.482Z"
   },
   {
    "duration": 84,
    "start_time": "2023-03-20T14:02:40.592Z"
   },
   {
    "duration": 156,
    "start_time": "2023-03-20T14:02:40.678Z"
   },
   {
    "duration": 771,
    "start_time": "2023-03-20T14:02:40.836Z"
   },
   {
    "duration": 12,
    "start_time": "2023-03-20T14:02:41.609Z"
   },
   {
    "duration": 42,
    "start_time": "2023-03-20T14:02:41.622Z"
   },
   {
    "duration": 76,
    "start_time": "2023-03-20T14:02:41.667Z"
   },
   {
    "duration": 12,
    "start_time": "2023-03-20T14:02:41.744Z"
   },
   {
    "duration": 15,
    "start_time": "2023-03-20T14:02:41.757Z"
   },
   {
    "duration": 40,
    "start_time": "2023-03-20T14:02:41.773Z"
   },
   {
    "duration": 415,
    "start_time": "2023-03-20T14:02:41.815Z"
   },
   {
    "duration": 34,
    "start_time": "2023-03-20T14:02:42.231Z"
   },
   {
    "duration": 23,
    "start_time": "2023-03-20T14:02:42.266Z"
   },
   {
    "duration": 19,
    "start_time": "2023-03-20T14:02:42.290Z"
   },
   {
    "duration": 227,
    "start_time": "2023-03-20T14:02:42.311Z"
   },
   {
    "duration": 52,
    "start_time": "2023-03-20T14:02:42.541Z"
   },
   {
    "duration": 8,
    "start_time": "2023-03-20T14:02:42.594Z"
   },
   {
    "duration": 12,
    "start_time": "2023-03-20T14:02:42.604Z"
   },
   {
    "duration": 185,
    "start_time": "2023-03-20T14:02:42.641Z"
   },
   {
    "duration": 50,
    "start_time": "2023-03-20T14:02:42.827Z"
   },
   {
    "duration": 3,
    "start_time": "2023-03-20T14:02:42.879Z"
   },
   {
    "duration": 6,
    "start_time": "2023-03-20T14:02:42.883Z"
   },
   {
    "duration": 5,
    "start_time": "2023-03-20T14:02:42.891Z"
   },
   {
    "duration": 9,
    "start_time": "2023-03-20T14:02:42.898Z"
   },
   {
    "duration": 6,
    "start_time": "2023-03-20T14:02:57.143Z"
   },
   {
    "duration": 1175,
    "start_time": "2023-03-20T14:03:06.583Z"
   },
   {
    "duration": 173,
    "start_time": "2023-03-20T14:03:07.760Z"
   },
   {
    "duration": 11,
    "start_time": "2023-03-20T14:03:07.935Z"
   },
   {
    "duration": 22,
    "start_time": "2023-03-20T14:03:07.948Z"
   },
   {
    "duration": 3,
    "start_time": "2023-03-20T14:03:07.973Z"
   },
   {
    "duration": 9,
    "start_time": "2023-03-20T14:03:07.978Z"
   },
   {
    "duration": 7,
    "start_time": "2023-03-20T14:03:07.989Z"
   },
   {
    "duration": 127,
    "start_time": "2023-03-20T14:03:07.998Z"
   },
   {
    "duration": 79,
    "start_time": "2023-03-20T14:03:08.127Z"
   },
   {
    "duration": 161,
    "start_time": "2023-03-20T14:03:08.207Z"
   },
   {
    "duration": 797,
    "start_time": "2023-03-20T14:03:08.370Z"
   },
   {
    "duration": 12,
    "start_time": "2023-03-20T14:03:09.170Z"
   },
   {
    "duration": 35,
    "start_time": "2023-03-20T14:03:09.183Z"
   },
   {
    "duration": 71,
    "start_time": "2023-03-20T14:03:09.222Z"
   },
   {
    "duration": 9,
    "start_time": "2023-03-20T14:03:09.295Z"
   },
   {
    "duration": 36,
    "start_time": "2023-03-20T14:03:09.306Z"
   },
   {
    "duration": 33,
    "start_time": "2023-03-20T14:03:09.344Z"
   },
   {
    "duration": 373,
    "start_time": "2023-03-20T14:03:09.379Z"
   },
   {
    "duration": 24,
    "start_time": "2023-03-20T14:03:09.754Z"
   },
   {
    "duration": 21,
    "start_time": "2023-03-20T14:03:09.780Z"
   },
   {
    "duration": 39,
    "start_time": "2023-03-20T14:03:09.802Z"
   },
   {
    "duration": 200,
    "start_time": "2023-03-20T14:03:09.843Z"
   },
   {
    "duration": 55,
    "start_time": "2023-03-20T14:03:10.044Z"
   },
   {
    "duration": 7,
    "start_time": "2023-03-20T14:03:10.101Z"
   },
   {
    "duration": 36,
    "start_time": "2023-03-20T14:03:10.109Z"
   },
   {
    "duration": 190,
    "start_time": "2023-03-20T14:03:10.147Z"
   },
   {
    "duration": 43,
    "start_time": "2023-03-20T14:03:10.340Z"
   },
   {
    "duration": 4,
    "start_time": "2023-03-20T14:03:10.385Z"
   },
   {
    "duration": 4,
    "start_time": "2023-03-20T14:03:10.391Z"
   },
   {
    "duration": 5,
    "start_time": "2023-03-20T14:03:10.397Z"
   },
   {
    "duration": 8,
    "start_time": "2023-03-20T14:03:10.404Z"
   },
   {
    "duration": 6,
    "start_time": "2023-03-20T14:04:01.588Z"
   },
   {
    "duration": 9,
    "start_time": "2023-03-20T14:04:04.002Z"
   },
   {
    "duration": 4,
    "start_time": "2023-03-20T14:04:42.308Z"
   },
   {
    "duration": 7,
    "start_time": "2023-03-20T14:04:44.413Z"
   },
   {
    "duration": 7,
    "start_time": "2023-03-20T14:04:57.188Z"
   },
   {
    "duration": 6,
    "start_time": "2023-03-20T14:05:28.389Z"
   },
   {
    "duration": 6,
    "start_time": "2023-03-20T14:05:36.653Z"
   },
   {
    "duration": 1143,
    "start_time": "2023-03-20T14:05:49.911Z"
   },
   {
    "duration": 165,
    "start_time": "2023-03-20T14:05:51.056Z"
   },
   {
    "duration": 10,
    "start_time": "2023-03-20T14:05:51.223Z"
   },
   {
    "duration": 19,
    "start_time": "2023-03-20T14:05:51.241Z"
   },
   {
    "duration": 19,
    "start_time": "2023-03-20T14:05:51.262Z"
   },
   {
    "duration": 36,
    "start_time": "2023-03-20T14:05:51.283Z"
   },
   {
    "duration": 65,
    "start_time": "2023-03-20T14:05:51.321Z"
   },
   {
    "duration": 138,
    "start_time": "2023-03-20T14:05:51.388Z"
   },
   {
    "duration": 96,
    "start_time": "2023-03-20T14:05:51.528Z"
   },
   {
    "duration": 164,
    "start_time": "2023-03-20T14:05:51.626Z"
   },
   {
    "duration": 830,
    "start_time": "2023-03-20T14:05:51.792Z"
   },
   {
    "duration": 9,
    "start_time": "2023-03-20T14:05:52.624Z"
   },
   {
    "duration": 39,
    "start_time": "2023-03-20T14:05:52.635Z"
   },
   {
    "duration": 46,
    "start_time": "2023-03-20T14:05:52.677Z"
   },
   {
    "duration": 25,
    "start_time": "2023-03-20T14:05:52.725Z"
   },
   {
    "duration": 13,
    "start_time": "2023-03-20T14:05:52.752Z"
   },
   {
    "duration": 33,
    "start_time": "2023-03-20T14:05:52.767Z"
   },
   {
    "duration": 420,
    "start_time": "2023-03-20T14:05:52.801Z"
   },
   {
    "duration": 34,
    "start_time": "2023-03-20T14:05:53.223Z"
   },
   {
    "duration": 26,
    "start_time": "2023-03-20T14:05:53.258Z"
   },
   {
    "duration": 19,
    "start_time": "2023-03-20T14:05:53.285Z"
   },
   {
    "duration": 242,
    "start_time": "2023-03-20T14:05:53.306Z"
   },
   {
    "duration": 48,
    "start_time": "2023-03-20T14:05:53.549Z"
   },
   {
    "duration": 6,
    "start_time": "2023-03-20T14:05:53.599Z"
   },
   {
    "duration": 35,
    "start_time": "2023-03-20T14:05:53.607Z"
   },
   {
    "duration": 192,
    "start_time": "2023-03-20T14:05:53.643Z"
   },
   {
    "duration": 47,
    "start_time": "2023-03-20T14:05:53.840Z"
   },
   {
    "duration": 2,
    "start_time": "2023-03-20T14:05:53.889Z"
   },
   {
    "duration": 6,
    "start_time": "2023-03-20T14:05:53.893Z"
   },
   {
    "duration": 21,
    "start_time": "2023-03-20T14:05:53.901Z"
   },
   {
    "duration": 20,
    "start_time": "2023-03-20T14:05:53.924Z"
   },
   {
    "duration": 7,
    "start_time": "2023-03-20T14:08:45.528Z"
   },
   {
    "duration": 10,
    "start_time": "2023-03-20T14:08:54.947Z"
   },
   {
    "duration": 8,
    "start_time": "2023-03-20T14:08:58.069Z"
   },
   {
    "duration": 5,
    "start_time": "2023-03-20T14:12:58.487Z"
   },
   {
    "duration": 4,
    "start_time": "2023-03-20T14:13:19.960Z"
   },
   {
    "duration": 11,
    "start_time": "2023-03-20T15:16:44.982Z"
   },
   {
    "duration": 132,
    "start_time": "2023-03-20T15:18:45.883Z"
   },
   {
    "duration": 31,
    "start_time": "2023-03-20T15:19:44.131Z"
   },
   {
    "duration": 38,
    "start_time": "2023-03-20T15:20:02.807Z"
   },
   {
    "duration": 4,
    "start_time": "2023-03-20T15:25:04.389Z"
   },
   {
    "duration": 16,
    "start_time": "2023-03-20T16:10:38.784Z"
   },
   {
    "duration": 69,
    "start_time": "2023-03-20T16:10:47.928Z"
   },
   {
    "duration": 92,
    "start_time": "2023-03-20T16:12:46.897Z"
   },
   {
    "duration": 68,
    "start_time": "2023-03-20T16:15:23.130Z"
   },
   {
    "duration": 62,
    "start_time": "2023-03-20T16:15:47.118Z"
   },
   {
    "duration": 36,
    "start_time": "2023-03-20T16:17:47.541Z"
   },
   {
    "duration": 1309,
    "start_time": "2023-03-20T16:17:53.620Z"
   },
   {
    "duration": 192,
    "start_time": "2023-03-20T16:17:54.931Z"
   },
   {
    "duration": 22,
    "start_time": "2023-03-20T16:17:55.125Z"
   },
   {
    "duration": 25,
    "start_time": "2023-03-20T16:17:55.149Z"
   },
   {
    "duration": 3,
    "start_time": "2023-03-20T16:17:55.177Z"
   },
   {
    "duration": 14,
    "start_time": "2023-03-20T16:17:55.181Z"
   },
   {
    "duration": 9,
    "start_time": "2023-03-20T16:17:55.197Z"
   },
   {
    "duration": 162,
    "start_time": "2023-03-20T16:17:55.209Z"
   },
   {
    "duration": 96,
    "start_time": "2023-03-20T16:17:55.373Z"
   },
   {
    "duration": 170,
    "start_time": "2023-03-20T16:17:55.471Z"
   },
   {
    "duration": 785,
    "start_time": "2023-03-20T16:17:55.643Z"
   },
   {
    "duration": 16,
    "start_time": "2023-03-20T16:17:56.430Z"
   },
   {
    "duration": 38,
    "start_time": "2023-03-20T16:17:56.447Z"
   },
   {
    "duration": 73,
    "start_time": "2023-03-20T16:17:56.488Z"
   },
   {
    "duration": 11,
    "start_time": "2023-03-20T16:17:56.562Z"
   },
   {
    "duration": 15,
    "start_time": "2023-03-20T16:17:56.574Z"
   },
   {
    "duration": 59,
    "start_time": "2023-03-20T16:17:56.590Z"
   },
   {
    "duration": 424,
    "start_time": "2023-03-20T16:17:56.650Z"
   },
   {
    "duration": 26,
    "start_time": "2023-03-20T16:17:57.076Z"
   },
   {
    "duration": 37,
    "start_time": "2023-03-20T16:17:57.104Z"
   },
   {
    "duration": 25,
    "start_time": "2023-03-20T16:17:57.143Z"
   },
   {
    "duration": 236,
    "start_time": "2023-03-20T16:17:57.170Z"
   },
   {
    "duration": 67,
    "start_time": "2023-03-20T16:17:57.408Z"
   },
   {
    "duration": 8,
    "start_time": "2023-03-20T16:17:57.476Z"
   },
   {
    "duration": 11,
    "start_time": "2023-03-20T16:17:57.485Z"
   },
   {
    "duration": 232,
    "start_time": "2023-03-20T16:17:57.497Z"
   },
   {
    "duration": 56,
    "start_time": "2023-03-20T16:17:57.731Z"
   },
   {
    "duration": 3,
    "start_time": "2023-03-20T16:17:57.789Z"
   },
   {
    "duration": 27,
    "start_time": "2023-03-20T16:17:57.794Z"
   },
   {
    "duration": 28,
    "start_time": "2023-03-20T16:17:57.822Z"
   },
   {
    "duration": 10,
    "start_time": "2023-03-20T16:17:57.852Z"
   },
   {
    "duration": 7,
    "start_time": "2023-03-20T16:17:57.863Z"
   },
   {
    "duration": 10,
    "start_time": "2023-03-20T16:17:57.872Z"
   },
   {
    "duration": 64,
    "start_time": "2023-03-20T16:17:57.883Z"
   },
   {
    "duration": 70,
    "start_time": "2023-03-20T16:17:57.949Z"
   },
   {
    "duration": 84,
    "start_time": "2023-03-20T16:17:58.020Z"
   },
   {
    "duration": 1437,
    "start_time": "2023-03-21T05:14:38.459Z"
   },
   {
    "duration": 854,
    "start_time": "2023-03-21T05:14:39.898Z"
   },
   {
    "duration": 12,
    "start_time": "2023-03-21T05:14:40.754Z"
   },
   {
    "duration": 22,
    "start_time": "2023-03-21T05:14:40.768Z"
   },
   {
    "duration": 3,
    "start_time": "2023-03-21T05:14:40.792Z"
   },
   {
    "duration": 8,
    "start_time": "2023-03-21T05:14:40.797Z"
   },
   {
    "duration": 8,
    "start_time": "2023-03-21T05:14:40.806Z"
   },
   {
    "duration": 113,
    "start_time": "2023-03-21T05:14:40.815Z"
   },
   {
    "duration": 82,
    "start_time": "2023-03-21T05:14:40.930Z"
   },
   {
    "duration": 152,
    "start_time": "2023-03-21T05:14:41.015Z"
   },
   {
    "duration": 764,
    "start_time": "2023-03-21T05:14:41.169Z"
   },
   {
    "duration": 10,
    "start_time": "2023-03-21T05:14:41.935Z"
   },
   {
    "duration": 27,
    "start_time": "2023-03-21T05:14:41.946Z"
   },
   {
    "duration": 48,
    "start_time": "2023-03-21T05:14:41.988Z"
   },
   {
    "duration": 10,
    "start_time": "2023-03-21T05:14:42.037Z"
   },
   {
    "duration": 13,
    "start_time": "2023-03-21T05:14:42.049Z"
   },
   {
    "duration": 54,
    "start_time": "2023-03-21T05:14:42.064Z"
   },
   {
    "duration": 376,
    "start_time": "2023-03-21T05:14:42.120Z"
   },
   {
    "duration": 26,
    "start_time": "2023-03-21T05:14:42.498Z"
   },
   {
    "duration": 23,
    "start_time": "2023-03-21T05:14:42.525Z"
   },
   {
    "duration": 45,
    "start_time": "2023-03-21T05:14:42.549Z"
   },
   {
    "duration": 223,
    "start_time": "2023-03-21T05:14:42.596Z"
   },
   {
    "duration": 49,
    "start_time": "2023-03-21T05:14:42.821Z"
   },
   {
    "duration": 24,
    "start_time": "2023-03-21T05:14:42.873Z"
   },
   {
    "duration": 10,
    "start_time": "2023-03-21T05:14:42.899Z"
   },
   {
    "duration": 205,
    "start_time": "2023-03-21T05:14:42.911Z"
   },
   {
    "duration": 45,
    "start_time": "2023-03-21T05:14:43.118Z"
   },
   {
    "duration": 3,
    "start_time": "2023-03-21T05:14:43.167Z"
   },
   {
    "duration": 22,
    "start_time": "2023-03-21T05:14:43.189Z"
   },
   {
    "duration": 12,
    "start_time": "2023-03-21T05:14:43.213Z"
   },
   {
    "duration": 8,
    "start_time": "2023-03-21T05:14:43.227Z"
   },
   {
    "duration": 6,
    "start_time": "2023-03-21T05:14:43.236Z"
   },
   {
    "duration": 10,
    "start_time": "2023-03-21T05:14:43.243Z"
   },
   {
    "duration": 56,
    "start_time": "2023-03-21T05:14:43.254Z"
   },
   {
    "duration": 63,
    "start_time": "2023-03-21T05:14:43.311Z"
   },
   {
    "duration": 66,
    "start_time": "2023-03-21T05:14:43.389Z"
   },
   {
    "duration": 67,
    "start_time": "2023-03-21T05:16:25.689Z"
   },
   {
    "duration": 172,
    "start_time": "2023-03-21T05:21:17.537Z"
   },
   {
    "duration": 70,
    "start_time": "2023-03-21T05:21:21.342Z"
   },
   {
    "duration": 61,
    "start_time": "2023-03-21T05:21:40.884Z"
   },
   {
    "duration": 64,
    "start_time": "2023-03-21T05:21:48.437Z"
   },
   {
    "duration": 67,
    "start_time": "2023-03-21T05:21:58.874Z"
   },
   {
    "duration": 76,
    "start_time": "2023-03-21T05:22:46.735Z"
   },
   {
    "duration": 5,
    "start_time": "2023-03-21T06:10:22.986Z"
   },
   {
    "duration": 4,
    "start_time": "2023-03-21T06:11:21.818Z"
   },
   {
    "duration": 15,
    "start_time": "2023-03-21T06:22:52.751Z"
   },
   {
    "duration": 9,
    "start_time": "2023-03-21T06:22:59.379Z"
   },
   {
    "duration": 26,
    "start_time": "2023-03-21T06:23:26.679Z"
   },
   {
    "duration": 10,
    "start_time": "2023-03-21T06:23:44.480Z"
   },
   {
    "duration": 7,
    "start_time": "2023-03-21T06:24:26.438Z"
   },
   {
    "duration": 10,
    "start_time": "2023-03-21T06:24:28.742Z"
   },
   {
    "duration": 6,
    "start_time": "2023-03-21T06:24:45.231Z"
   },
   {
    "duration": 12,
    "start_time": "2023-03-21T06:24:47.531Z"
   },
   {
    "duration": 6,
    "start_time": "2023-03-21T06:24:54.262Z"
   },
   {
    "duration": 11,
    "start_time": "2023-03-21T06:24:56.904Z"
   },
   {
    "duration": 5,
    "start_time": "2023-03-21T06:25:38.979Z"
   },
   {
    "duration": 9,
    "start_time": "2023-03-21T06:25:41.979Z"
   },
   {
    "duration": 6,
    "start_time": "2023-03-21T06:29:31.108Z"
   },
   {
    "duration": 10,
    "start_time": "2023-03-21T06:29:36.431Z"
   },
   {
    "duration": 1202,
    "start_time": "2023-03-21T06:29:43.940Z"
   },
   {
    "duration": 182,
    "start_time": "2023-03-21T06:29:45.145Z"
   },
   {
    "duration": 11,
    "start_time": "2023-03-21T06:29:45.329Z"
   },
   {
    "duration": 35,
    "start_time": "2023-03-21T06:29:45.343Z"
   },
   {
    "duration": 12,
    "start_time": "2023-03-21T06:29:45.380Z"
   },
   {
    "duration": 18,
    "start_time": "2023-03-21T06:29:45.393Z"
   },
   {
    "duration": 8,
    "start_time": "2023-03-21T06:29:45.413Z"
   },
   {
    "duration": 119,
    "start_time": "2023-03-21T06:29:45.423Z"
   },
   {
    "duration": 87,
    "start_time": "2023-03-21T06:29:45.544Z"
   },
   {
    "duration": 184,
    "start_time": "2023-03-21T06:29:45.634Z"
   },
   {
    "duration": 830,
    "start_time": "2023-03-21T06:29:45.821Z"
   },
   {
    "duration": 11,
    "start_time": "2023-03-21T06:29:46.653Z"
   },
   {
    "duration": 61,
    "start_time": "2023-03-21T06:29:46.666Z"
   },
   {
    "duration": 50,
    "start_time": "2023-03-21T06:29:46.729Z"
   },
   {
    "duration": 18,
    "start_time": "2023-03-21T06:29:46.781Z"
   },
   {
    "duration": 20,
    "start_time": "2023-03-21T06:29:46.805Z"
   },
   {
    "duration": 52,
    "start_time": "2023-03-21T06:29:46.827Z"
   },
   {
    "duration": 443,
    "start_time": "2023-03-21T06:29:46.898Z"
   },
   {
    "duration": 52,
    "start_time": "2023-03-21T06:29:47.344Z"
   },
   {
    "duration": 32,
    "start_time": "2023-03-21T06:29:47.405Z"
   },
   {
    "duration": 29,
    "start_time": "2023-03-21T06:29:47.440Z"
   },
   {
    "duration": 307,
    "start_time": "2023-03-21T06:29:47.471Z"
   },
   {
    "duration": 68,
    "start_time": "2023-03-21T06:29:47.779Z"
   },
   {
    "duration": 8,
    "start_time": "2023-03-21T06:29:47.849Z"
   },
   {
    "duration": 37,
    "start_time": "2023-03-21T06:29:47.858Z"
   },
   {
    "duration": 218,
    "start_time": "2023-03-21T06:29:47.900Z"
   },
   {
    "duration": 50,
    "start_time": "2023-03-21T06:29:48.120Z"
   },
   {
    "duration": 30,
    "start_time": "2023-03-21T06:29:48.175Z"
   },
   {
    "duration": 39,
    "start_time": "2023-03-21T06:29:48.208Z"
   },
   {
    "duration": 18,
    "start_time": "2023-03-21T06:29:48.250Z"
   },
   {
    "duration": 12,
    "start_time": "2023-03-21T06:29:48.270Z"
   },
   {
    "duration": 29,
    "start_time": "2023-03-21T06:29:48.284Z"
   },
   {
    "duration": 18,
    "start_time": "2023-03-21T06:29:48.315Z"
   },
   {
    "duration": 49,
    "start_time": "2023-03-21T06:29:48.335Z"
   },
   {
    "duration": 84,
    "start_time": "2023-03-21T06:29:48.386Z"
   },
   {
    "duration": 9,
    "start_time": "2023-03-21T06:29:48.472Z"
   },
   {
    "duration": 19,
    "start_time": "2023-03-21T06:31:01.048Z"
   },
   {
    "duration": 22,
    "start_time": "2023-03-21T06:31:06.937Z"
   },
   {
    "duration": 242,
    "start_time": "2023-03-21T06:33:00.211Z"
   },
   {
    "duration": 1368,
    "start_time": "2023-03-21T06:33:05.808Z"
   },
   {
    "duration": 218,
    "start_time": "2023-03-21T06:33:07.180Z"
   },
   {
    "duration": 16,
    "start_time": "2023-03-21T06:33:07.399Z"
   },
   {
    "duration": 37,
    "start_time": "2023-03-21T06:33:07.417Z"
   },
   {
    "duration": 3,
    "start_time": "2023-03-21T06:33:07.457Z"
   },
   {
    "duration": 29,
    "start_time": "2023-03-21T06:33:07.462Z"
   },
   {
    "duration": 13,
    "start_time": "2023-03-21T06:33:07.493Z"
   },
   {
    "duration": 161,
    "start_time": "2023-03-21T06:33:07.508Z"
   },
   {
    "duration": 119,
    "start_time": "2023-03-21T06:33:07.671Z"
   },
   {
    "duration": 282,
    "start_time": "2023-03-21T06:33:07.795Z"
   },
   {
    "duration": 946,
    "start_time": "2023-03-21T06:33:08.079Z"
   },
   {
    "duration": 12,
    "start_time": "2023-03-21T06:33:09.027Z"
   },
   {
    "duration": 51,
    "start_time": "2023-03-21T06:33:09.041Z"
   },
   {
    "duration": 60,
    "start_time": "2023-03-21T06:33:09.098Z"
   },
   {
    "duration": 31,
    "start_time": "2023-03-21T06:33:09.160Z"
   },
   {
    "duration": 23,
    "start_time": "2023-03-21T06:33:09.192Z"
   },
   {
    "duration": 86,
    "start_time": "2023-03-21T06:33:09.218Z"
   },
   {
    "duration": 502,
    "start_time": "2023-03-21T06:33:09.307Z"
   },
   {
    "duration": 31,
    "start_time": "2023-03-21T06:33:09.810Z"
   },
   {
    "duration": 26,
    "start_time": "2023-03-21T06:33:09.843Z"
   },
   {
    "duration": 31,
    "start_time": "2023-03-21T06:33:09.889Z"
   },
   {
    "duration": 263,
    "start_time": "2023-03-21T06:33:09.922Z"
   },
   {
    "duration": 91,
    "start_time": "2023-03-21T06:33:10.188Z"
   },
   {
    "duration": 13,
    "start_time": "2023-03-21T06:33:10.293Z"
   },
   {
    "duration": 13,
    "start_time": "2023-03-21T06:33:10.308Z"
   },
   {
    "duration": 233,
    "start_time": "2023-03-21T06:33:10.323Z"
   },
   {
    "duration": 98,
    "start_time": "2023-03-21T06:33:10.559Z"
   },
   {
    "duration": 4,
    "start_time": "2023-03-21T06:33:10.660Z"
   },
   {
    "duration": 58,
    "start_time": "2023-03-21T06:33:10.666Z"
   },
   {
    "duration": 10,
    "start_time": "2023-03-21T06:33:10.727Z"
   },
   {
    "duration": 16,
    "start_time": "2023-03-21T06:33:10.739Z"
   },
   {
    "duration": 10,
    "start_time": "2023-03-21T06:33:10.758Z"
   },
   {
    "duration": 26,
    "start_time": "2023-03-21T06:33:10.771Z"
   },
   {
    "duration": 52,
    "start_time": "2023-03-21T06:33:10.799Z"
   },
   {
    "duration": 100,
    "start_time": "2023-03-21T06:33:10.853Z"
   },
   {
    "duration": 9,
    "start_time": "2023-03-21T06:33:10.956Z"
   },
   {
    "duration": 5,
    "start_time": "2023-03-21T06:36:05.441Z"
   },
   {
    "duration": 4,
    "start_time": "2023-03-21T06:39:22.552Z"
   },
   {
    "duration": 3,
    "start_time": "2023-03-21T06:39:52.734Z"
   },
   {
    "duration": 4,
    "start_time": "2023-03-21T06:40:12.684Z"
   },
   {
    "duration": 4,
    "start_time": "2023-03-21T06:43:23.113Z"
   },
   {
    "duration": 4,
    "start_time": "2023-03-21T06:43:39.442Z"
   },
   {
    "duration": 4,
    "start_time": "2023-03-21T06:44:10.862Z"
   },
   {
    "duration": 87,
    "start_time": "2023-03-21T06:44:42.754Z"
   },
   {
    "duration": 6,
    "start_time": "2023-03-21T06:45:08.014Z"
   },
   {
    "duration": 7,
    "start_time": "2023-03-21T06:45:11.522Z"
   },
   {
    "duration": 1294,
    "start_time": "2023-03-21T06:46:06.715Z"
   },
   {
    "duration": 190,
    "start_time": "2023-03-21T06:46:08.017Z"
   },
   {
    "duration": 16,
    "start_time": "2023-03-21T06:46:08.213Z"
   },
   {
    "duration": 33,
    "start_time": "2023-03-21T06:46:08.231Z"
   },
   {
    "duration": 3,
    "start_time": "2023-03-21T06:46:08.266Z"
   },
   {
    "duration": 48,
    "start_time": "2023-03-21T06:46:08.271Z"
   },
   {
    "duration": 11,
    "start_time": "2023-03-21T06:46:08.321Z"
   },
   {
    "duration": 134,
    "start_time": "2023-03-21T06:46:08.333Z"
   },
   {
    "duration": 86,
    "start_time": "2023-03-21T06:46:08.469Z"
   },
   {
    "duration": 207,
    "start_time": "2023-03-21T06:46:08.557Z"
   },
   {
    "duration": 870,
    "start_time": "2023-03-21T06:46:08.766Z"
   },
   {
    "duration": 9,
    "start_time": "2023-03-21T06:46:09.638Z"
   },
   {
    "duration": 43,
    "start_time": "2023-03-21T06:46:09.649Z"
   },
   {
    "duration": 64,
    "start_time": "2023-03-21T06:46:09.697Z"
   },
   {
    "duration": 11,
    "start_time": "2023-03-21T06:46:09.763Z"
   },
   {
    "duration": 47,
    "start_time": "2023-03-21T06:46:09.775Z"
   },
   {
    "duration": 33,
    "start_time": "2023-03-21T06:46:09.823Z"
   },
   {
    "duration": 421,
    "start_time": "2023-03-21T06:46:09.858Z"
   },
   {
    "duration": 36,
    "start_time": "2023-03-21T06:46:10.290Z"
   },
   {
    "duration": 23,
    "start_time": "2023-03-21T06:46:10.328Z"
   },
   {
    "duration": 23,
    "start_time": "2023-03-21T06:46:10.353Z"
   },
   {
    "duration": 247,
    "start_time": "2023-03-21T06:46:10.389Z"
   },
   {
    "duration": 83,
    "start_time": "2023-03-21T06:46:10.638Z"
   },
   {
    "duration": 8,
    "start_time": "2023-03-21T06:46:10.723Z"
   },
   {
    "duration": 10,
    "start_time": "2023-03-21T06:46:10.732Z"
   },
   {
    "duration": 234,
    "start_time": "2023-03-21T06:46:10.744Z"
   },
   {
    "duration": 76,
    "start_time": "2023-03-21T06:46:10.980Z"
   },
   {
    "duration": 3,
    "start_time": "2023-03-21T06:46:11.057Z"
   },
   {
    "duration": 54,
    "start_time": "2023-03-21T06:46:11.062Z"
   },
   {
    "duration": 6,
    "start_time": "2023-03-21T06:46:11.118Z"
   },
   {
    "duration": 18,
    "start_time": "2023-03-21T06:46:11.126Z"
   },
   {
    "duration": 5,
    "start_time": "2023-03-21T06:46:11.145Z"
   },
   {
    "duration": 12,
    "start_time": "2023-03-21T06:46:11.151Z"
   },
   {
    "duration": 50,
    "start_time": "2023-03-21T06:46:11.165Z"
   },
   {
    "duration": 99,
    "start_time": "2023-03-21T06:46:11.219Z"
   },
   {
    "duration": 5,
    "start_time": "2023-03-21T06:46:11.320Z"
   },
   {
    "duration": 22,
    "start_time": "2023-03-21T06:46:11.327Z"
   },
   {
    "duration": 123,
    "start_time": "2023-03-21T06:48:27.217Z"
   },
   {
    "duration": 4,
    "start_time": "2023-03-21T06:48:34.316Z"
   },
   {
    "duration": 6,
    "start_time": "2023-03-21T06:48:36.412Z"
   },
   {
    "duration": 5,
    "start_time": "2023-03-21T06:57:35.023Z"
   },
   {
    "duration": 5,
    "start_time": "2023-03-21T07:04:00.242Z"
   },
   {
    "duration": 6,
    "start_time": "2023-03-21T07:04:42.833Z"
   },
   {
    "duration": 6,
    "start_time": "2023-03-21T07:05:29.134Z"
   },
   {
    "duration": 6,
    "start_time": "2023-03-21T07:06:44.495Z"
   },
   {
    "duration": 6,
    "start_time": "2023-03-21T07:06:49.195Z"
   },
   {
    "duration": 4,
    "start_time": "2023-03-21T07:31:30.999Z"
   },
   {
    "duration": 1222,
    "start_time": "2023-03-21T07:32:39.199Z"
   },
   {
    "duration": 172,
    "start_time": "2023-03-21T07:32:40.423Z"
   },
   {
    "duration": 11,
    "start_time": "2023-03-21T07:32:40.600Z"
   },
   {
    "duration": 24,
    "start_time": "2023-03-21T07:32:40.613Z"
   },
   {
    "duration": 3,
    "start_time": "2023-03-21T07:32:40.640Z"
   },
   {
    "duration": 10,
    "start_time": "2023-03-21T07:32:40.645Z"
   },
   {
    "duration": 8,
    "start_time": "2023-03-21T07:32:40.657Z"
   },
   {
    "duration": 117,
    "start_time": "2023-03-21T07:32:40.693Z"
   },
   {
    "duration": 79,
    "start_time": "2023-03-21T07:32:40.812Z"
   },
   {
    "duration": 166,
    "start_time": "2023-03-21T07:32:40.893Z"
   },
   {
    "duration": 755,
    "start_time": "2023-03-21T07:32:41.061Z"
   },
   {
    "duration": 9,
    "start_time": "2023-03-21T07:32:41.817Z"
   },
   {
    "duration": 47,
    "start_time": "2023-03-21T07:32:41.827Z"
   },
   {
    "duration": 53,
    "start_time": "2023-03-21T07:32:41.876Z"
   },
   {
    "duration": 10,
    "start_time": "2023-03-21T07:32:41.931Z"
   },
   {
    "duration": 19,
    "start_time": "2023-03-21T07:32:41.943Z"
   },
   {
    "duration": 56,
    "start_time": "2023-03-21T07:32:41.964Z"
   },
   {
    "duration": 394,
    "start_time": "2023-03-21T07:32:42.022Z"
   },
   {
    "duration": 25,
    "start_time": "2023-03-21T07:32:42.417Z"
   },
   {
    "duration": 35,
    "start_time": "2023-03-21T07:32:42.443Z"
   },
   {
    "duration": 30,
    "start_time": "2023-03-21T07:32:42.480Z"
   },
   {
    "duration": 228,
    "start_time": "2023-03-21T07:32:42.511Z"
   },
   {
    "duration": 69,
    "start_time": "2023-03-21T07:32:42.741Z"
   },
   {
    "duration": 7,
    "start_time": "2023-03-21T07:32:42.812Z"
   },
   {
    "duration": 15,
    "start_time": "2023-03-21T07:32:42.821Z"
   },
   {
    "duration": 217,
    "start_time": "2023-03-21T07:32:42.838Z"
   },
   {
    "duration": 58,
    "start_time": "2023-03-21T07:32:43.057Z"
   },
   {
    "duration": 2,
    "start_time": "2023-03-21T07:32:43.117Z"
   },
   {
    "duration": 38,
    "start_time": "2023-03-21T07:32:43.121Z"
   },
   {
    "duration": 11,
    "start_time": "2023-03-21T07:32:43.160Z"
   },
   {
    "duration": 33,
    "start_time": "2023-03-21T07:32:43.172Z"
   },
   {
    "duration": 5,
    "start_time": "2023-03-21T07:32:43.206Z"
   },
   {
    "duration": 31,
    "start_time": "2023-03-21T07:32:43.212Z"
   },
   {
    "duration": 56,
    "start_time": "2023-03-21T07:32:43.244Z"
   },
   {
    "duration": 75,
    "start_time": "2023-03-21T07:32:43.302Z"
   },
   {
    "duration": 15,
    "start_time": "2023-03-21T07:32:43.379Z"
   },
   {
    "duration": 23,
    "start_time": "2023-03-21T07:32:43.395Z"
   },
   {
    "duration": 29,
    "start_time": "2023-03-21T07:32:43.420Z"
   },
   {
    "duration": 13,
    "start_time": "2023-03-21T07:32:43.451Z"
   },
   {
    "duration": 35,
    "start_time": "2023-03-21T07:32:43.465Z"
   },
   {
    "duration": 4,
    "start_time": "2023-03-21T07:46:29.338Z"
   },
   {
    "duration": 8,
    "start_time": "2023-03-21T07:46:33.993Z"
   },
   {
    "duration": 6,
    "start_time": "2023-03-21T07:52:38.339Z"
   },
   {
    "duration": 6,
    "start_time": "2023-03-21T07:53:05.827Z"
   },
   {
    "duration": 5,
    "start_time": "2023-03-21T07:57:06.465Z"
   },
   {
    "duration": 1201,
    "start_time": "2023-03-21T07:57:58.503Z"
   },
   {
    "duration": 162,
    "start_time": "2023-03-21T07:57:59.706Z"
   },
   {
    "duration": 19,
    "start_time": "2023-03-21T07:57:59.870Z"
   },
   {
    "duration": 22,
    "start_time": "2023-03-21T07:57:59.891Z"
   },
   {
    "duration": 4,
    "start_time": "2023-03-21T07:57:59.916Z"
   },
   {
    "duration": 8,
    "start_time": "2023-03-21T07:57:59.922Z"
   },
   {
    "duration": 8,
    "start_time": "2023-03-21T07:57:59.932Z"
   },
   {
    "duration": 130,
    "start_time": "2023-03-21T07:57:59.941Z"
   },
   {
    "duration": 86,
    "start_time": "2023-03-21T07:58:00.072Z"
   },
   {
    "duration": 168,
    "start_time": "2023-03-21T07:58:00.160Z"
   },
   {
    "duration": 804,
    "start_time": "2023-03-21T07:58:00.329Z"
   },
   {
    "duration": 13,
    "start_time": "2023-03-21T07:58:01.135Z"
   },
   {
    "duration": 56,
    "start_time": "2023-03-21T07:58:01.150Z"
   },
   {
    "duration": 57,
    "start_time": "2023-03-21T07:58:01.209Z"
   },
   {
    "duration": 11,
    "start_time": "2023-03-21T07:58:01.268Z"
   },
   {
    "duration": 26,
    "start_time": "2023-03-21T07:58:01.280Z"
   },
   {
    "duration": 50,
    "start_time": "2023-03-21T07:58:01.307Z"
   },
   {
    "duration": 388,
    "start_time": "2023-03-21T07:58:01.359Z"
   },
   {
    "duration": 40,
    "start_time": "2023-03-21T07:58:01.749Z"
   },
   {
    "duration": 36,
    "start_time": "2023-03-21T07:58:01.791Z"
   },
   {
    "duration": 22,
    "start_time": "2023-03-21T07:58:01.829Z"
   },
   {
    "duration": 228,
    "start_time": "2023-03-21T07:58:01.853Z"
   },
   {
    "duration": 64,
    "start_time": "2023-03-21T07:58:02.082Z"
   },
   {
    "duration": 7,
    "start_time": "2023-03-21T07:58:02.147Z"
   },
   {
    "duration": 27,
    "start_time": "2023-03-21T07:58:02.155Z"
   },
   {
    "duration": 207,
    "start_time": "2023-03-21T07:58:02.184Z"
   },
   {
    "duration": 50,
    "start_time": "2023-03-21T07:58:02.393Z"
   },
   {
    "duration": 3,
    "start_time": "2023-03-21T07:58:02.445Z"
   },
   {
    "duration": 45,
    "start_time": "2023-03-21T07:58:02.450Z"
   },
   {
    "duration": 6,
    "start_time": "2023-03-21T07:58:02.497Z"
   },
   {
    "duration": 21,
    "start_time": "2023-03-21T07:58:02.505Z"
   },
   {
    "duration": 19,
    "start_time": "2023-03-21T07:58:02.528Z"
   },
   {
    "duration": 14,
    "start_time": "2023-03-21T07:58:02.549Z"
   },
   {
    "duration": 43,
    "start_time": "2023-03-21T07:58:02.565Z"
   },
   {
    "duration": 100,
    "start_time": "2023-03-21T07:58:02.610Z"
   },
   {
    "duration": 4,
    "start_time": "2023-03-21T07:58:02.712Z"
   },
   {
    "duration": 21,
    "start_time": "2023-03-21T07:58:02.718Z"
   },
   {
    "duration": 12,
    "start_time": "2023-03-21T07:58:02.740Z"
   },
   {
    "duration": 7,
    "start_time": "2023-03-21T07:58:02.755Z"
   },
   {
    "duration": 5,
    "start_time": "2023-03-21T07:58:02.763Z"
   },
   {
    "duration": 17,
    "start_time": "2023-03-21T07:58:02.772Z"
   },
   {
    "duration": 15,
    "start_time": "2023-03-21T07:58:02.791Z"
   },
   {
    "duration": 8,
    "start_time": "2023-03-21T07:58:02.807Z"
   },
   {
    "duration": 7,
    "start_time": "2023-03-21T07:58:02.816Z"
   },
   {
    "duration": 6,
    "start_time": "2023-03-21T07:59:22.225Z"
   },
   {
    "duration": 5,
    "start_time": "2023-03-21T08:05:26.154Z"
   },
   {
    "duration": 5,
    "start_time": "2023-03-21T08:07:20.686Z"
   },
   {
    "duration": 7,
    "start_time": "2023-03-21T08:09:20.955Z"
   },
   {
    "duration": 5,
    "start_time": "2023-03-21T08:20:23.209Z"
   },
   {
    "duration": 5,
    "start_time": "2023-03-21T08:20:28.197Z"
   },
   {
    "duration": 6,
    "start_time": "2023-03-21T08:21:07.186Z"
   },
   {
    "duration": 6,
    "start_time": "2023-03-21T08:22:16.004Z"
   },
   {
    "duration": 6,
    "start_time": "2023-03-21T08:22:18.421Z"
   },
   {
    "duration": 7,
    "start_time": "2023-03-21T08:23:16.227Z"
   },
   {
    "duration": 5,
    "start_time": "2023-03-21T08:24:26.383Z"
   },
   {
    "duration": 5,
    "start_time": "2023-03-21T08:25:33.339Z"
   },
   {
    "duration": 5,
    "start_time": "2023-03-21T08:26:13.586Z"
   },
   {
    "duration": 5,
    "start_time": "2023-03-21T08:26:21.175Z"
   },
   {
    "duration": 6,
    "start_time": "2023-03-21T08:27:31.596Z"
   },
   {
    "duration": 5,
    "start_time": "2023-03-21T08:28:09.698Z"
   },
   {
    "duration": 5,
    "start_time": "2023-03-21T08:28:17.297Z"
   },
   {
    "duration": 9,
    "start_time": "2023-03-21T08:35:52.688Z"
   },
   {
    "duration": 1271,
    "start_time": "2023-03-21T08:37:49.108Z"
   },
   {
    "duration": 1127,
    "start_time": "2023-03-21T08:37:55.056Z"
   },
   {
    "duration": 220,
    "start_time": "2023-03-21T08:38:08.683Z"
   },
   {
    "duration": 197,
    "start_time": "2023-03-21T08:39:11.234Z"
   },
   {
    "duration": 5,
    "start_time": "2023-03-21T08:41:03.717Z"
   },
   {
    "duration": 6,
    "start_time": "2023-03-21T08:41:30.564Z"
   },
   {
    "duration": 10,
    "start_time": "2023-03-21T08:41:57.287Z"
   },
   {
    "duration": 200,
    "start_time": "2023-03-21T08:44:01.881Z"
   },
   {
    "duration": 10,
    "start_time": "2023-03-21T08:58:40.394Z"
   },
   {
    "duration": 2270,
    "start_time": "2023-03-21T09:03:40.087Z"
   },
   {
    "duration": 1561,
    "start_time": "2023-03-21T09:03:56.034Z"
   },
   {
    "duration": 16,
    "start_time": "2023-03-21T10:00:36.223Z"
   },
   {
    "duration": 1230,
    "start_time": "2023-03-21T10:01:12.689Z"
   },
   {
    "duration": 158,
    "start_time": "2023-03-21T10:01:13.921Z"
   },
   {
    "duration": 13,
    "start_time": "2023-03-21T10:01:14.081Z"
   },
   {
    "duration": 25,
    "start_time": "2023-03-21T10:01:14.096Z"
   },
   {
    "duration": 3,
    "start_time": "2023-03-21T10:01:14.124Z"
   },
   {
    "duration": 16,
    "start_time": "2023-03-21T10:01:14.128Z"
   },
   {
    "duration": 7,
    "start_time": "2023-03-21T10:01:14.146Z"
   },
   {
    "duration": 104,
    "start_time": "2023-03-21T10:01:14.155Z"
   },
   {
    "duration": 81,
    "start_time": "2023-03-21T10:01:14.261Z"
   },
   {
    "duration": 160,
    "start_time": "2023-03-21T10:01:14.344Z"
   },
   {
    "duration": 814,
    "start_time": "2023-03-21T10:01:14.506Z"
   },
   {
    "duration": 11,
    "start_time": "2023-03-21T10:01:15.321Z"
   },
   {
    "duration": 39,
    "start_time": "2023-03-21T10:01:15.334Z"
   },
   {
    "duration": 51,
    "start_time": "2023-03-21T10:01:15.390Z"
   },
   {
    "duration": 9,
    "start_time": "2023-03-21T10:01:15.443Z"
   },
   {
    "duration": 37,
    "start_time": "2023-03-21T10:01:15.454Z"
   },
   {
    "duration": 33,
    "start_time": "2023-03-21T10:01:15.492Z"
   },
   {
    "duration": 384,
    "start_time": "2023-03-21T10:01:15.527Z"
   },
   {
    "duration": 27,
    "start_time": "2023-03-21T10:01:15.913Z"
   },
   {
    "duration": 41,
    "start_time": "2023-03-21T10:01:15.942Z"
   },
   {
    "duration": 61,
    "start_time": "2023-03-21T10:01:15.984Z"
   },
   {
    "duration": 48,
    "start_time": "2023-03-21T10:01:16.047Z"
   },
   {
    "duration": 232,
    "start_time": "2023-03-21T10:01:16.097Z"
   },
   {
    "duration": 65,
    "start_time": "2023-03-21T10:01:16.330Z"
   },
   {
    "duration": 7,
    "start_time": "2023-03-21T10:01:16.397Z"
   },
   {
    "duration": 37,
    "start_time": "2023-03-21T10:01:16.406Z"
   },
   {
    "duration": 211,
    "start_time": "2023-03-21T10:01:16.444Z"
   },
   {
    "duration": 61,
    "start_time": "2023-03-21T10:01:16.666Z"
   },
   {
    "duration": 2,
    "start_time": "2023-03-21T10:01:16.729Z"
   },
   {
    "duration": 39,
    "start_time": "2023-03-21T10:01:16.732Z"
   },
   {
    "duration": 18,
    "start_time": "2023-03-21T10:01:16.773Z"
   },
   {
    "duration": 27,
    "start_time": "2023-03-21T10:01:16.792Z"
   },
   {
    "duration": 20,
    "start_time": "2023-03-21T10:01:16.821Z"
   },
   {
    "duration": 33,
    "start_time": "2023-03-21T10:01:16.843Z"
   },
   {
    "duration": 78,
    "start_time": "2023-03-21T10:01:16.878Z"
   },
   {
    "duration": 83,
    "start_time": "2023-03-21T10:01:16.958Z"
   },
   {
    "duration": 5,
    "start_time": "2023-03-21T10:01:17.042Z"
   },
   {
    "duration": 48,
    "start_time": "2023-03-21T10:01:17.048Z"
   },
   {
    "duration": 30,
    "start_time": "2023-03-21T10:01:17.098Z"
   },
   {
    "duration": 44,
    "start_time": "2023-03-21T10:01:17.130Z"
   },
   {
    "duration": 49,
    "start_time": "2023-03-21T10:01:17.178Z"
   },
   {
    "duration": 39,
    "start_time": "2023-03-21T10:01:17.229Z"
   },
   {
    "duration": 36,
    "start_time": "2023-03-21T10:01:17.270Z"
   },
   {
    "duration": 14,
    "start_time": "2023-03-21T10:01:17.308Z"
   },
   {
    "duration": 40,
    "start_time": "2023-03-21T10:01:17.324Z"
   },
   {
    "duration": 37,
    "start_time": "2023-03-21T10:01:17.367Z"
   },
   {
    "duration": 30,
    "start_time": "2023-03-21T10:01:17.407Z"
   },
   {
    "duration": 39,
    "start_time": "2023-03-21T10:01:17.440Z"
   },
   {
    "duration": 21,
    "start_time": "2023-03-21T10:01:17.482Z"
   },
   {
    "duration": 33,
    "start_time": "2023-03-21T10:01:17.505Z"
   },
   {
    "duration": 32,
    "start_time": "2023-03-21T10:01:17.541Z"
   },
   {
    "duration": 32,
    "start_time": "2023-03-21T10:01:17.576Z"
   },
   {
    "duration": 21,
    "start_time": "2023-03-21T10:01:17.610Z"
   },
   {
    "duration": 41,
    "start_time": "2023-03-21T10:01:17.633Z"
   },
   {
    "duration": 22,
    "start_time": "2023-03-21T10:01:17.676Z"
   },
   {
    "duration": 18,
    "start_time": "2023-03-21T10:01:17.699Z"
   },
   {
    "duration": 239,
    "start_time": "2023-03-21T10:01:17.719Z"
   },
   {
    "duration": 10,
    "start_time": "2023-03-21T10:01:17.960Z"
   },
   {
    "duration": 229,
    "start_time": "2023-03-21T10:01:17.972Z"
   },
   {
    "duration": 1363,
    "start_time": "2023-03-21T10:02:08.130Z"
   },
   {
    "duration": 190,
    "start_time": "2023-03-21T10:02:09.495Z"
   },
   {
    "duration": 13,
    "start_time": "2023-03-21T10:02:09.687Z"
   },
   {
    "duration": 34,
    "start_time": "2023-03-21T10:02:09.702Z"
   },
   {
    "duration": 4,
    "start_time": "2023-03-21T10:02:09.739Z"
   },
   {
    "duration": 16,
    "start_time": "2023-03-21T10:02:09.744Z"
   },
   {
    "duration": 32,
    "start_time": "2023-03-21T10:02:09.762Z"
   },
   {
    "duration": 129,
    "start_time": "2023-03-21T10:02:09.796Z"
   },
   {
    "duration": 95,
    "start_time": "2023-03-21T10:02:09.927Z"
   },
   {
    "duration": 177,
    "start_time": "2023-03-21T10:02:10.024Z"
   },
   {
    "duration": 878,
    "start_time": "2023-03-21T10:02:10.203Z"
   },
   {
    "duration": 13,
    "start_time": "2023-03-21T10:02:11.083Z"
   },
   {
    "duration": 54,
    "start_time": "2023-03-21T10:02:11.098Z"
   },
   {
    "duration": 55,
    "start_time": "2023-03-21T10:02:11.155Z"
   },
   {
    "duration": 12,
    "start_time": "2023-03-21T10:02:11.212Z"
   },
   {
    "duration": 14,
    "start_time": "2023-03-21T10:02:11.226Z"
   },
   {
    "duration": 59,
    "start_time": "2023-03-21T10:02:11.242Z"
   },
   {
    "duration": 393,
    "start_time": "2023-03-21T10:02:11.303Z"
   },
   {
    "duration": 27,
    "start_time": "2023-03-21T10:02:11.699Z"
   },
   {
    "duration": 50,
    "start_time": "2023-03-21T10:02:11.729Z"
   },
   {
    "duration": 41,
    "start_time": "2023-03-21T10:02:11.781Z"
   },
   {
    "duration": 21,
    "start_time": "2023-03-21T10:02:11.824Z"
   },
   {
    "duration": 216,
    "start_time": "2023-03-21T10:02:11.847Z"
   },
   {
    "duration": 73,
    "start_time": "2023-03-21T10:02:12.065Z"
   },
   {
    "duration": 7,
    "start_time": "2023-03-21T10:02:12.140Z"
   },
   {
    "duration": 10,
    "start_time": "2023-03-21T10:02:12.149Z"
   },
   {
    "duration": 211,
    "start_time": "2023-03-21T10:02:12.161Z"
   },
   {
    "duration": 56,
    "start_time": "2023-03-21T10:02:12.375Z"
   },
   {
    "duration": 3,
    "start_time": "2023-03-21T10:02:12.433Z"
   },
   {
    "duration": 29,
    "start_time": "2023-03-21T10:02:12.438Z"
   },
   {
    "duration": 21,
    "start_time": "2023-03-21T10:02:12.469Z"
   },
   {
    "duration": 13,
    "start_time": "2023-03-21T10:02:12.492Z"
   },
   {
    "duration": 10,
    "start_time": "2023-03-21T10:02:12.506Z"
   },
   {
    "duration": 13,
    "start_time": "2023-03-21T10:02:12.518Z"
   },
   {
    "duration": 47,
    "start_time": "2023-03-21T10:02:12.532Z"
   },
   {
    "duration": 92,
    "start_time": "2023-03-21T10:02:12.581Z"
   },
   {
    "duration": 17,
    "start_time": "2023-03-21T10:02:12.675Z"
   },
   {
    "duration": 14,
    "start_time": "2023-03-21T10:02:12.695Z"
   },
   {
    "duration": 14,
    "start_time": "2023-03-21T10:02:12.711Z"
   },
   {
    "duration": 15,
    "start_time": "2023-03-21T10:02:12.726Z"
   },
   {
    "duration": 11,
    "start_time": "2023-03-21T10:02:12.746Z"
   },
   {
    "duration": 15,
    "start_time": "2023-03-21T10:02:12.759Z"
   },
   {
    "duration": 33,
    "start_time": "2023-03-21T10:02:12.775Z"
   },
   {
    "duration": 14,
    "start_time": "2023-03-21T10:02:12.809Z"
   },
   {
    "duration": 18,
    "start_time": "2023-03-21T10:02:12.825Z"
   },
   {
    "duration": 9,
    "start_time": "2023-03-21T10:02:12.845Z"
   },
   {
    "duration": 10,
    "start_time": "2023-03-21T10:02:12.856Z"
   },
   {
    "duration": 7,
    "start_time": "2023-03-21T10:02:12.868Z"
   },
   {
    "duration": 11,
    "start_time": "2023-03-21T10:02:12.877Z"
   },
   {
    "duration": 15,
    "start_time": "2023-03-21T10:02:12.889Z"
   },
   {
    "duration": 21,
    "start_time": "2023-03-21T10:02:12.906Z"
   },
   {
    "duration": 18,
    "start_time": "2023-03-21T10:02:12.929Z"
   },
   {
    "duration": 10,
    "start_time": "2023-03-21T10:02:12.949Z"
   },
   {
    "duration": 19,
    "start_time": "2023-03-21T10:02:12.960Z"
   },
   {
    "duration": 8,
    "start_time": "2023-03-21T10:02:12.981Z"
   },
   {
    "duration": 46,
    "start_time": "2023-03-21T10:02:12.991Z"
   },
   {
    "duration": 260,
    "start_time": "2023-03-21T10:02:13.039Z"
   },
   {
    "duration": 10,
    "start_time": "2023-03-21T10:02:13.301Z"
   },
   {
    "duration": 233,
    "start_time": "2023-03-21T10:02:13.312Z"
   },
   {
    "duration": 9,
    "start_time": "2023-03-21T10:08:43.466Z"
   },
   {
    "duration": 11,
    "start_time": "2023-03-21T10:09:37.771Z"
   },
   {
    "duration": 1270,
    "start_time": "2023-03-21T10:10:21.974Z"
   },
   {
    "duration": 169,
    "start_time": "2023-03-21T10:10:23.246Z"
   },
   {
    "duration": 11,
    "start_time": "2023-03-21T10:10:23.417Z"
   },
   {
    "duration": 34,
    "start_time": "2023-03-21T10:10:23.429Z"
   },
   {
    "duration": 13,
    "start_time": "2023-03-21T10:10:23.465Z"
   },
   {
    "duration": 31,
    "start_time": "2023-03-21T10:10:23.479Z"
   },
   {
    "duration": 16,
    "start_time": "2023-03-21T10:10:23.511Z"
   },
   {
    "duration": 127,
    "start_time": "2023-03-21T10:10:23.529Z"
   },
   {
    "duration": 83,
    "start_time": "2023-03-21T10:10:23.658Z"
   },
   {
    "duration": 174,
    "start_time": "2023-03-21T10:10:23.742Z"
   },
   {
    "duration": 788,
    "start_time": "2023-03-21T10:10:23.917Z"
   },
   {
    "duration": 9,
    "start_time": "2023-03-21T10:10:24.707Z"
   },
   {
    "duration": 29,
    "start_time": "2023-03-21T10:10:24.717Z"
   },
   {
    "duration": 77,
    "start_time": "2023-03-21T10:10:24.749Z"
   },
   {
    "duration": 11,
    "start_time": "2023-03-21T10:10:24.828Z"
   },
   {
    "duration": 18,
    "start_time": "2023-03-21T10:10:24.841Z"
   },
   {
    "duration": 62,
    "start_time": "2023-03-21T10:10:24.861Z"
   },
   {
    "duration": 404,
    "start_time": "2023-03-21T10:10:24.925Z"
   },
   {
    "duration": 29,
    "start_time": "2023-03-21T10:10:25.330Z"
   },
   {
    "duration": 45,
    "start_time": "2023-03-21T10:10:25.361Z"
   },
   {
    "duration": 19,
    "start_time": "2023-03-21T10:10:25.409Z"
   },
   {
    "duration": 27,
    "start_time": "2023-03-21T10:10:25.430Z"
   },
   {
    "duration": 241,
    "start_time": "2023-03-21T10:10:25.459Z"
   },
   {
    "duration": 54,
    "start_time": "2023-03-21T10:10:25.702Z"
   },
   {
    "duration": 7,
    "start_time": "2023-03-21T10:10:25.757Z"
   },
   {
    "duration": 10,
    "start_time": "2023-03-21T10:10:25.766Z"
   },
   {
    "duration": 198,
    "start_time": "2023-03-21T10:10:25.790Z"
   },
   {
    "duration": 59,
    "start_time": "2023-03-21T10:10:25.990Z"
   },
   {
    "duration": 3,
    "start_time": "2023-03-21T10:10:26.051Z"
   },
   {
    "duration": 50,
    "start_time": "2023-03-21T10:10:26.055Z"
   },
   {
    "duration": 6,
    "start_time": "2023-03-21T10:10:26.106Z"
   },
   {
    "duration": 25,
    "start_time": "2023-03-21T10:10:26.114Z"
   },
   {
    "duration": 15,
    "start_time": "2023-03-21T10:10:26.141Z"
   },
   {
    "duration": 17,
    "start_time": "2023-03-21T10:10:26.157Z"
   },
   {
    "duration": 37,
    "start_time": "2023-03-21T10:10:26.175Z"
   },
   {
    "duration": 88,
    "start_time": "2023-03-21T10:10:26.214Z"
   },
   {
    "duration": 5,
    "start_time": "2023-03-21T10:10:26.304Z"
   },
   {
    "duration": 13,
    "start_time": "2023-03-21T10:10:26.310Z"
   },
   {
    "duration": 7,
    "start_time": "2023-03-21T10:10:26.325Z"
   },
   {
    "duration": 6,
    "start_time": "2023-03-21T10:10:26.334Z"
   },
   {
    "duration": 7,
    "start_time": "2023-03-21T10:10:26.343Z"
   },
   {
    "duration": 18,
    "start_time": "2023-03-21T10:10:26.351Z"
   },
   {
    "duration": 36,
    "start_time": "2023-03-21T10:10:26.370Z"
   },
   {
    "duration": 9,
    "start_time": "2023-03-21T10:10:26.408Z"
   },
   {
    "duration": 15,
    "start_time": "2023-03-21T10:10:26.419Z"
   },
   {
    "duration": 13,
    "start_time": "2023-03-21T10:10:26.436Z"
   },
   {
    "duration": 8,
    "start_time": "2023-03-21T10:10:26.451Z"
   },
   {
    "duration": 17,
    "start_time": "2023-03-21T10:10:26.461Z"
   },
   {
    "duration": 8,
    "start_time": "2023-03-21T10:10:26.480Z"
   },
   {
    "duration": 7,
    "start_time": "2023-03-21T10:10:26.497Z"
   },
   {
    "duration": 7,
    "start_time": "2023-03-21T10:10:26.506Z"
   },
   {
    "duration": 11,
    "start_time": "2023-03-21T10:10:26.514Z"
   },
   {
    "duration": 10,
    "start_time": "2023-03-21T10:10:26.527Z"
   },
   {
    "duration": 14,
    "start_time": "2023-03-21T10:10:26.539Z"
   },
   {
    "duration": 9,
    "start_time": "2023-03-21T10:10:26.555Z"
   },
   {
    "duration": 10,
    "start_time": "2023-03-21T10:10:26.566Z"
   },
   {
    "duration": 250,
    "start_time": "2023-03-21T10:10:26.591Z"
   },
   {
    "duration": 10,
    "start_time": "2023-03-21T10:10:26.843Z"
   },
   {
    "duration": 225,
    "start_time": "2023-03-21T10:10:26.855Z"
   },
   {
    "duration": 129,
    "start_time": "2023-03-21T10:12:52.620Z"
   },
   {
    "duration": 1365,
    "start_time": "2023-03-21T10:13:46.763Z"
   },
   {
    "duration": 200,
    "start_time": "2023-03-21T10:13:48.130Z"
   },
   {
    "duration": 13,
    "start_time": "2023-03-21T10:13:48.333Z"
   },
   {
    "duration": 84,
    "start_time": "2023-03-21T10:13:48.348Z"
   },
   {
    "duration": 45,
    "start_time": "2023-03-21T10:13:48.435Z"
   },
   {
    "duration": 45,
    "start_time": "2023-03-21T10:13:48.483Z"
   },
   {
    "duration": 14,
    "start_time": "2023-03-21T10:13:48.531Z"
   },
   {
    "duration": 170,
    "start_time": "2023-03-21T10:13:48.547Z"
   },
   {
    "duration": 85,
    "start_time": "2023-03-21T10:13:48.719Z"
   },
   {
    "duration": 191,
    "start_time": "2023-03-21T10:13:48.807Z"
   },
   {
    "duration": 838,
    "start_time": "2023-03-21T10:13:49.000Z"
   },
   {
    "duration": 10,
    "start_time": "2023-03-21T10:13:49.840Z"
   },
   {
    "duration": 44,
    "start_time": "2023-03-21T10:13:49.851Z"
   },
   {
    "duration": 49,
    "start_time": "2023-03-21T10:13:49.898Z"
   },
   {
    "duration": 10,
    "start_time": "2023-03-21T10:13:49.948Z"
   },
   {
    "duration": 38,
    "start_time": "2023-03-21T10:13:49.960Z"
   },
   {
    "duration": 35,
    "start_time": "2023-03-21T10:13:49.999Z"
   },
   {
    "duration": 407,
    "start_time": "2023-03-21T10:13:50.036Z"
   },
   {
    "duration": 30,
    "start_time": "2023-03-21T10:13:50.444Z"
   },
   {
    "duration": 29,
    "start_time": "2023-03-21T10:13:50.490Z"
   },
   {
    "duration": 14,
    "start_time": "2023-03-21T10:13:50.521Z"
   },
   {
    "duration": 24,
    "start_time": "2023-03-21T10:13:50.536Z"
   },
   {
    "duration": 240,
    "start_time": "2023-03-21T10:13:50.562Z"
   },
   {
    "duration": 54,
    "start_time": "2023-03-21T10:13:50.804Z"
   },
   {
    "duration": 7,
    "start_time": "2023-03-21T10:13:50.860Z"
   },
   {
    "duration": 29,
    "start_time": "2023-03-21T10:13:50.869Z"
   },
   {
    "duration": 1391,
    "start_time": "2023-03-21T10:13:50.900Z"
   },
   {
    "duration": 0,
    "start_time": "2023-03-21T10:13:52.293Z"
   },
   {
    "duration": 0,
    "start_time": "2023-03-21T10:13:52.294Z"
   },
   {
    "duration": 0,
    "start_time": "2023-03-21T10:13:52.295Z"
   },
   {
    "duration": 0,
    "start_time": "2023-03-21T10:13:52.296Z"
   },
   {
    "duration": 1,
    "start_time": "2023-03-21T10:13:52.297Z"
   },
   {
    "duration": 0,
    "start_time": "2023-03-21T10:13:52.298Z"
   },
   {
    "duration": 0,
    "start_time": "2023-03-21T10:13:52.299Z"
   },
   {
    "duration": 0,
    "start_time": "2023-03-21T10:13:52.300Z"
   },
   {
    "duration": 0,
    "start_time": "2023-03-21T10:13:52.301Z"
   },
   {
    "duration": 0,
    "start_time": "2023-03-21T10:13:52.302Z"
   },
   {
    "duration": 0,
    "start_time": "2023-03-21T10:13:52.303Z"
   },
   {
    "duration": 0,
    "start_time": "2023-03-21T10:13:52.304Z"
   },
   {
    "duration": 0,
    "start_time": "2023-03-21T10:13:52.305Z"
   },
   {
    "duration": 0,
    "start_time": "2023-03-21T10:13:52.305Z"
   },
   {
    "duration": 0,
    "start_time": "2023-03-21T10:13:52.306Z"
   },
   {
    "duration": 0,
    "start_time": "2023-03-21T10:13:52.308Z"
   },
   {
    "duration": 0,
    "start_time": "2023-03-21T10:13:52.308Z"
   },
   {
    "duration": 0,
    "start_time": "2023-03-21T10:13:52.309Z"
   },
   {
    "duration": 0,
    "start_time": "2023-03-21T10:13:52.310Z"
   },
   {
    "duration": 0,
    "start_time": "2023-03-21T10:13:52.311Z"
   },
   {
    "duration": 0,
    "start_time": "2023-03-21T10:13:52.312Z"
   },
   {
    "duration": 0,
    "start_time": "2023-03-21T10:13:52.313Z"
   },
   {
    "duration": 0,
    "start_time": "2023-03-21T10:13:52.314Z"
   },
   {
    "duration": 0,
    "start_time": "2023-03-21T10:13:52.315Z"
   },
   {
    "duration": 0,
    "start_time": "2023-03-21T10:13:52.316Z"
   },
   {
    "duration": 0,
    "start_time": "2023-03-21T10:13:52.317Z"
   },
   {
    "duration": 0,
    "start_time": "2023-03-21T10:13:52.318Z"
   },
   {
    "duration": 0,
    "start_time": "2023-03-21T10:13:52.319Z"
   },
   {
    "duration": 0,
    "start_time": "2023-03-21T10:13:52.320Z"
   },
   {
    "duration": 0,
    "start_time": "2023-03-21T10:13:52.321Z"
   },
   {
    "duration": 0,
    "start_time": "2023-03-21T10:13:52.322Z"
   },
   {
    "duration": 0,
    "start_time": "2023-03-21T10:13:52.323Z"
   },
   {
    "duration": 28,
    "start_time": "2023-03-21T10:14:34.186Z"
   },
   {
    "duration": 1240,
    "start_time": "2023-03-21T10:14:46.832Z"
   },
   {
    "duration": 175,
    "start_time": "2023-03-21T10:14:48.074Z"
   },
   {
    "duration": 12,
    "start_time": "2023-03-21T10:14:48.250Z"
   },
   {
    "duration": 35,
    "start_time": "2023-03-21T10:14:48.264Z"
   },
   {
    "duration": 3,
    "start_time": "2023-03-21T10:14:48.301Z"
   },
   {
    "duration": 15,
    "start_time": "2023-03-21T10:14:48.306Z"
   },
   {
    "duration": 10,
    "start_time": "2023-03-21T10:14:48.322Z"
   },
   {
    "duration": 128,
    "start_time": "2023-03-21T10:14:48.333Z"
   },
   {
    "duration": 94,
    "start_time": "2023-03-21T10:14:48.463Z"
   },
   {
    "duration": 180,
    "start_time": "2023-03-21T10:14:48.561Z"
   },
   {
    "duration": 786,
    "start_time": "2023-03-21T10:14:48.743Z"
   },
   {
    "duration": 11,
    "start_time": "2023-03-21T10:14:49.530Z"
   },
   {
    "duration": 39,
    "start_time": "2023-03-21T10:14:49.543Z"
   },
   {
    "duration": 54,
    "start_time": "2023-03-21T10:14:49.588Z"
   },
   {
    "duration": 12,
    "start_time": "2023-03-21T10:14:49.645Z"
   },
   {
    "duration": 40,
    "start_time": "2023-03-21T10:14:49.659Z"
   },
   {
    "duration": 35,
    "start_time": "2023-03-21T10:14:49.702Z"
   },
   {
    "duration": 405,
    "start_time": "2023-03-21T10:14:49.739Z"
   },
   {
    "duration": 44,
    "start_time": "2023-03-21T10:14:50.146Z"
   },
   {
    "duration": 26,
    "start_time": "2023-03-21T10:14:50.193Z"
   },
   {
    "duration": 11,
    "start_time": "2023-03-21T10:14:50.221Z"
   },
   {
    "duration": 25,
    "start_time": "2023-03-21T10:14:50.233Z"
   },
   {
    "duration": 278,
    "start_time": "2023-03-21T10:14:50.260Z"
   },
   {
    "duration": 64,
    "start_time": "2023-03-21T10:14:50.540Z"
   },
   {
    "duration": 7,
    "start_time": "2023-03-21T10:14:50.606Z"
   },
   {
    "duration": 46,
    "start_time": "2023-03-21T10:14:50.614Z"
   },
   {
    "duration": 120,
    "start_time": "2023-03-21T10:14:50.662Z"
   },
   {
    "duration": 0,
    "start_time": "2023-03-21T10:14:50.784Z"
   },
   {
    "duration": 0,
    "start_time": "2023-03-21T10:14:50.789Z"
   },
   {
    "duration": 0,
    "start_time": "2023-03-21T10:14:50.790Z"
   },
   {
    "duration": 0,
    "start_time": "2023-03-21T10:14:50.791Z"
   },
   {
    "duration": 0,
    "start_time": "2023-03-21T10:14:50.792Z"
   },
   {
    "duration": 0,
    "start_time": "2023-03-21T10:14:50.793Z"
   },
   {
    "duration": 0,
    "start_time": "2023-03-21T10:14:50.795Z"
   },
   {
    "duration": 0,
    "start_time": "2023-03-21T10:14:50.795Z"
   },
   {
    "duration": 0,
    "start_time": "2023-03-21T10:14:50.797Z"
   },
   {
    "duration": 0,
    "start_time": "2023-03-21T10:14:50.797Z"
   },
   {
    "duration": 0,
    "start_time": "2023-03-21T10:14:50.798Z"
   },
   {
    "duration": 0,
    "start_time": "2023-03-21T10:14:50.799Z"
   },
   {
    "duration": 0,
    "start_time": "2023-03-21T10:14:50.800Z"
   },
   {
    "duration": 0,
    "start_time": "2023-03-21T10:14:50.801Z"
   },
   {
    "duration": 0,
    "start_time": "2023-03-21T10:14:50.802Z"
   },
   {
    "duration": 0,
    "start_time": "2023-03-21T10:14:50.803Z"
   },
   {
    "duration": 0,
    "start_time": "2023-03-21T10:14:50.804Z"
   },
   {
    "duration": 0,
    "start_time": "2023-03-21T10:14:50.805Z"
   },
   {
    "duration": 0,
    "start_time": "2023-03-21T10:14:50.806Z"
   },
   {
    "duration": 0,
    "start_time": "2023-03-21T10:14:50.807Z"
   },
   {
    "duration": 0,
    "start_time": "2023-03-21T10:14:50.808Z"
   },
   {
    "duration": 0,
    "start_time": "2023-03-21T10:14:50.809Z"
   },
   {
    "duration": 0,
    "start_time": "2023-03-21T10:14:50.810Z"
   },
   {
    "duration": 0,
    "start_time": "2023-03-21T10:14:50.811Z"
   },
   {
    "duration": 0,
    "start_time": "2023-03-21T10:14:50.812Z"
   },
   {
    "duration": 0,
    "start_time": "2023-03-21T10:14:50.813Z"
   },
   {
    "duration": 0,
    "start_time": "2023-03-21T10:14:50.814Z"
   },
   {
    "duration": 0,
    "start_time": "2023-03-21T10:14:50.815Z"
   },
   {
    "duration": 0,
    "start_time": "2023-03-21T10:14:50.815Z"
   },
   {
    "duration": 0,
    "start_time": "2023-03-21T10:14:50.817Z"
   },
   {
    "duration": 0,
    "start_time": "2023-03-21T10:14:50.818Z"
   },
   {
    "duration": 0,
    "start_time": "2023-03-21T10:14:50.819Z"
   },
   {
    "duration": 1171,
    "start_time": "2023-03-21T10:16:40.541Z"
   },
   {
    "duration": 170,
    "start_time": "2023-03-21T10:16:41.714Z"
   },
   {
    "duration": 14,
    "start_time": "2023-03-21T10:16:41.886Z"
   },
   {
    "duration": 21,
    "start_time": "2023-03-21T10:16:41.902Z"
   },
   {
    "duration": 3,
    "start_time": "2023-03-21T10:16:41.925Z"
   },
   {
    "duration": 11,
    "start_time": "2023-03-21T10:16:41.929Z"
   },
   {
    "duration": 7,
    "start_time": "2023-03-21T10:16:41.942Z"
   },
   {
    "duration": 127,
    "start_time": "2023-03-21T10:16:41.951Z"
   },
   {
    "duration": 81,
    "start_time": "2023-03-21T10:16:42.079Z"
   },
   {
    "duration": 166,
    "start_time": "2023-03-21T10:16:42.163Z"
   },
   {
    "duration": 783,
    "start_time": "2023-03-21T10:16:42.330Z"
   },
   {
    "duration": 9,
    "start_time": "2023-03-21T10:16:43.115Z"
   },
   {
    "duration": 29,
    "start_time": "2023-03-21T10:16:43.125Z"
   },
   {
    "duration": 67,
    "start_time": "2023-03-21T10:16:43.156Z"
   },
   {
    "duration": 9,
    "start_time": "2023-03-21T10:16:43.225Z"
   },
   {
    "duration": 14,
    "start_time": "2023-03-21T10:16:43.236Z"
   },
   {
    "duration": 48,
    "start_time": "2023-03-21T10:16:43.251Z"
   },
   {
    "duration": 378,
    "start_time": "2023-03-21T10:16:43.300Z"
   },
   {
    "duration": 31,
    "start_time": "2023-03-21T10:16:43.680Z"
   },
   {
    "duration": 24,
    "start_time": "2023-03-21T10:16:43.713Z"
   },
   {
    "duration": 20,
    "start_time": "2023-03-21T10:16:43.739Z"
   },
   {
    "duration": 36,
    "start_time": "2023-03-21T10:16:43.761Z"
   },
   {
    "duration": 225,
    "start_time": "2023-03-21T10:16:43.799Z"
   },
   {
    "duration": 65,
    "start_time": "2023-03-21T10:16:44.025Z"
   },
   {
    "duration": 7,
    "start_time": "2023-03-21T10:16:44.092Z"
   },
   {
    "duration": 10,
    "start_time": "2023-03-21T10:16:44.100Z"
   },
   {
    "duration": 1326,
    "start_time": "2023-03-21T10:16:44.112Z"
   },
   {
    "duration": 0,
    "start_time": "2023-03-21T10:16:45.442Z"
   },
   {
    "duration": 0,
    "start_time": "2023-03-21T10:16:45.443Z"
   },
   {
    "duration": 0,
    "start_time": "2023-03-21T10:16:45.445Z"
   },
   {
    "duration": 0,
    "start_time": "2023-03-21T10:16:45.446Z"
   },
   {
    "duration": 0,
    "start_time": "2023-03-21T10:16:45.447Z"
   },
   {
    "duration": 0,
    "start_time": "2023-03-21T10:16:45.449Z"
   },
   {
    "duration": 0,
    "start_time": "2023-03-21T10:16:45.450Z"
   },
   {
    "duration": 0,
    "start_time": "2023-03-21T10:16:45.452Z"
   },
   {
    "duration": 0,
    "start_time": "2023-03-21T10:16:45.453Z"
   },
   {
    "duration": 0,
    "start_time": "2023-03-21T10:16:45.454Z"
   },
   {
    "duration": 0,
    "start_time": "2023-03-21T10:16:45.456Z"
   },
   {
    "duration": 0,
    "start_time": "2023-03-21T10:16:45.457Z"
   },
   {
    "duration": 0,
    "start_time": "2023-03-21T10:16:45.459Z"
   },
   {
    "duration": 0,
    "start_time": "2023-03-21T10:16:45.460Z"
   },
   {
    "duration": 0,
    "start_time": "2023-03-21T10:16:45.461Z"
   },
   {
    "duration": 0,
    "start_time": "2023-03-21T10:16:45.463Z"
   },
   {
    "duration": 0,
    "start_time": "2023-03-21T10:16:45.464Z"
   },
   {
    "duration": 0,
    "start_time": "2023-03-21T10:16:45.465Z"
   },
   {
    "duration": 0,
    "start_time": "2023-03-21T10:16:45.467Z"
   },
   {
    "duration": 0,
    "start_time": "2023-03-21T10:16:45.468Z"
   },
   {
    "duration": 0,
    "start_time": "2023-03-21T10:16:45.469Z"
   },
   {
    "duration": 0,
    "start_time": "2023-03-21T10:16:45.470Z"
   },
   {
    "duration": 0,
    "start_time": "2023-03-21T10:16:45.471Z"
   },
   {
    "duration": 0,
    "start_time": "2023-03-21T10:16:45.472Z"
   },
   {
    "duration": 0,
    "start_time": "2023-03-21T10:16:45.473Z"
   },
   {
    "duration": 0,
    "start_time": "2023-03-21T10:16:45.474Z"
   },
   {
    "duration": 0,
    "start_time": "2023-03-21T10:16:45.475Z"
   },
   {
    "duration": 0,
    "start_time": "2023-03-21T10:16:45.476Z"
   },
   {
    "duration": 0,
    "start_time": "2023-03-21T10:16:45.477Z"
   },
   {
    "duration": 0,
    "start_time": "2023-03-21T10:16:45.478Z"
   },
   {
    "duration": 0,
    "start_time": "2023-03-21T10:16:45.479Z"
   },
   {
    "duration": 0,
    "start_time": "2023-03-21T10:16:45.480Z"
   },
   {
    "duration": 1211,
    "start_time": "2023-03-21T10:17:11.516Z"
   },
   {
    "duration": 187,
    "start_time": "2023-03-21T10:17:12.729Z"
   },
   {
    "duration": 14,
    "start_time": "2023-03-21T10:17:12.918Z"
   },
   {
    "duration": 23,
    "start_time": "2023-03-21T10:17:12.934Z"
   },
   {
    "duration": 3,
    "start_time": "2023-03-21T10:17:12.959Z"
   },
   {
    "duration": 25,
    "start_time": "2023-03-21T10:17:12.964Z"
   },
   {
    "duration": 10,
    "start_time": "2023-03-21T10:17:12.991Z"
   },
   {
    "duration": 136,
    "start_time": "2023-03-21T10:17:13.003Z"
   },
   {
    "duration": 89,
    "start_time": "2023-03-21T10:17:13.141Z"
   },
   {
    "duration": 158,
    "start_time": "2023-03-21T10:17:13.233Z"
   },
   {
    "duration": 798,
    "start_time": "2023-03-21T10:17:13.393Z"
   },
   {
    "duration": 10,
    "start_time": "2023-03-21T10:17:14.192Z"
   },
   {
    "duration": 43,
    "start_time": "2023-03-21T10:17:14.204Z"
   },
   {
    "duration": 54,
    "start_time": "2023-03-21T10:17:14.249Z"
   },
   {
    "duration": 11,
    "start_time": "2023-03-21T10:17:14.304Z"
   },
   {
    "duration": 45,
    "start_time": "2023-03-21T10:17:14.317Z"
   },
   {
    "duration": 37,
    "start_time": "2023-03-21T10:17:14.364Z"
   },
   {
    "duration": 401,
    "start_time": "2023-03-21T10:17:14.402Z"
   },
   {
    "duration": 29,
    "start_time": "2023-03-21T10:17:14.805Z"
   },
   {
    "duration": 26,
    "start_time": "2023-03-21T10:17:14.835Z"
   },
   {
    "duration": 32,
    "start_time": "2023-03-21T10:17:14.863Z"
   },
   {
    "duration": 22,
    "start_time": "2023-03-21T10:17:14.896Z"
   },
   {
    "duration": 231,
    "start_time": "2023-03-21T10:17:14.919Z"
   },
   {
    "duration": 63,
    "start_time": "2023-03-21T10:17:15.151Z"
   },
   {
    "duration": 7,
    "start_time": "2023-03-21T10:17:15.215Z"
   },
   {
    "duration": 26,
    "start_time": "2023-03-21T10:17:15.223Z"
   },
   {
    "duration": 203,
    "start_time": "2023-03-21T10:17:15.251Z"
   },
   {
    "duration": 63,
    "start_time": "2023-03-21T10:17:15.458Z"
   },
   {
    "duration": 3,
    "start_time": "2023-03-21T10:17:15.523Z"
   },
   {
    "duration": 35,
    "start_time": "2023-03-21T10:17:15.528Z"
   },
   {
    "duration": 6,
    "start_time": "2023-03-21T10:17:15.565Z"
   },
   {
    "duration": 23,
    "start_time": "2023-03-21T10:17:15.573Z"
   },
   {
    "duration": 24,
    "start_time": "2023-03-21T10:17:15.597Z"
   },
   {
    "duration": 36,
    "start_time": "2023-03-21T10:17:15.623Z"
   },
   {
    "duration": 43,
    "start_time": "2023-03-21T10:17:15.662Z"
   },
   {
    "duration": 91,
    "start_time": "2023-03-21T10:17:15.707Z"
   },
   {
    "duration": 4,
    "start_time": "2023-03-21T10:17:15.800Z"
   },
   {
    "duration": 35,
    "start_time": "2023-03-21T10:17:15.806Z"
   },
   {
    "duration": 33,
    "start_time": "2023-03-21T10:17:15.843Z"
   },
   {
    "duration": 26,
    "start_time": "2023-03-21T10:17:15.878Z"
   },
   {
    "duration": 18,
    "start_time": "2023-03-21T10:17:15.906Z"
   },
   {
    "duration": 42,
    "start_time": "2023-03-21T10:17:15.926Z"
   },
   {
    "duration": 29,
    "start_time": "2023-03-21T10:17:15.970Z"
   },
   {
    "duration": 36,
    "start_time": "2023-03-21T10:17:16.001Z"
   },
   {
    "duration": 19,
    "start_time": "2023-03-21T10:17:16.039Z"
   },
   {
    "duration": 28,
    "start_time": "2023-03-21T10:17:16.059Z"
   },
   {
    "duration": 24,
    "start_time": "2023-03-21T10:17:16.089Z"
   },
   {
    "duration": 18,
    "start_time": "2023-03-21T10:17:16.115Z"
   },
   {
    "duration": 23,
    "start_time": "2023-03-21T10:17:16.135Z"
   },
   {
    "duration": 14,
    "start_time": "2023-03-21T10:17:16.160Z"
   },
   {
    "duration": 19,
    "start_time": "2023-03-21T10:17:16.176Z"
   },
   {
    "duration": 28,
    "start_time": "2023-03-21T10:17:16.197Z"
   },
   {
    "duration": 24,
    "start_time": "2023-03-21T10:17:16.227Z"
   },
   {
    "duration": 36,
    "start_time": "2023-03-21T10:17:16.252Z"
   },
   {
    "duration": 16,
    "start_time": "2023-03-21T10:17:16.290Z"
   },
   {
    "duration": 32,
    "start_time": "2023-03-21T10:17:16.307Z"
   },
   {
    "duration": 209,
    "start_time": "2023-03-21T10:17:16.341Z"
   },
   {
    "duration": 9,
    "start_time": "2023-03-21T10:17:16.552Z"
   },
   {
    "duration": 212,
    "start_time": "2023-03-21T10:17:16.562Z"
   },
   {
    "duration": 116,
    "start_time": "2023-03-21T10:41:50.102Z"
   },
   {
    "duration": 11,
    "start_time": "2023-03-21T10:42:01.669Z"
   },
   {
    "duration": 46,
    "start_time": "2023-03-21T10:42:19.317Z"
   },
   {
    "duration": 45,
    "start_time": "2023-03-21T10:43:10.779Z"
   },
   {
    "duration": 1283,
    "start_time": "2023-03-21T10:43:25.178Z"
   },
   {
    "duration": 182,
    "start_time": "2023-03-21T10:43:26.463Z"
   },
   {
    "duration": 14,
    "start_time": "2023-03-21T10:43:26.647Z"
   },
   {
    "duration": 39,
    "start_time": "2023-03-21T10:43:26.663Z"
   },
   {
    "duration": 3,
    "start_time": "2023-03-21T10:43:26.706Z"
   },
   {
    "duration": 14,
    "start_time": "2023-03-21T10:43:26.711Z"
   },
   {
    "duration": 13,
    "start_time": "2023-03-21T10:43:26.728Z"
   },
   {
    "duration": 139,
    "start_time": "2023-03-21T10:43:26.743Z"
   },
   {
    "duration": 90,
    "start_time": "2023-03-21T10:43:26.883Z"
   },
   {
    "duration": 179,
    "start_time": "2023-03-21T10:43:26.975Z"
   },
   {
    "duration": 920,
    "start_time": "2023-03-21T10:43:27.155Z"
   },
   {
    "duration": 10,
    "start_time": "2023-03-21T10:43:28.077Z"
   },
   {
    "duration": 48,
    "start_time": "2023-03-21T10:43:28.089Z"
   },
   {
    "duration": 72,
    "start_time": "2023-03-21T10:43:28.142Z"
   },
   {
    "duration": 13,
    "start_time": "2023-03-21T10:43:28.218Z"
   },
   {
    "duration": 14,
    "start_time": "2023-03-21T10:43:28.233Z"
   },
   {
    "duration": 69,
    "start_time": "2023-03-21T10:43:28.248Z"
   },
   {
    "duration": 433,
    "start_time": "2023-03-21T10:43:28.318Z"
   },
   {
    "duration": 51,
    "start_time": "2023-03-21T10:43:28.753Z"
   },
   {
    "duration": 28,
    "start_time": "2023-03-21T10:43:28.806Z"
   },
   {
    "duration": 10,
    "start_time": "2023-03-21T10:43:28.836Z"
   },
   {
    "duration": 21,
    "start_time": "2023-03-21T10:43:28.847Z"
   },
   {
    "duration": 255,
    "start_time": "2023-03-21T10:43:28.891Z"
   },
   {
    "duration": 73,
    "start_time": "2023-03-21T10:43:29.148Z"
   },
   {
    "duration": 8,
    "start_time": "2023-03-21T10:43:29.223Z"
   },
   {
    "duration": 34,
    "start_time": "2023-03-21T10:43:29.233Z"
   },
   {
    "duration": 203,
    "start_time": "2023-03-21T10:43:29.269Z"
   },
   {
    "duration": 70,
    "start_time": "2023-03-21T10:43:29.474Z"
   },
   {
    "duration": 3,
    "start_time": "2023-03-21T10:43:29.546Z"
   },
   {
    "duration": 44,
    "start_time": "2023-03-21T10:43:29.550Z"
   },
   {
    "duration": 7,
    "start_time": "2023-03-21T10:43:29.600Z"
   },
   {
    "duration": 18,
    "start_time": "2023-03-21T10:43:29.609Z"
   },
   {
    "duration": 12,
    "start_time": "2023-03-21T10:43:29.628Z"
   },
   {
    "duration": 13,
    "start_time": "2023-03-21T10:43:29.642Z"
   },
   {
    "duration": 51,
    "start_time": "2023-03-21T10:43:29.656Z"
   },
   {
    "duration": 43,
    "start_time": "2023-03-21T10:43:29.709Z"
   },
   {
    "duration": 108,
    "start_time": "2023-03-21T10:43:29.754Z"
   },
   {
    "duration": 5,
    "start_time": "2023-03-21T10:43:29.865Z"
   },
   {
    "duration": 34,
    "start_time": "2023-03-21T10:43:29.872Z"
   },
   {
    "duration": 32,
    "start_time": "2023-03-21T10:43:29.909Z"
   },
   {
    "duration": 13,
    "start_time": "2023-03-21T10:43:29.946Z"
   },
   {
    "duration": 30,
    "start_time": "2023-03-21T10:43:29.960Z"
   },
   {
    "duration": 43,
    "start_time": "2023-03-21T10:43:29.992Z"
   },
   {
    "duration": 33,
    "start_time": "2023-03-21T10:43:30.037Z"
   },
   {
    "duration": 34,
    "start_time": "2023-03-21T10:43:30.072Z"
   },
   {
    "duration": 23,
    "start_time": "2023-03-21T10:43:30.107Z"
   },
   {
    "duration": 23,
    "start_time": "2023-03-21T10:43:30.131Z"
   },
   {
    "duration": 30,
    "start_time": "2023-03-21T10:43:30.156Z"
   },
   {
    "duration": 42,
    "start_time": "2023-03-21T10:43:30.191Z"
   },
   {
    "duration": 27,
    "start_time": "2023-03-21T10:43:30.235Z"
   },
   {
    "duration": 38,
    "start_time": "2023-03-21T10:43:30.264Z"
   },
   {
    "duration": 35,
    "start_time": "2023-03-21T10:43:30.306Z"
   },
   {
    "duration": 71,
    "start_time": "2023-03-21T10:43:30.343Z"
   },
   {
    "duration": 42,
    "start_time": "2023-03-21T10:43:30.416Z"
   },
   {
    "duration": 73,
    "start_time": "2023-03-21T10:43:30.460Z"
   },
   {
    "duration": 67,
    "start_time": "2023-03-21T10:43:30.535Z"
   },
   {
    "duration": 57,
    "start_time": "2023-03-21T10:43:30.606Z"
   },
   {
    "duration": 311,
    "start_time": "2023-03-21T10:43:30.666Z"
   },
   {
    "duration": 21,
    "start_time": "2023-03-21T10:43:30.979Z"
   },
   {
    "duration": 265,
    "start_time": "2023-03-21T10:43:31.003Z"
   },
   {
    "duration": 187,
    "start_time": "2023-03-21T10:44:28.858Z"
   },
   {
    "duration": 44,
    "start_time": "2023-03-21T10:44:46.929Z"
   },
   {
    "duration": 40,
    "start_time": "2023-03-21T10:44:58.011Z"
   },
   {
    "duration": 44,
    "start_time": "2023-03-21T10:46:01.091Z"
   },
   {
    "duration": 1054,
    "start_time": "2023-03-21T11:19:55.005Z"
   },
   {
    "duration": 287,
    "start_time": "2023-03-21T11:19:56.062Z"
   },
   {
    "duration": 9,
    "start_time": "2023-03-21T11:19:56.350Z"
   },
   {
    "duration": 35,
    "start_time": "2023-03-21T11:19:56.361Z"
   },
   {
    "duration": 3,
    "start_time": "2023-03-21T11:19:56.397Z"
   },
   {
    "duration": 11,
    "start_time": "2023-03-21T11:19:56.401Z"
   },
   {
    "duration": 15,
    "start_time": "2023-03-21T11:19:56.413Z"
   },
   {
    "duration": 86,
    "start_time": "2023-03-21T11:19:56.429Z"
   },
   {
    "duration": 62,
    "start_time": "2023-03-21T11:19:56.516Z"
   },
   {
    "duration": 170,
    "start_time": "2023-03-21T11:19:56.581Z"
   },
   {
    "duration": 705,
    "start_time": "2023-03-21T11:19:56.753Z"
   },
   {
    "duration": 11,
    "start_time": "2023-03-21T11:19:57.460Z"
   },
   {
    "duration": 33,
    "start_time": "2023-03-21T11:19:57.473Z"
   },
   {
    "duration": 42,
    "start_time": "2023-03-21T11:19:57.507Z"
   },
   {
    "duration": 15,
    "start_time": "2023-03-21T11:19:57.550Z"
   },
   {
    "duration": 20,
    "start_time": "2023-03-21T11:19:57.566Z"
   },
   {
    "duration": 44,
    "start_time": "2023-03-21T11:19:57.587Z"
   },
   {
    "duration": 312,
    "start_time": "2023-03-21T11:19:57.632Z"
   },
   {
    "duration": 30,
    "start_time": "2023-03-21T11:19:57.945Z"
   },
   {
    "duration": 24,
    "start_time": "2023-03-21T11:19:57.976Z"
   },
   {
    "duration": 7,
    "start_time": "2023-03-21T11:19:58.002Z"
   },
   {
    "duration": 47,
    "start_time": "2023-03-21T11:19:58.011Z"
   },
   {
    "duration": 194,
    "start_time": "2023-03-21T11:19:58.059Z"
   },
   {
    "duration": 53,
    "start_time": "2023-03-21T11:19:58.254Z"
   },
   {
    "duration": 6,
    "start_time": "2023-03-21T11:19:58.308Z"
   },
   {
    "duration": 15,
    "start_time": "2023-03-21T11:19:58.315Z"
   },
   {
    "duration": 173,
    "start_time": "2023-03-21T11:19:58.332Z"
   },
   {
    "duration": 62,
    "start_time": "2023-03-21T11:19:58.508Z"
   },
   {
    "duration": 3,
    "start_time": "2023-03-21T11:19:58.572Z"
   },
   {
    "duration": 48,
    "start_time": "2023-03-21T11:19:58.576Z"
   },
   {
    "duration": 4,
    "start_time": "2023-03-21T11:19:58.626Z"
   },
   {
    "duration": 40,
    "start_time": "2023-03-21T11:19:58.631Z"
   },
   {
    "duration": 13,
    "start_time": "2023-03-21T11:19:58.673Z"
   },
   {
    "duration": 16,
    "start_time": "2023-03-21T11:19:58.687Z"
   },
   {
    "duration": 34,
    "start_time": "2023-03-21T11:19:58.705Z"
   },
   {
    "duration": 36,
    "start_time": "2023-03-21T11:19:58.741Z"
   },
   {
    "duration": 93,
    "start_time": "2023-03-21T11:19:58.779Z"
   },
   {
    "duration": 5,
    "start_time": "2023-03-21T11:19:58.874Z"
   },
   {
    "duration": 18,
    "start_time": "2023-03-21T11:19:58.880Z"
   },
   {
    "duration": 8,
    "start_time": "2023-03-21T11:19:58.900Z"
   },
   {
    "duration": 21,
    "start_time": "2023-03-21T11:19:58.909Z"
   },
   {
    "duration": 12,
    "start_time": "2023-03-21T11:19:58.931Z"
   },
   {
    "duration": 29,
    "start_time": "2023-03-21T11:19:58.945Z"
   },
   {
    "duration": 9,
    "start_time": "2023-03-21T11:19:58.976Z"
   },
   {
    "duration": 21,
    "start_time": "2023-03-21T11:19:58.986Z"
   },
   {
    "duration": 14,
    "start_time": "2023-03-21T11:19:59.008Z"
   },
   {
    "duration": 19,
    "start_time": "2023-03-21T11:19:59.024Z"
   },
   {
    "duration": 31,
    "start_time": "2023-03-21T11:19:59.044Z"
   },
   {
    "duration": 14,
    "start_time": "2023-03-21T11:19:59.077Z"
   },
   {
    "duration": 15,
    "start_time": "2023-03-21T11:19:59.092Z"
   },
   {
    "duration": 17,
    "start_time": "2023-03-21T11:19:59.108Z"
   },
   {
    "duration": 13,
    "start_time": "2023-03-21T11:19:59.127Z"
   },
   {
    "duration": 19,
    "start_time": "2023-03-21T11:19:59.142Z"
   },
   {
    "duration": 24,
    "start_time": "2023-03-21T11:19:59.162Z"
   },
   {
    "duration": 25,
    "start_time": "2023-03-21T11:19:59.188Z"
   },
   {
    "duration": 22,
    "start_time": "2023-03-21T11:19:59.215Z"
   },
   {
    "duration": 39,
    "start_time": "2023-03-21T11:19:59.239Z"
   },
   {
    "duration": 218,
    "start_time": "2023-03-21T11:19:59.279Z"
   },
   {
    "duration": 8,
    "start_time": "2023-03-21T11:19:59.498Z"
   },
   {
    "duration": 193,
    "start_time": "2023-03-21T11:19:59.507Z"
   },
   {
    "duration": 1193,
    "start_time": "2023-03-21T19:49:25.709Z"
   },
   {
    "duration": 172,
    "start_time": "2023-03-21T19:49:26.904Z"
   },
   {
    "duration": 10,
    "start_time": "2023-03-21T19:49:27.078Z"
   },
   {
    "duration": 19,
    "start_time": "2023-03-21T19:49:27.089Z"
   },
   {
    "duration": 2,
    "start_time": "2023-03-21T19:49:27.110Z"
   },
   {
    "duration": 12,
    "start_time": "2023-03-21T19:49:27.114Z"
   },
   {
    "duration": 28,
    "start_time": "2023-03-21T19:49:27.128Z"
   },
   {
    "duration": 96,
    "start_time": "2023-03-21T19:49:27.157Z"
   },
   {
    "duration": 63,
    "start_time": "2023-03-21T19:49:27.255Z"
   },
   {
    "duration": 172,
    "start_time": "2023-03-21T19:49:27.319Z"
   },
   {
    "duration": 806,
    "start_time": "2023-03-21T19:49:27.493Z"
   },
   {
    "duration": 11,
    "start_time": "2023-03-21T19:49:28.300Z"
   },
   {
    "duration": 59,
    "start_time": "2023-03-21T19:49:28.312Z"
   },
   {
    "duration": 44,
    "start_time": "2023-03-21T19:49:28.375Z"
   },
   {
    "duration": 10,
    "start_time": "2023-03-21T19:49:28.421Z"
   },
   {
    "duration": 24,
    "start_time": "2023-03-21T19:49:28.433Z"
   },
   {
    "duration": 52,
    "start_time": "2023-03-21T19:49:28.459Z"
   },
   {
    "duration": 378,
    "start_time": "2023-03-21T19:49:28.513Z"
   },
   {
    "duration": 21,
    "start_time": "2023-03-21T19:49:28.893Z"
   },
   {
    "duration": 30,
    "start_time": "2023-03-21T19:49:28.922Z"
   },
   {
    "duration": 7,
    "start_time": "2023-03-21T19:49:28.954Z"
   },
   {
    "duration": 23,
    "start_time": "2023-03-21T19:49:28.962Z"
   },
   {
    "duration": 218,
    "start_time": "2023-03-21T19:49:28.986Z"
   },
   {
    "duration": 58,
    "start_time": "2023-03-21T19:49:29.206Z"
   },
   {
    "duration": 6,
    "start_time": "2023-03-21T19:49:29.265Z"
   },
   {
    "duration": 8,
    "start_time": "2023-03-21T19:49:29.272Z"
   },
   {
    "duration": 193,
    "start_time": "2023-03-21T19:49:29.282Z"
   },
   {
    "duration": 67,
    "start_time": "2023-03-21T19:49:29.476Z"
   },
   {
    "duration": 4,
    "start_time": "2023-03-21T19:49:29.550Z"
   },
   {
    "duration": 25,
    "start_time": "2023-03-21T19:49:29.555Z"
   },
   {
    "duration": 5,
    "start_time": "2023-03-21T19:49:29.581Z"
   },
   {
    "duration": 9,
    "start_time": "2023-03-21T19:49:29.588Z"
   },
   {
    "duration": 6,
    "start_time": "2023-03-21T19:49:29.599Z"
   },
   {
    "duration": 14,
    "start_time": "2023-03-21T19:49:29.606Z"
   },
   {
    "duration": 70,
    "start_time": "2023-03-21T19:49:29.621Z"
   },
   {
    "duration": 47,
    "start_time": "2023-03-21T19:49:29.692Z"
   },
   {
    "duration": 113,
    "start_time": "2023-03-21T19:49:29.741Z"
   },
   {
    "duration": 6,
    "start_time": "2023-03-21T19:49:29.855Z"
   },
   {
    "duration": 12,
    "start_time": "2023-03-21T19:49:29.862Z"
   },
   {
    "duration": 7,
    "start_time": "2023-03-21T19:49:29.875Z"
   },
   {
    "duration": 4,
    "start_time": "2023-03-21T19:49:29.885Z"
   },
   {
    "duration": 8,
    "start_time": "2023-03-21T19:49:29.890Z"
   },
   {
    "duration": 8,
    "start_time": "2023-03-21T19:49:29.900Z"
   },
   {
    "duration": 18,
    "start_time": "2023-03-21T19:49:29.910Z"
   },
   {
    "duration": 30,
    "start_time": "2023-03-21T19:49:29.930Z"
   },
   {
    "duration": 7,
    "start_time": "2023-03-21T19:49:29.962Z"
   },
   {
    "duration": 6,
    "start_time": "2023-03-21T19:49:29.970Z"
   },
   {
    "duration": 5,
    "start_time": "2023-03-21T19:49:29.977Z"
   },
   {
    "duration": 8,
    "start_time": "2023-03-21T19:49:29.984Z"
   },
   {
    "duration": 6,
    "start_time": "2023-03-21T19:49:29.993Z"
   },
   {
    "duration": 6,
    "start_time": "2023-03-21T19:49:30.001Z"
   },
   {
    "duration": 31,
    "start_time": "2023-03-21T19:49:30.008Z"
   },
   {
    "duration": 41,
    "start_time": "2023-03-21T19:49:30.041Z"
   },
   {
    "duration": 8,
    "start_time": "2023-03-21T19:49:30.083Z"
   },
   {
    "duration": 9,
    "start_time": "2023-03-21T19:49:30.092Z"
   },
   {
    "duration": 56,
    "start_time": "2023-03-21T19:49:30.102Z"
   },
   {
    "duration": 12,
    "start_time": "2023-03-21T19:49:30.159Z"
   },
   {
    "duration": 214,
    "start_time": "2023-03-21T19:49:30.173Z"
   },
   {
    "duration": 9,
    "start_time": "2023-03-21T19:49:30.388Z"
   },
   {
    "duration": 240,
    "start_time": "2023-03-21T19:49:30.399Z"
   }
  ],
  "kernelspec": {
   "display_name": "Python 3 (ipykernel)",
   "language": "python",
   "name": "python3"
  },
  "language_info": {
   "codemirror_mode": {
    "name": "ipython",
    "version": 3
   },
   "file_extension": ".py",
   "mimetype": "text/x-python",
   "name": "python",
   "nbconvert_exporter": "python",
   "pygments_lexer": "ipython3",
   "version": "3.9.13"
  },
  "toc": {
   "base_numbering": 1,
   "nav_menu": {},
   "number_sections": true,
   "sideBar": true,
   "skip_h1_title": true,
   "title_cell": "Table of Contents",
   "title_sidebar": "Contents",
   "toc_cell": false,
   "toc_position": {},
   "toc_section_display": true,
   "toc_window_display": false
  }
 },
 "nbformat": 4,
 "nbformat_minor": 2
}
