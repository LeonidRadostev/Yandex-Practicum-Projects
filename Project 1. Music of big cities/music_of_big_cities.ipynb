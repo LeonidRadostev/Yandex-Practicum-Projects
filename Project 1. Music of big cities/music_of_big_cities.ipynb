{
 "cells": [
  {
   "cell_type": "markdown",
   "metadata": {
    "id": "E0vqbgi9ay0H"
   },
   "source": [
    "# Проект: Музыка больших городов"
   ]
  },
  {
   "cell_type": "markdown",
   "metadata": {
    "id": "VUC88oWjTJw2"
   },
   "source": [
    "Сравнение Москвы и Петербурга окружено мифами. Например:\n",
    " * Москва — мегаполис, подчинённый жёсткому ритму рабочей недели;\n",
    " * Петербург — культурная столица, со своими вкусами.\n",
    "\n",
    "На данных Яндекс Музыки вы сравните поведение пользователей двух столиц.\n",
    "\n",
    "**Цель исследования** — проверить три гипотезы:\n",
    "1. Активность пользователей зависит от дня недели. Причём в Москве и Петербурге это проявляется по-разному.\n",
    "2. В понедельник утром в Москве преобладают одни жанры, а в Петербурге — другие. Так же и вечером пятницы преобладают разные жанры — в зависимости от города. \n",
    "3. Москва и Петербург предпочитают разные жанры музыки. В Москве чаще слушают поп-музыку, в Петербурге — русский рэп.\n",
    "\n",
    "**Ход исследования:**\n",
    "\n",
    " 1. Обзор данных.\n",
    " 2. Предобработка данных.\n",
    " 3. Проверка гипотез.\n",
    "\n"
   ]
  },
  {
   "cell_type": "markdown",
   "metadata": {
    "id": "Ml1hmfXC_Zcs"
   },
   "source": [
    "## Обзор данных\n",
    "\n",
    "Составим первое представление о данных Яндекс Музыки.\n",
    "\n",
    "\n"
   ]
  },
  {
   "cell_type": "code",
   "execution_count": 1,
   "metadata": {
    "deletable": false,
    "id": "AXN7PHPN_Zcs"
   },
   "outputs": [],
   "source": [
    "import pandas as pd# импорт библиотеки pandas"
   ]
  },
  {
   "cell_type": "code",
   "execution_count": 2,
   "metadata": {
    "deletable": false,
    "id": "fFVu7vqh_Zct"
   },
   "outputs": [],
   "source": [
    "df = pd.read_csv('C:\\\\StudentYandex\\\\Projekts\\\\Python\\\\Projekt1Musik\\\\yandex_music_project.csv')# чтение файла с данными и сохранение в df"
   ]
  },
  {
   "cell_type": "code",
   "execution_count": 3,
   "metadata": {
    "deletable": false,
    "id": "oWTVX3gW_Zct"
   },
   "outputs": [
    {
     "data": {
      "text/html": [
       "<div>\n",
       "<style scoped>\n",
       "    .dataframe tbody tr th:only-of-type {\n",
       "        vertical-align: middle;\n",
       "    }\n",
       "\n",
       "    .dataframe tbody tr th {\n",
       "        vertical-align: top;\n",
       "    }\n",
       "\n",
       "    .dataframe thead th {\n",
       "        text-align: right;\n",
       "    }\n",
       "</style>\n",
       "<table border=\"1\" class=\"dataframe\">\n",
       "  <thead>\n",
       "    <tr style=\"text-align: right;\">\n",
       "      <th></th>\n",
       "      <th>userID</th>\n",
       "      <th>Track</th>\n",
       "      <th>artist</th>\n",
       "      <th>genre</th>\n",
       "      <th>City</th>\n",
       "      <th>time</th>\n",
       "      <th>Day</th>\n",
       "    </tr>\n",
       "  </thead>\n",
       "  <tbody>\n",
       "    <tr>\n",
       "      <th>0</th>\n",
       "      <td>FFB692EC</td>\n",
       "      <td>Kamigata To Boots</td>\n",
       "      <td>The Mass Missile</td>\n",
       "      <td>rock</td>\n",
       "      <td>Saint-Petersburg</td>\n",
       "      <td>20:28:33</td>\n",
       "      <td>Wednesday</td>\n",
       "    </tr>\n",
       "    <tr>\n",
       "      <th>1</th>\n",
       "      <td>55204538</td>\n",
       "      <td>Delayed Because of Accident</td>\n",
       "      <td>Andreas Rönnberg</td>\n",
       "      <td>rock</td>\n",
       "      <td>Moscow</td>\n",
       "      <td>14:07:09</td>\n",
       "      <td>Friday</td>\n",
       "    </tr>\n",
       "    <tr>\n",
       "      <th>2</th>\n",
       "      <td>20EC38</td>\n",
       "      <td>Funiculì funiculà</td>\n",
       "      <td>Mario Lanza</td>\n",
       "      <td>pop</td>\n",
       "      <td>Saint-Petersburg</td>\n",
       "      <td>20:58:07</td>\n",
       "      <td>Wednesday</td>\n",
       "    </tr>\n",
       "    <tr>\n",
       "      <th>3</th>\n",
       "      <td>A3DD03C9</td>\n",
       "      <td>Dragons in the Sunset</td>\n",
       "      <td>Fire + Ice</td>\n",
       "      <td>folk</td>\n",
       "      <td>Saint-Petersburg</td>\n",
       "      <td>08:37:09</td>\n",
       "      <td>Monday</td>\n",
       "    </tr>\n",
       "    <tr>\n",
       "      <th>4</th>\n",
       "      <td>E2DC1FAE</td>\n",
       "      <td>Soul People</td>\n",
       "      <td>Space Echo</td>\n",
       "      <td>dance</td>\n",
       "      <td>Moscow</td>\n",
       "      <td>08:34:34</td>\n",
       "      <td>Monday</td>\n",
       "    </tr>\n",
       "    <tr>\n",
       "      <th>5</th>\n",
       "      <td>842029A1</td>\n",
       "      <td>Преданная</td>\n",
       "      <td>IMPERVTOR</td>\n",
       "      <td>rusrap</td>\n",
       "      <td>Saint-Petersburg</td>\n",
       "      <td>13:09:41</td>\n",
       "      <td>Friday</td>\n",
       "    </tr>\n",
       "    <tr>\n",
       "      <th>6</th>\n",
       "      <td>4CB90AA5</td>\n",
       "      <td>True</td>\n",
       "      <td>Roman Messer</td>\n",
       "      <td>dance</td>\n",
       "      <td>Moscow</td>\n",
       "      <td>13:00:07</td>\n",
       "      <td>Wednesday</td>\n",
       "    </tr>\n",
       "    <tr>\n",
       "      <th>7</th>\n",
       "      <td>F03E1C1F</td>\n",
       "      <td>Feeling This Way</td>\n",
       "      <td>Polina Griffith</td>\n",
       "      <td>dance</td>\n",
       "      <td>Moscow</td>\n",
       "      <td>20:47:49</td>\n",
       "      <td>Wednesday</td>\n",
       "    </tr>\n",
       "    <tr>\n",
       "      <th>8</th>\n",
       "      <td>8FA1D3BE</td>\n",
       "      <td>И вновь продолжается бой</td>\n",
       "      <td>NaN</td>\n",
       "      <td>ruspop</td>\n",
       "      <td>Moscow</td>\n",
       "      <td>09:17:40</td>\n",
       "      <td>Friday</td>\n",
       "    </tr>\n",
       "    <tr>\n",
       "      <th>9</th>\n",
       "      <td>E772D5C0</td>\n",
       "      <td>Pessimist</td>\n",
       "      <td>NaN</td>\n",
       "      <td>dance</td>\n",
       "      <td>Saint-Petersburg</td>\n",
       "      <td>21:20:49</td>\n",
       "      <td>Wednesday</td>\n",
       "    </tr>\n",
       "  </tbody>\n",
       "</table>\n",
       "</div>"
      ],
      "text/plain": [
       "     userID                        Track            artist   genre  \\\n",
       "0  FFB692EC            Kamigata To Boots  The Mass Missile    rock   \n",
       "1  55204538  Delayed Because of Accident  Andreas Rönnberg    rock   \n",
       "2    20EC38            Funiculì funiculà       Mario Lanza     pop   \n",
       "3  A3DD03C9        Dragons in the Sunset        Fire + Ice    folk   \n",
       "4  E2DC1FAE                  Soul People        Space Echo   dance   \n",
       "5  842029A1                    Преданная         IMPERVTOR  rusrap   \n",
       "6  4CB90AA5                         True      Roman Messer   dance   \n",
       "7  F03E1C1F             Feeling This Way   Polina Griffith   dance   \n",
       "8  8FA1D3BE     И вновь продолжается бой               NaN  ruspop   \n",
       "9  E772D5C0                    Pessimist               NaN   dance   \n",
       "\n",
       "             City        time        Day  \n",
       "0  Saint-Petersburg  20:28:33  Wednesday  \n",
       "1            Moscow  14:07:09     Friday  \n",
       "2  Saint-Petersburg  20:58:07  Wednesday  \n",
       "3  Saint-Petersburg  08:37:09     Monday  \n",
       "4            Moscow  08:34:34     Monday  \n",
       "5  Saint-Petersburg  13:09:41     Friday  \n",
       "6            Moscow  13:00:07  Wednesday  \n",
       "7            Moscow  20:47:49  Wednesday  \n",
       "8            Moscow  09:17:40     Friday  \n",
       "9  Saint-Petersburg  21:20:49  Wednesday  "
      ]
     },
     "execution_count": 3,
     "metadata": {},
     "output_type": "execute_result"
    }
   ],
   "source": [
    "df.head(10)# получение первых 10 строк таблицы df"
   ]
  },
  {
   "cell_type": "code",
   "execution_count": 4,
   "metadata": {
    "deletable": false,
    "id": "DSf2kIb-_Zct"
   },
   "outputs": [
    {
     "name": "stdout",
     "output_type": "stream",
     "text": [
      "<class 'pandas.core.frame.DataFrame'>\n",
      "RangeIndex: 65079 entries, 0 to 65078\n",
      "Data columns (total 7 columns):\n",
      " #   Column    Non-Null Count  Dtype \n",
      "---  ------    --------------  ----- \n",
      " 0     userID  65079 non-null  object\n",
      " 1   Track     63848 non-null  object\n",
      " 2   artist    57876 non-null  object\n",
      " 3   genre     63881 non-null  object\n",
      " 4     City    65079 non-null  object\n",
      " 5   time      65079 non-null  object\n",
      " 6   Day       65079 non-null  object\n",
      "dtypes: object(7)\n",
      "memory usage: 3.5+ MB\n"
     ]
    }
   ],
   "source": [
    "df.info()# получение общей информации о данных в таблице df"
   ]
  },
  {
   "cell_type": "markdown",
   "metadata": {
    "deletable": false,
    "editable": false,
    "id": "TaQ2Iwbr_Zct"
   },
   "source": [
    "Итак, в таблице семь столбцов. Тип данных во всех столбцах — `object`.\n",
    "\n",
    "Согласно документации к данным:\n",
    "* `userID` — идентификатор пользователя;\n",
    "* `Track` — название трека;  \n",
    "* `artist` — имя исполнителя;\n",
    "* `genre` — название жанра;\n",
    "* `City` — город пользователя;\n",
    "* `time` — время начала прослушивания;\n",
    "* `Day` — день недели.\n",
    "\n",
    "Количество значений в столбцах различается. Значит, в данных есть пропущенные значения."
   ]
  },
  {
   "cell_type": "markdown",
   "metadata": {
    "id": "rAfziTBDmf2h",
    "tags": [
     "start_task"
    ]
   },
   "source": [
    "\n",
    "В названиях колонок видны нарушения стиля:\n",
    "* Строчные буквы сочетаются с прописными.\n",
    "* Встречаются пробелы.\n",
    "* Идентификатор пользователя записан не по правилам стиля, так же есть пробел перед названием.\n",
    "\n"
   ]
  },
  {
   "cell_type": "markdown",
   "metadata": {
    "deletable": false,
    "editable": false,
    "id": "MCB6-dXG_Zct"
   },
   "source": [
    "**Выводы**\n",
    "\n",
    "В каждой строке таблицы — данные о прослушанном треке. Часть колонок описывает саму композицию: название, исполнителя и жанр. Остальные данные рассказывают о пользователе: из какого он города, когда он слушал музыку. \n",
    "\n",
    "Предварительно можно утверждать, что данных достаточно для проверки гипотез. Но встречаются пропуски в данных, а в названиях колонок — расхождения с хорошим стилем.\n",
    "\n",
    "Чтобы двигаться дальше, нужно устранить проблемы в данных."
   ]
  },
  {
   "cell_type": "markdown",
   "metadata": {
    "id": "SjYF6Ub9_Zct"
   },
   "source": [
    "## Предобработка данных\n",
    "\n",
    "Исправим стиль в заголовках столбцов, исключим пропуски. Затем проверим данные на дубликаты."
   ]
  },
  {
   "cell_type": "markdown",
   "metadata": {
    "id": "dIaKXr29_Zct",
    "tags": [
     "start_task"
    ]
   },
   "source": [
    "### Стиль заголовков\n"
   ]
  },
  {
   "cell_type": "code",
   "execution_count": 6,
   "metadata": {
    "deletable": false,
    "id": "oKOTdF_Q_Zct"
   },
   "outputs": [
    {
     "data": {
      "text/plain": [
       "Index(['  userID', 'Track', 'artist', 'genre', '  City  ', 'time', 'Day'], dtype='object')"
      ]
     },
     "execution_count": 6,
     "metadata": {},
     "output_type": "execute_result"
    }
   ],
   "source": [
    "df.columns # перечень названий столбцов таблицы df"
   ]
  },
  {
   "cell_type": "markdown",
   "metadata": {
    "id": "zj5534cv_Zct",
    "tags": [
     "start_task"
    ]
   },
   "source": [
    "\n",
    "Приведем названия в соответствие с хорошим стилем:\n",
    "* несколько слов в названии запишем в «змеином_регистре»,\n",
    "* все символы сделаем строчными,\n",
    "* устраним пробелы.\n",
    "\n",
    "Для этого переименуйте колонки так:\n",
    "* `'  userID'` → `'user_id'`;\n",
    "* `'Track'` → `'track'`;\n",
    "* `'  City  '` → `'city'`;\n",
    "* `'Day'` → `'day'`."
   ]
  },
  {
   "cell_type": "code",
   "execution_count": 7,
   "metadata": {
    "deletable": false,
    "id": "ISlFqs5y_Zct"
   },
   "outputs": [],
   "source": [
    "df = df.rename(columns={'  userID':'user_id','Track':'track','  City  ':'city','Day':'day'})# переименование столбцов"
   ]
  },
  {
   "cell_type": "markdown",
   "metadata": {
    "id": "5ISfbcfY_Zct",
    "tags": [
     "start_task"
    ]
   },
   "source": [
    "### Пропуски значений\n",
    "\n",
    "\n",
    "Посчитаем, сколько в таблице пропущенных значений:"
   ]
  },
  {
   "cell_type": "code",
   "execution_count": 9,
   "metadata": {
    "deletable": false,
    "id": "RskX29qr_Zct"
   },
   "outputs": [
    {
     "data": {
      "text/plain": [
       "user_id       0\n",
       "track      1231\n",
       "artist     7203\n",
       "genre      1198\n",
       "city          0\n",
       "time          0\n",
       "day           0\n",
       "dtype: int64"
      ]
     },
     "execution_count": 9,
     "metadata": {},
     "output_type": "execute_result"
    }
   ],
   "source": [
    "df.isna().sum()# подсчёт пропусков"
   ]
  },
  {
   "cell_type": "markdown",
   "metadata": {
    "id": "fSv2laPA_Zct",
    "tags": [
     "start_task"
    ]
   },
   "source": [
    "Заменим пропущенные значения в столбцах `track`, `artist` и `genre` на строку `'unknown'`:"
   ]
  },
  {
   "cell_type": "code",
   "execution_count": 10,
   "metadata": {
    "deletable": false,
    "id": "KplB5qWs_Zct"
   },
   "outputs": [],
   "source": [
    "columns_to_replace=['track','artist','genre']\n",
    "for column in columns_to_replace:\n",
    "    df[column] = df[column].fillna('unknown')# перебор названий столбцов в цикле и замена пропущенных значений на 'unknown'"
   ]
  },
  {
   "cell_type": "markdown",
   "metadata": {
    "id": "BWKRtBJ3_Zct",
    "tags": [
     "start_task"
    ]
   },
   "source": [
    "### Дубликаты\n",
    "\n",
    "Посчитаем явные дубликаты в таблице:"
   ]
  },
  {
   "cell_type": "code",
   "execution_count": 12,
   "metadata": {
    "deletable": false,
    "id": "36eES_S0_Zct"
   },
   "outputs": [
    {
     "data": {
      "text/plain": [
       "3826"
      ]
     },
     "execution_count": 12,
     "metadata": {},
     "output_type": "execute_result"
    }
   ],
   "source": [
    "df.duplicated().sum()# подсчёт явных дубликатов"
   ]
  },
  {
   "cell_type": "markdown",
   "metadata": {
    "id": "Ot25h6XR_Zct",
    "tags": [
     "start_task"
    ]
   },
   "source": [
    "Удалим явные дубликаты:"
   ]
  },
  {
   "cell_type": "code",
   "execution_count": 13,
   "metadata": {
    "deletable": false,
    "id": "exFHq6tt_Zct"
   },
   "outputs": [],
   "source": [
    "df = df.drop_duplicates()# удаление явных дубликатов"
   ]
  },
  {
   "cell_type": "markdown",
   "metadata": {
    "id": "QlFBsxAr_Zct"
   },
   "source": [
    "Теперь избавьимся от неявных дубликатов в колонке `genre`."
   ]
  },
  {
   "cell_type": "code",
   "execution_count": 15,
   "metadata": {
    "deletable": false,
    "id": "JIUcqzZN_Zct"
   },
   "outputs": [
    {
     "data": {
      "text/plain": [
       "array(['acid', 'acoustic', 'action', 'adult', 'africa', 'afrikaans',\n",
       "       'alternative', 'alternativepunk', 'ambient', 'americana',\n",
       "       'animated', 'anime', 'arabesk', 'arabic', 'arena',\n",
       "       'argentinetango', 'art', 'audiobook', 'author', 'avantgarde',\n",
       "       'axé', 'baile', 'balkan', 'beats', 'bigroom', 'black', 'bluegrass',\n",
       "       'blues', 'bollywood', 'bossa', 'brazilian', 'breakbeat', 'breaks',\n",
       "       'broadway', 'cantautori', 'cantopop', 'canzone', 'caribbean',\n",
       "       'caucasian', 'celtic', 'chamber', 'chanson', 'children', 'chill',\n",
       "       'chinese', 'choral', 'christian', 'christmas', 'classical',\n",
       "       'classicmetal', 'club', 'colombian', 'comedy', 'conjazz',\n",
       "       'contemporary', 'country', 'cuban', 'dance', 'dancehall',\n",
       "       'dancepop', 'dark', 'death', 'deep', 'deutschrock', 'deutschspr',\n",
       "       'dirty', 'disco', 'dnb', 'documentary', 'downbeat', 'downtempo',\n",
       "       'drum', 'dub', 'dubstep', 'eastern', 'easy', 'electronic',\n",
       "       'electropop', 'emo', 'entehno', 'epicmetal', 'estrada', 'ethnic',\n",
       "       'eurofolk', 'european', 'experimental', 'extrememetal', 'fado',\n",
       "       'fairytail', 'film', 'fitness', 'flamenco', 'folk', 'folklore',\n",
       "       'folkmetal', 'folkrock', 'folktronica', 'forró', 'frankreich',\n",
       "       'französisch', 'french', 'funk', 'future', 'gangsta', 'garage',\n",
       "       'german', 'ghazal', 'gitarre', 'glitch', 'gospel', 'gothic',\n",
       "       'grime', 'grunge', 'gypsy', 'handsup', \"hard'n'heavy\", 'hardcore',\n",
       "       'hardstyle', 'hardtechno', 'hip', 'hip-hop', 'hiphop',\n",
       "       'historisch', 'holiday', 'hop', 'horror', 'house', 'hymn', 'idm',\n",
       "       'independent', 'indian', 'indie', 'indipop', 'industrial',\n",
       "       'inspirational', 'instrumental', 'international', 'irish', 'jam',\n",
       "       'japanese', 'jazz', 'jewish', 'jpop', 'jungle', 'k-pop',\n",
       "       'karadeniz', 'karaoke', 'kayokyoku', 'korean', 'laiko', 'latin',\n",
       "       'latino', 'leftfield', 'local', 'lounge', 'loungeelectronic',\n",
       "       'lovers', 'malaysian', 'mandopop', 'marschmusik', 'meditative',\n",
       "       'mediterranean', 'melodic', 'metal', 'metalcore', 'mexican',\n",
       "       'middle', 'minimal', 'miscellaneous', 'modern', 'mood', 'mpb',\n",
       "       'muslim', 'native', 'neoklassik', 'neue', 'new', 'newage',\n",
       "       'newwave', 'nu', 'nujazz', 'numetal', 'oceania', 'old', 'opera',\n",
       "       'orchestral', 'other', 'piano', 'podcasts', 'pop', 'popdance',\n",
       "       'popelectronic', 'popeurodance', 'poprussian', 'post',\n",
       "       'posthardcore', 'postrock', 'power', 'progmetal', 'progressive',\n",
       "       'psychedelic', 'punjabi', 'punk', 'quebecois', 'ragga', 'ram',\n",
       "       'rancheras', 'rap', 'rave', 'reggae', 'reggaeton', 'regional',\n",
       "       'relax', 'religious', 'retro', 'rhythm', 'rnb', 'rnr', 'rock',\n",
       "       'rockabilly', 'rockalternative', 'rockindie', 'rockother',\n",
       "       'romance', 'roots', 'ruspop', 'rusrap', 'rusrock', 'russian',\n",
       "       'salsa', 'samba', 'scenic', 'schlager', 'self', 'sertanejo',\n",
       "       'shanson', 'shoegazing', 'showtunes', 'singer', 'ska', 'skarock',\n",
       "       'slow', 'smooth', 'soft', 'soul', 'soulful', 'sound', 'soundtrack',\n",
       "       'southern', 'specialty', 'speech', 'spiritual', 'sport',\n",
       "       'stonerrock', 'surf', 'swing', 'synthpop', 'synthrock',\n",
       "       'sängerportrait', 'tango', 'tanzorchester', 'taraftar', 'tatar',\n",
       "       'tech', 'techno', 'teen', 'thrash', 'top', 'traditional',\n",
       "       'tradjazz', 'trance', 'tribal', 'trip', 'triphop', 'tropical',\n",
       "       'türk', 'türkçe', 'ukrrock', 'unknown', 'urban', 'uzbek',\n",
       "       'variété', 'vi', 'videogame', 'vocal', 'western', 'world',\n",
       "       'worldbeat', 'ïîï', 'электроника'], dtype=object)"
      ]
     },
     "execution_count": 15,
     "metadata": {},
     "output_type": "execute_result"
    }
   ],
   "source": [
    "df['genre'].sort_values().unique()\n",
    "\n",
    "\n",
    "# Просмотр уникальных названий жанров"
   ]
  },
  {
   "cell_type": "markdown",
   "metadata": {
    "id": "qej-Qmuo_Zct",
    "tags": [
     "start_task"
    ]
   },
   "source": [
    "Видим следующие неявные дубликаты:\n",
    "* *hip*,\n",
    "* *hop*,\n",
    "* *hip-hop*.\n",
    "\n",
    "Вместо `hip`, `hop` и `hip-hop` запишем значение `hiphop`:"
   ]
  },
  {
   "cell_type": "code",
   "execution_count": 16,
   "metadata": {
    "deletable": false,
    "id": "ErNDkmns_Zct"
   },
   "outputs": [],
   "source": [
    "unwanted_name = ['hip','hop','hip-hop']\n",
    "df['genre'] = df['genre'].replace(unwanted_name,'hiphop')# Устранение неявных дубликатов"
   ]
  },
  {
   "cell_type": "markdown",
   "metadata": {
    "deletable": false,
    "editable": false,
    "id": "jz6a9-7HQUDd"
   },
   "source": [
    "**Выводы**\n",
    "\n",
    "Предобработка обнаружила три проблемы в данных:\n",
    "\n",
    "- нарушения в стиле заголовков,\n",
    "- пропущенные значения,\n",
    "- дубликаты — явные и неявные.\n",
    "\n",
    "Вы исправили заголовки, чтобы упростить работу с таблицей. Без дубликатов исследование станет более точным.\n",
    "\n",
    "Пропущенные значения вы заменили на `'unknown'`. Ещё предстоит увидеть, не повредят ли исследованию пропуски в колонке `genre`.\n",
    "\n",
    "Теперь можно перейти к проверке гипотез. "
   ]
  },
  {
   "cell_type": "markdown",
   "metadata": {
    "deletable": false,
    "editable": false,
    "id": "WttZHXH0SqKk"
   },
   "source": [
    "## Проверка гипотез"
   ]
  },
  {
   "cell_type": "markdown",
   "metadata": {
    "deletable": false,
    "editable": false,
    "id": "Im936VVi_Zcu"
   },
   "source": [
    "### Сравнение поведения пользователей двух столиц"
   ]
  },
  {
   "cell_type": "markdown",
   "metadata": {
    "id": "nwt_MuaL_Zcu"
   },
   "source": [
    "Первая гипотеза утверждает, что пользователи по-разному слушают музыку в Москве и Санкт-Петербурге. Проверим это предположение по данным о трёх днях недели — понедельнике, среде и пятнице. Для этого:\n",
    "\n",
    "* Разделим пользователей Москвы и Санкт-Петербурга.\n",
    "* Сравним, сколько треков послушала каждая группа пользователей в понедельник, среду и пятницу.\n"
   ]
  },
  {
   "cell_type": "markdown",
   "metadata": {
    "id": "8Dw_YMmT_Zcu",
    "tags": [
     "start_task"
    ]
   },
   "source": [
    "Оценим активность пользователей в каждом городе. Сгруппируем данные по городу и посчитаем прослушивания в каждой группе.\n",
    "\n"
   ]
  },
  {
   "cell_type": "code",
   "execution_count": 18,
   "metadata": {
    "deletable": false,
    "id": "0_Qs96oh_Zcu"
   },
   "outputs": [
    {
     "data": {
      "text/plain": [
       "city\n",
       "Moscow              42741\n",
       "Saint-Petersburg    18512\n",
       "Name: track, dtype: int64"
      ]
     },
     "execution_count": 18,
     "metadata": {},
     "output_type": "execute_result"
    }
   ],
   "source": [
    "city_groupby = df.groupby('city')['track'].count()\n",
    "city_groupby# Подсчёт прослушиваний в каждом городе"
   ]
  },
  {
   "cell_type": "markdown",
   "metadata": {
    "id": "dzli3w8o_Zcu",
    "tags": [
     "start_task"
    ]
   },
   "source": [
    "В Москве прослушиваний больше, чем в Петербурге. Из этого не следует, что московские пользователи чаще слушают музыку. Просто самих пользователей в Москве больше.\n",
    "\n",
    "\n",
    "Сгруппируем данные по дню недели и посчитаем прослушивания в понедельник, среду и пятницу:"
   ]
  },
  {
   "cell_type": "code",
   "execution_count": 19,
   "metadata": {
    "deletable": false,
    "id": "uZMKjiJz_Zcu"
   },
   "outputs": [
    {
     "data": {
      "text/plain": [
       "day\n",
       "Friday       21840\n",
       "Monday       21354\n",
       "Wednesday    18059\n",
       "Name: track, dtype: int64"
      ]
     },
     "execution_count": 19,
     "metadata": {},
     "output_type": "execute_result"
    }
   ],
   "source": [
    "day_groupby = df.groupby('day')['track'].count()\n",
    "day_groupby# Подсчёт прослушиваний в каждый из трёх дней"
   ]
  },
  {
   "cell_type": "markdown",
   "metadata": {
    "deletable": false,
    "editable": false,
    "id": "cC2tNrlL_Zcu"
   },
   "source": [
    "В среднем пользователи из двух городов менее активны по средам. Но картина может измениться, если рассмотреть каждый город в отдельности."
   ]
  },
  {
   "cell_type": "markdown",
   "metadata": {
    "id": "POzs8bGa_Zcu",
    "tags": [
     "start_task"
    ]
   },
   "source": [
    "Напишем функцию, которая объединит два эти расчёта."
   ]
  },
  {
   "cell_type": "code",
   "execution_count": 39,
   "metadata": {
    "deletable": false,
    "id": "Nz3GdQB1_Zcu"
   },
   "outputs": [],
   "source": [
    "def number_tracks(day, city):# <создание функции number_tracks()>\n",
    "    # Объявляется функция с двумя параметрами: day, city.\n",
    "    track_list = df[df['day']==day]\n",
    "    track_list = track_list[track_list['city']==city]# В переменной track_list сохраняются те строки таблицы df, для которых \n",
    "# значение в столбце 'day' равно параметру day и одновременно значение\n",
    "# в столбце 'city' равно параметру city (используйте последовательную фильтрацию\n",
    "# с помощью логической индексации или сложные логические выражения в одну строку, если вы уже знакомы с ними).\n",
    "    track_list_count = track_list['user_id'].count()# В переменной track_list_count сохраняется число значений столбца 'user_id',\n",
    "# рассчитанное методом count() для таблицы track_list.\n",
    "    return track_list_count# Функция возвращает число - значение track_list_count.\n",
    "\n",
    "# Функция для подсчёта прослушиваний для конкретного города и дня.\n",
    "# С помощью последовательной фильтрации с логической индексацией она \n",
    "# сначала получит из исходной таблицы строки с нужным днём,\n",
    "# затем из результата отфильтрует строки с нужным городом,\n",
    "# методом count() посчитает количество значений в колонке user_id. \n",
    "# Это количество функция вернёт в качестве результата"
   ]
  },
  {
   "cell_type": "code",
   "execution_count": 21,
   "metadata": {
    "deletable": false,
    "id": "rJcRATNQ_Zcu"
   },
   "outputs": [
    {
     "data": {
      "text/plain": [
       "15740"
      ]
     },
     "execution_count": 21,
     "metadata": {},
     "output_type": "execute_result"
    }
   ],
   "source": [
    "number_tracks('Monday','Moscow')# количество прослушиваний в Москве по понедельникам"
   ]
  },
  {
   "cell_type": "code",
   "execution_count": 22,
   "metadata": {
    "deletable": false,
    "id": "hq_ncZ5T_Zcu"
   },
   "outputs": [
    {
     "data": {
      "text/plain": [
       "5614"
      ]
     },
     "execution_count": 22,
     "metadata": {},
     "output_type": "execute_result"
    }
   ],
   "source": [
    "number_tracks('Monday','Saint-Petersburg')# количество прослушиваний в Санкт-Петербурге по понедельникам"
   ]
  },
  {
   "cell_type": "code",
   "execution_count": 23,
   "metadata": {
    "deletable": false,
    "id": "_NTy2VPU_Zcu"
   },
   "outputs": [
    {
     "data": {
      "text/plain": [
       "11056"
      ]
     },
     "execution_count": 23,
     "metadata": {},
     "output_type": "execute_result"
    }
   ],
   "source": [
    "number_tracks('Wednesday','Moscow')# количество прослушиваний в Москве по средам"
   ]
  },
  {
   "cell_type": "code",
   "execution_count": 24,
   "metadata": {
    "deletable": false,
    "id": "j2y3TAwo_Zcu"
   },
   "outputs": [
    {
     "data": {
      "text/plain": [
       "7003"
      ]
     },
     "execution_count": 24,
     "metadata": {},
     "output_type": "execute_result"
    }
   ],
   "source": [
    "number_tracks('Wednesday','Saint-Petersburg')# количество прослушиваний в Санкт-Петербурге по средам"
   ]
  },
  {
   "cell_type": "code",
   "execution_count": 25,
   "metadata": {
    "deletable": false,
    "id": "vYDw5u_K_Zcu"
   },
   "outputs": [
    {
     "data": {
      "text/plain": [
       "15945"
      ]
     },
     "execution_count": 25,
     "metadata": {},
     "output_type": "execute_result"
    }
   ],
   "source": [
    "number_tracks('Friday','Moscow')# количество прослушиваний в Москве по пятницам"
   ]
  },
  {
   "cell_type": "code",
   "execution_count": 26,
   "metadata": {
    "deletable": false,
    "id": "8_yzFtW3_Zcu"
   },
   "outputs": [
    {
     "data": {
      "text/plain": [
       "5895"
      ]
     },
     "execution_count": 26,
     "metadata": {},
     "output_type": "execute_result"
    }
   ],
   "source": [
    "number_tracks('Friday','Saint-Petersburg')# количество прослушиваний в Санкт-Петербурге по пятницам"
   ]
  },
  {
   "cell_type": "markdown",
   "metadata": {
    "id": "7QXffbO-_Zcu",
    "tags": [
     "start_task"
    ]
   },
   "source": [
    "\n",
    "\n",
    "Создадим таблицу `info`, где\n",
    "* названия колонок — `['city', 'monday', 'wednesday', 'friday']`;\n",
    "* данные — результаты, которые мы получили с помощью `number_tracks`."
   ]
  },
  {
   "cell_type": "code",
   "execution_count": 27,
   "metadata": {
    "deletable": false,
    "id": "APAcLpOr_Zcu"
   },
   "outputs": [
    {
     "data": {
      "text/html": [
       "<div>\n",
       "<style scoped>\n",
       "    .dataframe tbody tr th:only-of-type {\n",
       "        vertical-align: middle;\n",
       "    }\n",
       "\n",
       "    .dataframe tbody tr th {\n",
       "        vertical-align: top;\n",
       "    }\n",
       "\n",
       "    .dataframe thead th {\n",
       "        text-align: right;\n",
       "    }\n",
       "</style>\n",
       "<table border=\"1\" class=\"dataframe\">\n",
       "  <thead>\n",
       "    <tr style=\"text-align: right;\">\n",
       "      <th></th>\n",
       "      <th>city</th>\n",
       "      <th>monday</th>\n",
       "      <th>wednesday</th>\n",
       "      <th>friday</th>\n",
       "    </tr>\n",
       "  </thead>\n",
       "  <tbody>\n",
       "    <tr>\n",
       "      <th>0</th>\n",
       "      <td>Moscow</td>\n",
       "      <td>15740</td>\n",
       "      <td>11056</td>\n",
       "      <td>15945</td>\n",
       "    </tr>\n",
       "    <tr>\n",
       "      <th>1</th>\n",
       "      <td>Saint-Petersburg</td>\n",
       "      <td>5614</td>\n",
       "      <td>7003</td>\n",
       "      <td>5895</td>\n",
       "    </tr>\n",
       "  </tbody>\n",
       "</table>\n",
       "</div>"
      ],
      "text/plain": [
       "               city  monday  wednesday  friday\n",
       "0            Moscow   15740      11056   15945\n",
       "1  Saint-Petersburg    5614       7003    5895"
      ]
     },
     "execution_count": 27,
     "metadata": {},
     "output_type": "execute_result"
    }
   ],
   "source": [
    "columns = ['city', 'monday', 'wednesday', 'friday']\n",
    "number_track = [\n",
    "    ['Moscow', 15740, 11056, 15945],\n",
    "    ['Saint-Petersburg', 5614, 7003, 5895]\n",
    "]\n",
    "info = pd.DataFrame(data=number_track, columns=columns)\n",
    "info# Таблица с результатами"
   ]
  },
  {
   "cell_type": "markdown",
   "metadata": {
    "deletable": false,
    "editable": false,
    "id": "-EgPIHYu_Zcu"
   },
   "source": [
    "**Выводы**\n",
    "\n",
    "Данные показывают разницу поведения пользователей:\n",
    "\n",
    "- В Москве пик прослушиваний приходится на понедельник и пятницу, а в среду заметен спад.\n",
    "- В Петербурге, наоборот, больше слушают музыку по средам. Активность в понедельник и пятницу здесь почти в равной мере уступает среде.\n",
    "\n",
    "Значит, данные говорят в пользу первой гипотезы."
   ]
  },
  {
   "cell_type": "markdown",
   "metadata": {
    "deletable": false,
    "editable": false,
    "id": "atZAxtq4_Zcu"
   },
   "source": [
    "### Музыка в начале и в конце недели"
   ]
  },
  {
   "cell_type": "markdown",
   "metadata": {
    "deletable": false,
    "editable": false,
    "id": "eXrQqXFH_Zcu"
   },
   "source": [
    "Согласно второй гипотезе, утром в понедельник в Москве преобладают одни жанры, а в Петербурге — другие. Так же и вечером пятницы преобладают разные жанры — в зависимости от города."
   ]
  },
  {
   "cell_type": "markdown",
   "metadata": {
    "id": "S8UcW6Hw_Zcu",
    "tags": [
     "start_task"
    ]
   },
   "source": [
    "\n",
    "Сохраним таблицы с данными в две переменные:\n",
    "* по Москве — в `moscow_general`;\n",
    "* по Санкт-Петербургу — в `spb_general`."
   ]
  },
  {
   "cell_type": "code",
   "execution_count": 28,
   "metadata": {
    "deletable": false,
    "id": "qeaFfM_P_Zcu"
   },
   "outputs": [],
   "source": [
    "moscow_general = df[df['city']=='Moscow']# получение таблицы moscow_general из тех строк таблицы df, \n",
    "# для которых значение в столбце 'city' равно 'Moscow'"
   ]
  },
  {
   "cell_type": "code",
   "execution_count": 29,
   "metadata": {
    "deletable": false,
    "id": "ORaVRKto_Zcu"
   },
   "outputs": [],
   "source": [
    "spb_general = df[df['city']=='Saint-Petersburg']## получение таблицы spb_general из тех строк таблицы df,\n",
    "# для которых значение в столбце 'city' равно 'Saint-Petersburg'\n"
   ]
  },
  {
   "cell_type": "markdown",
   "metadata": {
    "id": "MEJV-CX2_Zcu",
    "tags": [
     "start_task"
    ]
   },
   "source": [
    "\n",
    "Создадим функцию `genre_weekday()` с четырьмя параметрами:\n",
    "* таблица (датафрейм) с данными,\n",
    "* день недели,\n",
    "* начальная временная метка в формате 'hh:mm', \n",
    "* последняя временная метка в формате 'hh:mm'.\n",
    "\n",
    "Функция будет возвращать информацию о топ-10 жанров тех треков, которые прослушивали в указанный день, в промежутке между двумя отметками времени."
   ]
  },
  {
   "cell_type": "code",
   "execution_count": 30,
   "metadata": {
    "deletable": false,
    "id": "laJT9BYl_Zcu"
   },
   "outputs": [],
   "source": [
    "# Объявление функции genre_weekday() с параметрами table, day, time1, time2,\n",
    "# которая возвращает информацию о самых популярных жанрах в указанный день в\n",
    "# заданное время:\n",
    "# 1) в переменную genre_df сохраняются те строки переданного датафрейма table, для\n",
    "#    которых одновременно:\n",
    "#    - значение в столбце day равно значению аргумента day\n",
    "#    - значение в столбце time больше значения аргумента time1\n",
    "#    - значение в столбце time меньше значения аргумента time2\n",
    "#    Используйте последовательную фильтрацию с помощью логической индексации.\n",
    "# 2) сгруппировать датафрейм genre_df по столбцу genre, взять один из его\n",
    "#    столбцов и посчитать методом count() количество записей для каждого из\n",
    "#    присутствующих жанров, получившийся Series записать в переменную\n",
    "#    genre_df_count\n",
    "# 3) отсортировать genre_df_count по убыванию встречаемости и сохранить\n",
    "#    в переменную genre_df_sorted\n",
    "# 4) вернуть Series из 10 первых значений genre_df_sorted, это будут топ-10\n",
    "#    популярных жанров (в указанный день, в заданное время)\n",
    "\n",
    "def genre_weekday(df, day, time1, time2):\n",
    "    # последовательная фильтрация\n",
    "    # оставляем в genre_df только те строки df, у которых день равен day\n",
    "    genre_df = df[df['day']==day]# ваш код здесь\n",
    "    # оставляем в genre_df только те строки genre_df, у которых время меньше time2\n",
    "    genre_df = genre_df[genre_df['time']<time2]# ваш код здесь\n",
    "    # оставляем в genre_df только те строки genre_df, у которых время больше time1\n",
    "    genre_df = genre_df[genre_df['time']>time1]# ваш код здесь\n",
    "    # сгруппируем отфильтрованный датафрейм по столбцу с названиями жанров, возьмём столбец genre и посчитаем кол-во строк для каждого жанра методом count()\n",
    "    genre_df_grouped = genre_df.groupby('genre')['genre'].count()# ваш код здесь\n",
    "    # отсортируем результат по убыванию (чтобы в начале Series оказались самые популярные жанры)\n",
    "    genre_df_sorted = genre_df_grouped.sort_values(ascending=False)# ваш код здесь\n",
    "    # вернём Series с 10 самыми популярными жанрами в указанный отрезок времени заданного дня\n",
    "    return genre_df_sorted[:10]"
   ]
  },
  {
   "cell_type": "markdown",
   "metadata": {
    "id": "la2s2_PF_Zcu",
    "tags": [
     "start_task"
    ]
   },
   "source": [
    "\n",
    "Cравним результаты функции `genre_weekday()` для Москвы и Санкт-Петербурга в понедельник утром (с 7:00 до 11:00) и в пятницу вечером (с 17:00 до 23:00):"
   ]
  },
  {
   "cell_type": "code",
   "execution_count": 31,
   "metadata": {
    "deletable": false,
    "id": "yz7itPUQ_Zcu"
   },
   "outputs": [
    {
     "data": {
      "text/plain": [
       "genre\n",
       "pop            781\n",
       "dance          549\n",
       "electronic     480\n",
       "rock           474\n",
       "hiphop         286\n",
       "ruspop         186\n",
       "world          181\n",
       "rusrap         175\n",
       "alternative    164\n",
       "unknown        161\n",
       "Name: genre, dtype: int64"
      ]
     },
     "execution_count": 31,
     "metadata": {},
     "output_type": "execute_result"
    }
   ],
   "source": [
    "genre_weekday(moscow_general, 'Monday', '07:00', '11:00')# вызов функции для утра понедельника в Москве (вместо df — таблица moscow_general)\n",
    "# объекты, хранящие время, являются строками и сравниваются как строки\n",
    "# пример вызова: genre_weekday(moscow_general, 'Monday', '07:00', '11:00')"
   ]
  },
  {
   "cell_type": "code",
   "execution_count": 32,
   "metadata": {
    "deletable": false,
    "id": "kwUcHPdy_Zcu"
   },
   "outputs": [
    {
     "data": {
      "text/plain": [
       "genre\n",
       "pop            218\n",
       "dance          182\n",
       "rock           162\n",
       "electronic     147\n",
       "hiphop          80\n",
       "ruspop          64\n",
       "alternative     58\n",
       "rusrap          55\n",
       "jazz            44\n",
       "classical       40\n",
       "Name: genre, dtype: int64"
      ]
     },
     "execution_count": 32,
     "metadata": {},
     "output_type": "execute_result"
    }
   ],
   "source": [
    "genre_weekday(spb_general, 'Monday', '07:00', '11:00')# вызов функции для утра понедельника в Петербурге (вместо df — таблица spb_general)"
   ]
  },
  {
   "cell_type": "code",
   "execution_count": 33,
   "metadata": {
    "deletable": false,
    "id": "EzXVRE1o_Zcu"
   },
   "outputs": [
    {
     "data": {
      "text/plain": [
       "genre\n",
       "pop            713\n",
       "rock           517\n",
       "dance          495\n",
       "electronic     482\n",
       "hiphop         273\n",
       "world          208\n",
       "ruspop         170\n",
       "alternative    163\n",
       "classical      163\n",
       "rusrap         142\n",
       "Name: genre, dtype: int64"
      ]
     },
     "execution_count": 33,
     "metadata": {},
     "output_type": "execute_result"
    }
   ],
   "source": [
    "genre_weekday(moscow_general, 'Friday', '17:00', '23:00')# вызов функции для вечера пятницы в Москве"
   ]
  },
  {
   "cell_type": "code",
   "execution_count": 34,
   "metadata": {
    "deletable": false,
    "id": "JZaEKu5v_Zcu"
   },
   "outputs": [
    {
     "data": {
      "text/plain": [
       "genre\n",
       "pop            256\n",
       "electronic     216\n",
       "rock           216\n",
       "dance          210\n",
       "hiphop          97\n",
       "alternative     63\n",
       "jazz            61\n",
       "classical       60\n",
       "rusrap          59\n",
       "world           54\n",
       "Name: genre, dtype: int64"
      ]
     },
     "execution_count": 34,
     "metadata": {},
     "output_type": "execute_result"
    }
   ],
   "source": [
    "genre_weekday(spb_general, 'Friday', '17:00', '23:00')# вызов функции для вечера пятницы в Петербурге"
   ]
  },
  {
   "cell_type": "markdown",
   "metadata": {
    "deletable": false,
    "editable": false,
    "id": "wrCe4MNX_Zcu"
   },
   "source": [
    "**Выводы**\n",
    "\n",
    "Если сравнить топ-10 жанров в понедельник утром, можно сделать такие выводы:\n",
    "\n",
    "1. В Москве и Петербурге слушают похожую музыку. Единственное отличие — в московский рейтинг вошёл жанр “world”, а в петербургский — джаз и классика.\n",
    "\n",
    "2. В Москве пропущенных значений оказалось так много, что значение `'unknown'` заняло десятое место среди самых популярных жанров. Значит, пропущенные значения занимают существенную долю в данных и угрожают достоверности исследования.\n",
    "\n",
    "Вечер пятницы не меняет эту картину. Некоторые жанры поднимаются немного выше, другие спускаются, но в целом топ-10 остаётся тем же самым.\n",
    "\n",
    "Таким образом, вторая гипотеза подтвердилась лишь частично:\n",
    "* Пользователи слушают похожую музыку в начале недели и в конце.\n",
    "* Разница между Москвой и Петербургом не слишком выражена. В Москве чаще слушают русскую популярную музыку, в Петербурге — джаз.\n",
    "\n",
    "Однако пропуски в данных ставят под сомнение этот результат. В Москве их так много, что рейтинг топ-10 мог бы выглядеть иначе, если бы не утерянные  данные о жанрах."
   ]
  },
  {
   "cell_type": "markdown",
   "metadata": {
    "deletable": false,
    "editable": false,
    "id": "JolODAqr_Zcu"
   },
   "source": [
    "### Жанровые предпочтения в Москве и Петербурге\n",
    "\n",
    "Гипотеза: Петербург — столица рэпа, музыку этого жанра там слушают чаще, чем в Москве.  А Москва — город контрастов, в котором, тем не менее, преобладает поп-музыка."
   ]
  },
  {
   "cell_type": "markdown",
   "metadata": {
    "id": "DlegSvaT_Zcu",
    "tags": [
     "start_task"
    ]
   },
   "source": [
    "\n",
    "Сгруппируем таблицу `moscow_general` по жанру и посчитаем прослушивания треков каждого жанра. Затем отсортируем результат в порядке убывания и сохраним его в таблице `moscow_genres`."
   ]
  },
  {
   "cell_type": "code",
   "execution_count": 35,
   "metadata": {
    "deletable": false,
    "id": "r19lIPke_Zcu"
   },
   "outputs": [],
   "source": [
    "moscow_genres = moscow_general.groupby('genre')['genre'].count().sort_values(ascending=False)# одной строкой: группировка таблицы moscow_general по столбцу 'genre', \n",
    "# подсчёт числа значений 'genre' в этой группировке методом count(), \n",
    "# сортировка получившегося Series в порядке убывания и сохранение в moscow_genres"
   ]
  },
  {
   "cell_type": "code",
   "execution_count": 36,
   "metadata": {
    "deletable": false,
    "id": "WhCSooF8_Zcv"
   },
   "outputs": [
    {
     "data": {
      "text/plain": [
       "genre\n",
       "pop            5892\n",
       "dance          4435\n",
       "rock           3965\n",
       "electronic     3786\n",
       "hiphop         2096\n",
       "classical      1616\n",
       "world          1432\n",
       "alternative    1379\n",
       "ruspop         1372\n",
       "rusrap         1161\n",
       "Name: genre, dtype: int64"
      ]
     },
     "execution_count": 36,
     "metadata": {},
     "output_type": "execute_result"
    }
   ],
   "source": [
    "moscow_genres.head(10)# просмотр первых 10 строк moscow_genres"
   ]
  },
  {
   "cell_type": "markdown",
   "metadata": {
    "id": "cnPG2vnN_Zcv",
    "tags": [
     "start_task"
    ]
   },
   "source": [
    "\n",
    "Теперь повторим то же и для Петербурга.\n",
    "\n"
   ]
  },
  {
   "cell_type": "code",
   "execution_count": 37,
   "metadata": {
    "deletable": false,
    "id": "gluLIpE7_Zcv"
   },
   "outputs": [],
   "source": [
    "spb_genres = spb_general.groupby('genre')['genre'].count().sort_values(ascending=False)# одной строкой: группировка таблицы spb_general по столбцу 'genre', \n",
    "# подсчёт числа значений 'genre' в этой группировке методом count(), \n",
    "# сортировка получившегося Series в порядке убывания и сохранение в spb_genres"
   ]
  },
  {
   "cell_type": "code",
   "execution_count": 38,
   "metadata": {
    "deletable": false,
    "id": "uaGJHjVU_Zcv"
   },
   "outputs": [
    {
     "data": {
      "text/plain": [
       "genre\n",
       "pop            2431\n",
       "dance          1932\n",
       "rock           1879\n",
       "electronic     1736\n",
       "hiphop          960\n",
       "alternative     649\n",
       "classical       646\n",
       "rusrap          564\n",
       "ruspop          538\n",
       "world           515\n",
       "Name: genre, dtype: int64"
      ]
     },
     "execution_count": 38,
     "metadata": {},
     "output_type": "execute_result"
    }
   ],
   "source": [
    "spb_genres.head(10)# просмотр первых 10 строк spb_genres"
   ]
  },
  {
   "cell_type": "markdown",
   "metadata": {
    "deletable": false,
    "editable": false,
    "id": "RY51YJYu_Zcv"
   },
   "source": [
    "**Выводы**"
   ]
  },
  {
   "cell_type": "markdown",
   "metadata": {
    "deletable": false,
    "editable": false,
    "id": "nVhnJEm__Zcv"
   },
   "source": [
    "Гипотеза частично подтвердилась:\n",
    "* Поп-музыка — самый популярный жанр в Москве, как и предполагала гипотеза. Более того, в топ-10 жанров встречается близкий жанр — русская популярная музыка.\n",
    "* Вопреки ожиданиям, рэп одинаково популярен в Москве и Петербурге. \n"
   ]
  },
  {
   "cell_type": "markdown",
   "metadata": {
    "deletable": false,
    "editable": false,
    "id": "ykKQ0N65_Zcv"
   },
   "source": [
    "## Итоги исследования"
   ]
  },
  {
   "cell_type": "markdown",
   "metadata": {
    "id": "tjUwbHb3_Zcv"
   },
   "source": [
    "Мы проверили три гипотезы и установили:\n",
    "\n",
    "1. День недели по-разному влияет на активность пользователей в Москве и Петербурге. \n",
    "\n",
    "Первая гипотеза полностью подтвердилась.\n",
    "\n",
    "2. Музыкальные предпочтения не сильно меняются в течение недели — будь то Москва или Петербург. Небольшие различия заметны в начале недели, по понедельникам:\n",
    "* в Москве слушают музыку жанра “world”,\n",
    "* в Петербурге — джаз и классику.\n",
    "\n",
    "Таким образом, вторая гипотеза подтвердилась лишь отчасти. Этот результат мог оказаться иным, если бы не пропуски в данных.\n",
    "\n",
    "3. Во вкусах пользователей Москвы и Петербурга больше общего чем различий. Вопреки ожиданиям, предпочтения жанров в Петербурге напоминают московские.\n",
    "\n",
    "Третья гипотеза не подтвердилась. Если различия в предпочтениях и существуют, на основной массе пользователей они незаметны."
   ]
  },
  {
   "cell_type": "code",
   "execution_count": null,
   "metadata": {},
   "outputs": [],
   "source": []
  }
 ],
 "metadata": {
  "ExecuteTimeLog": [
   {
    "duration": 517,
    "start_time": "2022-10-26T08:57:32.489Z"
   },
   {
    "duration": 143,
    "start_time": "2022-10-26T08:57:35.737Z"
   },
   {
    "duration": 37,
    "start_time": "2022-10-26T08:57:52.738Z"
   },
   {
    "duration": 196,
    "start_time": "2022-10-26T08:58:22.137Z"
   },
   {
    "duration": 8,
    "start_time": "2022-10-26T08:59:10.646Z"
   },
   {
    "duration": 23,
    "start_time": "2022-10-26T08:59:25.405Z"
   },
   {
    "duration": 25,
    "start_time": "2022-10-26T09:17:05.465Z"
   },
   {
    "duration": 9,
    "start_time": "2022-10-26T09:20:24.244Z"
   },
   {
    "duration": 7,
    "start_time": "2022-10-26T09:20:35.397Z"
   },
   {
    "duration": 8,
    "start_time": "2022-10-26T09:30:30.533Z"
   },
   {
    "duration": 6,
    "start_time": "2022-10-26T09:30:37.496Z"
   },
   {
    "duration": 9,
    "start_time": "2022-10-26T09:30:54.672Z"
   },
   {
    "duration": 1962,
    "start_time": "2022-10-26T09:31:18.233Z"
   },
   {
    "duration": 8,
    "start_time": "2022-10-26T09:31:32.935Z"
   },
   {
    "duration": 10,
    "start_time": "2022-10-26T09:34:30.308Z"
   },
   {
    "duration": 21,
    "start_time": "2022-10-26T09:38:48.506Z"
   },
   {
    "duration": 7,
    "start_time": "2022-10-26T09:39:04.333Z"
   },
   {
    "duration": 29,
    "start_time": "2022-10-26T09:41:42.843Z"
   },
   {
    "duration": 1139,
    "start_time": "2022-10-26T09:47:29.903Z"
   },
   {
    "duration": 944,
    "start_time": "2022-10-26T09:48:09.599Z"
   },
   {
    "duration": 1026,
    "start_time": "2022-10-26T09:49:01.145Z"
   },
   {
    "duration": 1197,
    "start_time": "2022-10-26T09:49:08.377Z"
   },
   {
    "duration": 947,
    "start_time": "2022-10-26T09:50:31.741Z"
   },
   {
    "duration": 17,
    "start_time": "2022-10-26T09:51:41.233Z"
   },
   {
    "duration": 25,
    "start_time": "2022-10-26T09:52:25.635Z"
   },
   {
    "duration": 76,
    "start_time": "2022-10-26T09:54:03.371Z"
   },
   {
    "duration": 9,
    "start_time": "2022-10-26T09:57:57.535Z"
   },
   {
    "duration": 67,
    "start_time": "2022-10-26T09:58:29.441Z"
   },
   {
    "duration": 76,
    "start_time": "2022-10-26T09:59:11.175Z"
   },
   {
    "duration": 3,
    "start_time": "2022-10-26T10:03:55.884Z"
   },
   {
    "duration": 7,
    "start_time": "2022-10-26T10:04:08.233Z"
   },
   {
    "duration": 36,
    "start_time": "2022-10-26T10:05:53.237Z"
   },
   {
    "duration": 28,
    "start_time": "2022-10-26T10:07:04.846Z"
   },
   {
    "duration": 25,
    "start_time": "2022-10-26T10:07:48.866Z"
   },
   {
    "duration": 9,
    "start_time": "2022-10-26T10:08:44.599Z"
   },
   {
    "duration": 59,
    "start_time": "2022-10-26T10:11:55.591Z"
   },
   {
    "duration": 40,
    "start_time": "2022-10-26T10:13:13.758Z"
   },
   {
    "duration": 13,
    "start_time": "2022-10-26T10:24:58.155Z"
   },
   {
    "duration": 6,
    "start_time": "2022-10-26T10:25:52.450Z"
   },
   {
    "duration": 12,
    "start_time": "2022-10-26T10:26:19.299Z"
   },
   {
    "duration": 10,
    "start_time": "2022-10-26T10:29:38.281Z"
   },
   {
    "duration": 40,
    "start_time": "2022-10-26T10:34:58.844Z"
   },
   {
    "duration": 11,
    "start_time": "2022-10-26T10:35:06.036Z"
   },
   {
    "duration": 11,
    "start_time": "2022-10-26T10:37:11.346Z"
   },
   {
    "duration": 77,
    "start_time": "2022-10-26T10:38:12.745Z"
   },
   {
    "duration": 67,
    "start_time": "2022-10-26T10:38:15.739Z"
   },
   {
    "duration": 58,
    "start_time": "2022-10-26T10:38:55.350Z"
   },
   {
    "duration": 420,
    "start_time": "2022-10-26T10:39:37.400Z"
   },
   {
    "duration": 166,
    "start_time": "2022-10-26T10:39:37.822Z"
   },
   {
    "duration": 17,
    "start_time": "2022-10-26T10:39:37.990Z"
   },
   {
    "duration": 26,
    "start_time": "2022-10-26T10:39:38.010Z"
   },
   {
    "duration": 5,
    "start_time": "2022-10-26T10:39:38.038Z"
   },
   {
    "duration": 6,
    "start_time": "2022-10-26T10:39:38.044Z"
   },
   {
    "duration": 13,
    "start_time": "2022-10-26T10:39:38.052Z"
   },
   {
    "duration": 9,
    "start_time": "2022-10-26T10:39:38.066Z"
   },
   {
    "duration": 54,
    "start_time": "2022-10-26T10:39:38.077Z"
   },
   {
    "duration": 20,
    "start_time": "2022-10-26T10:39:38.134Z"
   },
   {
    "duration": 31,
    "start_time": "2022-10-26T10:39:38.155Z"
   },
   {
    "duration": 89,
    "start_time": "2022-10-26T10:39:38.188Z"
   },
   {
    "duration": 84,
    "start_time": "2022-10-26T10:39:38.279Z"
   },
   {
    "duration": 67,
    "start_time": "2022-10-26T10:39:38.365Z"
   },
   {
    "duration": 40,
    "start_time": "2022-10-26T10:39:38.433Z"
   },
   {
    "duration": 87,
    "start_time": "2022-10-26T10:39:38.475Z"
   },
   {
    "duration": 49,
    "start_time": "2022-10-26T10:39:38.563Z"
   },
   {
    "duration": 3,
    "start_time": "2022-10-26T10:39:38.613Z"
   },
   {
    "duration": 6,
    "start_time": "2022-10-26T10:39:38.617Z"
   },
   {
    "duration": 5,
    "start_time": "2022-10-26T10:39:38.624Z"
   },
   {
    "duration": 4,
    "start_time": "2022-10-26T10:39:38.630Z"
   },
   {
    "duration": 4,
    "start_time": "2022-10-26T10:39:38.636Z"
   },
   {
    "duration": 6,
    "start_time": "2022-10-26T10:39:38.642Z"
   },
   {
    "duration": 5,
    "start_time": "2022-10-26T10:39:38.649Z"
   },
   {
    "duration": 6,
    "start_time": "2022-10-26T10:39:38.655Z"
   },
   {
    "duration": 3,
    "start_time": "2022-10-26T10:39:38.663Z"
   },
   {
    "duration": 4,
    "start_time": "2022-10-26T10:39:38.668Z"
   },
   {
    "duration": 35,
    "start_time": "2022-10-26T10:39:38.674Z"
   },
   {
    "duration": 5,
    "start_time": "2022-10-26T10:39:38.711Z"
   },
   {
    "duration": 48,
    "start_time": "2022-10-26T10:39:38.717Z"
   },
   {
    "duration": 0,
    "start_time": "2022-10-26T10:39:38.766Z"
   },
   {
    "duration": 0,
    "start_time": "2022-10-26T10:39:38.768Z"
   },
   {
    "duration": 0,
    "start_time": "2022-10-26T10:39:38.769Z"
   },
   {
    "duration": 0,
    "start_time": "2022-10-26T10:39:38.770Z"
   },
   {
    "duration": 0,
    "start_time": "2022-10-26T10:39:38.771Z"
   },
   {
    "duration": 0,
    "start_time": "2022-10-26T10:39:38.772Z"
   },
   {
    "duration": 0,
    "start_time": "2022-10-26T10:39:38.773Z"
   },
   {
    "duration": 0,
    "start_time": "2022-10-26T10:39:38.774Z"
   },
   {
    "duration": 10,
    "start_time": "2022-10-26T10:46:23.346Z"
   },
   {
    "duration": 39,
    "start_time": "2022-10-26T10:46:33.978Z"
   },
   {
    "duration": 86,
    "start_time": "2022-10-26T10:51:36.716Z"
   },
   {
    "duration": 27,
    "start_time": "2022-10-26T10:52:01.796Z"
   },
   {
    "duration": 29,
    "start_time": "2022-10-26T10:52:18.586Z"
   },
   {
    "duration": 450,
    "start_time": "2022-10-26T10:52:53.384Z"
   },
   {
    "duration": 159,
    "start_time": "2022-10-26T10:52:53.836Z"
   },
   {
    "duration": 19,
    "start_time": "2022-10-26T10:52:53.996Z"
   },
   {
    "duration": 25,
    "start_time": "2022-10-26T10:52:54.017Z"
   },
   {
    "duration": 2,
    "start_time": "2022-10-26T10:52:54.043Z"
   },
   {
    "duration": 8,
    "start_time": "2022-10-26T10:52:54.046Z"
   },
   {
    "duration": 12,
    "start_time": "2022-10-26T10:52:54.056Z"
   },
   {
    "duration": 7,
    "start_time": "2022-10-26T10:52:54.070Z"
   },
   {
    "duration": 57,
    "start_time": "2022-10-26T10:52:54.079Z"
   },
   {
    "duration": 18,
    "start_time": "2022-10-26T10:52:54.139Z"
   },
   {
    "duration": 21,
    "start_time": "2022-10-26T10:52:54.159Z"
   },
   {
    "duration": 89,
    "start_time": "2022-10-26T10:52:54.181Z"
   },
   {
    "duration": 97,
    "start_time": "2022-10-26T10:52:54.272Z"
   },
   {
    "duration": 83,
    "start_time": "2022-10-26T10:52:54.371Z"
   },
   {
    "duration": 62,
    "start_time": "2022-10-26T10:52:54.455Z"
   },
   {
    "duration": 15,
    "start_time": "2022-10-26T10:52:54.518Z"
   },
   {
    "duration": 71,
    "start_time": "2022-10-26T10:52:54.535Z"
   },
   {
    "duration": 55,
    "start_time": "2022-10-26T10:52:54.608Z"
   },
   {
    "duration": 0,
    "start_time": "2022-10-26T10:52:54.665Z"
   },
   {
    "duration": 0,
    "start_time": "2022-10-26T10:52:54.667Z"
   },
   {
    "duration": 0,
    "start_time": "2022-10-26T10:52:54.668Z"
   },
   {
    "duration": 0,
    "start_time": "2022-10-26T10:52:54.670Z"
   },
   {
    "duration": 0,
    "start_time": "2022-10-26T10:52:54.672Z"
   },
   {
    "duration": 0,
    "start_time": "2022-10-26T10:52:54.673Z"
   },
   {
    "duration": 0,
    "start_time": "2022-10-26T10:52:54.675Z"
   },
   {
    "duration": 0,
    "start_time": "2022-10-26T10:52:54.676Z"
   },
   {
    "duration": 0,
    "start_time": "2022-10-26T10:52:54.677Z"
   },
   {
    "duration": 0,
    "start_time": "2022-10-26T10:52:54.678Z"
   },
   {
    "duration": 0,
    "start_time": "2022-10-26T10:52:54.679Z"
   },
   {
    "duration": 0,
    "start_time": "2022-10-26T10:52:54.681Z"
   },
   {
    "duration": 0,
    "start_time": "2022-10-26T10:52:54.682Z"
   },
   {
    "duration": 0,
    "start_time": "2022-10-26T10:52:54.683Z"
   },
   {
    "duration": 1,
    "start_time": "2022-10-26T10:52:54.684Z"
   },
   {
    "duration": 0,
    "start_time": "2022-10-26T10:52:54.686Z"
   },
   {
    "duration": 0,
    "start_time": "2022-10-26T10:52:54.687Z"
   },
   {
    "duration": 0,
    "start_time": "2022-10-26T10:52:54.688Z"
   },
   {
    "duration": 0,
    "start_time": "2022-10-26T10:52:54.689Z"
   },
   {
    "duration": 0,
    "start_time": "2022-10-26T10:52:54.691Z"
   },
   {
    "duration": 12,
    "start_time": "2022-10-26T10:53:42.647Z"
   },
   {
    "duration": 13,
    "start_time": "2022-10-26T10:53:53.409Z"
   },
   {
    "duration": 13,
    "start_time": "2022-10-26T10:54:37.528Z"
   },
   {
    "duration": 19,
    "start_time": "2022-10-26T10:56:07.258Z"
   },
   {
    "duration": 10,
    "start_time": "2022-10-26T16:22:32.897Z"
   },
   {
    "duration": 47,
    "start_time": "2022-10-26T16:24:34.137Z"
   },
   {
    "duration": 386,
    "start_time": "2022-10-26T16:24:46.774Z"
   },
   {
    "duration": 232,
    "start_time": "2022-10-26T16:24:47.162Z"
   },
   {
    "duration": 16,
    "start_time": "2022-10-26T16:24:47.396Z"
   },
   {
    "duration": 29,
    "start_time": "2022-10-26T16:24:47.414Z"
   },
   {
    "duration": 4,
    "start_time": "2022-10-26T16:24:47.445Z"
   },
   {
    "duration": 9,
    "start_time": "2022-10-26T16:24:47.451Z"
   },
   {
    "duration": 15,
    "start_time": "2022-10-26T16:24:47.461Z"
   },
   {
    "duration": 8,
    "start_time": "2022-10-26T16:24:47.478Z"
   },
   {
    "duration": 28,
    "start_time": "2022-10-26T16:24:47.487Z"
   },
   {
    "duration": 22,
    "start_time": "2022-10-26T16:24:47.520Z"
   },
   {
    "duration": 21,
    "start_time": "2022-10-26T16:24:47.543Z"
   },
   {
    "duration": 91,
    "start_time": "2022-10-26T16:24:47.565Z"
   },
   {
    "duration": 64,
    "start_time": "2022-10-26T16:24:47.657Z"
   },
   {
    "duration": 65,
    "start_time": "2022-10-26T16:24:47.724Z"
   },
   {
    "duration": 52,
    "start_time": "2022-10-26T16:24:47.790Z"
   },
   {
    "duration": 12,
    "start_time": "2022-10-26T16:24:47.845Z"
   },
   {
    "duration": 37,
    "start_time": "2022-10-26T16:24:47.859Z"
   },
   {
    "duration": 27,
    "start_time": "2022-10-26T16:24:47.898Z"
   },
   {
    "duration": 14,
    "start_time": "2022-10-26T16:24:47.927Z"
   },
   {
    "duration": 118,
    "start_time": "2022-10-26T16:24:47.943Z"
   },
   {
    "duration": 0,
    "start_time": "2022-10-26T16:24:48.063Z"
   },
   {
    "duration": 0,
    "start_time": "2022-10-26T16:24:48.064Z"
   },
   {
    "duration": 0,
    "start_time": "2022-10-26T16:24:48.066Z"
   },
   {
    "duration": 0,
    "start_time": "2022-10-26T16:24:48.067Z"
   },
   {
    "duration": 0,
    "start_time": "2022-10-26T16:24:48.067Z"
   },
   {
    "duration": 0,
    "start_time": "2022-10-26T16:24:48.068Z"
   },
   {
    "duration": 0,
    "start_time": "2022-10-26T16:24:48.069Z"
   },
   {
    "duration": 0,
    "start_time": "2022-10-26T16:24:48.070Z"
   },
   {
    "duration": 0,
    "start_time": "2022-10-26T16:24:48.071Z"
   },
   {
    "duration": 0,
    "start_time": "2022-10-26T16:24:48.072Z"
   },
   {
    "duration": 0,
    "start_time": "2022-10-26T16:24:48.073Z"
   },
   {
    "duration": 0,
    "start_time": "2022-10-26T16:24:48.074Z"
   },
   {
    "duration": 0,
    "start_time": "2022-10-26T16:24:48.075Z"
   },
   {
    "duration": 0,
    "start_time": "2022-10-26T16:24:48.076Z"
   },
   {
    "duration": 1,
    "start_time": "2022-10-26T16:24:48.076Z"
   },
   {
    "duration": 0,
    "start_time": "2022-10-26T16:24:48.078Z"
   },
   {
    "duration": 0,
    "start_time": "2022-10-26T16:24:48.078Z"
   },
   {
    "duration": 0,
    "start_time": "2022-10-26T16:24:48.079Z"
   },
   {
    "duration": 4,
    "start_time": "2022-10-26T16:26:59.452Z"
   },
   {
    "duration": 21,
    "start_time": "2022-10-26T16:27:41.440Z"
   },
   {
    "duration": 21,
    "start_time": "2022-10-26T16:29:17.570Z"
   },
   {
    "duration": 393,
    "start_time": "2022-10-26T16:29:40.454Z"
   },
   {
    "duration": 161,
    "start_time": "2022-10-26T16:29:40.849Z"
   },
   {
    "duration": 20,
    "start_time": "2022-10-26T16:29:41.011Z"
   },
   {
    "duration": 35,
    "start_time": "2022-10-26T16:29:41.034Z"
   },
   {
    "duration": 4,
    "start_time": "2022-10-26T16:29:41.071Z"
   },
   {
    "duration": 13,
    "start_time": "2022-10-26T16:29:41.076Z"
   },
   {
    "duration": 12,
    "start_time": "2022-10-26T16:29:41.090Z"
   },
   {
    "duration": 26,
    "start_time": "2022-10-26T16:29:41.104Z"
   },
   {
    "duration": 29,
    "start_time": "2022-10-26T16:29:41.132Z"
   },
   {
    "duration": 16,
    "start_time": "2022-10-26T16:29:41.164Z"
   },
   {
    "duration": 20,
    "start_time": "2022-10-26T16:29:41.181Z"
   },
   {
    "duration": 92,
    "start_time": "2022-10-26T16:29:41.202Z"
   },
   {
    "duration": 68,
    "start_time": "2022-10-26T16:29:41.295Z"
   },
   {
    "duration": 53,
    "start_time": "2022-10-26T16:29:41.365Z"
   },
   {
    "duration": 41,
    "start_time": "2022-10-26T16:29:41.421Z"
   },
   {
    "duration": 13,
    "start_time": "2022-10-26T16:29:41.464Z"
   },
   {
    "duration": 60,
    "start_time": "2022-10-26T16:29:41.478Z"
   },
   {
    "duration": 13,
    "start_time": "2022-10-26T16:29:41.541Z"
   },
   {
    "duration": 12,
    "start_time": "2022-10-26T16:29:41.556Z"
   },
   {
    "duration": 103,
    "start_time": "2022-10-26T16:29:41.569Z"
   },
   {
    "duration": 0,
    "start_time": "2022-10-26T16:29:41.674Z"
   },
   {
    "duration": 0,
    "start_time": "2022-10-26T16:29:41.675Z"
   },
   {
    "duration": 0,
    "start_time": "2022-10-26T16:29:41.676Z"
   },
   {
    "duration": 0,
    "start_time": "2022-10-26T16:29:41.677Z"
   },
   {
    "duration": 0,
    "start_time": "2022-10-26T16:29:41.678Z"
   },
   {
    "duration": 1,
    "start_time": "2022-10-26T16:29:41.678Z"
   },
   {
    "duration": 0,
    "start_time": "2022-10-26T16:29:41.679Z"
   },
   {
    "duration": 0,
    "start_time": "2022-10-26T16:29:41.680Z"
   },
   {
    "duration": 0,
    "start_time": "2022-10-26T16:29:41.681Z"
   },
   {
    "duration": 0,
    "start_time": "2022-10-26T16:29:41.682Z"
   },
   {
    "duration": 0,
    "start_time": "2022-10-26T16:29:41.683Z"
   },
   {
    "duration": 0,
    "start_time": "2022-10-26T16:29:41.684Z"
   },
   {
    "duration": 0,
    "start_time": "2022-10-26T16:29:41.685Z"
   },
   {
    "duration": 0,
    "start_time": "2022-10-26T16:29:41.685Z"
   },
   {
    "duration": 0,
    "start_time": "2022-10-26T16:29:41.687Z"
   },
   {
    "duration": 0,
    "start_time": "2022-10-26T16:29:41.688Z"
   },
   {
    "duration": 0,
    "start_time": "2022-10-26T16:29:41.689Z"
   },
   {
    "duration": 0,
    "start_time": "2022-10-26T16:29:41.720Z"
   },
   {
    "duration": 30,
    "start_time": "2022-10-26T16:30:58.018Z"
   },
   {
    "duration": 16,
    "start_time": "2022-10-26T16:31:55.599Z"
   },
   {
    "duration": 17,
    "start_time": "2022-10-26T16:34:18.143Z"
   },
   {
    "duration": 15,
    "start_time": "2022-10-26T16:38:44.357Z"
   },
   {
    "duration": 14,
    "start_time": "2022-10-26T16:38:47.502Z"
   },
   {
    "duration": 14,
    "start_time": "2022-10-26T16:38:50.002Z"
   },
   {
    "duration": 14,
    "start_time": "2022-10-26T16:38:52.192Z"
   },
   {
    "duration": 17,
    "start_time": "2022-10-26T16:38:54.586Z"
   },
   {
    "duration": 15,
    "start_time": "2022-10-26T16:38:56.770Z"
   },
   {
    "duration": 8,
    "start_time": "2022-10-26T16:53:33.705Z"
   },
   {
    "duration": 8,
    "start_time": "2022-10-26T16:54:52.342Z"
   },
   {
    "duration": 7,
    "start_time": "2022-10-26T16:57:33.731Z"
   },
   {
    "duration": 3,
    "start_time": "2022-10-26T16:57:37.868Z"
   },
   {
    "duration": 182,
    "start_time": "2022-10-26T16:57:37.874Z"
   },
   {
    "duration": 12,
    "start_time": "2022-10-26T16:57:38.057Z"
   },
   {
    "duration": 31,
    "start_time": "2022-10-26T16:57:38.070Z"
   },
   {
    "duration": 2,
    "start_time": "2022-10-26T16:57:38.120Z"
   },
   {
    "duration": 18,
    "start_time": "2022-10-26T16:57:38.123Z"
   },
   {
    "duration": 14,
    "start_time": "2022-10-26T16:57:38.143Z"
   },
   {
    "duration": 10,
    "start_time": "2022-10-26T16:57:38.159Z"
   },
   {
    "duration": 29,
    "start_time": "2022-10-26T16:57:38.171Z"
   },
   {
    "duration": 19,
    "start_time": "2022-10-26T16:57:38.202Z"
   },
   {
    "duration": 22,
    "start_time": "2022-10-26T16:57:38.224Z"
   },
   {
    "duration": 73,
    "start_time": "2022-10-26T16:57:38.248Z"
   },
   {
    "duration": 59,
    "start_time": "2022-10-26T16:57:38.323Z"
   },
   {
    "duration": 72,
    "start_time": "2022-10-26T16:57:38.383Z"
   },
   {
    "duration": 32,
    "start_time": "2022-10-26T16:57:38.457Z"
   },
   {
    "duration": 9,
    "start_time": "2022-10-26T16:57:38.490Z"
   },
   {
    "duration": 44,
    "start_time": "2022-10-26T16:57:38.501Z"
   },
   {
    "duration": 12,
    "start_time": "2022-10-26T16:57:38.547Z"
   },
   {
    "duration": 12,
    "start_time": "2022-10-26T16:57:38.560Z"
   },
   {
    "duration": 17,
    "start_time": "2022-10-26T16:57:38.573Z"
   },
   {
    "duration": 38,
    "start_time": "2022-10-26T16:57:38.592Z"
   },
   {
    "duration": 13,
    "start_time": "2022-10-26T16:57:38.632Z"
   },
   {
    "duration": 14,
    "start_time": "2022-10-26T16:57:38.646Z"
   },
   {
    "duration": 12,
    "start_time": "2022-10-26T16:57:38.661Z"
   },
   {
    "duration": 18,
    "start_time": "2022-10-26T16:57:38.675Z"
   },
   {
    "duration": 37,
    "start_time": "2022-10-26T16:57:38.695Z"
   },
   {
    "duration": 8,
    "start_time": "2022-10-26T16:57:38.733Z"
   },
   {
    "duration": 0,
    "start_time": "2022-10-26T16:57:38.743Z"
   },
   {
    "duration": 0,
    "start_time": "2022-10-26T16:57:38.744Z"
   },
   {
    "duration": 0,
    "start_time": "2022-10-26T16:57:38.745Z"
   },
   {
    "duration": 0,
    "start_time": "2022-10-26T16:57:38.746Z"
   },
   {
    "duration": 0,
    "start_time": "2022-10-26T16:57:38.747Z"
   },
   {
    "duration": 0,
    "start_time": "2022-10-26T16:57:38.748Z"
   },
   {
    "duration": 0,
    "start_time": "2022-10-26T16:57:38.749Z"
   },
   {
    "duration": 0,
    "start_time": "2022-10-26T16:57:38.750Z"
   },
   {
    "duration": 0,
    "start_time": "2022-10-26T16:57:38.751Z"
   },
   {
    "duration": 0,
    "start_time": "2022-10-26T16:57:38.752Z"
   },
   {
    "duration": 0,
    "start_time": "2022-10-26T16:57:38.753Z"
   },
   {
    "duration": 378,
    "start_time": "2022-10-26T16:57:55.882Z"
   },
   {
    "duration": 160,
    "start_time": "2022-10-26T16:57:56.262Z"
   },
   {
    "duration": 17,
    "start_time": "2022-10-26T16:57:56.424Z"
   },
   {
    "duration": 26,
    "start_time": "2022-10-26T16:57:56.443Z"
   },
   {
    "duration": 3,
    "start_time": "2022-10-26T16:57:56.471Z"
   },
   {
    "duration": 9,
    "start_time": "2022-10-26T16:57:56.476Z"
   },
   {
    "duration": 35,
    "start_time": "2022-10-26T16:57:56.487Z"
   },
   {
    "duration": 26,
    "start_time": "2022-10-26T16:57:56.524Z"
   },
   {
    "duration": 33,
    "start_time": "2022-10-26T16:57:56.551Z"
   },
   {
    "duration": 28,
    "start_time": "2022-10-26T16:57:56.587Z"
   },
   {
    "duration": 25,
    "start_time": "2022-10-26T16:57:56.616Z"
   },
   {
    "duration": 79,
    "start_time": "2022-10-26T16:57:56.642Z"
   },
   {
    "duration": 69,
    "start_time": "2022-10-26T16:57:56.723Z"
   },
   {
    "duration": 87,
    "start_time": "2022-10-26T16:57:56.793Z"
   },
   {
    "duration": 39,
    "start_time": "2022-10-26T16:57:56.882Z"
   },
   {
    "duration": 10,
    "start_time": "2022-10-26T16:57:56.923Z"
   },
   {
    "duration": 47,
    "start_time": "2022-10-26T16:57:56.935Z"
   },
   {
    "duration": 13,
    "start_time": "2022-10-26T16:57:56.984Z"
   },
   {
    "duration": 34,
    "start_time": "2022-10-26T16:57:56.999Z"
   },
   {
    "duration": 33,
    "start_time": "2022-10-26T16:57:57.035Z"
   },
   {
    "duration": 38,
    "start_time": "2022-10-26T16:57:57.070Z"
   },
   {
    "duration": 27,
    "start_time": "2022-10-26T16:57:57.109Z"
   },
   {
    "duration": 19,
    "start_time": "2022-10-26T16:57:57.138Z"
   },
   {
    "duration": 13,
    "start_time": "2022-10-26T16:57:57.159Z"
   },
   {
    "duration": 17,
    "start_time": "2022-10-26T16:57:57.174Z"
   },
   {
    "duration": 33,
    "start_time": "2022-10-26T16:57:57.194Z"
   },
   {
    "duration": 62,
    "start_time": "2022-10-26T16:57:57.229Z"
   },
   {
    "duration": 0,
    "start_time": "2022-10-26T16:57:57.292Z"
   },
   {
    "duration": 0,
    "start_time": "2022-10-26T16:57:57.293Z"
   },
   {
    "duration": 0,
    "start_time": "2022-10-26T16:57:57.295Z"
   },
   {
    "duration": 0,
    "start_time": "2022-10-26T16:57:57.296Z"
   },
   {
    "duration": 0,
    "start_time": "2022-10-26T16:57:57.297Z"
   },
   {
    "duration": 0,
    "start_time": "2022-10-26T16:57:57.298Z"
   },
   {
    "duration": 0,
    "start_time": "2022-10-26T16:57:57.321Z"
   },
   {
    "duration": 0,
    "start_time": "2022-10-26T16:57:57.322Z"
   },
   {
    "duration": 0,
    "start_time": "2022-10-26T16:57:57.323Z"
   },
   {
    "duration": 0,
    "start_time": "2022-10-26T16:57:57.325Z"
   },
   {
    "duration": 0,
    "start_time": "2022-10-26T16:57:57.326Z"
   },
   {
    "duration": 20,
    "start_time": "2022-10-26T16:58:32.492Z"
   },
   {
    "duration": 7,
    "start_time": "2022-10-26T16:58:50.071Z"
   },
   {
    "duration": 44,
    "start_time": "2022-10-26T16:59:26.907Z"
   },
   {
    "duration": 14,
    "start_time": "2022-10-26T16:59:47.485Z"
   },
   {
    "duration": 4,
    "start_time": "2022-10-26T17:01:16.029Z"
   },
   {
    "duration": 8,
    "start_time": "2022-10-26T17:01:30.565Z"
   },
   {
    "duration": 10,
    "start_time": "2022-10-26T17:03:54.265Z"
   },
   {
    "duration": 7,
    "start_time": "2022-10-26T17:06:07.781Z"
   },
   {
    "duration": 11,
    "start_time": "2022-10-26T17:06:19.548Z"
   },
   {
    "duration": 22,
    "start_time": "2022-10-26T17:06:28.104Z"
   },
   {
    "duration": 11,
    "start_time": "2022-10-26T17:06:38.250Z"
   },
   {
    "duration": 9,
    "start_time": "2022-10-26T17:07:26.770Z"
   },
   {
    "duration": 4,
    "start_time": "2022-10-26T17:53:28.716Z"
   },
   {
    "duration": 16,
    "start_time": "2022-10-26T17:57:35.257Z"
   },
   {
    "duration": 15,
    "start_time": "2022-10-26T17:58:12.617Z"
   },
   {
    "duration": 25,
    "start_time": "2022-10-26T17:58:57.224Z"
   },
   {
    "duration": 9,
    "start_time": "2022-10-26T18:00:49.637Z"
   },
   {
    "duration": 17,
    "start_time": "2022-10-26T18:00:58.970Z"
   },
   {
    "duration": 13,
    "start_time": "2022-10-26T18:07:26.622Z"
   },
   {
    "duration": 4,
    "start_time": "2022-10-26T18:07:46.045Z"
   },
   {
    "duration": 5,
    "start_time": "2022-10-26T18:09:31.249Z"
   },
   {
    "duration": 5,
    "start_time": "2022-10-26T18:09:33.463Z"
   }
  ],
  "celltoolbar": "Edit Metadata",
  "colab": {
   "collapsed_sections": [
    "E0vqbgi9ay0H",
    "VUC88oWjTJw2"
   ],
   "name": "automatization_template_upd4.ipynb",
   "provenance": []
  },
  "kernelspec": {
   "display_name": "Python 3 (ipykernel)",
   "language": "python",
   "name": "python3"
  },
  "language_info": {
   "codemirror_mode": {
    "name": "ipython",
    "version": 3
   },
   "file_extension": ".py",
   "mimetype": "text/x-python",
   "name": "python",
   "nbconvert_exporter": "python",
   "pygments_lexer": "ipython3",
   "version": "3.9.13"
  },
  "toc": {
   "base_numbering": 1,
   "nav_menu": {
    "height": "215px",
    "width": "403px"
   },
   "number_sections": true,
   "sideBar": true,
   "skip_h1_title": true,
   "title_cell": "Table of Contents",
   "title_sidebar": "Contents",
   "toc_cell": false,
   "toc_position": {
    "height": "calc(100% - 180px)",
    "left": "10px",
    "top": "150px",
    "width": "285.825px"
   },
   "toc_section_display": true,
   "toc_window_display": false
  }
 },
 "nbformat": 4,
 "nbformat_minor": 1
}
