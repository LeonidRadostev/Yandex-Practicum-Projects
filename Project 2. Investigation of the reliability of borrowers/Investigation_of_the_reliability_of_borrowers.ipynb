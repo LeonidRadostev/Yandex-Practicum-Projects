{
 "cells": [
  {
   "cell_type": "markdown",
   "id": "54f8a5ed",
   "metadata": {
    "deletable": false,
    "editable": false,
    "id": "c81daeeb"
   },
   "source": [
    "# Исследование надежности заемщиков\n"
   ]
  },
  {
   "cell_type": "markdown",
   "id": "c662f0f8",
   "metadata": {},
   "source": [
    "**Цель проекта:**\n",
    "* Разобраться, влияет ли семейное положение и количество детей клиента на факт погашения кредита в срок. \n",
    "\n",
    "Входные данные от банка — статистика о платёжеспособности клиентов.\n",
    "Результаты исследования будут учтены при построении модели кредитного скоринга — специальной системы, которая оценивает способность потенциального заёмщика вернуть кредит банку.\n"
   ]
  },
  {
   "cell_type": "markdown",
   "id": "bf5cd55f",
   "metadata": {
    "id": "744d7639"
   },
   "source": [
    "## Откроем таблицу и изучим общую информацию о данных"
   ]
  },
  {
   "cell_type": "code",
   "execution_count": 1,
   "id": "5024aaa1",
   "metadata": {
    "deletable": false,
    "id": "7bcf75c9"
   },
   "outputs": [],
   "source": [
    "import pandas as pd\n",
    "\n",
    "data = pd.read_csv('C:\\\\StudentYandex\\\\Projekts\\\\Python\\\\Projekt2Credit\\\\data.csv')\n"
   ]
  },
  {
   "cell_type": "code",
   "execution_count": 2,
   "id": "350d3645",
   "metadata": {
    "deletable": false,
    "id": "2a7cab99",
    "outputId": "1a8f3ef2-d323-4ec2-ddf7-89670b5944c4"
   },
   "outputs": [
    {
     "data": {
      "text/html": [
       "<div>\n",
       "<style scoped>\n",
       "    .dataframe tbody tr th:only-of-type {\n",
       "        vertical-align: middle;\n",
       "    }\n",
       "\n",
       "    .dataframe tbody tr th {\n",
       "        vertical-align: top;\n",
       "    }\n",
       "\n",
       "    .dataframe thead th {\n",
       "        text-align: right;\n",
       "    }\n",
       "</style>\n",
       "<table border=\"1\" class=\"dataframe\">\n",
       "  <thead>\n",
       "    <tr style=\"text-align: right;\">\n",
       "      <th></th>\n",
       "      <th>children</th>\n",
       "      <th>days_employed</th>\n",
       "      <th>dob_years</th>\n",
       "      <th>education</th>\n",
       "      <th>education_id</th>\n",
       "      <th>family_status</th>\n",
       "      <th>family_status_id</th>\n",
       "      <th>gender</th>\n",
       "      <th>income_type</th>\n",
       "      <th>debt</th>\n",
       "      <th>total_income</th>\n",
       "      <th>purpose</th>\n",
       "    </tr>\n",
       "  </thead>\n",
       "  <tbody>\n",
       "    <tr>\n",
       "      <th>0</th>\n",
       "      <td>1</td>\n",
       "      <td>-8437.673028</td>\n",
       "      <td>42</td>\n",
       "      <td>высшее</td>\n",
       "      <td>0</td>\n",
       "      <td>женат / замужем</td>\n",
       "      <td>0</td>\n",
       "      <td>F</td>\n",
       "      <td>сотрудник</td>\n",
       "      <td>0</td>\n",
       "      <td>253875.639453</td>\n",
       "      <td>покупка жилья</td>\n",
       "    </tr>\n",
       "    <tr>\n",
       "      <th>1</th>\n",
       "      <td>1</td>\n",
       "      <td>-4024.803754</td>\n",
       "      <td>36</td>\n",
       "      <td>среднее</td>\n",
       "      <td>1</td>\n",
       "      <td>женат / замужем</td>\n",
       "      <td>0</td>\n",
       "      <td>F</td>\n",
       "      <td>сотрудник</td>\n",
       "      <td>0</td>\n",
       "      <td>112080.014102</td>\n",
       "      <td>приобретение автомобиля</td>\n",
       "    </tr>\n",
       "    <tr>\n",
       "      <th>2</th>\n",
       "      <td>0</td>\n",
       "      <td>-5623.422610</td>\n",
       "      <td>33</td>\n",
       "      <td>Среднее</td>\n",
       "      <td>1</td>\n",
       "      <td>женат / замужем</td>\n",
       "      <td>0</td>\n",
       "      <td>M</td>\n",
       "      <td>сотрудник</td>\n",
       "      <td>0</td>\n",
       "      <td>145885.952297</td>\n",
       "      <td>покупка жилья</td>\n",
       "    </tr>\n",
       "    <tr>\n",
       "      <th>3</th>\n",
       "      <td>3</td>\n",
       "      <td>-4124.747207</td>\n",
       "      <td>32</td>\n",
       "      <td>среднее</td>\n",
       "      <td>1</td>\n",
       "      <td>женат / замужем</td>\n",
       "      <td>0</td>\n",
       "      <td>M</td>\n",
       "      <td>сотрудник</td>\n",
       "      <td>0</td>\n",
       "      <td>267628.550329</td>\n",
       "      <td>дополнительное образование</td>\n",
       "    </tr>\n",
       "    <tr>\n",
       "      <th>4</th>\n",
       "      <td>0</td>\n",
       "      <td>340266.072047</td>\n",
       "      <td>53</td>\n",
       "      <td>среднее</td>\n",
       "      <td>1</td>\n",
       "      <td>гражданский брак</td>\n",
       "      <td>1</td>\n",
       "      <td>F</td>\n",
       "      <td>пенсионер</td>\n",
       "      <td>0</td>\n",
       "      <td>158616.077870</td>\n",
       "      <td>сыграть свадьбу</td>\n",
       "    </tr>\n",
       "    <tr>\n",
       "      <th>5</th>\n",
       "      <td>0</td>\n",
       "      <td>-926.185831</td>\n",
       "      <td>27</td>\n",
       "      <td>высшее</td>\n",
       "      <td>0</td>\n",
       "      <td>гражданский брак</td>\n",
       "      <td>1</td>\n",
       "      <td>M</td>\n",
       "      <td>компаньон</td>\n",
       "      <td>0</td>\n",
       "      <td>255763.565419</td>\n",
       "      <td>покупка жилья</td>\n",
       "    </tr>\n",
       "    <tr>\n",
       "      <th>6</th>\n",
       "      <td>0</td>\n",
       "      <td>-2879.202052</td>\n",
       "      <td>43</td>\n",
       "      <td>высшее</td>\n",
       "      <td>0</td>\n",
       "      <td>женат / замужем</td>\n",
       "      <td>0</td>\n",
       "      <td>F</td>\n",
       "      <td>компаньон</td>\n",
       "      <td>0</td>\n",
       "      <td>240525.971920</td>\n",
       "      <td>операции с жильем</td>\n",
       "    </tr>\n",
       "    <tr>\n",
       "      <th>7</th>\n",
       "      <td>0</td>\n",
       "      <td>-152.779569</td>\n",
       "      <td>50</td>\n",
       "      <td>СРЕДНЕЕ</td>\n",
       "      <td>1</td>\n",
       "      <td>женат / замужем</td>\n",
       "      <td>0</td>\n",
       "      <td>M</td>\n",
       "      <td>сотрудник</td>\n",
       "      <td>0</td>\n",
       "      <td>135823.934197</td>\n",
       "      <td>образование</td>\n",
       "    </tr>\n",
       "    <tr>\n",
       "      <th>8</th>\n",
       "      <td>2</td>\n",
       "      <td>-6929.865299</td>\n",
       "      <td>35</td>\n",
       "      <td>ВЫСШЕЕ</td>\n",
       "      <td>0</td>\n",
       "      <td>гражданский брак</td>\n",
       "      <td>1</td>\n",
       "      <td>F</td>\n",
       "      <td>сотрудник</td>\n",
       "      <td>0</td>\n",
       "      <td>95856.832424</td>\n",
       "      <td>на проведение свадьбы</td>\n",
       "    </tr>\n",
       "    <tr>\n",
       "      <th>9</th>\n",
       "      <td>0</td>\n",
       "      <td>-2188.756445</td>\n",
       "      <td>41</td>\n",
       "      <td>среднее</td>\n",
       "      <td>1</td>\n",
       "      <td>женат / замужем</td>\n",
       "      <td>0</td>\n",
       "      <td>M</td>\n",
       "      <td>сотрудник</td>\n",
       "      <td>0</td>\n",
       "      <td>144425.938277</td>\n",
       "      <td>покупка жилья для семьи</td>\n",
       "    </tr>\n",
       "    <tr>\n",
       "      <th>10</th>\n",
       "      <td>2</td>\n",
       "      <td>-4171.483647</td>\n",
       "      <td>36</td>\n",
       "      <td>высшее</td>\n",
       "      <td>0</td>\n",
       "      <td>женат / замужем</td>\n",
       "      <td>0</td>\n",
       "      <td>M</td>\n",
       "      <td>компаньон</td>\n",
       "      <td>0</td>\n",
       "      <td>113943.491460</td>\n",
       "      <td>покупка недвижимости</td>\n",
       "    </tr>\n",
       "    <tr>\n",
       "      <th>11</th>\n",
       "      <td>0</td>\n",
       "      <td>-792.701887</td>\n",
       "      <td>40</td>\n",
       "      <td>среднее</td>\n",
       "      <td>1</td>\n",
       "      <td>женат / замужем</td>\n",
       "      <td>0</td>\n",
       "      <td>F</td>\n",
       "      <td>сотрудник</td>\n",
       "      <td>0</td>\n",
       "      <td>77069.234271</td>\n",
       "      <td>покупка коммерческой недвижимости</td>\n",
       "    </tr>\n",
       "    <tr>\n",
       "      <th>12</th>\n",
       "      <td>0</td>\n",
       "      <td>NaN</td>\n",
       "      <td>65</td>\n",
       "      <td>среднее</td>\n",
       "      <td>1</td>\n",
       "      <td>гражданский брак</td>\n",
       "      <td>1</td>\n",
       "      <td>M</td>\n",
       "      <td>пенсионер</td>\n",
       "      <td>0</td>\n",
       "      <td>NaN</td>\n",
       "      <td>сыграть свадьбу</td>\n",
       "    </tr>\n",
       "    <tr>\n",
       "      <th>13</th>\n",
       "      <td>0</td>\n",
       "      <td>-1846.641941</td>\n",
       "      <td>54</td>\n",
       "      <td>неоконченное высшее</td>\n",
       "      <td>2</td>\n",
       "      <td>женат / замужем</td>\n",
       "      <td>0</td>\n",
       "      <td>F</td>\n",
       "      <td>сотрудник</td>\n",
       "      <td>0</td>\n",
       "      <td>130458.228857</td>\n",
       "      <td>приобретение автомобиля</td>\n",
       "    </tr>\n",
       "    <tr>\n",
       "      <th>14</th>\n",
       "      <td>0</td>\n",
       "      <td>-1844.956182</td>\n",
       "      <td>56</td>\n",
       "      <td>высшее</td>\n",
       "      <td>0</td>\n",
       "      <td>гражданский брак</td>\n",
       "      <td>1</td>\n",
       "      <td>F</td>\n",
       "      <td>компаньон</td>\n",
       "      <td>1</td>\n",
       "      <td>165127.911772</td>\n",
       "      <td>покупка жилой недвижимости</td>\n",
       "    </tr>\n",
       "    <tr>\n",
       "      <th>15</th>\n",
       "      <td>1</td>\n",
       "      <td>-972.364419</td>\n",
       "      <td>26</td>\n",
       "      <td>среднее</td>\n",
       "      <td>1</td>\n",
       "      <td>женат / замужем</td>\n",
       "      <td>0</td>\n",
       "      <td>F</td>\n",
       "      <td>сотрудник</td>\n",
       "      <td>0</td>\n",
       "      <td>116820.904450</td>\n",
       "      <td>строительство собственной недвижимости</td>\n",
       "    </tr>\n",
       "    <tr>\n",
       "      <th>16</th>\n",
       "      <td>0</td>\n",
       "      <td>-1719.934226</td>\n",
       "      <td>35</td>\n",
       "      <td>среднее</td>\n",
       "      <td>1</td>\n",
       "      <td>женат / замужем</td>\n",
       "      <td>0</td>\n",
       "      <td>F</td>\n",
       "      <td>сотрудник</td>\n",
       "      <td>0</td>\n",
       "      <td>289202.704229</td>\n",
       "      <td>недвижимость</td>\n",
       "    </tr>\n",
       "    <tr>\n",
       "      <th>17</th>\n",
       "      <td>0</td>\n",
       "      <td>-2369.999720</td>\n",
       "      <td>33</td>\n",
       "      <td>высшее</td>\n",
       "      <td>0</td>\n",
       "      <td>гражданский брак</td>\n",
       "      <td>1</td>\n",
       "      <td>M</td>\n",
       "      <td>сотрудник</td>\n",
       "      <td>0</td>\n",
       "      <td>90410.586745</td>\n",
       "      <td>строительство недвижимости</td>\n",
       "    </tr>\n",
       "    <tr>\n",
       "      <th>18</th>\n",
       "      <td>0</td>\n",
       "      <td>400281.136913</td>\n",
       "      <td>53</td>\n",
       "      <td>среднее</td>\n",
       "      <td>1</td>\n",
       "      <td>вдовец / вдова</td>\n",
       "      <td>2</td>\n",
       "      <td>F</td>\n",
       "      <td>пенсионер</td>\n",
       "      <td>0</td>\n",
       "      <td>56823.777243</td>\n",
       "      <td>на покупку подержанного автомобиля</td>\n",
       "    </tr>\n",
       "    <tr>\n",
       "      <th>19</th>\n",
       "      <td>0</td>\n",
       "      <td>-10038.818549</td>\n",
       "      <td>48</td>\n",
       "      <td>СРЕДНЕЕ</td>\n",
       "      <td>1</td>\n",
       "      <td>в разводе</td>\n",
       "      <td>3</td>\n",
       "      <td>F</td>\n",
       "      <td>сотрудник</td>\n",
       "      <td>0</td>\n",
       "      <td>242831.107982</td>\n",
       "      <td>на покупку своего автомобиля</td>\n",
       "    </tr>\n",
       "  </tbody>\n",
       "</table>\n",
       "</div>"
      ],
      "text/plain": [
       "    children  days_employed  dob_years            education  education_id  \\\n",
       "0          1   -8437.673028         42               высшее             0   \n",
       "1          1   -4024.803754         36              среднее             1   \n",
       "2          0   -5623.422610         33              Среднее             1   \n",
       "3          3   -4124.747207         32              среднее             1   \n",
       "4          0  340266.072047         53              среднее             1   \n",
       "5          0    -926.185831         27               высшее             0   \n",
       "6          0   -2879.202052         43               высшее             0   \n",
       "7          0    -152.779569         50              СРЕДНЕЕ             1   \n",
       "8          2   -6929.865299         35               ВЫСШЕЕ             0   \n",
       "9          0   -2188.756445         41              среднее             1   \n",
       "10         2   -4171.483647         36               высшее             0   \n",
       "11         0    -792.701887         40              среднее             1   \n",
       "12         0            NaN         65              среднее             1   \n",
       "13         0   -1846.641941         54  неоконченное высшее             2   \n",
       "14         0   -1844.956182         56               высшее             0   \n",
       "15         1    -972.364419         26              среднее             1   \n",
       "16         0   -1719.934226         35              среднее             1   \n",
       "17         0   -2369.999720         33               высшее             0   \n",
       "18         0  400281.136913         53              среднее             1   \n",
       "19         0  -10038.818549         48              СРЕДНЕЕ             1   \n",
       "\n",
       "       family_status  family_status_id gender income_type  debt  \\\n",
       "0    женат / замужем                 0      F   сотрудник     0   \n",
       "1    женат / замужем                 0      F   сотрудник     0   \n",
       "2    женат / замужем                 0      M   сотрудник     0   \n",
       "3    женат / замужем                 0      M   сотрудник     0   \n",
       "4   гражданский брак                 1      F   пенсионер     0   \n",
       "5   гражданский брак                 1      M   компаньон     0   \n",
       "6    женат / замужем                 0      F   компаньон     0   \n",
       "7    женат / замужем                 0      M   сотрудник     0   \n",
       "8   гражданский брак                 1      F   сотрудник     0   \n",
       "9    женат / замужем                 0      M   сотрудник     0   \n",
       "10   женат / замужем                 0      M   компаньон     0   \n",
       "11   женат / замужем                 0      F   сотрудник     0   \n",
       "12  гражданский брак                 1      M   пенсионер     0   \n",
       "13   женат / замужем                 0      F   сотрудник     0   \n",
       "14  гражданский брак                 1      F   компаньон     1   \n",
       "15   женат / замужем                 0      F   сотрудник     0   \n",
       "16   женат / замужем                 0      F   сотрудник     0   \n",
       "17  гражданский брак                 1      M   сотрудник     0   \n",
       "18    вдовец / вдова                 2      F   пенсионер     0   \n",
       "19         в разводе                 3      F   сотрудник     0   \n",
       "\n",
       "     total_income                                 purpose  \n",
       "0   253875.639453                           покупка жилья  \n",
       "1   112080.014102                 приобретение автомобиля  \n",
       "2   145885.952297                           покупка жилья  \n",
       "3   267628.550329              дополнительное образование  \n",
       "4   158616.077870                         сыграть свадьбу  \n",
       "5   255763.565419                           покупка жилья  \n",
       "6   240525.971920                       операции с жильем  \n",
       "7   135823.934197                             образование  \n",
       "8    95856.832424                   на проведение свадьбы  \n",
       "9   144425.938277                 покупка жилья для семьи  \n",
       "10  113943.491460                    покупка недвижимости  \n",
       "11   77069.234271       покупка коммерческой недвижимости  \n",
       "12            NaN                         сыграть свадьбу  \n",
       "13  130458.228857                 приобретение автомобиля  \n",
       "14  165127.911772              покупка жилой недвижимости  \n",
       "15  116820.904450  строительство собственной недвижимости  \n",
       "16  289202.704229                            недвижимость  \n",
       "17   90410.586745              строительство недвижимости  \n",
       "18   56823.777243      на покупку подержанного автомобиля  \n",
       "19  242831.107982            на покупку своего автомобиля  "
      ]
     },
     "execution_count": 2,
     "metadata": {},
     "output_type": "execute_result"
    }
   ],
   "source": [
    "data.head(20)"
   ]
  },
  {
   "cell_type": "code",
   "execution_count": 3,
   "id": "b5359abf",
   "metadata": {
    "deletable": false,
    "id": "2b757bca",
    "outputId": "15376089-8dad-46c9-b520-c05248d43158"
   },
   "outputs": [
    {
     "name": "stdout",
     "output_type": "stream",
     "text": [
      "<class 'pandas.core.frame.DataFrame'>\n",
      "RangeIndex: 21525 entries, 0 to 21524\n",
      "Data columns (total 12 columns):\n",
      " #   Column            Non-Null Count  Dtype  \n",
      "---  ------            --------------  -----  \n",
      " 0   children          21525 non-null  int64  \n",
      " 1   days_employed     19351 non-null  float64\n",
      " 2   dob_years         21525 non-null  int64  \n",
      " 3   education         21525 non-null  object \n",
      " 4   education_id      21525 non-null  int64  \n",
      " 5   family_status     21525 non-null  object \n",
      " 6   family_status_id  21525 non-null  int64  \n",
      " 7   gender            21525 non-null  object \n",
      " 8   income_type       21525 non-null  object \n",
      " 9   debt              21525 non-null  int64  \n",
      " 10  total_income      19351 non-null  float64\n",
      " 11  purpose           21525 non-null  object \n",
      "dtypes: float64(2), int64(5), object(5)\n",
      "memory usage: 2.0+ MB\n"
     ]
    }
   ],
   "source": [
    "data.info()"
   ]
  },
  {
   "cell_type": "markdown",
   "id": "20ccc959",
   "metadata": {
    "deletable": false,
    "editable": false,
    "id": "333ec665"
   },
   "source": [
    "## Предобработка данных"
   ]
  },
  {
   "cell_type": "markdown",
   "id": "91df001d",
   "metadata": {
    "deletable": false,
    "editable": false,
    "id": "02d92d53"
   },
   "source": [
    "### Удаление пропусков"
   ]
  },
  {
   "cell_type": "markdown",
   "id": "63c88dd6",
   "metadata": {
    "id": "cd84967c"
   },
   "source": [
    "Выведем количество пропущенных значений для каждого столбца:"
   ]
  },
  {
   "cell_type": "code",
   "execution_count": 4,
   "id": "ffe531c7",
   "metadata": {
    "deletable": false,
    "id": "7f9b2309",
    "outputId": "81f4d817-781c-465c-ed15-91ce4446810d"
   },
   "outputs": [
    {
     "data": {
      "text/plain": [
       "children               0\n",
       "days_employed       2174\n",
       "dob_years              0\n",
       "education              0\n",
       "education_id           0\n",
       "family_status          0\n",
       "family_status_id       0\n",
       "gender                 0\n",
       "income_type            0\n",
       "debt                   0\n",
       "total_income        2174\n",
       "purpose                0\n",
       "dtype: int64"
      ]
     },
     "execution_count": 4,
     "metadata": {},
     "output_type": "execute_result"
    }
   ],
   "source": [
    "data.isna().sum()"
   ]
  },
  {
   "cell_type": "markdown",
   "id": "1bac135d",
   "metadata": {
    "id": "db86e27b"
   },
   "source": [
    "Столбец с пропущенными значениями — `total_income` — хранит данные о доходах. На сумму дохода сильнее всего влияет тип занятости, поэтому заполнить пропуски в этом столбце нужно медианным значением по каждому типу из столбца `income_type`. Например, у человека с типом занятости `сотрудник` пропуск в столбце `total_income` заполним медианным доходом среди всех записей с тем же типом."
   ]
  },
  {
   "cell_type": "code",
   "execution_count": 5,
   "id": "572f96ed",
   "metadata": {
    "deletable": false,
    "id": "42006a93"
   },
   "outputs": [],
   "source": [
    "for t in data['income_type'].unique():\n",
    "    data.loc[(data['income_type'] == t) & (data['total_income'].isna()), 'total_income'] = \\\n",
    "    data.loc[(data['income_type'] == t), 'total_income'].median()"
   ]
  },
  {
   "cell_type": "markdown",
   "id": "8f8783ec",
   "metadata": {
    "deletable": false,
    "editable": false,
    "id": "89da5ece"
   },
   "source": [
    "### Обработка аномальных значений"
   ]
  },
  {
   "cell_type": "markdown",
   "id": "c1b03fdd",
   "metadata": {
    "id": "57964554"
   },
   "source": [
    "В данных могут встречаться артефакты (аномалии) — значения, которые не отражают действительность и появились по какой-то ошибке. таким артефактом будет отрицательное количество дней трудового стажа в столбце `days_employed`. Для реальных данных это нормально. Обработаем значения в этом столбце: заменим все отрицательные значения положительными."
   ]
  },
  {
   "cell_type": "code",
   "execution_count": 6,
   "id": "7ae1a20f",
   "metadata": {
    "deletable": false,
    "id": "f6f055bf"
   },
   "outputs": [],
   "source": [
    "data['days_employed'] = data['days_employed'].abs()"
   ]
  },
  {
   "cell_type": "markdown",
   "id": "052f09e7",
   "metadata": {
    "id": "6107dd2f"
   },
   "source": [
    "Для каждого типа занятости выведем медианное значение трудового стажа `days_employed` в днях."
   ]
  },
  {
   "cell_type": "code",
   "execution_count": 7,
   "id": "863bffc6",
   "metadata": {
    "deletable": false,
    "id": "85a5faf6",
    "outputId": "801ef80e-522b-4668-f34e-565af7432bcf"
   },
   "outputs": [
    {
     "data": {
      "text/plain": [
       "income_type\n",
       "безработный        366413.652744\n",
       "в декрете            3296.759962\n",
       "госслужащий          2689.368353\n",
       "компаньон            1547.382223\n",
       "пенсионер          365213.306266\n",
       "предприниматель       520.848083\n",
       "сотрудник            1574.202821\n",
       "студент               578.751554\n",
       "Name: days_employed, dtype: float64"
      ]
     },
     "execution_count": 7,
     "metadata": {},
     "output_type": "execute_result"
    }
   ],
   "source": [
    "data.groupby('income_type')['days_employed'].agg('median')"
   ]
  },
  {
   "cell_type": "markdown",
   "id": "e0b90045",
   "metadata": {
    "id": "38d1a030"
   },
   "source": [
    "У двух типов (безработные и пенсионеры) получатся аномально большие значения. Исправить такие значения сложно, поэтому оставим их как есть. Тем более этот столбец не понадобится нам для исследования."
   ]
  },
  {
   "cell_type": "markdown",
   "id": "8c24a94a",
   "metadata": {
    "id": "d8a9f147"
   },
   "source": [
    "Выведем перечень уникальных значений столбца `children`."
   ]
  },
  {
   "cell_type": "code",
   "execution_count": 8,
   "id": "bf4a7c0f",
   "metadata": {
    "deletable": false,
    "id": "ef5056eb",
    "outputId": "6975b15c-7f95-4697-d16d-a0c79b657b03"
   },
   "outputs": [
    {
     "data": {
      "text/plain": [
       "array([ 1,  0,  3,  2, -1,  4, 20,  5], dtype=int64)"
      ]
     },
     "execution_count": 8,
     "metadata": {},
     "output_type": "execute_result"
    }
   ],
   "source": [
    "data['children'].unique()"
   ]
  },
  {
   "cell_type": "markdown",
   "id": "461f62e9",
   "metadata": {
    "id": "40b9ebf2"
   },
   "source": [
    "В столбце `children` есть два аномальных значения. Удалим строки, в которых встречаются такие аномальные значения."
   ]
  },
  {
   "cell_type": "code",
   "execution_count": 9,
   "id": "e618b6ae",
   "metadata": {
    "deletable": false,
    "id": "3ff9801d"
   },
   "outputs": [],
   "source": [
    "data = data[(data['children'] != -1) & (data['children'] != 20)]"
   ]
  },
  {
   "cell_type": "markdown",
   "id": "012bd943",
   "metadata": {
    "id": "f4ea573f"
   },
   "source": [
    "Заполним пропуски в столбце `days_employed` медианными значениями по каждого типа занятости `income_type`."
   ]
  },
  {
   "cell_type": "code",
   "execution_count": 11,
   "id": "679a7c32",
   "metadata": {
    "deletable": false,
    "id": "af6b1a7e"
   },
   "outputs": [],
   "source": [
    "for t in data['income_type'].unique():\n",
    "    data.loc[(data['income_type'] == t) & (data['days_employed'].isna()), 'days_employed'] = \\\n",
    "    data.loc[(data['income_type'] == t), 'days_employed'].median()"
   ]
  },
  {
   "cell_type": "markdown",
   "id": "11e153b3",
   "metadata": {
    "deletable": false,
    "editable": false,
    "id": "ddc81e43"
   },
   "source": [
    "### Изменение типов данных"
   ]
  },
  {
   "cell_type": "markdown",
   "id": "47d8922f",
   "metadata": {
    "id": "42d19d24"
   },
   "source": [
    "Заменим вещественный тип данных в столбце `total_income` на целочисленный."
   ]
  },
  {
   "cell_type": "code",
   "execution_count": 13,
   "id": "a7f2b979",
   "metadata": {
    "deletable": false,
    "id": "920b65ad"
   },
   "outputs": [],
   "source": [
    "data['total_income'] = data['total_income'].astype(int)"
   ]
  },
  {
   "cell_type": "markdown",
   "id": "eea76087",
   "metadata": {
    "deletable": false,
    "editable": false,
    "id": "80c420ba"
   },
   "source": [
    "### Обработка дубликатов"
   ]
  },
  {
   "cell_type": "markdown",
   "id": "9ac76fe1",
   "metadata": {},
   "source": [
    "Обработаем неявные дубликаты в столбце `education`. В этом столбце есть одни и те же значения, но записанные по-разному: с использованием заглавных и строчных букв. Приведем их к нижнему регистру."
   ]
  },
  {
   "cell_type": "code",
   "execution_count": 14,
   "id": "bbc83200",
   "metadata": {
    "deletable": false
   },
   "outputs": [],
   "source": [
    "data['education'] = data['education'].str.lower()"
   ]
  },
  {
   "cell_type": "markdown",
   "id": "06320887",
   "metadata": {
    "id": "dc587695"
   },
   "source": [
    "Выведем на экран количество строк-дубликатов в данных. Если такие строки присутствуют, удалим их."
   ]
  },
  {
   "cell_type": "code",
   "execution_count": 15,
   "id": "5c45e0ac",
   "metadata": {
    "deletable": false,
    "id": "3ee445e4",
    "outputId": "9684deba-1934-42d1-99e1-cda61740f822"
   },
   "outputs": [
    {
     "data": {
      "text/plain": [
       "71"
      ]
     },
     "execution_count": 15,
     "metadata": {},
     "output_type": "execute_result"
    }
   ],
   "source": [
    "data.duplicated().sum()"
   ]
  },
  {
   "cell_type": "code",
   "execution_count": 16,
   "id": "985bb6ba",
   "metadata": {
    "deletable": false,
    "id": "8575fe05"
   },
   "outputs": [],
   "source": [
    "data = data.drop_duplicates()"
   ]
  },
  {
   "cell_type": "markdown",
   "id": "9d34529c",
   "metadata": {
    "deletable": false,
    "editable": false,
    "id": "9904cf55"
   },
   "source": [
    "### Категоризация данных"
   ]
  },
  {
   "cell_type": "markdown",
   "id": "6d590cd0",
   "metadata": {
    "id": "72fcc8a2"
   },
   "source": [
    "На основании диапазонов, указанных ниже, создадим в датафрейме `data` столбец `total_income_category` с категориями:\n",
    "\n",
    "- 0–30000 — `'E'`;\n",
    "- 30001–50000 — `'D'`;\n",
    "- 50001–200000 — `'C'`;\n",
    "- 200001–1000000 — `'B'`;\n",
    "- 1000001 и выше — `'A'`."
   ]
  },
  {
   "cell_type": "code",
   "execution_count": 17,
   "id": "ab600a9b",
   "metadata": {
    "deletable": false,
    "id": "e1771346"
   },
   "outputs": [],
   "source": [
    "def categorize_income(income):\n",
    "    try:\n",
    "        if 0 <= income <= 30000:\n",
    "            return 'E'\n",
    "        elif 30001 <= income <= 50000:\n",
    "            return 'D'\n",
    "        elif 50001 <= income <= 200000:\n",
    "            return 'C'\n",
    "        elif 200001 <= income <= 1000000:\n",
    "            return 'B'\n",
    "        elif income >= 1000001:\n",
    "            return 'A'\n",
    "    except:\n",
    "        pass"
   ]
  },
  {
   "cell_type": "code",
   "execution_count": 18,
   "id": "aa2d646c",
   "metadata": {
    "deletable": false,
    "id": "d5f3586d"
   },
   "outputs": [],
   "source": [
    "data['total_income_category'] = data['total_income'].apply(categorize_income)"
   ]
  },
  {
   "cell_type": "markdown",
   "id": "a6d69305",
   "metadata": {
    "id": "dde49b5c"
   },
   "source": [
    "Посмотрим на уникальные цели взятия кредита из столбца `purpose`."
   ]
  },
  {
   "cell_type": "code",
   "execution_count": 19,
   "id": "b0c0d001",
   "metadata": {
    "deletable": false,
    "id": "f67ce9b3",
    "outputId": "673c12d9-7d7e-4ae0-9812-c622c89dd244"
   },
   "outputs": [
    {
     "data": {
      "text/plain": [
       "array(['покупка жилья', 'приобретение автомобиля',\n",
       "       'дополнительное образование', 'сыграть свадьбу',\n",
       "       'операции с жильем', 'образование', 'на проведение свадьбы',\n",
       "       'покупка жилья для семьи', 'покупка недвижимости',\n",
       "       'покупка коммерческой недвижимости', 'покупка жилой недвижимости',\n",
       "       'строительство собственной недвижимости', 'недвижимость',\n",
       "       'строительство недвижимости', 'на покупку подержанного автомобиля',\n",
       "       'на покупку своего автомобиля',\n",
       "       'операции с коммерческой недвижимостью',\n",
       "       'строительство жилой недвижимости', 'жилье',\n",
       "       'операции со своей недвижимостью', 'автомобили',\n",
       "       'заняться образованием', 'сделка с подержанным автомобилем',\n",
       "       'получение образования', 'автомобиль', 'свадьба',\n",
       "       'получение дополнительного образования', 'покупка своего жилья',\n",
       "       'операции с недвижимостью', 'получение высшего образования',\n",
       "       'свой автомобиль', 'сделка с автомобилем',\n",
       "       'профильное образование', 'высшее образование',\n",
       "       'покупка жилья для сдачи', 'на покупку автомобиля', 'ремонт жилью',\n",
       "       'заняться высшим образованием'], dtype=object)"
      ]
     },
     "execution_count": 19,
     "metadata": {},
     "output_type": "execute_result"
    }
   ],
   "source": [
    "data['purpose'].unique()"
   ]
  },
  {
   "cell_type": "markdown",
   "id": "deaa6405",
   "metadata": {
    "id": "85d0aef0"
   },
   "source": [
    "Создадим функцию, которая на основании данных из столбца `purpose` сформирует новый столбец `purpose_category`, в который войдут следующие категории:\n",
    "\n",
    "- `'операции с автомобилем'`,\n",
    "- `'операции с недвижимостью'`,\n",
    "- `'проведение свадьбы'`,\n",
    "- `'получение образования'`.\n",
    "\n",
    "**Например, если в столбце `purpose` находится подстрока `'на покупку автомобиля'`, то в столбце `purpose_category` должна появиться строка `'операции с автомобилем'`.**"
   ]
  },
  {
   "cell_type": "code",
   "execution_count": 20,
   "id": "8faa7b1e",
   "metadata": {
    "deletable": false,
    "id": "e149fab4"
   },
   "outputs": [],
   "source": [
    "def categorize_purpose(row):\n",
    "    try:\n",
    "        if 'автом' in row:\n",
    "            return 'операции с автомобилем'\n",
    "        elif 'жил' in row or 'недвиж' in row:\n",
    "            return 'операции с недвижимостью'\n",
    "        elif 'свад' in row:\n",
    "            return 'проведение свадьбы'\n",
    "        elif 'образов' in row:\n",
    "            return 'получение образования'\n",
    "    except:\n",
    "        return 'нет категории'"
   ]
  },
  {
   "cell_type": "code",
   "execution_count": 21,
   "id": "c9729962",
   "metadata": {
    "deletable": false,
    "id": "bf36e69b"
   },
   "outputs": [],
   "source": [
    "data['purpose_category'] = data['purpose'].apply(categorize_purpose)"
   ]
  },
  {
   "cell_type": "markdown",
   "id": "a8975e6f",
   "metadata": {
    "id": "09b242bf"
   },
   "source": [
    "### Исследуем данные"
   ]
  },
  {
   "cell_type": "markdown",
   "id": "2787ad88",
   "metadata": {
    "id": "c5d66278"
   },
   "source": [
    "#### Посмотрим есть ли зависимость между количеством детей и возвратом кредита в срок:"
   ]
  },
  {
   "cell_type": "code",
   "execution_count": 22,
   "id": "840723b2",
   "metadata": {
    "deletable": false,
    "id": "2cacfc4a",
    "scrolled": true
   },
   "outputs": [
    {
     "data": {
      "text/html": [
       "<div>\n",
       "<style scoped>\n",
       "    .dataframe tbody tr th:only-of-type {\n",
       "        vertical-align: middle;\n",
       "    }\n",
       "\n",
       "    .dataframe tbody tr th {\n",
       "        vertical-align: top;\n",
       "    }\n",
       "\n",
       "    .dataframe thead tr th {\n",
       "        text-align: left;\n",
       "    }\n",
       "\n",
       "    .dataframe thead tr:last-of-type th {\n",
       "        text-align: right;\n",
       "    }\n",
       "</style>\n",
       "<table border=\"1\" class=\"dataframe\">\n",
       "  <thead>\n",
       "    <tr>\n",
       "      <th></th>\n",
       "      <th>count</th>\n",
       "      <th>sum</th>\n",
       "      <th>mean</th>\n",
       "    </tr>\n",
       "    <tr>\n",
       "      <th></th>\n",
       "      <th>debt</th>\n",
       "      <th>debt</th>\n",
       "      <th>debt</th>\n",
       "    </tr>\n",
       "    <tr>\n",
       "      <th>children</th>\n",
       "      <th></th>\n",
       "      <th></th>\n",
       "      <th></th>\n",
       "    </tr>\n",
       "  </thead>\n",
       "  <tbody>\n",
       "    <tr>\n",
       "      <th>0</th>\n",
       "      <td>14091</td>\n",
       "      <td>1063</td>\n",
       "      <td>0.075438</td>\n",
       "    </tr>\n",
       "    <tr>\n",
       "      <th>1</th>\n",
       "      <td>4808</td>\n",
       "      <td>444</td>\n",
       "      <td>0.092346</td>\n",
       "    </tr>\n",
       "    <tr>\n",
       "      <th>2</th>\n",
       "      <td>2052</td>\n",
       "      <td>194</td>\n",
       "      <td>0.094542</td>\n",
       "    </tr>\n",
       "    <tr>\n",
       "      <th>3</th>\n",
       "      <td>330</td>\n",
       "      <td>27</td>\n",
       "      <td>0.081818</td>\n",
       "    </tr>\n",
       "    <tr>\n",
       "      <th>4</th>\n",
       "      <td>41</td>\n",
       "      <td>4</td>\n",
       "      <td>0.097561</td>\n",
       "    </tr>\n",
       "    <tr>\n",
       "      <th>5</th>\n",
       "      <td>9</td>\n",
       "      <td>0</td>\n",
       "      <td>0.000000</td>\n",
       "    </tr>\n",
       "  </tbody>\n",
       "</table>\n",
       "</div>"
      ],
      "text/plain": [
       "          count   sum      mean\n",
       "           debt  debt      debt\n",
       "children                       \n",
       "0         14091  1063  0.075438\n",
       "1          4808   444  0.092346\n",
       "2          2052   194  0.094542\n",
       "3           330    27  0.081818\n",
       "4            41     4  0.097561\n",
       "5             9     0  0.000000"
      ]
     },
     "execution_count": 22,
     "metadata": {},
     "output_type": "execute_result"
    }
   ],
   "source": [
    "data.pivot_table(index = 'children', values = 'debt', aggfunc = ['count','sum','mean'])\n",
    "# Выводим сводную таблицу, где видим 3 столбца и 6 строк(наличие/количество детей в семье), \n",
    "# в Первом столбце общее число заемщиков, \n",
    "# во Втором - Заемщики допустившие просрочку по кредиту, \n",
    "# в Третьем - доля Заемщиков допустивших просрочку, от общего числа взявших кредит.  \n"
   ]
  },
  {
   "cell_type": "markdown",
   "id": "f7e1ad28",
   "metadata": {
    "deletable": false,
    "id": "3a6b99ec"
   },
   "source": [
    "**Вывод:** "
   ]
  },
  {
   "cell_type": "markdown",
   "id": "96343d67",
   "metadata": {},
   "source": [
    "Данные показывают нам зависимость между количеством детей и возвратом кредита в срок:\n",
    "* Заемщики без детей (их всех больше), но и доля не возврата кредита составляет 7,5 %;\n",
    "* Заемщики у которых от одного до четырех детей, чаще допускают посроченную задолженность, чем Клиенты без детей;\n",
    "* Можно было предположить что Заемщики с пятью детьми - возвращают кредиты в срок. Но в нашей выборке таких людей всего 9, всязи с этим нет оснований для подтверждения этой гипотезы.\n"
   ]
  },
  {
   "cell_type": "markdown",
   "id": "5319f713",
   "metadata": {
    "id": "97be82ca"
   },
   "source": [
    "#### Посмотрим есть ли зависимость между семейным положением и возвратом кредита в срок:"
   ]
  },
  {
   "cell_type": "code",
   "execution_count": 23,
   "id": "e63c736a",
   "metadata": {
    "deletable": false,
    "id": "dc3f7ee8"
   },
   "outputs": [
    {
     "data": {
      "text/html": [
       "<div>\n",
       "<style scoped>\n",
       "    .dataframe tbody tr th:only-of-type {\n",
       "        vertical-align: middle;\n",
       "    }\n",
       "\n",
       "    .dataframe tbody tr th {\n",
       "        vertical-align: top;\n",
       "    }\n",
       "\n",
       "    .dataframe thead tr th {\n",
       "        text-align: left;\n",
       "    }\n",
       "\n",
       "    .dataframe thead tr:last-of-type th {\n",
       "        text-align: right;\n",
       "    }\n",
       "</style>\n",
       "<table border=\"1\" class=\"dataframe\">\n",
       "  <thead>\n",
       "    <tr>\n",
       "      <th></th>\n",
       "      <th>count</th>\n",
       "      <th>sum</th>\n",
       "      <th>mean</th>\n",
       "    </tr>\n",
       "    <tr>\n",
       "      <th></th>\n",
       "      <th>debt</th>\n",
       "      <th>debt</th>\n",
       "      <th>debt</th>\n",
       "    </tr>\n",
       "    <tr>\n",
       "      <th>family_status</th>\n",
       "      <th></th>\n",
       "      <th></th>\n",
       "      <th></th>\n",
       "    </tr>\n",
       "  </thead>\n",
       "  <tbody>\n",
       "    <tr>\n",
       "      <th>Не женат / не замужем</th>\n",
       "      <td>2796</td>\n",
       "      <td>273</td>\n",
       "      <td>0.097639</td>\n",
       "    </tr>\n",
       "    <tr>\n",
       "      <th>в разводе</th>\n",
       "      <td>1189</td>\n",
       "      <td>84</td>\n",
       "      <td>0.070648</td>\n",
       "    </tr>\n",
       "    <tr>\n",
       "      <th>вдовец / вдова</th>\n",
       "      <td>951</td>\n",
       "      <td>63</td>\n",
       "      <td>0.066246</td>\n",
       "    </tr>\n",
       "    <tr>\n",
       "      <th>гражданский брак</th>\n",
       "      <td>4134</td>\n",
       "      <td>385</td>\n",
       "      <td>0.093130</td>\n",
       "    </tr>\n",
       "    <tr>\n",
       "      <th>женат / замужем</th>\n",
       "      <td>12261</td>\n",
       "      <td>927</td>\n",
       "      <td>0.075606</td>\n",
       "    </tr>\n",
       "  </tbody>\n",
       "</table>\n",
       "</div>"
      ],
      "text/plain": [
       "                       count  sum      mean\n",
       "                        debt debt      debt\n",
       "family_status                              \n",
       "Не женат / не замужем   2796  273  0.097639\n",
       "в разводе               1189   84  0.070648\n",
       "вдовец / вдова           951   63  0.066246\n",
       "гражданский брак        4134  385  0.093130\n",
       "женат / замужем        12261  927  0.075606"
      ]
     },
     "execution_count": 23,
     "metadata": {},
     "output_type": "execute_result"
    }
   ],
   "source": [
    "data.pivot_table(index = 'family_status', values = 'debt', aggfunc = ['count','sum','mean'])# Ваш код будет здесь. Вы можете создавать новые ячейки."
   ]
  },
  {
   "cell_type": "markdown",
   "id": "af79a5f0",
   "metadata": {
    "deletable": false,
    "id": "1cef7837"
   },
   "source": [
    "**Вывод:** "
   ]
  },
  {
   "cell_type": "markdown",
   "id": "b6571800",
   "metadata": {},
   "source": [
    "Данные показывают нам зависимость между семейным положением и возвратом кредита в срок:\n",
    "* Доля не возврата кредита больше у Заемщиков, которые не состоят в браке или находятся в гражданском браке;\n",
    "* Заемщики, состоящие в браке, либо находящиеся в разводе допускают просрочки реже чем Клиенты которые не состоят в браке или находятся в гражданском браке;\n",
    "* Самыми благонадежными плательщиками являются Заемщики со статусом вдовец/вдова.\n",
    "\n",
    "Кредитному отделу следует с осторожностью относиться к клиентам, которые не состоят или не состояли в браке. Согласно данным такие клиенты менее ответственные. Получается, что узаконенные отношения (включая и бывшие отношения) ведут к более ответственному отношению к своим обязательствам. Ну вроде как совпадает со здравым смыслом - семейные люди более скрупулёзно берегут свой семейное спокойствие и несут за него ответственность."
   ]
  },
  {
   "cell_type": "markdown",
   "id": "e11e2b63",
   "metadata": {
    "id": "1e8b2fca"
   },
   "source": [
    "#### Проверим есть ли зависимость между уровнем дохода и возвратом кредита в срок:"
   ]
  },
  {
   "cell_type": "code",
   "execution_count": 24,
   "id": "71f2d6e3",
   "metadata": {
    "deletable": false,
    "id": "cd7e3720"
   },
   "outputs": [
    {
     "data": {
      "text/html": [
       "<div>\n",
       "<style scoped>\n",
       "    .dataframe tbody tr th:only-of-type {\n",
       "        vertical-align: middle;\n",
       "    }\n",
       "\n",
       "    .dataframe tbody tr th {\n",
       "        vertical-align: top;\n",
       "    }\n",
       "\n",
       "    .dataframe thead tr th {\n",
       "        text-align: left;\n",
       "    }\n",
       "\n",
       "    .dataframe thead tr:last-of-type th {\n",
       "        text-align: right;\n",
       "    }\n",
       "</style>\n",
       "<table border=\"1\" class=\"dataframe\">\n",
       "  <thead>\n",
       "    <tr>\n",
       "      <th></th>\n",
       "      <th>count</th>\n",
       "      <th>sum</th>\n",
       "      <th>mean</th>\n",
       "    </tr>\n",
       "    <tr>\n",
       "      <th></th>\n",
       "      <th>debt</th>\n",
       "      <th>debt</th>\n",
       "      <th>debt</th>\n",
       "    </tr>\n",
       "    <tr>\n",
       "      <th>total_income_category</th>\n",
       "      <th></th>\n",
       "      <th></th>\n",
       "      <th></th>\n",
       "    </tr>\n",
       "  </thead>\n",
       "  <tbody>\n",
       "    <tr>\n",
       "      <th>A</th>\n",
       "      <td>25</td>\n",
       "      <td>2</td>\n",
       "      <td>0.080000</td>\n",
       "    </tr>\n",
       "    <tr>\n",
       "      <th>B</th>\n",
       "      <td>5014</td>\n",
       "      <td>354</td>\n",
       "      <td>0.070602</td>\n",
       "    </tr>\n",
       "    <tr>\n",
       "      <th>C</th>\n",
       "      <td>15921</td>\n",
       "      <td>1353</td>\n",
       "      <td>0.084982</td>\n",
       "    </tr>\n",
       "    <tr>\n",
       "      <th>D</th>\n",
       "      <td>349</td>\n",
       "      <td>21</td>\n",
       "      <td>0.060172</td>\n",
       "    </tr>\n",
       "    <tr>\n",
       "      <th>E</th>\n",
       "      <td>22</td>\n",
       "      <td>2</td>\n",
       "      <td>0.090909</td>\n",
       "    </tr>\n",
       "  </tbody>\n",
       "</table>\n",
       "</div>"
      ],
      "text/plain": [
       "                       count   sum      mean\n",
       "                        debt  debt      debt\n",
       "total_income_category                       \n",
       "A                         25     2  0.080000\n",
       "B                       5014   354  0.070602\n",
       "C                      15921  1353  0.084982\n",
       "D                        349    21  0.060172\n",
       "E                         22     2  0.090909"
      ]
     },
     "execution_count": 24,
     "metadata": {},
     "output_type": "execute_result"
    }
   ],
   "source": [
    "data.pivot_table(index = 'total_income_category', values = 'debt', aggfunc = ['count','sum','mean'])# Ваш код будет здесь. Вы можете создавать новые ячейки."
   ]
  },
  {
   "cell_type": "markdown",
   "id": "0bd4f143",
   "metadata": {
    "deletable": false,
    "id": "e8593def"
   },
   "source": [
    "**Вывод:** "
   ]
  },
  {
   "cell_type": "markdown",
   "id": "9ae9f3e6",
   "metadata": {},
   "source": [
    "Данные показывают нам зависимость между уровнем дохода и возвратом кредита в срок:\n",
    "* Клиенты с уровнем дохода от 30000 - 50000 являются самыми благонадежными;\n",
    "* Самая большая доля не возврата кредита у заемщиков с наименьшим доходом.\n",
    "\n",
    "Исходя из здравого смысла логично предположить, что чаще всего должниками становятся люди с небольшим доходом, которым финансовые проблемы не позволяют вовремя осуществлять платежи. Но глядя на наши результаты лично мой вывод таков: выборка по заемщикам, как с наименьшим доходом, так и с наибольшим крайне недостаточна для формирования однозначных выводов. Можно думать, что E-категория самая низкооплачиваемая не может корректно распоряжаться деньгами и «влезает» в кредиты, но тогда неясно почему у А-категории также достаточно высокий процент задолженности. В общем вывод по группам А и Е неочевиден, мало данных.\n",
    "\n",
    "Если же взять для анализа только группы В, С и D, то по полученным данным не наблюдаем зависимости \"те, кто получает больше ЗП, лучше возвращает кредит». В целом это логично, так как материальный достаток - не единственная переменная, которая влияет на качество кредитной истории.\n",
    "\n",
    "Однако 2174 пропуска в данных столбца \"total_income\" ставят под сомнение полученный нами результат. Сводная таблица (или группировка) с данными о зависимости между уровнем дохода и возвратом кредита в срок возможно могла бы выглядеть иначе, если бы не пропущенные данные."
   ]
  },
  {
   "cell_type": "markdown",
   "id": "a85a1f34",
   "metadata": {
    "id": "99ecbd1f"
   },
   "source": [
    "#### Посмотрим как разные цели кредита влияют на его возврат в срок:"
   ]
  },
  {
   "cell_type": "code",
   "execution_count": 25,
   "id": "e93abe50",
   "metadata": {
    "deletable": false,
    "id": "2b687290"
   },
   "outputs": [
    {
     "data": {
      "text/html": [
       "<div>\n",
       "<style scoped>\n",
       "    .dataframe tbody tr th:only-of-type {\n",
       "        vertical-align: middle;\n",
       "    }\n",
       "\n",
       "    .dataframe tbody tr th {\n",
       "        vertical-align: top;\n",
       "    }\n",
       "\n",
       "    .dataframe thead tr th {\n",
       "        text-align: left;\n",
       "    }\n",
       "\n",
       "    .dataframe thead tr:last-of-type th {\n",
       "        text-align: right;\n",
       "    }\n",
       "</style>\n",
       "<table border=\"1\" class=\"dataframe\">\n",
       "  <thead>\n",
       "    <tr>\n",
       "      <th></th>\n",
       "      <th>count</th>\n",
       "      <th>sum</th>\n",
       "      <th>mean</th>\n",
       "    </tr>\n",
       "    <tr>\n",
       "      <th></th>\n",
       "      <th>debt</th>\n",
       "      <th>debt</th>\n",
       "      <th>debt</th>\n",
       "    </tr>\n",
       "    <tr>\n",
       "      <th>purpose_category</th>\n",
       "      <th></th>\n",
       "      <th></th>\n",
       "      <th></th>\n",
       "    </tr>\n",
       "  </thead>\n",
       "  <tbody>\n",
       "    <tr>\n",
       "      <th>операции с автомобилем</th>\n",
       "      <td>4279</td>\n",
       "      <td>400</td>\n",
       "      <td>0.093480</td>\n",
       "    </tr>\n",
       "    <tr>\n",
       "      <th>операции с недвижимостью</th>\n",
       "      <td>10751</td>\n",
       "      <td>780</td>\n",
       "      <td>0.072551</td>\n",
       "    </tr>\n",
       "    <tr>\n",
       "      <th>получение образования</th>\n",
       "      <td>3988</td>\n",
       "      <td>369</td>\n",
       "      <td>0.092528</td>\n",
       "    </tr>\n",
       "    <tr>\n",
       "      <th>проведение свадьбы</th>\n",
       "      <td>2313</td>\n",
       "      <td>183</td>\n",
       "      <td>0.079118</td>\n",
       "    </tr>\n",
       "  </tbody>\n",
       "</table>\n",
       "</div>"
      ],
      "text/plain": [
       "                          count  sum      mean\n",
       "                           debt debt      debt\n",
       "purpose_category                              \n",
       "операции с автомобилем     4279  400  0.093480\n",
       "операции с недвижимостью  10751  780  0.072551\n",
       "получение образования      3988  369  0.092528\n",
       "проведение свадьбы         2313  183  0.079118"
      ]
     },
     "execution_count": 25,
     "metadata": {},
     "output_type": "execute_result"
    }
   ],
   "source": [
    "data.pivot_table(index = 'purpose_category', values = 'debt', aggfunc = ['count','sum','mean'])# Ваш код будет здесь. Вы можете создавать новые ячейки."
   ]
  },
  {
   "cell_type": "markdown",
   "id": "96358b19",
   "metadata": {
    "deletable": false,
    "id": "b4bb2ce6"
   },
   "source": [
    "**Вывод:** "
   ]
  },
  {
   "cell_type": "markdown",
   "id": "26207ed8",
   "metadata": {},
   "source": [
    "Данные показывают нам как разные цели кредита влияют на его возврат в срок:\n",
    "* Кредиты взятые на недвижимость и свадьбу имеют меньшую долю просрочки;\n",
    "* А вот кредиты взятые на автомобиль и образование оплачиваются почти на 2% хуже. \n",
    "\n",
    "Машины люди покупают в кредит гораздо дорогие, нежели могут соответствовать им своим доходом (ну кому не хочется красивую иномарку). А вот рисковать ипотечным жильём люди не хотят. Интересно конечно, что с образованием не так - как правило такие кредиты берут люди мотивированные, имеющие цель впереди, да и суммы таких кредитов судя по рынку онлайн образования не так велики. Ну и получается, что ещё более мотивированные люди берут деньги на организацию своей свадьбы)"
   ]
  },
  {
   "cell_type": "markdown",
   "id": "7d79de1e",
   "metadata": {
    "id": "9da2ceda"
   },
   "source": [
    "Причина пропусков данных Технологическая. Т.к. один и тот же пул клиентов остался без Дохода(total_income) и Стажа(days_employed)\n",
    "\n",
    "в наших данных пропуски в столбцах \"трудовой стаж\" и \"ежемесячный доход\" абсолютно идентичны. Количество строк с отсутствующими данными в обоих указанных столбцах совпадает и равно 2174. Маловероятно, что специалисты по выдаче кредитов, заполнив все без исключения ячейки других столбцов по каждому кредитополучателю, оставляли незаполненными именно два показателя, и сделали это ровно 2174 раза в каждом столбце. Даже не проводя проверку, во всех ли случаях незаполненные ячейки находятся в одной и то же строке с высокой долей вероятности можно утверждать, что произошла техническая ошибка при формировании таблицы с исходными данными (либо некий сбой во время выгрузки данных на анализ, либо при объединении данных в единый файл, который также должен был передаваться на анализ, либо эти данные не собирались)."
   ]
  },
  {
   "cell_type": "markdown",
   "id": "18fd476a",
   "metadata": {},
   "source": [
    "Используем \"Медиану\" т.к. \"Среднее\" сильно поднимет планку вверх, из за сильной разницы в значениях min и max значений в таблице. Что в свою очередь приведет к сильному искажению данных вверх. Медиана зачастую даёт более правдивую картину. "
   ]
  },
  {
   "cell_type": "markdown",
   "id": "00c54f21",
   "metadata": {},
   "source": [
    "# Общий вывод:\n",
    "Мы провели исследование как различные факторы влияют на факт погашения кредита в срок. Входные данные от банка — статистика о платёжеспособности клиентов. Результаты исследования будут учтены при построении модели кредитного скоринга — специальной системы, которая оценивает способность потенциального заёмщика вернуть кредит банку.\n",
    "\n",
    "Перед проведением исследования выдвинули четыре гипотезы:\n",
    "\n",
    "1. Есть ли зависимость между количеством детей и возвратом кредита в срок?\n",
    "2. Есть ли зависимость между семейным положением и возвратом кредита в срок?\n",
    "3. Есть ли зависимость между уровнем дохода и возвратом кредита в срок?\n",
    "4. Как разные цели кредита влияют на его возврат в срок?\n",
    "\n",
    "**Гипотеза 1 (Количество детей):**\n",
    "\n",
    "* Заемщики без детей (их всех больше), но и доля не возврата кредита составляет 7,5 %;\n",
    "* Заемщики у которых от одного до четырех детей, чаще допускают посроченную задолженность, чем Клиенты без детей ~ на 2%;\n",
    "* Заемщики с пятью детьми - возвращают кредиты в срок. (Но для подтверждения данного утверждения требуется больше данных)\n",
    "\n",
    "Кредитополучатели без детей являются более ответственными, чем клиенты, у которых есть дети. По всей видимости, наличие ребенка накладывает на клиента дополнительные финансовое бремя (обязательства) и клиенты либо менее ответственно относятся к своим кредитным обязательствам, либо не имеют возможности в срок оплачивать обязательства.\n",
    "\n",
    "**Гипотеза 2 (Семейное положение):**\n",
    "\n",
    "* Доля не возврата кредита больше у Заемщиков, которые не состоят в браке или находятся в гражданском браке, в среднем 9,5 %;\n",
    "* Заемщики, состоящие в браке, либо находящиеся в разводе допускают просрочки реже чем Клиенты которые не состоят в браке или находятся в гражданском браке ~ на 2 %;\n",
    "* Самыми благонадежными плательщиками являются Заемщики со статусом вдовец/вдова - 6,6 %.\n",
    "\n",
    "Кредитному отделу следует с осторожностью относиться к клиентам, которые не состоят или не состояли в браке. Согласно данным такие клиенты менее ответственные. Получается, что узаконенные отношения (включая и бывшие отношения) ведут к более ответственному отношению к своим обязательствам.\n",
    "\n",
    "**Гипотеза 3 (Уровень дохода):**\n",
    "\n",
    "Для проведенния данного исследования, разбили клиентов на катогории:\n",
    "0–30000 — 'E';\n",
    "30001–50000 — 'D';\n",
    "50001–200000 — 'C';\n",
    "200001–1000000 — 'B';\n",
    "1000001 и выше — 'A'.\n",
    "\n",
    "* Клиенты с уровнем дохода 'D' являются самыми благонадежными. Доля не возврата кредитов - 6 %;\n",
    "* Самая большая доля не возврата кредита у заемщиков с доходом 'E' - 9 %.(Но для подтверждения данного утверждения требуется больше данных)\n",
    "\n",
    "Можно думать, что E-категория самая низкооплачиваемая не может корректно распоряжаться деньгами и «влезает» в кредиты, но тогда неясно почему у А-категории также достаточно высокий процент задолженности (8%). В общем вывод по группам А и Е неочевиден, мало данных.\n",
    "Если же взять для анализа только группы В, С и D, то по полученным данным не наблюдаем зависимости \"те, кто получает больше, лучше возвращает кредит».\n",
    "\n",
    "**Гипотеза 4 (Цель кредита):**\n",
    "\n",
    "* Кредиты взятые на недвижимость и свадьбу имеют меньшую долю просрочки ~ 7,5 %;\n",
    "* А вот кредиты взятые на автомобиль и образование оплачиваются почти на 2 % хуже.\n",
    "\n",
    "Машины люди покупают в кредит гораздо дорогие, нежели могут соответствовать им своим доходом. А вот рисковать ипотечным жильём люди не хотят.\n",
    "\n",
    "\n",
    "**Общие рекомендации:**\n",
    "1. Гипотезы *Семейное положение* и *Цель кредита* полностью подтвердились. Рекомендую специалистам использовать эти зависимости для построения скорринговой модели при кредитовании клиентов банка.\n",
    "2. Гипотезы *Количество детей* и *Уровень дохода* по предоставленной статистике не возможно опровергнуть или подтвердить, необходимо более полную выборку для подтверждения данных утверждений.\n"
   ]
  }
 ],
 "metadata": {
  "ExecuteTimeLog": [
   {
    "duration": 516,
    "start_time": "2022-11-09T07:09:31.826Z"
   },
   {
    "duration": 22,
    "start_time": "2022-11-09T07:09:32.345Z"
   },
   {
    "duration": 16,
    "start_time": "2022-11-09T07:09:32.369Z"
   },
   {
    "duration": 9,
    "start_time": "2022-11-09T07:09:32.387Z"
   },
   {
    "duration": 58,
    "start_time": "2022-11-09T07:09:32.398Z"
   },
   {
    "duration": 3,
    "start_time": "2022-11-09T07:09:32.458Z"
   },
   {
    "duration": 17,
    "start_time": "2022-11-09T07:09:32.463Z"
   },
   {
    "duration": 4,
    "start_time": "2022-11-09T07:09:32.482Z"
   },
   {
    "duration": 10,
    "start_time": "2022-11-09T07:09:32.488Z"
   },
   {
    "duration": 5,
    "start_time": "2022-11-09T07:09:32.500Z"
   },
   {
    "duration": 62,
    "start_time": "2022-11-09T07:09:32.507Z"
   },
   {
    "duration": 10,
    "start_time": "2022-11-09T07:09:32.571Z"
   },
   {
    "duration": 6,
    "start_time": "2022-11-09T07:09:32.583Z"
   },
   {
    "duration": 13,
    "start_time": "2022-11-09T07:09:32.591Z"
   },
   {
    "duration": 40,
    "start_time": "2022-11-09T07:09:32.605Z"
   },
   {
    "duration": 19,
    "start_time": "2022-11-09T07:09:32.647Z"
   },
   {
    "duration": 3,
    "start_time": "2022-11-09T07:09:32.668Z"
   },
   {
    "duration": 14,
    "start_time": "2022-11-09T07:09:32.673Z"
   },
   {
    "duration": 10,
    "start_time": "2022-11-09T07:09:32.689Z"
   },
   {
    "duration": 8,
    "start_time": "2022-11-09T07:09:32.700Z"
   },
   {
    "duration": 17,
    "start_time": "2022-11-09T07:09:32.709Z"
   },
   {
    "duration": 19,
    "start_time": "2022-11-09T07:09:32.727Z"
   },
   {
    "duration": 3,
    "start_time": "2022-11-09T07:09:32.748Z"
   },
   {
    "duration": 13,
    "start_time": "2022-11-09T07:09:32.753Z"
   },
   {
    "duration": 22,
    "start_time": "2022-11-09T07:09:32.768Z"
   },
   {
    "duration": 20,
    "start_time": "2022-11-09T07:15:27.510Z"
   },
   {
    "duration": 4,
    "start_time": "2022-11-09T07:28:53.267Z"
   },
   {
    "duration": 14,
    "start_time": "2022-11-09T07:31:40.289Z"
   },
   {
    "duration": 10,
    "start_time": "2022-11-09T07:31:52.738Z"
   },
   {
    "duration": 12,
    "start_time": "2022-11-09T07:34:39.669Z"
   },
   {
    "duration": 59,
    "start_time": "2022-11-09T07:37:41.689Z"
   },
   {
    "duration": 24,
    "start_time": "2022-11-09T07:37:59.300Z"
   },
   {
    "duration": 976,
    "start_time": "2022-11-09T08:16:23.729Z"
   },
   {
    "duration": 699,
    "start_time": "2022-11-09T08:16:41.910Z"
   },
   {
    "duration": 29,
    "start_time": "2022-11-09T08:17:04.216Z"
   },
   {
    "duration": 29,
    "start_time": "2022-11-09T08:18:36.429Z"
   },
   {
    "duration": 29,
    "start_time": "2022-11-09T08:21:32.148Z"
   },
   {
    "duration": 29,
    "start_time": "2022-11-09T08:21:39.017Z"
   },
   {
    "duration": 30,
    "start_time": "2022-11-09T08:21:54.179Z"
   },
   {
    "duration": 17,
    "start_time": "2022-11-09T08:35:47.510Z"
   },
   {
    "duration": 6,
    "start_time": "2022-11-09T08:36:24.980Z"
   },
   {
    "duration": 25,
    "start_time": "2022-11-09T08:43:29.176Z"
   },
   {
    "duration": 27,
    "start_time": "2022-11-09T08:43:46.660Z"
   },
   {
    "duration": 455,
    "start_time": "2022-11-09T08:43:52.298Z"
   },
   {
    "duration": 22,
    "start_time": "2022-11-09T08:43:52.755Z"
   },
   {
    "duration": 31,
    "start_time": "2022-11-09T08:43:52.779Z"
   },
   {
    "duration": 10,
    "start_time": "2022-11-09T08:43:52.812Z"
   },
   {
    "duration": 62,
    "start_time": "2022-11-09T08:43:52.825Z"
   },
   {
    "duration": 4,
    "start_time": "2022-11-09T08:43:52.889Z"
   },
   {
    "duration": 28,
    "start_time": "2022-11-09T08:43:52.894Z"
   },
   {
    "duration": 7,
    "start_time": "2022-11-09T08:43:52.924Z"
   },
   {
    "duration": 13,
    "start_time": "2022-11-09T08:43:52.933Z"
   },
   {
    "duration": 5,
    "start_time": "2022-11-09T08:43:52.949Z"
   },
   {
    "duration": 42,
    "start_time": "2022-11-09T08:43:52.955Z"
   },
   {
    "duration": 12,
    "start_time": "2022-11-09T08:43:52.998Z"
   },
   {
    "duration": 10,
    "start_time": "2022-11-09T08:43:53.012Z"
   },
   {
    "duration": 28,
    "start_time": "2022-11-09T08:43:53.024Z"
   },
   {
    "duration": 41,
    "start_time": "2022-11-09T08:43:53.055Z"
   },
   {
    "duration": 19,
    "start_time": "2022-11-09T08:43:53.098Z"
   },
   {
    "duration": 4,
    "start_time": "2022-11-09T08:43:53.120Z"
   },
   {
    "duration": 13,
    "start_time": "2022-11-09T08:43:53.126Z"
   },
   {
    "duration": 10,
    "start_time": "2022-11-09T08:43:53.141Z"
   },
   {
    "duration": 16,
    "start_time": "2022-11-09T08:43:53.152Z"
   },
   {
    "duration": 14,
    "start_time": "2022-11-09T08:43:53.170Z"
   },
   {
    "duration": 39,
    "start_time": "2022-11-09T08:43:53.186Z"
   },
   {
    "duration": 38,
    "start_time": "2022-11-09T08:43:53.227Z"
   },
   {
    "duration": 3,
    "start_time": "2022-11-09T08:43:53.267Z"
   },
   {
    "duration": 19,
    "start_time": "2022-11-09T08:43:53.272Z"
   },
   {
    "duration": 33,
    "start_time": "2022-11-09T08:44:31.199Z"
   },
   {
    "duration": 36,
    "start_time": "2022-11-09T08:46:06.050Z"
   },
   {
    "duration": 32,
    "start_time": "2022-11-09T08:51:20.544Z"
   },
   {
    "duration": 41,
    "start_time": "2022-11-09T08:52:44.749Z"
   },
   {
    "duration": 32,
    "start_time": "2022-11-09T08:53:39.547Z"
   },
   {
    "duration": 99,
    "start_time": "2022-11-09T09:45:13.710Z"
   },
   {
    "duration": 40,
    "start_time": "2022-11-09T09:46:39.507Z"
   },
   {
    "duration": 40,
    "start_time": "2022-11-09T09:46:51.070Z"
   },
   {
    "duration": 485,
    "start_time": "2022-11-09T09:47:10.549Z"
   },
   {
    "duration": 24,
    "start_time": "2022-11-09T09:47:11.036Z"
   },
   {
    "duration": 16,
    "start_time": "2022-11-09T09:47:11.062Z"
   },
   {
    "duration": 11,
    "start_time": "2022-11-09T09:47:11.081Z"
   },
   {
    "duration": 61,
    "start_time": "2022-11-09T09:47:11.093Z"
   },
   {
    "duration": 4,
    "start_time": "2022-11-09T09:47:11.156Z"
   },
   {
    "duration": 20,
    "start_time": "2022-11-09T09:47:11.162Z"
   },
   {
    "duration": 5,
    "start_time": "2022-11-09T09:47:11.184Z"
   },
   {
    "duration": 21,
    "start_time": "2022-11-09T09:47:11.191Z"
   },
   {
    "duration": 13,
    "start_time": "2022-11-09T09:47:11.214Z"
   },
   {
    "duration": 46,
    "start_time": "2022-11-09T09:47:11.229Z"
   },
   {
    "duration": 11,
    "start_time": "2022-11-09T09:47:11.277Z"
   },
   {
    "duration": 8,
    "start_time": "2022-11-09T09:47:11.290Z"
   },
   {
    "duration": 14,
    "start_time": "2022-11-09T09:47:11.300Z"
   },
   {
    "duration": 32,
    "start_time": "2022-11-09T09:47:11.316Z"
   },
   {
    "duration": 17,
    "start_time": "2022-11-09T09:47:11.350Z"
   },
   {
    "duration": 4,
    "start_time": "2022-11-09T09:47:11.369Z"
   },
   {
    "duration": 19,
    "start_time": "2022-11-09T09:47:11.375Z"
   },
   {
    "duration": 10,
    "start_time": "2022-11-09T09:47:11.396Z"
   },
   {
    "duration": 16,
    "start_time": "2022-11-09T09:47:11.408Z"
   },
   {
    "duration": 17,
    "start_time": "2022-11-09T09:47:11.426Z"
   },
   {
    "duration": 30,
    "start_time": "2022-11-09T09:47:11.447Z"
   },
   {
    "duration": 31,
    "start_time": "2022-11-09T09:47:11.479Z"
   },
   {
    "duration": 63,
    "start_time": "2022-11-09T09:47:11.512Z"
   },
   {
    "duration": 3,
    "start_time": "2022-11-09T09:47:11.577Z"
   },
   {
    "duration": 76,
    "start_time": "2022-11-09T09:47:46.909Z"
   },
   {
    "duration": 11,
    "start_time": "2022-11-09T09:48:26.539Z"
   },
   {
    "duration": 34,
    "start_time": "2022-11-09T09:49:24.809Z"
   },
   {
    "duration": 34,
    "start_time": "2022-11-09T09:53:04.251Z"
   },
   {
    "duration": 31,
    "start_time": "2022-11-09T09:53:08.377Z"
   },
   {
    "duration": 30,
    "start_time": "2022-11-09T09:58:12.301Z"
   },
   {
    "duration": 445,
    "start_time": "2022-11-09T18:02:37.557Z"
   },
   {
    "duration": 19,
    "start_time": "2022-11-09T18:02:38.004Z"
   },
   {
    "duration": 13,
    "start_time": "2022-11-09T18:02:38.025Z"
   },
   {
    "duration": 11,
    "start_time": "2022-11-09T18:02:38.040Z"
   },
   {
    "duration": 31,
    "start_time": "2022-11-09T18:02:38.052Z"
   },
   {
    "duration": 3,
    "start_time": "2022-11-09T18:02:38.084Z"
   },
   {
    "duration": 10,
    "start_time": "2022-11-09T18:02:38.089Z"
   },
   {
    "duration": 4,
    "start_time": "2022-11-09T18:02:38.101Z"
   },
   {
    "duration": 8,
    "start_time": "2022-11-09T18:02:38.107Z"
   },
   {
    "duration": 31,
    "start_time": "2022-11-09T18:02:38.119Z"
   },
   {
    "duration": 34,
    "start_time": "2022-11-09T18:02:38.152Z"
   },
   {
    "duration": 9,
    "start_time": "2022-11-09T18:02:38.188Z"
   },
   {
    "duration": 5,
    "start_time": "2022-11-09T18:02:38.199Z"
   },
   {
    "duration": 12,
    "start_time": "2022-11-09T18:02:38.205Z"
   },
   {
    "duration": 40,
    "start_time": "2022-11-09T18:02:38.219Z"
   },
   {
    "duration": 16,
    "start_time": "2022-11-09T18:02:38.260Z"
   },
   {
    "duration": 3,
    "start_time": "2022-11-09T18:02:38.277Z"
   },
   {
    "duration": 12,
    "start_time": "2022-11-09T18:02:38.281Z"
   },
   {
    "duration": 5,
    "start_time": "2022-11-09T18:02:38.294Z"
   },
   {
    "duration": 3,
    "start_time": "2022-11-09T18:02:38.301Z"
   },
   {
    "duration": 9,
    "start_time": "2022-11-09T18:02:38.305Z"
   },
   {
    "duration": 51,
    "start_time": "2022-11-09T18:02:38.315Z"
   },
   {
    "duration": 24,
    "start_time": "2022-11-09T18:02:38.368Z"
   },
   {
    "duration": 23,
    "start_time": "2022-11-09T18:02:38.393Z"
   },
   {
    "duration": 48,
    "start_time": "2022-11-09T18:02:38.418Z"
   },
   {
    "duration": 458,
    "start_time": "2022-11-09T18:03:33.716Z"
   },
   {
    "duration": 20,
    "start_time": "2022-11-09T18:03:34.176Z"
   },
   {
    "duration": 15,
    "start_time": "2022-11-09T18:03:34.197Z"
   },
   {
    "duration": 9,
    "start_time": "2022-11-09T18:03:34.213Z"
   },
   {
    "duration": 46,
    "start_time": "2022-11-09T18:03:34.224Z"
   },
   {
    "duration": 3,
    "start_time": "2022-11-09T18:03:34.272Z"
   },
   {
    "duration": 13,
    "start_time": "2022-11-09T18:03:34.276Z"
   },
   {
    "duration": 7,
    "start_time": "2022-11-09T18:03:34.290Z"
   },
   {
    "duration": 8,
    "start_time": "2022-11-09T18:03:34.298Z"
   },
   {
    "duration": 10,
    "start_time": "2022-11-09T18:03:34.308Z"
   },
   {
    "duration": 43,
    "start_time": "2022-11-09T18:03:34.320Z"
   },
   {
    "duration": 9,
    "start_time": "2022-11-09T18:03:34.364Z"
   },
   {
    "duration": 7,
    "start_time": "2022-11-09T18:03:34.374Z"
   },
   {
    "duration": 14,
    "start_time": "2022-11-09T18:03:34.383Z"
   },
   {
    "duration": 18,
    "start_time": "2022-11-09T18:03:34.398Z"
   },
   {
    "duration": 33,
    "start_time": "2022-11-09T18:03:34.417Z"
   },
   {
    "duration": 4,
    "start_time": "2022-11-09T18:03:34.452Z"
   },
   {
    "duration": 12,
    "start_time": "2022-11-09T18:03:34.458Z"
   },
   {
    "duration": 6,
    "start_time": "2022-11-09T18:03:34.472Z"
   },
   {
    "duration": 7,
    "start_time": "2022-11-09T18:03:34.479Z"
   },
   {
    "duration": 10,
    "start_time": "2022-11-09T18:03:34.487Z"
   },
   {
    "duration": 25,
    "start_time": "2022-11-09T18:03:34.499Z"
   },
   {
    "duration": 46,
    "start_time": "2022-11-09T18:03:34.526Z"
   },
   {
    "duration": 24,
    "start_time": "2022-11-09T18:03:34.574Z"
   },
   {
    "duration": 27,
    "start_time": "2022-11-09T18:03:34.600Z"
   }
  ],
  "celltoolbar": "Edit Metadata",
  "colab": {
   "name": "dpp_template_part2.ipynb",
   "provenance": []
  },
  "kernelspec": {
   "display_name": "Python 3 (ipykernel)",
   "language": "python",
   "name": "python3"
  },
  "language_info": {
   "codemirror_mode": {
    "name": "ipython",
    "version": 3
   },
   "file_extension": ".py",
   "mimetype": "text/x-python",
   "name": "python",
   "nbconvert_exporter": "python",
   "pygments_lexer": "ipython3",
   "version": "3.9.13"
  },
  "toc": {
   "base_numbering": 1,
   "nav_menu": {},
   "number_sections": true,
   "sideBar": true,
   "skip_h1_title": true,
   "title_cell": "Table of Contents",
   "title_sidebar": "Contents",
   "toc_cell": false,
   "toc_position": {},
   "toc_section_display": true,
   "toc_window_display": true
  }
 },
 "nbformat": 4,
 "nbformat_minor": 5
}
