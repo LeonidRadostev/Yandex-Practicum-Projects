{
 "cells": [
  {
   "cell_type": "markdown",
   "metadata": {},
   "source": [
    "# Принятие решений в бизнесе"
   ]
  },
  {
   "cell_type": "markdown",
   "metadata": {},
   "source": [
    "Вместе с отделом маркетинга мы подготовили список гипотез для увеличения выручки.\n",
    "Приоритизируем гипотезы, запустим A/B-тест и проанализируем результаты. "
   ]
  },
  {
   "cell_type": "markdown",
   "metadata": {},
   "source": [
    "Проект будет состоять из двух частей:\n",
    "\n",
    "**Часть 1. Приоритизация гипотез.**\n",
    "\n",
    "**Цель исследования:**\n",
    "\n",
    "* Выбрать наиболее приоритетные гипотезы для исследования.\n",
    "\n",
    "**План исследования:**\n",
    "\n",
    "* Применим фреймворк ICE для приоритизации гипотез. Отсортируем их по убыванию приоритета.\n",
    "* Применим фреймворк RICE для приоритизации гипотез. Отсортируем их по убыванию приоритета.\n",
    "* Пропишем, как изменилась приоритизация гипотез при применении RICE вместо ICE.\n",
    "\n",
    "**Часть 2. Анализ A/B-теста**\n",
    "\n",
    "**Цель исследования:**\n",
    "\n",
    "* Принять решение по результатам теста:\n",
    "    1. Остановить тест, зафиксировать победу одной из групп.\n",
    "    2. Остановить тест, зафиксировать отсутствие различий между группами.\n",
    "    3. Продолжить тест.\n",
    "\n",
    "**План исследования:**\n",
    "\n",
    "* Построим график кумулятивной выручки по группам.\n",
    "* Построим график кумулятивного среднего чека по группам.\n",
    "* Построим график относительного изменения кумулятивного среднего чека группы B к группе A.\n",
    "* Построим график кумулятивного среднего количества заказов на посетителя по группам.\n",
    "* Построим график относительного изменения кумулятивного среднего количества заказов на посетителя группы B к группе A.\n",
    "* Построим точечный график количества заказов по пользователям. .\n",
    "* Посчитаем 95-й и 99-й перцентили количества заказов на пользователя. Выберем границу для определения аномальных пользователей.\n",
    "* Построим точечный график стоимостей заказов.\n",
    "* Посчитаем 95-й и 99-й перцентили стоимости заказов. Выберем границу для определения аномальных заказов.\n",
    "* Посчитаем статистическую значимость различий в среднем количестве заказов на посетителя между группами по «сырым» данным.\n",
    "* Посчитаем статистическую значимость различий в среднем чеке заказа между группами по «сырым» данным.\n",
    "* Посчитаем статистическую значимость различий в среднем количестве заказов на посетителя между группами по «очищенным» данным. \n",
    "* Посчитаем статистическую значимость различий в среднем чеке заказа между группами по «очищенным» данным."
   ]
  },
  {
   "cell_type": "code",
   "execution_count": 1,
   "metadata": {},
   "outputs": [],
   "source": [
    "# Импортируем необходимые библиотеки\n",
    "import pandas as pd\n",
    "import scipy.stats as stats\n",
    "import datetime as dt\n",
    "import numpy as np\n",
    "import matplotlib.pyplot as plt\n",
    "pd.set_option('display.max_colwidth', 0)"
   ]
  },
  {
   "cell_type": "markdown",
   "metadata": {},
   "source": [
    "## Приоритизация гипотез."
   ]
  },
  {
   "cell_type": "code",
   "execution_count": 2,
   "metadata": {},
   "outputs": [],
   "source": [
    "# Открываем файл с гипотезами и параметрами\n",
    "\n",
    "hypothesis = pd.read_csv('C:\\\\StudentYandex\\\\Projekts\\\\Python\\\\Project7hipotiziz\\\\hypothesis.csv', sep=',')"
   ]
  },
  {
   "cell_type": "code",
   "execution_count": 3,
   "metadata": {},
   "outputs": [
    {
     "data": {
      "text/html": [
       "<div>\n",
       "<style scoped>\n",
       "    .dataframe tbody tr th:only-of-type {\n",
       "        vertical-align: middle;\n",
       "    }\n",
       "\n",
       "    .dataframe tbody tr th {\n",
       "        vertical-align: top;\n",
       "    }\n",
       "\n",
       "    .dataframe thead th {\n",
       "        text-align: right;\n",
       "    }\n",
       "</style>\n",
       "<table border=\"1\" class=\"dataframe\">\n",
       "  <thead>\n",
       "    <tr style=\"text-align: right;\">\n",
       "      <th></th>\n",
       "      <th>Hypothesis</th>\n",
       "      <th>Reach</th>\n",
       "      <th>Impact</th>\n",
       "      <th>Confidence</th>\n",
       "      <th>Efforts</th>\n",
       "    </tr>\n",
       "  </thead>\n",
       "  <tbody>\n",
       "    <tr>\n",
       "      <th>0</th>\n",
       "      <td>Добавить два новых канала привлечения трафика, что позволит привлекать на 30% больше пользователей</td>\n",
       "      <td>3</td>\n",
       "      <td>10</td>\n",
       "      <td>8</td>\n",
       "      <td>6</td>\n",
       "    </tr>\n",
       "    <tr>\n",
       "      <th>1</th>\n",
       "      <td>Запустить собственную службу доставки, что сократит срок доставки заказов</td>\n",
       "      <td>2</td>\n",
       "      <td>5</td>\n",
       "      <td>4</td>\n",
       "      <td>10</td>\n",
       "    </tr>\n",
       "    <tr>\n",
       "      <th>2</th>\n",
       "      <td>Добавить блоки рекомендаций товаров на сайт интернет магазина, чтобы повысить конверсию и средний чек заказа</td>\n",
       "      <td>8</td>\n",
       "      <td>3</td>\n",
       "      <td>7</td>\n",
       "      <td>3</td>\n",
       "    </tr>\n",
       "    <tr>\n",
       "      <th>3</th>\n",
       "      <td>Изменить структура категорий, что увеличит конверсию, т.к. пользователи быстрее найдут нужный товар</td>\n",
       "      <td>8</td>\n",
       "      <td>3</td>\n",
       "      <td>3</td>\n",
       "      <td>8</td>\n",
       "    </tr>\n",
       "    <tr>\n",
       "      <th>4</th>\n",
       "      <td>Изменить цвет фона главной страницы, чтобы увеличить вовлеченность пользователей</td>\n",
       "      <td>3</td>\n",
       "      <td>1</td>\n",
       "      <td>1</td>\n",
       "      <td>1</td>\n",
       "    </tr>\n",
       "    <tr>\n",
       "      <th>5</th>\n",
       "      <td>Добавить страницу отзывов клиентов о магазине, что позволит увеличить количество заказов</td>\n",
       "      <td>3</td>\n",
       "      <td>2</td>\n",
       "      <td>2</td>\n",
       "      <td>3</td>\n",
       "    </tr>\n",
       "    <tr>\n",
       "      <th>6</th>\n",
       "      <td>Показать на главной странице баннеры с актуальными акциями и распродажами, чтобы увеличить конверсию</td>\n",
       "      <td>5</td>\n",
       "      <td>3</td>\n",
       "      <td>8</td>\n",
       "      <td>3</td>\n",
       "    </tr>\n",
       "    <tr>\n",
       "      <th>7</th>\n",
       "      <td>Добавить форму подписки на все основные страницы, чтобы собрать базу клиентов для email-рассылок</td>\n",
       "      <td>10</td>\n",
       "      <td>7</td>\n",
       "      <td>8</td>\n",
       "      <td>5</td>\n",
       "    </tr>\n",
       "    <tr>\n",
       "      <th>8</th>\n",
       "      <td>Запустить акцию, дающую скидку на товар в день рождения</td>\n",
       "      <td>1</td>\n",
       "      <td>9</td>\n",
       "      <td>9</td>\n",
       "      <td>5</td>\n",
       "    </tr>\n",
       "  </tbody>\n",
       "</table>\n",
       "</div>"
      ],
      "text/plain": [
       "                                                                                                     Hypothesis  \\\n",
       "0  Добавить два новых канала привлечения трафика, что позволит привлекать на 30% больше пользователей             \n",
       "1  Запустить собственную службу доставки, что сократит срок доставки заказов                                      \n",
       "2  Добавить блоки рекомендаций товаров на сайт интернет магазина, чтобы повысить конверсию и средний чек заказа   \n",
       "3  Изменить структура категорий, что увеличит конверсию, т.к. пользователи быстрее найдут нужный товар            \n",
       "4  Изменить цвет фона главной страницы, чтобы увеличить вовлеченность пользователей                               \n",
       "5  Добавить страницу отзывов клиентов о магазине, что позволит увеличить количество заказов                       \n",
       "6  Показать на главной странице баннеры с актуальными акциями и распродажами, чтобы увеличить конверсию           \n",
       "7  Добавить форму подписки на все основные страницы, чтобы собрать базу клиентов для email-рассылок               \n",
       "8  Запустить акцию, дающую скидку на товар в день рождения                                                        \n",
       "\n",
       "   Reach  Impact  Confidence  Efforts  \n",
       "0  3      10      8           6        \n",
       "1  2      5       4           10       \n",
       "2  8      3       7           3        \n",
       "3  8      3       3           8        \n",
       "4  3      1       1           1        \n",
       "5  3      2       2           3        \n",
       "6  5      3       8           3        \n",
       "7  10     7       8           5        \n",
       "8  1      9       9           5        "
      ]
     },
     "execution_count": 3,
     "metadata": {},
     "output_type": "execute_result"
    }
   ],
   "source": [
    "hypothesis"
   ]
  },
  {
   "cell_type": "code",
   "execution_count": 4,
   "metadata": {},
   "outputs": [],
   "source": [
    "# Приведем названия столбцов к хорошему стилю\n",
    "hypothesis.columns = [column.lower() for column in hypothesis.columns]"
   ]
  },
  {
   "cell_type": "code",
   "execution_count": 5,
   "metadata": {},
   "outputs": [
    {
     "data": {
      "text/html": [
       "<div>\n",
       "<style scoped>\n",
       "    .dataframe tbody tr th:only-of-type {\n",
       "        vertical-align: middle;\n",
       "    }\n",
       "\n",
       "    .dataframe tbody tr th {\n",
       "        vertical-align: top;\n",
       "    }\n",
       "\n",
       "    .dataframe thead th {\n",
       "        text-align: right;\n",
       "    }\n",
       "</style>\n",
       "<table border=\"1\" class=\"dataframe\">\n",
       "  <thead>\n",
       "    <tr style=\"text-align: right;\">\n",
       "      <th></th>\n",
       "      <th>hypothesis</th>\n",
       "      <th>ICE</th>\n",
       "    </tr>\n",
       "  </thead>\n",
       "  <tbody>\n",
       "    <tr>\n",
       "      <th>8</th>\n",
       "      <td>Запустить акцию, дающую скидку на товар в день рождения</td>\n",
       "      <td>16.20</td>\n",
       "    </tr>\n",
       "    <tr>\n",
       "      <th>0</th>\n",
       "      <td>Добавить два новых канала привлечения трафика, что позволит привлекать на 30% больше пользователей</td>\n",
       "      <td>13.33</td>\n",
       "    </tr>\n",
       "    <tr>\n",
       "      <th>7</th>\n",
       "      <td>Добавить форму подписки на все основные страницы, чтобы собрать базу клиентов для email-рассылок</td>\n",
       "      <td>11.20</td>\n",
       "    </tr>\n",
       "    <tr>\n",
       "      <th>6</th>\n",
       "      <td>Показать на главной странице баннеры с актуальными акциями и распродажами, чтобы увеличить конверсию</td>\n",
       "      <td>8.00</td>\n",
       "    </tr>\n",
       "    <tr>\n",
       "      <th>2</th>\n",
       "      <td>Добавить блоки рекомендаций товаров на сайт интернет магазина, чтобы повысить конверсию и средний чек заказа</td>\n",
       "      <td>7.00</td>\n",
       "    </tr>\n",
       "    <tr>\n",
       "      <th>1</th>\n",
       "      <td>Запустить собственную службу доставки, что сократит срок доставки заказов</td>\n",
       "      <td>2.00</td>\n",
       "    </tr>\n",
       "    <tr>\n",
       "      <th>5</th>\n",
       "      <td>Добавить страницу отзывов клиентов о магазине, что позволит увеличить количество заказов</td>\n",
       "      <td>1.33</td>\n",
       "    </tr>\n",
       "    <tr>\n",
       "      <th>3</th>\n",
       "      <td>Изменить структура категорий, что увеличит конверсию, т.к. пользователи быстрее найдут нужный товар</td>\n",
       "      <td>1.12</td>\n",
       "    </tr>\n",
       "    <tr>\n",
       "      <th>4</th>\n",
       "      <td>Изменить цвет фона главной страницы, чтобы увеличить вовлеченность пользователей</td>\n",
       "      <td>1.00</td>\n",
       "    </tr>\n",
       "  </tbody>\n",
       "</table>\n",
       "</div>"
      ],
      "text/plain": [
       "                                                                                                     hypothesis  \\\n",
       "8  Запустить акцию, дающую скидку на товар в день рождения                                                        \n",
       "0  Добавить два новых канала привлечения трафика, что позволит привлекать на 30% больше пользователей             \n",
       "7  Добавить форму подписки на все основные страницы, чтобы собрать базу клиентов для email-рассылок               \n",
       "6  Показать на главной странице баннеры с актуальными акциями и распродажами, чтобы увеличить конверсию           \n",
       "2  Добавить блоки рекомендаций товаров на сайт интернет магазина, чтобы повысить конверсию и средний чек заказа   \n",
       "1  Запустить собственную службу доставки, что сократит срок доставки заказов                                      \n",
       "5  Добавить страницу отзывов клиентов о магазине, что позволит увеличить количество заказов                       \n",
       "3  Изменить структура категорий, что увеличит конверсию, т.к. пользователи быстрее найдут нужный товар            \n",
       "4  Изменить цвет фона главной страницы, чтобы увеличить вовлеченность пользователей                               \n",
       "\n",
       "     ICE  \n",
       "8  16.20  \n",
       "0  13.33  \n",
       "7  11.20  \n",
       "6  8.00   \n",
       "2  7.00   \n",
       "1  2.00   \n",
       "5  1.33   \n",
       "3  1.12   \n",
       "4  1.00   "
      ]
     },
     "execution_count": 5,
     "metadata": {},
     "output_type": "execute_result"
    }
   ],
   "source": [
    "# Считаем параметр ICE\n",
    "hypothesis['ICE'] = round((hypothesis['impact']*hypothesis['confidence'])/hypothesis['efforts'],2)\n",
    "ICE = hypothesis[['hypothesis','ICE']].sort_values(by='ICE',ascending = False)\n",
    "ICE"
   ]
  },
  {
   "cell_type": "markdown",
   "metadata": {},
   "source": [
    "* Наиболее перспективные гипотезы по ICE: 8, 0, 7, 6 и 2."
   ]
  },
  {
   "cell_type": "code",
   "execution_count": 6,
   "metadata": {},
   "outputs": [
    {
     "data": {
      "text/html": [
       "<div>\n",
       "<style scoped>\n",
       "    .dataframe tbody tr th:only-of-type {\n",
       "        vertical-align: middle;\n",
       "    }\n",
       "\n",
       "    .dataframe tbody tr th {\n",
       "        vertical-align: top;\n",
       "    }\n",
       "\n",
       "    .dataframe thead th {\n",
       "        text-align: right;\n",
       "    }\n",
       "</style>\n",
       "<table border=\"1\" class=\"dataframe\">\n",
       "  <thead>\n",
       "    <tr style=\"text-align: right;\">\n",
       "      <th></th>\n",
       "      <th>hypothesis</th>\n",
       "      <th>RICE</th>\n",
       "    </tr>\n",
       "  </thead>\n",
       "  <tbody>\n",
       "    <tr>\n",
       "      <th>7</th>\n",
       "      <td>Добавить форму подписки на все основные страницы, чтобы собрать базу клиентов для email-рассылок</td>\n",
       "      <td>112.0</td>\n",
       "    </tr>\n",
       "    <tr>\n",
       "      <th>2</th>\n",
       "      <td>Добавить блоки рекомендаций товаров на сайт интернет магазина, чтобы повысить конверсию и средний чек заказа</td>\n",
       "      <td>56.0</td>\n",
       "    </tr>\n",
       "    <tr>\n",
       "      <th>0</th>\n",
       "      <td>Добавить два новых канала привлечения трафика, что позволит привлекать на 30% больше пользователей</td>\n",
       "      <td>40.0</td>\n",
       "    </tr>\n",
       "    <tr>\n",
       "      <th>6</th>\n",
       "      <td>Показать на главной странице баннеры с актуальными акциями и распродажами, чтобы увеличить конверсию</td>\n",
       "      <td>40.0</td>\n",
       "    </tr>\n",
       "    <tr>\n",
       "      <th>8</th>\n",
       "      <td>Запустить акцию, дающую скидку на товар в день рождения</td>\n",
       "      <td>16.2</td>\n",
       "    </tr>\n",
       "    <tr>\n",
       "      <th>3</th>\n",
       "      <td>Изменить структура категорий, что увеличит конверсию, т.к. пользователи быстрее найдут нужный товар</td>\n",
       "      <td>9.0</td>\n",
       "    </tr>\n",
       "    <tr>\n",
       "      <th>1</th>\n",
       "      <td>Запустить собственную службу доставки, что сократит срок доставки заказов</td>\n",
       "      <td>4.0</td>\n",
       "    </tr>\n",
       "    <tr>\n",
       "      <th>5</th>\n",
       "      <td>Добавить страницу отзывов клиентов о магазине, что позволит увеличить количество заказов</td>\n",
       "      <td>4.0</td>\n",
       "    </tr>\n",
       "    <tr>\n",
       "      <th>4</th>\n",
       "      <td>Изменить цвет фона главной страницы, чтобы увеличить вовлеченность пользователей</td>\n",
       "      <td>3.0</td>\n",
       "    </tr>\n",
       "  </tbody>\n",
       "</table>\n",
       "</div>"
      ],
      "text/plain": [
       "                                                                                                     hypothesis  \\\n",
       "7  Добавить форму подписки на все основные страницы, чтобы собрать базу клиентов для email-рассылок               \n",
       "2  Добавить блоки рекомендаций товаров на сайт интернет магазина, чтобы повысить конверсию и средний чек заказа   \n",
       "0  Добавить два новых канала привлечения трафика, что позволит привлекать на 30% больше пользователей             \n",
       "6  Показать на главной странице баннеры с актуальными акциями и распродажами, чтобы увеличить конверсию           \n",
       "8  Запустить акцию, дающую скидку на товар в день рождения                                                        \n",
       "3  Изменить структура категорий, что увеличит конверсию, т.к. пользователи быстрее найдут нужный товар            \n",
       "1  Запустить собственную службу доставки, что сократит срок доставки заказов                                      \n",
       "5  Добавить страницу отзывов клиентов о магазине, что позволит увеличить количество заказов                       \n",
       "4  Изменить цвет фона главной страницы, чтобы увеличить вовлеченность пользователей                               \n",
       "\n",
       "    RICE  \n",
       "7  112.0  \n",
       "2  56.0   \n",
       "0  40.0   \n",
       "6  40.0   \n",
       "8  16.2   \n",
       "3  9.0    \n",
       "1  4.0    \n",
       "5  4.0    \n",
       "4  3.0    "
      ]
     },
     "execution_count": 6,
     "metadata": {},
     "output_type": "execute_result"
    }
   ],
   "source": [
    "# Считаем параметр RICE\n",
    "hypothesis['RICE'] = (hypothesis['reach']*hypothesis['impact']*hypothesis['confidence'])/hypothesis['efforts']\n",
    "RICE = hypothesis[['hypothesis','RICE']].sort_values(by='RICE',ascending = False)\n",
    "RICE"
   ]
  },
  {
   "cell_type": "markdown",
   "metadata": {},
   "source": [
    "* Наиболее перспективные гипотезы по RICE: 7, 2, 0, 6 и 8."
   ]
  },
  {
   "cell_type": "code",
   "execution_count": 7,
   "metadata": {},
   "outputs": [
    {
     "data": {
      "text/html": [
       "<div>\n",
       "<style scoped>\n",
       "    .dataframe tbody tr th:only-of-type {\n",
       "        vertical-align: middle;\n",
       "    }\n",
       "\n",
       "    .dataframe tbody tr th {\n",
       "        vertical-align: top;\n",
       "    }\n",
       "\n",
       "    .dataframe thead th {\n",
       "        text-align: right;\n",
       "    }\n",
       "</style>\n",
       "<table border=\"1\" class=\"dataframe\">\n",
       "  <thead>\n",
       "    <tr style=\"text-align: right;\">\n",
       "      <th></th>\n",
       "      <th>hypothesis</th>\n",
       "      <th>reach</th>\n",
       "      <th>impact</th>\n",
       "      <th>confidence</th>\n",
       "      <th>efforts</th>\n",
       "      <th>ICE</th>\n",
       "      <th>RICE</th>\n",
       "    </tr>\n",
       "  </thead>\n",
       "  <tbody>\n",
       "    <tr>\n",
       "      <th>0</th>\n",
       "      <td>Добавить два новых канала привлечения трафика, что позволит привлекать на 30% больше пользователей</td>\n",
       "      <td>3</td>\n",
       "      <td>10</td>\n",
       "      <td>8</td>\n",
       "      <td>6</td>\n",
       "      <td>13.33</td>\n",
       "      <td>40.0</td>\n",
       "    </tr>\n",
       "    <tr>\n",
       "      <th>1</th>\n",
       "      <td>Запустить собственную службу доставки, что сократит срок доставки заказов</td>\n",
       "      <td>2</td>\n",
       "      <td>5</td>\n",
       "      <td>4</td>\n",
       "      <td>10</td>\n",
       "      <td>2.00</td>\n",
       "      <td>4.0</td>\n",
       "    </tr>\n",
       "    <tr>\n",
       "      <th>2</th>\n",
       "      <td>Добавить блоки рекомендаций товаров на сайт интернет магазина, чтобы повысить конверсию и средний чек заказа</td>\n",
       "      <td>8</td>\n",
       "      <td>3</td>\n",
       "      <td>7</td>\n",
       "      <td>3</td>\n",
       "      <td>7.00</td>\n",
       "      <td>56.0</td>\n",
       "    </tr>\n",
       "    <tr>\n",
       "      <th>3</th>\n",
       "      <td>Изменить структура категорий, что увеличит конверсию, т.к. пользователи быстрее найдут нужный товар</td>\n",
       "      <td>8</td>\n",
       "      <td>3</td>\n",
       "      <td>3</td>\n",
       "      <td>8</td>\n",
       "      <td>1.12</td>\n",
       "      <td>9.0</td>\n",
       "    </tr>\n",
       "    <tr>\n",
       "      <th>4</th>\n",
       "      <td>Изменить цвет фона главной страницы, чтобы увеличить вовлеченность пользователей</td>\n",
       "      <td>3</td>\n",
       "      <td>1</td>\n",
       "      <td>1</td>\n",
       "      <td>1</td>\n",
       "      <td>1.00</td>\n",
       "      <td>3.0</td>\n",
       "    </tr>\n",
       "    <tr>\n",
       "      <th>5</th>\n",
       "      <td>Добавить страницу отзывов клиентов о магазине, что позволит увеличить количество заказов</td>\n",
       "      <td>3</td>\n",
       "      <td>2</td>\n",
       "      <td>2</td>\n",
       "      <td>3</td>\n",
       "      <td>1.33</td>\n",
       "      <td>4.0</td>\n",
       "    </tr>\n",
       "    <tr>\n",
       "      <th>6</th>\n",
       "      <td>Показать на главной странице баннеры с актуальными акциями и распродажами, чтобы увеличить конверсию</td>\n",
       "      <td>5</td>\n",
       "      <td>3</td>\n",
       "      <td>8</td>\n",
       "      <td>3</td>\n",
       "      <td>8.00</td>\n",
       "      <td>40.0</td>\n",
       "    </tr>\n",
       "    <tr>\n",
       "      <th>7</th>\n",
       "      <td>Добавить форму подписки на все основные страницы, чтобы собрать базу клиентов для email-рассылок</td>\n",
       "      <td>10</td>\n",
       "      <td>7</td>\n",
       "      <td>8</td>\n",
       "      <td>5</td>\n",
       "      <td>11.20</td>\n",
       "      <td>112.0</td>\n",
       "    </tr>\n",
       "    <tr>\n",
       "      <th>8</th>\n",
       "      <td>Запустить акцию, дающую скидку на товар в день рождения</td>\n",
       "      <td>1</td>\n",
       "      <td>9</td>\n",
       "      <td>9</td>\n",
       "      <td>5</td>\n",
       "      <td>16.20</td>\n",
       "      <td>16.2</td>\n",
       "    </tr>\n",
       "  </tbody>\n",
       "</table>\n",
       "</div>"
      ],
      "text/plain": [
       "                                                                                                     hypothesis  \\\n",
       "0  Добавить два новых канала привлечения трафика, что позволит привлекать на 30% больше пользователей             \n",
       "1  Запустить собственную службу доставки, что сократит срок доставки заказов                                      \n",
       "2  Добавить блоки рекомендаций товаров на сайт интернет магазина, чтобы повысить конверсию и средний чек заказа   \n",
       "3  Изменить структура категорий, что увеличит конверсию, т.к. пользователи быстрее найдут нужный товар            \n",
       "4  Изменить цвет фона главной страницы, чтобы увеличить вовлеченность пользователей                               \n",
       "5  Добавить страницу отзывов клиентов о магазине, что позволит увеличить количество заказов                       \n",
       "6  Показать на главной странице баннеры с актуальными акциями и распродажами, чтобы увеличить конверсию           \n",
       "7  Добавить форму подписки на все основные страницы, чтобы собрать базу клиентов для email-рассылок               \n",
       "8  Запустить акцию, дающую скидку на товар в день рождения                                                        \n",
       "\n",
       "   reach  impact  confidence  efforts    ICE   RICE  \n",
       "0  3      10      8           6        13.33  40.0   \n",
       "1  2      5       4           10       2.00   4.0    \n",
       "2  8      3       7           3        7.00   56.0   \n",
       "3  8      3       3           8        1.12   9.0    \n",
       "4  3      1       1           1        1.00   3.0    \n",
       "5  3      2       2           3        1.33   4.0    \n",
       "6  5      3       8           3        8.00   40.0   \n",
       "7  10     7       8           5        11.20  112.0  \n",
       "8  1      9       9           5        16.20  16.2   "
      ]
     },
     "execution_count": 7,
     "metadata": {},
     "output_type": "execute_result"
    }
   ],
   "source": [
    "hypothesis"
   ]
  },
  {
   "cell_type": "markdown",
   "metadata": {},
   "source": [
    "**Вывод:**\n",
    "\n",
    "* Наиболее перспективные гипотезы, которые попали в топ 5 в ICE и RICE это 7, 2, 0, 6 и 8. Разная последовательность приоретизации в ICE и RICE т.к. RICE так же учитывает охват аудитории (`reach`) на которую подействуют изменения;"
   ]
  },
  {
   "cell_type": "markdown",
   "metadata": {},
   "source": [
    "## Анализ A/B-теста"
   ]
  },
  {
   "cell_type": "code",
   "execution_count": 8,
   "metadata": {},
   "outputs": [],
   "source": [
    "# Открываем файлы с результатами А/В теста\n",
    "\n",
    "visitors = pd.read_csv('C:\\\\StudentYandex\\\\Projekts\\\\Python\\\\Project7hipotiziz\\\\visitors.csv')\n",
    "orders = pd.read_csv('C:\\\\StudentYandex\\\\Projekts\\\\Python\\\\Project7hipotiziz\\\\orders.csv')"
   ]
  },
  {
   "cell_type": "code",
   "execution_count": 9,
   "metadata": {},
   "outputs": [],
   "source": [
    "# Преобразовываем столбцы с датой\n",
    "visitors['date'] = visitors['date'].map(\n",
    "    lambda x: dt.datetime.strptime(x, '%Y-%m-%d')\n",
    ")\n",
    "orders['date'] = orders['date'].map(\n",
    "    lambda x: dt.datetime.strptime(x, '%Y-%m-%d')\n",
    ")"
   ]
  },
  {
   "cell_type": "code",
   "execution_count": 10,
   "metadata": {},
   "outputs": [
    {
     "data": {
      "text/html": [
       "<div>\n",
       "<style scoped>\n",
       "    .dataframe tbody tr th:only-of-type {\n",
       "        vertical-align: middle;\n",
       "    }\n",
       "\n",
       "    .dataframe tbody tr th {\n",
       "        vertical-align: top;\n",
       "    }\n",
       "\n",
       "    .dataframe thead th {\n",
       "        text-align: right;\n",
       "    }\n",
       "</style>\n",
       "<table border=\"1\" class=\"dataframe\">\n",
       "  <thead>\n",
       "    <tr style=\"text-align: right;\">\n",
       "      <th></th>\n",
       "      <th>date</th>\n",
       "      <th>group</th>\n",
       "      <th>visitors</th>\n",
       "    </tr>\n",
       "  </thead>\n",
       "  <tbody>\n",
       "    <tr>\n",
       "      <th>0</th>\n",
       "      <td>2019-08-01</td>\n",
       "      <td>A</td>\n",
       "      <td>719</td>\n",
       "    </tr>\n",
       "    <tr>\n",
       "      <th>1</th>\n",
       "      <td>2019-08-02</td>\n",
       "      <td>A</td>\n",
       "      <td>619</td>\n",
       "    </tr>\n",
       "    <tr>\n",
       "      <th>2</th>\n",
       "      <td>2019-08-03</td>\n",
       "      <td>A</td>\n",
       "      <td>507</td>\n",
       "    </tr>\n",
       "    <tr>\n",
       "      <th>3</th>\n",
       "      <td>2019-08-04</td>\n",
       "      <td>A</td>\n",
       "      <td>717</td>\n",
       "    </tr>\n",
       "    <tr>\n",
       "      <th>4</th>\n",
       "      <td>2019-08-05</td>\n",
       "      <td>A</td>\n",
       "      <td>756</td>\n",
       "    </tr>\n",
       "  </tbody>\n",
       "</table>\n",
       "</div>"
      ],
      "text/plain": [
       "        date group  visitors\n",
       "0 2019-08-01  A     719     \n",
       "1 2019-08-02  A     619     \n",
       "2 2019-08-03  A     507     \n",
       "3 2019-08-04  A     717     \n",
       "4 2019-08-05  A     756     "
      ]
     },
     "execution_count": 10,
     "metadata": {},
     "output_type": "execute_result"
    }
   ],
   "source": [
    "visitors.head()"
   ]
  },
  {
   "cell_type": "code",
   "execution_count": 11,
   "metadata": {
    "scrolled": true
   },
   "outputs": [
    {
     "data": {
      "text/html": [
       "<div>\n",
       "<style scoped>\n",
       "    .dataframe tbody tr th:only-of-type {\n",
       "        vertical-align: middle;\n",
       "    }\n",
       "\n",
       "    .dataframe tbody tr th {\n",
       "        vertical-align: top;\n",
       "    }\n",
       "\n",
       "    .dataframe thead th {\n",
       "        text-align: right;\n",
       "    }\n",
       "</style>\n",
       "<table border=\"1\" class=\"dataframe\">\n",
       "  <thead>\n",
       "    <tr style=\"text-align: right;\">\n",
       "      <th></th>\n",
       "      <th>transactionId</th>\n",
       "      <th>visitorId</th>\n",
       "      <th>date</th>\n",
       "      <th>revenue</th>\n",
       "      <th>group</th>\n",
       "    </tr>\n",
       "  </thead>\n",
       "  <tbody>\n",
       "    <tr>\n",
       "      <th>0</th>\n",
       "      <td>3667963787</td>\n",
       "      <td>3312258926</td>\n",
       "      <td>2019-08-15</td>\n",
       "      <td>1650</td>\n",
       "      <td>B</td>\n",
       "    </tr>\n",
       "    <tr>\n",
       "      <th>1</th>\n",
       "      <td>2804400009</td>\n",
       "      <td>3642806036</td>\n",
       "      <td>2019-08-15</td>\n",
       "      <td>730</td>\n",
       "      <td>B</td>\n",
       "    </tr>\n",
       "    <tr>\n",
       "      <th>2</th>\n",
       "      <td>2961555356</td>\n",
       "      <td>4069496402</td>\n",
       "      <td>2019-08-15</td>\n",
       "      <td>400</td>\n",
       "      <td>A</td>\n",
       "    </tr>\n",
       "    <tr>\n",
       "      <th>3</th>\n",
       "      <td>3797467345</td>\n",
       "      <td>1196621759</td>\n",
       "      <td>2019-08-15</td>\n",
       "      <td>9759</td>\n",
       "      <td>B</td>\n",
       "    </tr>\n",
       "    <tr>\n",
       "      <th>4</th>\n",
       "      <td>2282983706</td>\n",
       "      <td>2322279887</td>\n",
       "      <td>2019-08-15</td>\n",
       "      <td>2308</td>\n",
       "      <td>B</td>\n",
       "    </tr>\n",
       "  </tbody>\n",
       "</table>\n",
       "</div>"
      ],
      "text/plain": [
       "   transactionId   visitorId       date  revenue group\n",
       "0  3667963787     3312258926 2019-08-15  1650     B   \n",
       "1  2804400009     3642806036 2019-08-15  730      B   \n",
       "2  2961555356     4069496402 2019-08-15  400      A   \n",
       "3  3797467345     1196621759 2019-08-15  9759     B   \n",
       "4  2282983706     2322279887 2019-08-15  2308     B   "
      ]
     },
     "execution_count": 11,
     "metadata": {},
     "output_type": "execute_result"
    }
   ],
   "source": [
    "orders.head()"
   ]
  },
  {
   "cell_type": "markdown",
   "metadata": {},
   "source": [
    "#### Проведем предобработку данных"
   ]
  },
  {
   "cell_type": "code",
   "execution_count": 12,
   "metadata": {
    "scrolled": false
   },
   "outputs": [
    {
     "name": "stdout",
     "output_type": "stream",
     "text": [
      "<class 'pandas.core.frame.DataFrame'>\n",
      "RangeIndex: 1197 entries, 0 to 1196\n",
      "Data columns (total 5 columns):\n",
      " #   Column         Non-Null Count  Dtype         \n",
      "---  ------         --------------  -----         \n",
      " 0   transactionId  1197 non-null   int64         \n",
      " 1   visitorId      1197 non-null   int64         \n",
      " 2   date           1197 non-null   datetime64[ns]\n",
      " 3   revenue        1197 non-null   int64         \n",
      " 4   group          1197 non-null   object        \n",
      "dtypes: datetime64[ns](1), int64(3), object(1)\n",
      "memory usage: 46.9+ KB\n"
     ]
    },
    {
     "data": {
      "text/plain": [
       "None"
      ]
     },
     "metadata": {},
     "output_type": "display_data"
    },
    {
     "data": {
      "text/plain": [
       "0"
      ]
     },
     "metadata": {},
     "output_type": "display_data"
    },
    {
     "data": {
      "text/plain": [
       "transactionId    0\n",
       "visitorId        0\n",
       "date             0\n",
       "revenue          0\n",
       "group            0\n",
       "dtype: int64"
      ]
     },
     "execution_count": 12,
     "metadata": {},
     "output_type": "execute_result"
    }
   ],
   "source": [
    "display(orders.info()) # Получаем информацию о таблице\n",
    "display(orders.duplicated().sum()) # Проверяем количество дубликатов\n",
    "orders.isna().sum() # Проверяем количество пропусков в каждом столбце"
   ]
  },
  {
   "cell_type": "code",
   "execution_count": 13,
   "metadata": {},
   "outputs": [
    {
     "name": "stdout",
     "output_type": "stream",
     "text": [
      "<class 'pandas.core.frame.DataFrame'>\n",
      "RangeIndex: 62 entries, 0 to 61\n",
      "Data columns (total 3 columns):\n",
      " #   Column    Non-Null Count  Dtype         \n",
      "---  ------    --------------  -----         \n",
      " 0   date      62 non-null     datetime64[ns]\n",
      " 1   group     62 non-null     object        \n",
      " 2   visitors  62 non-null     int64         \n",
      "dtypes: datetime64[ns](1), int64(1), object(1)\n",
      "memory usage: 1.6+ KB\n"
     ]
    },
    {
     "data": {
      "text/plain": [
       "None"
      ]
     },
     "metadata": {},
     "output_type": "display_data"
    },
    {
     "data": {
      "text/plain": [
       "0"
      ]
     },
     "metadata": {},
     "output_type": "display_data"
    },
    {
     "data": {
      "text/plain": [
       "date        0\n",
       "group       0\n",
       "visitors    0\n",
       "dtype: int64"
      ]
     },
     "execution_count": 13,
     "metadata": {},
     "output_type": "execute_result"
    }
   ],
   "source": [
    "display(visitors.info()) # Получаем информацию о таблице\n",
    "display(visitors.duplicated().sum()) # Проверяем количество дубликатов\n",
    "visitors.isna().sum() # Проверяем количество пропусков в каждом столбце"
   ]
  },
  {
   "cell_type": "markdown",
   "metadata": {},
   "source": [
    "**Вывод:**\n",
    "\n",
    "* Пропуски и дибликаты в таблицах отсутствуют, что не может не радовать.\n"
   ]
  },
  {
   "cell_type": "code",
   "execution_count": 14,
   "metadata": {},
   "outputs": [],
   "source": [
    "# создаем массив уникальных пар значений дат и групп теста\n",
    "datesGroups = orders[['date','group']].drop_duplicates() "
   ]
  },
  {
   "cell_type": "code",
   "execution_count": 15,
   "metadata": {},
   "outputs": [],
   "source": [
    "# cобираем агрегированные кумулятивные по дням данные о заказах\n",
    "ordersAggregated = datesGroups.apply(lambda x: orders[np.logical_and(orders['date'] <= x['date'], orders['group'] == x['group'])]\\\n",
    ".agg({'date' : 'max', 'group' : 'max', 'transactionId' : 'nunique', 'visitorId' : 'nunique', 'revenue' : 'sum'}), axis=1).sort_values(by=['date','group'])"
   ]
  },
  {
   "cell_type": "code",
   "execution_count": 16,
   "metadata": {},
   "outputs": [],
   "source": [
    "# Аналогично получим агрегированные кумулятивные по дням данные о посетителях интернет-магазина\n",
    "visitorsAggregated = datesGroups.apply(lambda x: visitors[np.logical_and(visitors['date'] <= x['date'], visitors['group'] == x['group'])].agg({'date' : 'max', 'group' : 'max', 'visitors' : 'sum'}), axis=1).sort_values(by=['date','group'])"
   ]
  },
  {
   "cell_type": "code",
   "execution_count": 17,
   "metadata": {},
   "outputs": [
    {
     "data": {
      "text/html": [
       "<div>\n",
       "<style scoped>\n",
       "    .dataframe tbody tr th:only-of-type {\n",
       "        vertical-align: middle;\n",
       "    }\n",
       "\n",
       "    .dataframe tbody tr th {\n",
       "        vertical-align: top;\n",
       "    }\n",
       "\n",
       "    .dataframe thead th {\n",
       "        text-align: right;\n",
       "    }\n",
       "</style>\n",
       "<table border=\"1\" class=\"dataframe\">\n",
       "  <thead>\n",
       "    <tr style=\"text-align: right;\">\n",
       "      <th></th>\n",
       "      <th>date</th>\n",
       "      <th>group</th>\n",
       "      <th>orders</th>\n",
       "      <th>buyers</th>\n",
       "      <th>revenue</th>\n",
       "      <th>visitors</th>\n",
       "    </tr>\n",
       "  </thead>\n",
       "  <tbody>\n",
       "    <tr>\n",
       "      <th>0</th>\n",
       "      <td>2019-08-01</td>\n",
       "      <td>A</td>\n",
       "      <td>24</td>\n",
       "      <td>20</td>\n",
       "      <td>148579</td>\n",
       "      <td>719</td>\n",
       "    </tr>\n",
       "    <tr>\n",
       "      <th>1</th>\n",
       "      <td>2019-08-01</td>\n",
       "      <td>B</td>\n",
       "      <td>21</td>\n",
       "      <td>20</td>\n",
       "      <td>101217</td>\n",
       "      <td>713</td>\n",
       "    </tr>\n",
       "    <tr>\n",
       "      <th>2</th>\n",
       "      <td>2019-08-02</td>\n",
       "      <td>A</td>\n",
       "      <td>44</td>\n",
       "      <td>38</td>\n",
       "      <td>242401</td>\n",
       "      <td>1338</td>\n",
       "    </tr>\n",
       "    <tr>\n",
       "      <th>3</th>\n",
       "      <td>2019-08-02</td>\n",
       "      <td>B</td>\n",
       "      <td>45</td>\n",
       "      <td>43</td>\n",
       "      <td>266748</td>\n",
       "      <td>1294</td>\n",
       "    </tr>\n",
       "    <tr>\n",
       "      <th>4</th>\n",
       "      <td>2019-08-03</td>\n",
       "      <td>A</td>\n",
       "      <td>68</td>\n",
       "      <td>62</td>\n",
       "      <td>354874</td>\n",
       "      <td>1845</td>\n",
       "    </tr>\n",
       "  </tbody>\n",
       "</table>\n",
       "</div>"
      ],
      "text/plain": [
       "        date group  orders  buyers  revenue  visitors\n",
       "0 2019-08-01  A     24      20      148579   719     \n",
       "1 2019-08-01  B     21      20      101217   713     \n",
       "2 2019-08-02  A     44      38      242401   1338    \n",
       "3 2019-08-02  B     45      43      266748   1294    \n",
       "4 2019-08-03  A     68      62      354874   1845    "
      ]
     },
     "execution_count": 17,
     "metadata": {},
     "output_type": "execute_result"
    }
   ],
   "source": [
    "# объединяем кумулятивные данные в одной таблице и присваиваем ее столбцам понятные названия\n",
    "cumulativeData = ordersAggregated.merge(visitorsAggregated, left_on=['date', 'group'], right_on=['date', 'group'])\n",
    "cumulativeData.columns = ['date', 'group', 'orders', 'buyers', 'revenue', 'visitors']\n",
    "\n",
    "cumulativeData.head(5)"
   ]
  },
  {
   "cell_type": "markdown",
   "metadata": {},
   "source": [
    "### **Построим графики кумулятивной выручки по дням и группам A/B-тестирования:**"
   ]
  },
  {
   "cell_type": "code",
   "execution_count": 18,
   "metadata": {},
   "outputs": [
    {
     "data": {
      "image/png": "[encoded data removed]",
      "text/plain": [
       "<Figure size 1600x1000 with 1 Axes>"
      ]
     },
     "metadata": {},
     "output_type": "display_data"
    }
   ],
   "source": [
    "# датафрейм с кумулятивным количеством заказов и кумулятивной выручкой по дням в группе А\n",
    "cumulativeRevenueA = cumulativeData[cumulativeData['group']=='A'][['date','revenue', 'orders']]\n",
    "\n",
    "# датафрейм с кумулятивным количеством заказов и кумулятивной выручкой по дням в группе B\n",
    "cumulativeRevenueB = cumulativeData[cumulativeData['group']=='B'][['date','revenue', 'orders']]\n",
    "\n",
    "plt.figure(figsize=(16, 10))\n",
    "# Строим график выручки группы А\n",
    "plt.plot(cumulativeRevenueA['date'], cumulativeRevenueA['revenue'], label='A')\n",
    "\n",
    "# Строим график выручки группы B\n",
    "plt.plot(cumulativeRevenueB['date'], cumulativeRevenueB['revenue'], label='B')\n",
    "plt.legend() \n",
    "plt.title('Кумулятивная выручка по дням и группам A/B-тестирования')\n",
    "plt.xlabel('Дни')\n",
    "plt.ylabel('Выручка')\n",
    "plt.show()"
   ]
  },
  {
   "cell_type": "markdown",
   "metadata": {},
   "source": [
    "* Выручка почти равномерно увеличивается в течение всего теста. Хороший знак;\n",
    "* График выручки `группы B` в одной точке резко растет. Это может сигнализировать о всплесках числа заказов, либо о появлении очень дорогих заказов в выборке. "
   ]
  },
  {
   "cell_type": "markdown",
   "metadata": {},
   "source": [
    "### **Построим графики среднего чека по группам — разделим кумулятивную выручку на кумулятивное число заказов**"
   ]
  },
  {
   "cell_type": "code",
   "execution_count": 19,
   "metadata": {},
   "outputs": [
    {
     "data": {
      "image/png": "[encoded data removed]",
      "text/plain": [
       "<Figure size 1600x1000 with 1 Axes>"
      ]
     },
     "metadata": {},
     "output_type": "display_data"
    }
   ],
   "source": [
    "plt.figure(figsize=(16, 10))\n",
    "plt.plot(cumulativeRevenueA['date'], cumulativeRevenueA['revenue']/cumulativeRevenueA['orders'], label='A')\n",
    "plt.plot(cumulativeRevenueB['date'], cumulativeRevenueB['revenue']/cumulativeRevenueB['orders'], label='B')\n",
    "plt.legend()\n",
    "plt.title('Средний чек по дням и группам A/B-тестирования')\n",
    "plt.xlabel('Дни')\n",
    "plt.ylabel('Средний чек')\n",
    "plt.show()"
   ]
  },
  {
   "cell_type": "markdown",
   "metadata": {},
   "source": [
    "* Cредний чек тоже становится равномерным ближе к концу теста: установился для группы A и для группы B. Возможно, в группу B во второй половине теста попали крупные заказы (резкий всплеск на графике). Тогда ей нужно больше данных, чтобы прийти к реальному среднему чеку и установиться на его уровне."
   ]
  },
  {
   "cell_type": "markdown",
   "metadata": {},
   "source": [
    "### **Построим график относительного изменения кумулятивного среднего чека группы B к группе A**"
   ]
  },
  {
   "cell_type": "code",
   "execution_count": 20,
   "metadata": {},
   "outputs": [
    {
     "data": {
      "image/png": "[encoded data removed]",
      "text/plain": [
       "<Figure size 1600x1000 with 1 Axes>"
      ]
     },
     "metadata": {},
     "output_type": "display_data"
    }
   ],
   "source": [
    "# собираем данные в одном датафрейме\n",
    "mergedCumulativeRevenue = cumulativeRevenueA.merge(cumulativeRevenueB, left_on='date', right_on='date', how='left', suffixes=['A', 'B'])\n",
    "\n",
    "plt.figure(figsize=(16, 10))\n",
    "# cтроим отношение средних чеков\n",
    "plt.plot(mergedCumulativeRevenue['date'], (mergedCumulativeRevenue['revenueB']/mergedCumulativeRevenue['ordersB'])/(mergedCumulativeRevenue['revenueA']/mergedCumulativeRevenue['ordersA'])-1)\n",
    "\n",
    "# добавляем ось X\n",
    "plt.axhline(y=0, color='black', linestyle='--')\n",
    "plt.title('Относительное изменение кумулятивного среднего чека группы B к группе A')\n",
    "plt.xlabel('Дни')\n",
    "plt.ylabel('Относительное изменение')\n",
    "plt.show()"
   ]
  },
  {
   "cell_type": "markdown",
   "metadata": {},
   "source": [
    "* В нескольких точках график различия между сегментами резко «скачет». Где-то уж точно спрятались крупные заказы и выбросы;"
   ]
  },
  {
   "cell_type": "markdown",
   "metadata": {},
   "source": [
    "### **Построим график кумулятивного среднего количества заказов на посетителя по группам. Проанализируем график**"
   ]
  },
  {
   "cell_type": "code",
   "execution_count": 21,
   "metadata": {},
   "outputs": [
    {
     "data": {
      "image/png": "[encoded data removed]",
      "text/plain": [
       "<Figure size 1600x1000 with 1 Axes>"
      ]
     },
     "metadata": {},
     "output_type": "display_data"
    }
   ],
   "source": [
    "# считаем кумулятивное количество заказов\n",
    "cumulativeData['conversion'] = cumulativeData['orders']/cumulativeData['visitors']\n",
    "\n",
    "# отделяем данные по группе A\n",
    "cumulativeDataA = cumulativeData[cumulativeData['group']=='A']\n",
    "\n",
    "# отделяем данные по группе B\n",
    "cumulativeDataB = cumulativeData[cumulativeData['group']=='B']\n",
    "\n",
    "plt.figure(figsize=(16, 10))\n",
    "# строим графики\n",
    "plt.plot(cumulativeDataA['date'], cumulativeDataA['conversion'], label='A')\n",
    "plt.plot(cumulativeDataB['date'], cumulativeDataB['conversion'], label='B')\n",
    "plt.legend()\n",
    "plt.title('Кумулятивное среднее количество заказов на посетителя по группам')\n",
    "plt.xlabel('Дни')\n",
    "plt.ylabel('Кумулятивное среднее количества заказов')\n",
    "# задаем масштаб осей\n",
    "plt.axis([dt.datetime(2019, 8, 1), dt.datetime(2019, 9, 1), 0, 0.07])\n",
    "plt.show()"
   ]
  },
  {
   "cell_type": "markdown",
   "metadata": {},
   "source": [
    "* Группы сильно колебались в первые 6 дней теста, но затем количество заказов группы В вырвалась вперёд и зафиксировалась, а количество заказов группы А просела и также зафиксировалась."
   ]
  },
  {
   "cell_type": "markdown",
   "metadata": {},
   "source": [
    "### **Построим график относительного изменения кумулятивного среднего количества заказов на посетителя группы B к группе A**"
   ]
  },
  {
   "cell_type": "code",
   "execution_count": 22,
   "metadata": {
    "scrolled": false
   },
   "outputs": [
    {
     "data": {
      "image/png": "[encoded data removed]",
      "text/plain": [
       "<Figure size 1600x1000 with 1 Axes>"
      ]
     },
     "metadata": {},
     "output_type": "display_data"
    }
   ],
   "source": [
    "mergedCumulativeConversions = cumulativeDataA[['date','conversion']].merge(cumulativeDataB[['date','conversion']], left_on='date', right_on='date', how='left', suffixes=['A', 'B'])\n",
    "\n",
    "plt.figure(figsize=(16, 10))\n",
    "plt.plot(mergedCumulativeConversions['date'], mergedCumulativeConversions['conversionB']/mergedCumulativeConversions['conversionA']-1, label=\"Относительный прирост количества заказов группы B относительно группы A\")\n",
    "plt.legend()\n",
    "plt.title('Относительное изменение кумулятивного среднего количества заказов на посетителя группы B к группе A')\n",
    "plt.xlabel('Дни')\n",
    "plt.ylabel('Относительное изменение группы B к группе A')\n",
    "plt.axhline(y=0, color='black', linestyle='--')\n",
    "plt.axhline(y= 0.14, color='grey', linestyle='--')\n",
    "plt.axis([dt.datetime(2019, 8, 1), dt.datetime(2019, 9, 1), -0.25, 0.25]) \n",
    "plt.show()"
   ]
  },
  {
   "cell_type": "markdown",
   "metadata": {},
   "source": [
    "* В начале теста группа B \"проигрывала\" группе A, затем вырвалась вперёд и снова ушла в минус. После 6 дня эксперимента её количество заказов сильно пошла вверх, и стала снижатся и зафиксировалась на росте.\n",
    "* Проанализируем аномалии, возможно, они изменят картину."
   ]
  },
  {
   "cell_type": "markdown",
   "metadata": {},
   "source": [
    "### **Построим точечный график количества заказов по пользователям.**"
   ]
  },
  {
   "cell_type": "code",
   "execution_count": 23,
   "metadata": {},
   "outputs": [
    {
     "data": {
      "text/html": [
       "<div>\n",
       "<style scoped>\n",
       "    .dataframe tbody tr th:only-of-type {\n",
       "        vertical-align: middle;\n",
       "    }\n",
       "\n",
       "    .dataframe tbody tr th {\n",
       "        vertical-align: top;\n",
       "    }\n",
       "\n",
       "    .dataframe thead th {\n",
       "        text-align: right;\n",
       "    }\n",
       "</style>\n",
       "<table border=\"1\" class=\"dataframe\">\n",
       "  <thead>\n",
       "    <tr style=\"text-align: right;\">\n",
       "      <th></th>\n",
       "      <th>userId</th>\n",
       "      <th>orders</th>\n",
       "    </tr>\n",
       "  </thead>\n",
       "  <tbody>\n",
       "    <tr>\n",
       "      <th>1023</th>\n",
       "      <td>4256040402</td>\n",
       "      <td>11</td>\n",
       "    </tr>\n",
       "    <tr>\n",
       "      <th>591</th>\n",
       "      <td>2458001652</td>\n",
       "      <td>11</td>\n",
       "    </tr>\n",
       "    <tr>\n",
       "      <th>569</th>\n",
       "      <td>2378935119</td>\n",
       "      <td>9</td>\n",
       "    </tr>\n",
       "    <tr>\n",
       "      <th>487</th>\n",
       "      <td>2038680547</td>\n",
       "      <td>8</td>\n",
       "    </tr>\n",
       "    <tr>\n",
       "      <th>44</th>\n",
       "      <td>199603092</td>\n",
       "      <td>5</td>\n",
       "    </tr>\n",
       "    <tr>\n",
       "      <th>744</th>\n",
       "      <td>3062433592</td>\n",
       "      <td>5</td>\n",
       "    </tr>\n",
       "    <tr>\n",
       "      <th>55</th>\n",
       "      <td>237748145</td>\n",
       "      <td>5</td>\n",
       "    </tr>\n",
       "    <tr>\n",
       "      <th>917</th>\n",
       "      <td>3803269165</td>\n",
       "      <td>5</td>\n",
       "    </tr>\n",
       "    <tr>\n",
       "      <th>299</th>\n",
       "      <td>1230306981</td>\n",
       "      <td>5</td>\n",
       "    </tr>\n",
       "    <tr>\n",
       "      <th>897</th>\n",
       "      <td>3717692402</td>\n",
       "      <td>5</td>\n",
       "    </tr>\n",
       "  </tbody>\n",
       "</table>\n",
       "</div>"
      ],
      "text/plain": [
       "          userId  orders\n",
       "1023  4256040402  11    \n",
       "591   2458001652  11    \n",
       "569   2378935119  9     \n",
       "487   2038680547  8     \n",
       "44    199603092   5     \n",
       "744   3062433592  5     \n",
       "55    237748145   5     \n",
       "917   3803269165  5     \n",
       "299   1230306981  5     \n",
       "897   3717692402  5     "
      ]
     },
     "execution_count": 23,
     "metadata": {},
     "output_type": "execute_result"
    }
   ],
   "source": [
    "ordersByUsers = (\n",
    "    orders.groupby('visitorId', as_index=False)\n",
    "    .agg({'transactionId': 'nunique'})\n",
    ")\n",
    "\n",
    "ordersByUsers.columns = ['userId', 'orders']\n",
    "ordersByUsers.sort_values(by='orders', ascending=False).head(10)"
   ]
  },
  {
   "cell_type": "code",
   "execution_count": 24,
   "metadata": {},
   "outputs": [
    {
     "data": {
      "image/png": "[encoded data removed]",
      "text/plain": [
       "<Figure size 1600x1000 with 1 Axes>"
      ]
     },
     "metadata": {},
     "output_type": "display_data"
    }
   ],
   "source": [
    "# строим точечную диаграмму числа заказов на одного пользователя\n",
    "x_values = pd.Series(range(0,len(ordersByUsers)))\n",
    "plt.figure(figsize=(16, 10))\n",
    "plt.scatter(x_values, ordersByUsers['orders']) \n",
    "plt.title('Точечная диаграмма числа заказов на одного пользователя')\n",
    "plt.xlabel('Пользователи')\n",
    "plt.ylabel('Количество заказов')\n",
    "plt.show()"
   ]
  },
  {
   "cell_type": "markdown",
   "metadata": {},
   "source": [
    "* Много пользователей с 1-3 заказами. Их точная доля не ясна — непонятно, считать их аномалиями или нет. "
   ]
  },
  {
   "cell_type": "markdown",
   "metadata": {},
   "source": [
    "### Посчитаем выборочные перцентили количества заказов на одного пользователя:"
   ]
  },
  {
   "cell_type": "code",
   "execution_count": 25,
   "metadata": {},
   "outputs": [
    {
     "data": {
      "text/plain": [
       "array([2., 4.])"
      ]
     },
     "execution_count": 25,
     "metadata": {},
     "output_type": "execute_result"
    }
   ],
   "source": [
    "np.percentile(ordersByUsers['orders'], [95, 99])"
   ]
  },
  {
   "cell_type": "markdown",
   "metadata": {},
   "source": [
    "* Не более 5% пользователей оформляли больше чем 2 заказ. И 1 % пользователей заказывали более четырех раз. \n",
    "* Разумно выбрать 3 заказа на одного пользователя за верхнюю границу числа заказов, и отсеять аномальных пользователей по ней."
   ]
  },
  {
   "cell_type": "markdown",
   "metadata": {},
   "source": [
    "### Построим точечный график стоимостей заказов."
   ]
  },
  {
   "cell_type": "code",
   "execution_count": 26,
   "metadata": {},
   "outputs": [
    {
     "data": {
      "text/html": [
       "<div>\n",
       "<style scoped>\n",
       "    .dataframe tbody tr th:only-of-type {\n",
       "        vertical-align: middle;\n",
       "    }\n",
       "\n",
       "    .dataframe tbody tr th {\n",
       "        vertical-align: top;\n",
       "    }\n",
       "\n",
       "    .dataframe thead th {\n",
       "        text-align: right;\n",
       "    }\n",
       "</style>\n",
       "<table border=\"1\" class=\"dataframe\">\n",
       "  <thead>\n",
       "    <tr style=\"text-align: right;\">\n",
       "      <th></th>\n",
       "      <th>transactionId</th>\n",
       "      <th>visitorId</th>\n",
       "      <th>date</th>\n",
       "      <th>revenue</th>\n",
       "      <th>group</th>\n",
       "    </tr>\n",
       "  </thead>\n",
       "  <tbody>\n",
       "    <tr>\n",
       "      <th>425</th>\n",
       "      <td>590470918</td>\n",
       "      <td>1920142716</td>\n",
       "      <td>2019-08-19</td>\n",
       "      <td>1294500</td>\n",
       "      <td>B</td>\n",
       "    </tr>\n",
       "    <tr>\n",
       "      <th>1196</th>\n",
       "      <td>3936777065</td>\n",
       "      <td>2108080724</td>\n",
       "      <td>2019-08-15</td>\n",
       "      <td>202740</td>\n",
       "      <td>B</td>\n",
       "    </tr>\n",
       "    <tr>\n",
       "      <th>858</th>\n",
       "      <td>192721366</td>\n",
       "      <td>1316129916</td>\n",
       "      <td>2019-08-27</td>\n",
       "      <td>93940</td>\n",
       "      <td>A</td>\n",
       "    </tr>\n",
       "    <tr>\n",
       "      <th>1136</th>\n",
       "      <td>666610489</td>\n",
       "      <td>1307669133</td>\n",
       "      <td>2019-08-13</td>\n",
       "      <td>92550</td>\n",
       "      <td>A</td>\n",
       "    </tr>\n",
       "    <tr>\n",
       "      <th>744</th>\n",
       "      <td>3668308183</td>\n",
       "      <td>888512513</td>\n",
       "      <td>2019-08-27</td>\n",
       "      <td>86620</td>\n",
       "      <td>B</td>\n",
       "    </tr>\n",
       "    <tr>\n",
       "      <th>682</th>\n",
       "      <td>1216533772</td>\n",
       "      <td>4266935830</td>\n",
       "      <td>2019-08-29</td>\n",
       "      <td>78990</td>\n",
       "      <td>B</td>\n",
       "    </tr>\n",
       "    <tr>\n",
       "      <th>662</th>\n",
       "      <td>1811671147</td>\n",
       "      <td>4266935830</td>\n",
       "      <td>2019-08-29</td>\n",
       "      <td>78990</td>\n",
       "      <td>A</td>\n",
       "    </tr>\n",
       "    <tr>\n",
       "      <th>743</th>\n",
       "      <td>3603576309</td>\n",
       "      <td>4133034833</td>\n",
       "      <td>2019-08-09</td>\n",
       "      <td>67990</td>\n",
       "      <td>A</td>\n",
       "    </tr>\n",
       "    <tr>\n",
       "      <th>1103</th>\n",
       "      <td>1348774318</td>\n",
       "      <td>1164614297</td>\n",
       "      <td>2019-08-12</td>\n",
       "      <td>66350</td>\n",
       "      <td>A</td>\n",
       "    </tr>\n",
       "    <tr>\n",
       "      <th>1099</th>\n",
       "      <td>316924019</td>\n",
       "      <td>148427295</td>\n",
       "      <td>2019-08-12</td>\n",
       "      <td>65710</td>\n",
       "      <td>A</td>\n",
       "    </tr>\n",
       "  </tbody>\n",
       "</table>\n",
       "</div>"
      ],
      "text/plain": [
       "      transactionId   visitorId       date  revenue group\n",
       "425   590470918      1920142716 2019-08-19  1294500  B   \n",
       "1196  3936777065     2108080724 2019-08-15  202740   B   \n",
       "858   192721366      1316129916 2019-08-27  93940    A   \n",
       "1136  666610489      1307669133 2019-08-13  92550    A   \n",
       "744   3668308183     888512513  2019-08-27  86620    B   \n",
       "682   1216533772     4266935830 2019-08-29  78990    B   \n",
       "662   1811671147     4266935830 2019-08-29  78990    A   \n",
       "743   3603576309     4133034833 2019-08-09  67990    A   \n",
       "1103  1348774318     1164614297 2019-08-12  66350    A   \n",
       "1099  316924019      148427295  2019-08-12  65710    A   "
      ]
     },
     "execution_count": 26,
     "metadata": {},
     "output_type": "execute_result"
    }
   ],
   "source": [
    "orders.sort_values(by='revenue', ascending=False).head(10)"
   ]
  },
  {
   "cell_type": "code",
   "execution_count": 27,
   "metadata": {},
   "outputs": [
    {
     "data": {
      "image/png": "[encoded data removed]",
      "text/plain": [
       "<Figure size 1600x1000 with 1 Axes>"
      ]
     },
     "metadata": {},
     "output_type": "display_data"
    }
   ],
   "source": [
    "x_values = pd.Series(range(0,len(orders['revenue'])))\n",
    "plt.figure(figsize=(16, 10))\n",
    "plt.scatter(x_values, orders['revenue']) \n",
    "plt.title('Точечная диаграмма стоимостей заказов на одного пользователя')\n",
    "plt.xlabel('Пользователи')\n",
    "plt.ylabel('Стоимость заказов')\n",
    "plt.show()"
   ]
  },
  {
   "cell_type": "markdown",
   "metadata": {},
   "source": [
    "* Как в таблице так и на графике видим всплески: заказ свыше 200 000 руб, а один свыше 1 000 000 руб."
   ]
  },
  {
   "cell_type": "code",
   "execution_count": 28,
   "metadata": {},
   "outputs": [
    {
     "data": {
      "image/png": "[encoded data removed]",
      "text/plain": [
       "<Figure size 1600x1000 with 1 Axes>"
      ]
     },
     "metadata": {},
     "output_type": "display_data"
    }
   ],
   "source": [
    "# строим диаграмму без выбросов\n",
    "x_values = pd.Series(range(0,len(orders[orders['revenue']<200000]['revenue'])))\n",
    "plt.figure(figsize=(16, 10))\n",
    "plt.scatter(x_values, orders[orders['revenue']<200000]['revenue']) \n",
    "plt.title('Точечная диаграмма стоимостей заказов на одного пользователя')\n",
    "plt.xlabel('Пользователи')\n",
    "plt.ylabel('Стоимость заказов')\n",
    "plt.show()"
   ]
  },
  {
   "cell_type": "markdown",
   "metadata": {},
   "source": [
    "* Без выбросов видим что большинство заказов стоимость до ~ 60 000 рублей"
   ]
  },
  {
   "cell_type": "markdown",
   "metadata": {},
   "source": [
    "### Посчитаем 95-й и 99-й перцентили стоимости заказов"
   ]
  },
  {
   "cell_type": "code",
   "execution_count": 29,
   "metadata": {},
   "outputs": [
    {
     "data": {
      "text/plain": [
       "array([28000. , 58233.2])"
      ]
     },
     "execution_count": 29,
     "metadata": {},
     "output_type": "execute_result"
    }
   ],
   "source": [
    "np.percentile(orders['revenue'], [95, 99])"
   ]
  },
  {
   "cell_type": "markdown",
   "metadata": {},
   "source": [
    "* Не более 5% заказов дороже 28 000 рублей и не более 1% дороже 58 233 рублей;\n",
    "* Судя по графику разумно выбрать 58000 руб на один заказ за верхнюю границу числа заказов, и отсеять аномальных пользователей по ней."
   ]
  },
  {
   "cell_type": "markdown",
   "metadata": {},
   "source": [
    "### Посчитаем статистическую значимость различий в среднем количестве заказов на посетителя между группами по «сырым» данным. "
   ]
  },
  {
   "cell_type": "markdown",
   "metadata": {},
   "source": [
    "Сформулируем гипотезы:\n",
    "\n",
    "**Нулевая: различий в среднем количестве заказов, по \"сырым\" данным, между группами нет.** \n",
    "\n",
    "**Альтернативная: различия в среднем, по \"сырым\" данным, между группами есть.**\n",
    "\n",
    "**alpha = 0.05**"
   ]
  },
  {
   "cell_type": "code",
   "execution_count": 30,
   "metadata": {},
   "outputs": [
    {
     "data": {
      "text/html": [
       "<div>\n",
       "<style scoped>\n",
       "    .dataframe tbody tr th:only-of-type {\n",
       "        vertical-align: middle;\n",
       "    }\n",
       "\n",
       "    .dataframe tbody tr th {\n",
       "        vertical-align: top;\n",
       "    }\n",
       "\n",
       "    .dataframe thead th {\n",
       "        text-align: right;\n",
       "    }\n",
       "</style>\n",
       "<table border=\"1\" class=\"dataframe\">\n",
       "  <thead>\n",
       "    <tr style=\"text-align: right;\">\n",
       "      <th></th>\n",
       "      <th>date</th>\n",
       "      <th>ordersPerDateA</th>\n",
       "      <th>revenuePerDateA</th>\n",
       "      <th>ordersPerDateB</th>\n",
       "      <th>revenuePerDateB</th>\n",
       "      <th>ordersCummulativeA</th>\n",
       "      <th>revenueCummulativeA</th>\n",
       "      <th>ordersCummulativeB</th>\n",
       "      <th>revenueCummulativeB</th>\n",
       "      <th>visitorsPerDateA</th>\n",
       "      <th>visitorsPerDateB</th>\n",
       "      <th>visitorsCummulativeA</th>\n",
       "      <th>visitorsCummulativeB</th>\n",
       "    </tr>\n",
       "  </thead>\n",
       "  <tbody>\n",
       "    <tr>\n",
       "      <th>0</th>\n",
       "      <td>2019-08-01</td>\n",
       "      <td>24</td>\n",
       "      <td>148579</td>\n",
       "      <td>21</td>\n",
       "      <td>101217</td>\n",
       "      <td>24</td>\n",
       "      <td>148579</td>\n",
       "      <td>21</td>\n",
       "      <td>101217</td>\n",
       "      <td>719</td>\n",
       "      <td>713</td>\n",
       "      <td>719</td>\n",
       "      <td>713</td>\n",
       "    </tr>\n",
       "    <tr>\n",
       "      <th>1</th>\n",
       "      <td>2019-08-02</td>\n",
       "      <td>20</td>\n",
       "      <td>93822</td>\n",
       "      <td>24</td>\n",
       "      <td>165531</td>\n",
       "      <td>44</td>\n",
       "      <td>242401</td>\n",
       "      <td>45</td>\n",
       "      <td>266748</td>\n",
       "      <td>619</td>\n",
       "      <td>581</td>\n",
       "      <td>1338</td>\n",
       "      <td>1294</td>\n",
       "    </tr>\n",
       "    <tr>\n",
       "      <th>2</th>\n",
       "      <td>2019-08-03</td>\n",
       "      <td>24</td>\n",
       "      <td>112473</td>\n",
       "      <td>16</td>\n",
       "      <td>114248</td>\n",
       "      <td>68</td>\n",
       "      <td>354874</td>\n",
       "      <td>61</td>\n",
       "      <td>380996</td>\n",
       "      <td>507</td>\n",
       "      <td>509</td>\n",
       "      <td>1845</td>\n",
       "      <td>1803</td>\n",
       "    </tr>\n",
       "    <tr>\n",
       "      <th>3</th>\n",
       "      <td>2019-08-04</td>\n",
       "      <td>16</td>\n",
       "      <td>70825</td>\n",
       "      <td>17</td>\n",
       "      <td>108571</td>\n",
       "      <td>84</td>\n",
       "      <td>425699</td>\n",
       "      <td>78</td>\n",
       "      <td>489567</td>\n",
       "      <td>717</td>\n",
       "      <td>770</td>\n",
       "      <td>2562</td>\n",
       "      <td>2573</td>\n",
       "    </tr>\n",
       "    <tr>\n",
       "      <th>4</th>\n",
       "      <td>2019-08-05</td>\n",
       "      <td>25</td>\n",
       "      <td>124218</td>\n",
       "      <td>23</td>\n",
       "      <td>92428</td>\n",
       "      <td>109</td>\n",
       "      <td>549917</td>\n",
       "      <td>101</td>\n",
       "      <td>581995</td>\n",
       "      <td>756</td>\n",
       "      <td>707</td>\n",
       "      <td>3318</td>\n",
       "      <td>3280</td>\n",
       "    </tr>\n",
       "  </tbody>\n",
       "</table>\n",
       "</div>"
      ],
      "text/plain": [
       "        date  ordersPerDateA  revenuePerDateA  ordersPerDateB  \\\n",
       "0 2019-08-01  24              148579           21               \n",
       "1 2019-08-02  20              93822            24               \n",
       "2 2019-08-03  24              112473           16               \n",
       "3 2019-08-04  16              70825            17               \n",
       "4 2019-08-05  25              124218           23               \n",
       "\n",
       "   revenuePerDateB  ordersCummulativeA  revenueCummulativeA  \\\n",
       "0  101217           24                  148579                \n",
       "1  165531           44                  242401                \n",
       "2  114248           68                  354874                \n",
       "3  108571           84                  425699                \n",
       "4  92428            109                 549917                \n",
       "\n",
       "   ordersCummulativeB  revenueCummulativeB  visitorsPerDateA  \\\n",
       "0  21                  101217               719                \n",
       "1  45                  266748               619                \n",
       "2  61                  380996               507                \n",
       "3  78                  489567               717                \n",
       "4  101                 581995               756                \n",
       "\n",
       "   visitorsPerDateB  visitorsCummulativeA  visitorsCummulativeB  \n",
       "0  713               719                   713                   \n",
       "1  581               1338                  1294                  \n",
       "2  509               1845                  1803                  \n",
       "3  770               2562                  2573                  \n",
       "4  707               3318                  3280                  "
      ]
     },
     "execution_count": 30,
     "metadata": {},
     "output_type": "execute_result"
    }
   ],
   "source": [
    "visitorsADaily = visitors[visitors['group'] == 'A'][['date', 'visitors']]\n",
    "visitorsADaily.columns = ['date', 'visitorsPerDateA']\n",
    "\n",
    "visitorsACummulative = visitorsADaily.apply(\n",
    "    lambda x: visitorsADaily[visitorsADaily['date'] <= x['date']].agg(\n",
    "        {'date': 'max', 'visitorsPerDateA': 'sum'}\n",
    "    ),\n",
    "    axis=1,\n",
    ")\n",
    "visitorsACummulative.columns = ['date', 'visitorsCummulativeA']\n",
    "\n",
    "visitorsBDaily = visitors[visitors['group'] == 'B'][['date', 'visitors']]\n",
    "visitorsBDaily.columns = ['date', 'visitorsPerDateB']\n",
    "\n",
    "visitorsBCummulative = visitorsBDaily.apply(\n",
    "    lambda x: visitorsBDaily[visitorsBDaily['date'] <= x['date']].agg(\n",
    "        {'date': 'max', 'visitorsPerDateB': 'sum'}\n",
    "    ),\n",
    "    axis=1,\n",
    ")\n",
    "visitorsBCummulative.columns = ['date', 'visitorsCummulativeB']\n",
    "\n",
    "ordersADaily = (\n",
    "    orders[orders['group'] == 'A'][['date', 'transactionId', 'visitorId', 'revenue']]\n",
    "    .groupby('date', as_index=False)\n",
    "    .agg({'transactionId': pd.Series.nunique, 'revenue': 'sum'})\n",
    ")\n",
    "ordersADaily.columns = ['date', 'ordersPerDateA', 'revenuePerDateA']\n",
    "\n",
    "ordersACummulative = ordersADaily.apply(\n",
    "    lambda x: ordersADaily[ordersADaily['date'] <= x['date']].agg(\n",
    "        {'date': 'max', 'ordersPerDateA': 'sum', 'revenuePerDateA': 'sum'}\n",
    "    ),\n",
    "    axis=1,\n",
    ").sort_values(by=['date'])\n",
    "ordersACummulative.columns = [\n",
    "    'date',\n",
    "    'ordersCummulativeA',\n",
    "    'revenueCummulativeA',\n",
    "]\n",
    "\n",
    "ordersBDaily = (\n",
    "    orders[orders['group'] == 'B'][['date', 'transactionId', 'visitorId', 'revenue']]\n",
    "    .groupby('date', as_index=False)\n",
    "    .agg({'transactionId': pd.Series.nunique, 'revenue': 'sum'})\n",
    ")\n",
    "ordersBDaily.columns = ['date', 'ordersPerDateB', 'revenuePerDateB']\n",
    "\n",
    "ordersBCummulative = ordersBDaily.apply(\n",
    "    lambda x: ordersBDaily[ordersBDaily['date'] <= x['date']].agg(\n",
    "        {'date': 'max', 'ordersPerDateB': 'sum', 'revenuePerDateB': 'sum'}\n",
    "    ),\n",
    "    axis=1,\n",
    ").sort_values(by=['date'])\n",
    "ordersBCummulative.columns = [\n",
    "    'date',\n",
    "    'ordersCummulativeB',\n",
    "    'revenueCummulativeB',\n",
    "]\n",
    "\n",
    "data = (\n",
    "    ordersADaily.merge(\n",
    "        ordersBDaily, left_on='date', right_on='date', how='left'\n",
    "    )\n",
    "    .merge(ordersACummulative, left_on='date', right_on='date', how='left')\n",
    "    .merge(ordersBCummulative, left_on='date', right_on='date', how='left')\n",
    "    .merge(visitorsADaily, left_on='date', right_on='date', how='left')\n",
    "    .merge(visitorsBDaily, left_on='date', right_on='date', how='left')\n",
    "    .merge(visitorsACummulative, left_on='date', right_on='date', how='left')\n",
    "    .merge(visitorsBCummulative, left_on='date', right_on='date', how='left')\n",
    ")\n",
    "\n",
    "data.head()"
   ]
  },
  {
   "cell_type": "markdown",
   "metadata": {},
   "source": [
    "Названия столбцов данных:\n",
    "* date — дата;\n",
    "* ordersPerDateA — количество заказов в выбранную дату в группе A;\n",
    "* revenuePerDateA — суммарная выручка в выбранную дату в группе A;\n",
    "* ordersPerDateB — количество заказов в выбранную дату в группе B;\n",
    "* revenuePerDateB — суммарная выручка в выбранную дату в группе B;\n",
    "* ordersCummulativeA — суммарное число заказов до выбранной даты включительно в группе A;\n",
    "* revenueCummulativeA — суммарная выручка до выбранной даты включительно в группе A;\n",
    "* ordersCummulativeB — суммарное количество заказов до выбранной даты включительно в группе B;\n",
    "* revenueCummulativeB — суммарная выручка до выбранной даты включительно в группе B;\n",
    "* visitorsPerDateA — количество пользователей в выбранную дату в группе A;\n",
    "* visitorsPerDateB — количество пользователей в выбранную дату в группе B;\n",
    "* visitorsCummulativeA — количество пользователей до выбранной даты включительно в группе A;\n",
    "* visitorsCummulativeB — количество пользователей до выбранной даты включительно в группе B."
   ]
  },
  {
   "cell_type": "code",
   "execution_count": 31,
   "metadata": {},
   "outputs": [],
   "source": [
    "# создаем две переменные с количеством заказов на каждого пользователя по группам\n",
    "ordersByUsersA = (\n",
    "    orders[orders['group'] == 'A']\n",
    "    .groupby('visitorId', as_index=False)\n",
    "    .agg({'transactionId': pd.Series.nunique})\n",
    ")\n",
    "ordersByUsersA.columns = ['userId', 'orders']\n",
    "\n",
    "ordersByUsersB = (\n",
    "    orders[orders['group'] == 'B']\n",
    "    .groupby('visitorId', as_index=False)\n",
    "    .agg({'transactionId': pd.Series.nunique})\n",
    ")\n",
    "ordersByUsersB.columns = ['userId', 'orders'] "
   ]
  },
  {
   "cell_type": "code",
   "execution_count": 32,
   "metadata": {},
   "outputs": [],
   "source": [
    "# Объявим переменные в которых пользователям из разных групп будет соответствовать количество заказов. \n",
    "# Тем, кто ничего не заказал, будут соответствовать нули. \n",
    "sampleA = pd.concat([ordersByUsersA['orders'],pd.Series(0, index=np.arange(data['visitorsPerDateA'].sum() - len(ordersByUsersA['orders'])), name='orders')],axis=0)\n",
    "\n",
    "sampleB = pd.concat([ordersByUsersB['orders'],pd.Series(0, index=np.arange(data['visitorsPerDateB'].sum() - len(ordersByUsersB['orders'])), name='orders')],axis=0)"
   ]
  },
  {
   "cell_type": "code",
   "execution_count": 33,
   "metadata": {},
   "outputs": [
    {
     "name": "stdout",
     "output_type": "stream",
     "text": [
      "p-value = 0.017\n",
      "Относительный прирост среднего числа заказов группы B: 0.138\n"
     ]
    }
   ],
   "source": [
    "print('p-value =', \"{0:.3f}\".format(stats.mannwhitneyu(sampleA, sampleB)[1]))\n",
    "\n",
    "print('Относительный прирост среднего числа заказов группы B:',\"{0:.3f}\".format(sampleB.mean() / sampleA.mean() - 1))"
   ]
  },
  {
   "cell_type": "markdown",
   "metadata": {},
   "source": [
    "* p-value меньше 0,05 Значит, нулевую гипотезу о том, что статистически значимых различий в среднем числе заказов между группами нет - отвергаем её;\n",
    "* Относительный прирост среднего числа заказов группы B по «сырым» данным: 13,8 %;\n",
    "* **По «сырым» данным статистические различия в среднем числе заказов групп A и B есть.**"
   ]
  },
  {
   "cell_type": "markdown",
   "metadata": {},
   "source": [
    "### Посчитаем статистическую значимость различий в среднем чеке заказа между группами по «сырым» данным."
   ]
  },
  {
   "cell_type": "markdown",
   "metadata": {},
   "source": [
    "**Нулевая гипотеза: различий в среднем чеке, по \"сырым\" данным, между группами нет.**\n",
    "\n",
    "**Альтернативная гипотеза: различия в среднем чеке, по \"сырым\" данным, между группами есть.**\n",
    "\n",
    "**alpha = 0.05**"
   ]
  },
  {
   "cell_type": "code",
   "execution_count": 34,
   "metadata": {},
   "outputs": [
    {
     "name": "stdout",
     "output_type": "stream",
     "text": [
      "p-value = 0.729\n",
      "Относительный прирост среднего чека заказов группы B: 0.259\n"
     ]
    }
   ],
   "source": [
    "print('p-value =','{0:.3f}'.format(stats.mannwhitneyu(orders[orders['group']=='A']['revenue'], orders[orders['group']=='B']['revenue'])[1]))\n",
    "print('Относительный прирост среднего чека заказов группы B:','{0:.3f}'.format(orders[orders['group']=='B']['revenue'].mean()/orders[orders['group']=='A']['revenue'].mean()-1))"
   ]
  },
  {
   "cell_type": "markdown",
   "metadata": {},
   "source": [
    "* p-value значительно больше 0.05. **Значит, причин отвергать нулевую гипотезу и считать, что в среднем чеке есть статистически значимые различия, нет**;\n",
    "* относительный прирост среднего чека заказов группы B: 25,9%"
   ]
  },
  {
   "cell_type": "markdown",
   "metadata": {},
   "source": [
    "### Посчитаем статистическую значимость различий в среднем количестве заказов на посетителя между группами по «очищенным» данным. "
   ]
  },
  {
   "cell_type": "markdown",
   "metadata": {},
   "source": [
    "Сформулируем гипотезы:\n",
    "\n",
    "**Нулевая: различий в среднем количестве заказов, по \"очищенным\" данным, между группами нет.** \n",
    "\n",
    "**Альтернативная: различия в среднем, по \"очищенным\" данным, между группами есть.**\n",
    "\n",
    "**alpha = 0.05**"
   ]
  },
  {
   "cell_type": "markdown",
   "metadata": {},
   "source": [
    "Узнаем, сколько всего аномальных пользователей:"
   ]
  },
  {
   "cell_type": "code",
   "execution_count": 35,
   "metadata": {},
   "outputs": [
    {
     "data": {
      "text/plain": [
       "1099    148427295\n",
       "18      199603092\n",
       "23      237748145\n",
       "949     887908475\n",
       "744     888512513\n",
       "dtype: int64"
      ]
     },
     "metadata": {},
     "output_type": "display_data"
    },
    {
     "data": {
      "text/plain": [
       "20"
      ]
     },
     "execution_count": 35,
     "metadata": {},
     "output_type": "execute_result"
    }
   ],
   "source": [
    "usersWithManyOrders = pd.concat(\n",
    "    [\n",
    "        ordersByUsersA[ordersByUsersA['orders'] > 3]['userId'],\n",
    "        ordersByUsersB[ordersByUsersB['orders'] > 3]['userId'],\n",
    "    ],\n",
    "    axis=0,\n",
    ")\n",
    "usersWithExpensiveOrders = orders[orders['revenue'] > 58000]['visitorId']\n",
    "abnormalUsers = (\n",
    "    pd.concat([usersWithManyOrders, usersWithExpensiveOrders], axis=0)\n",
    "    .drop_duplicates()\n",
    "    .sort_values()\n",
    ")\n",
    "display(abnormalUsers.head(5))\n",
    "abnormalUsers.shape[0]"
   ]
  },
  {
   "cell_type": "markdown",
   "metadata": {},
   "source": [
    "Всего 20 аномальных пользователей. \n",
    "Посмотрим, как их действия повлияли на результаты теста."
   ]
  },
  {
   "cell_type": "code",
   "execution_count": 36,
   "metadata": {},
   "outputs": [],
   "source": [
    "# готовим выборки количества заказов по пользователям по группам теста\n",
    "sampleAFiltered = pd.concat(\n",
    "    [\n",
    "        ordersByUsersA[\n",
    "            np.logical_not(ordersByUsersA['userId'].isin(abnormalUsers))\n",
    "        ]['orders'],\n",
    "        pd.Series(\n",
    "            0,\n",
    "            index=np.arange(\n",
    "                data['visitorsPerDateA'].sum() - len(ordersByUsersA['orders'])\n",
    "            ),\n",
    "            name='orders',\n",
    "        ),\n",
    "    ],\n",
    "    axis=0,\n",
    ")\n",
    "\n",
    "sampleBFiltered = pd.concat(\n",
    "    [\n",
    "        ordersByUsersB[\n",
    "            np.logical_not(ordersByUsersB['userId'].isin(abnormalUsers))\n",
    "        ]['orders'],\n",
    "        pd.Series(\n",
    "            0,\n",
    "            index=np.arange(\n",
    "                data['visitorsPerDateB'].sum() - len(ordersByUsersB['orders'])\n",
    "            ),\n",
    "            name='orders',\n",
    "        ),\n",
    "    ],\n",
    "    axis=0,\n",
    ")"
   ]
  },
  {
   "cell_type": "code",
   "execution_count": 37,
   "metadata": {},
   "outputs": [
    {
     "name": "stdout",
     "output_type": "stream",
     "text": [
      "p-value = 0.014\n",
      "Относительный прирост среднего числа заказов группы B: 0.151\n"
     ]
    }
   ],
   "source": [
    "# считаем статистическую значимость различий в среднем количестве заказов между группами теста по очищенным данным\n",
    "print('p-value =','{0:.3f}'.format(stats.mannwhitneyu(sampleAFiltered, sampleBFiltered)[1]))\n",
    "print('Относительный прирост среднего числа заказов группы B:','{0:.3f}'.format(sampleBFiltered.mean()/sampleAFiltered.mean()-1)) "
   ]
  },
  {
   "cell_type": "markdown",
   "metadata": {},
   "source": [
    "* p-value выросло, но все равно меньше 0,05 Значит, нулевую гипотезу о том, что статистически значимых различий в среднем числе заказов между группами нет - отвергаем;\n",
    "* Относительный прирост среднего числа заказов группы B по «очищенным» данным: 15,1 %;\n",
    "* **По «очищенным» данным статистические различия в среднем числе заказов групп A и B есть.**"
   ]
  },
  {
   "cell_type": "markdown",
   "metadata": {},
   "source": [
    "### Посчитаем статистическую значимость различий в среднем чеке заказа между группами по «очищенным» данным. "
   ]
  },
  {
   "cell_type": "markdown",
   "metadata": {},
   "source": [
    "**Нулевая гипотеза: различий в среднем чеке, по \"очищенным\" данным, между группами нет.**\n",
    "\n",
    "**Альтернативная гипотеза: различия в среднем чеке, по \"очищенным\" данным, между группами есть.**\n",
    "\n",
    "**alpha = 0.05**"
   ]
  },
  {
   "cell_type": "code",
   "execution_count": 38,
   "metadata": {},
   "outputs": [
    {
     "data": {
      "text/plain": [
       "'p-value ='"
      ]
     },
     "metadata": {},
     "output_type": "display_data"
    },
    {
     "data": {
      "text/plain": [
       "'0.959'"
      ]
     },
     "metadata": {},
     "output_type": "display_data"
    },
    {
     "name": "stdout",
     "output_type": "stream",
     "text": [
      "Относительный прирост среднего чека заказов группы B: -0.014\n"
     ]
    }
   ],
   "source": [
    "display('p-value =',\n",
    "    '{0:.3f}'.format(\n",
    "        stats.mannwhitneyu(\n",
    "            orders[\n",
    "                np.logical_and(\n",
    "                    orders['group'] == 'A',\n",
    "                    np.logical_not(orders['visitorId'].isin(abnormalUsers)),\n",
    "                )\n",
    "            ]['revenue'],\n",
    "            orders[\n",
    "                np.logical_and(\n",
    "                    orders['group'] == 'B',\n",
    "                    np.logical_not(orders['visitorId'].isin(abnormalUsers)),\n",
    "                )\n",
    "            ]['revenue'],\n",
    "        )[1]\n",
    "    )\n",
    ")\n",
    "\n",
    "print('Относительный прирост среднего чека заказов группы B:',\n",
    "    \"{0:.3f}\".format(\n",
    "        orders[\n",
    "            np.logical_and(\n",
    "                orders['group'] == 'B',\n",
    "                np.logical_not(orders['visitorId'].isin(abnormalUsers)),\n",
    "            )\n",
    "        ]['revenue'].mean()\n",
    "        / orders[\n",
    "            np.logical_and(\n",
    "                orders['group'] == 'A',\n",
    "                np.logical_not(orders['visitorId'].isin(abnormalUsers)),\n",
    "            )\n",
    "        ]['revenue'].mean()\n",
    "        - 1\n",
    "    )\n",
    ") "
   ]
  },
  {
   "cell_type": "markdown",
   "metadata": {},
   "source": [
    "* p-value стало еще значительнее 0.05. **Значит, причин отвергать нулевую гипотезу и считать, что в среднем чеке есть статистически значимые различия, нет**;\n",
    "* относительный прирост среднего чека заказов группы B сократился до - 1,4%"
   ]
  },
  {
   "cell_type": "markdown",
   "metadata": {},
   "source": [
    "## Вывод:\n"
   ]
  },
  {
   "cell_type": "markdown",
   "metadata": {},
   "source": [
    "Мы провели исследование данных состоящее их двух частей, такие результаты мы получили:"
   ]
  },
  {
   "cell_type": "markdown",
   "metadata": {},
   "source": [
    "Часть 1:"
   ]
  },
  {
   "cell_type": "markdown",
   "metadata": {},
   "source": [
    "* Наиболее перспективные гипотезы по ICE: 8, 0, 7, 6 и 2."
   ]
  },
  {
   "cell_type": "markdown",
   "metadata": {},
   "source": [
    "* Наиболее перспективные гипотезы по RICE: 7, 2, 0, 6 и 8."
   ]
  },
  {
   "cell_type": "markdown",
   "metadata": {},
   "source": [
    "* Наиболее перспективные гипотезы, которые попали в топ 5 в ICE и RICE это 7, 2, 0, 6 и 8. Разная последовательность приоретизации в ICE и RICE т.к. RICE так же учитывает охват аудитории (`reach`) на которую подействуют изменения;"
   ]
  },
  {
   "cell_type": "markdown",
   "metadata": {},
   "source": [
    "Часть 2:"
   ]
  },
  {
   "cell_type": "markdown",
   "metadata": {},
   "source": [
    "* По сырым данным нет статистически значимого различия по среднему чеку между группами. Так и после удаления аномалий статистически значимого различия нет.\n",
    "* По сырым данным как и по очищенным есть статистически значимое различие в среднем числе заказов групп A и B . "
   ]
  },
  {
   "cell_type": "markdown",
   "metadata": {},
   "source": [
    "* График различия конверсии между группами сообщает, что результаты группы B лучше группы A: имеет тенденцию к росту."
   ]
  },
  {
   "cell_type": "markdown",
   "metadata": {},
   "source": [
    "* График различия среднего чека колеблется: он-то и позволил нам найти аномалии. Сделать из этого графика определённые выводы нельзя."
   ]
  },
  {
   "cell_type": "markdown",
   "metadata": {},
   "source": [
    "**Исходя из вышеперечисленного необходимо Остановить тест, признать его успешным и перейти к проверке следующей гипотезы. Группа B лучше группы А**"
   ]
  }
 ],
 "metadata": {
  "ExecuteTimeLog": [
   {
    "duration": 469,
    "start_time": "2023-03-15T04:58:32.504Z"
   },
   {
    "duration": 75,
    "start_time": "2023-03-15T05:09:45.431Z"
   },
   {
    "duration": 17,
    "start_time": "2023-03-15T05:09:52.265Z"
   },
   {
    "duration": 9,
    "start_time": "2023-03-15T05:10:01.726Z"
   },
   {
    "duration": 963,
    "start_time": "2023-03-15T05:50:08.212Z"
   },
   {
    "duration": 3,
    "start_time": "2023-03-15T05:54:35.825Z"
   },
   {
    "duration": 10,
    "start_time": "2023-03-15T05:54:38.546Z"
   },
   {
    "duration": 11,
    "start_time": "2023-03-15T05:58:19.547Z"
   },
   {
    "duration": 13,
    "start_time": "2023-03-15T06:48:08.888Z"
   },
   {
    "duration": 17,
    "start_time": "2023-03-15T06:48:22.536Z"
   },
   {
    "duration": 14,
    "start_time": "2023-03-15T06:49:59.633Z"
   },
   {
    "duration": 81,
    "start_time": "2023-03-15T06:50:45.246Z"
   },
   {
    "duration": 8,
    "start_time": "2023-03-15T06:50:55.678Z"
   },
   {
    "duration": 9,
    "start_time": "2023-03-15T06:51:33.538Z"
   },
   {
    "duration": 11,
    "start_time": "2023-03-15T06:51:39.494Z"
   },
   {
    "duration": 8,
    "start_time": "2023-03-15T06:51:44.766Z"
   },
   {
    "duration": 13,
    "start_time": "2023-03-15T07:11:09.652Z"
   },
   {
    "duration": 618,
    "start_time": "2023-03-15T07:20:30.049Z"
   },
   {
    "duration": 184,
    "start_time": "2023-03-15T07:29:33.042Z"
   },
   {
    "duration": 699,
    "start_time": "2023-03-15T07:29:35.370Z"
   },
   {
    "duration": 388,
    "start_time": "2023-03-15T07:30:08.640Z"
   },
   {
    "duration": 14,
    "start_time": "2023-03-15T07:30:50.352Z"
   },
   {
    "duration": 18,
    "start_time": "2023-03-15T07:31:19.070Z"
   },
   {
    "duration": 9,
    "start_time": "2023-03-15T07:31:31.024Z"
   },
   {
    "duration": 233,
    "start_time": "2023-03-15T07:32:36.505Z"
   },
   {
    "duration": 945,
    "start_time": "2023-03-15T07:32:58.065Z"
   },
   {
    "duration": 23,
    "start_time": "2023-03-15T07:32:59.018Z"
   },
   {
    "duration": 15,
    "start_time": "2023-03-15T07:32:59.043Z"
   },
   {
    "duration": 59,
    "start_time": "2023-03-15T07:32:59.060Z"
   },
   {
    "duration": 22,
    "start_time": "2023-03-15T07:32:59.121Z"
   },
   {
    "duration": 82,
    "start_time": "2023-03-15T07:32:59.144Z"
   },
   {
    "duration": 18,
    "start_time": "2023-03-15T07:32:59.228Z"
   },
   {
    "duration": 72,
    "start_time": "2023-03-15T07:32:59.248Z"
   },
   {
    "duration": 441,
    "start_time": "2023-03-15T07:32:59.322Z"
   },
   {
    "duration": 0,
    "start_time": "2023-03-15T07:32:59.764Z"
   },
   {
    "duration": 0,
    "start_time": "2023-03-15T07:32:59.765Z"
   },
   {
    "duration": 18,
    "start_time": "2023-03-15T07:33:20.008Z"
   },
   {
    "duration": 10,
    "start_time": "2023-03-15T07:33:22.821Z"
   },
   {
    "duration": 20,
    "start_time": "2023-03-15T07:33:25.474Z"
   },
   {
    "duration": 15,
    "start_time": "2023-03-15T07:53:40.314Z"
   },
   {
    "duration": 218,
    "start_time": "2023-03-15T07:55:42.364Z"
   },
   {
    "duration": 205,
    "start_time": "2023-03-15T07:56:26.894Z"
   },
   {
    "duration": 136,
    "start_time": "2023-03-15T07:59:43.229Z"
   },
   {
    "duration": 13,
    "start_time": "2023-03-15T08:02:07.108Z"
   },
   {
    "duration": 494,
    "start_time": "2023-03-15T08:02:30.309Z"
   },
   {
    "duration": 17,
    "start_time": "2023-03-15T08:02:42.452Z"
   },
   {
    "duration": 339,
    "start_time": "2023-03-15T08:10:44.909Z"
   },
   {
    "duration": 191,
    "start_time": "2023-03-15T08:13:17.572Z"
   },
   {
    "duration": 217,
    "start_time": "2023-03-15T08:13:46.112Z"
   },
   {
    "duration": 221,
    "start_time": "2023-03-15T08:14:05.504Z"
   },
   {
    "duration": 290,
    "start_time": "2023-03-15T08:19:18.003Z"
   },
   {
    "duration": 256,
    "start_time": "2023-03-15T08:33:38.827Z"
   },
   {
    "duration": 225,
    "start_time": "2023-03-15T08:34:00.713Z"
   },
   {
    "duration": 252,
    "start_time": "2023-03-15T08:34:23.266Z"
   },
   {
    "duration": 327,
    "start_time": "2023-03-15T08:34:32.266Z"
   },
   {
    "duration": 212,
    "start_time": "2023-03-15T08:34:36.328Z"
   },
   {
    "duration": 283,
    "start_time": "2023-03-15T08:35:53.548Z"
   },
   {
    "duration": 292,
    "start_time": "2023-03-15T08:36:10.746Z"
   },
   {
    "duration": 282,
    "start_time": "2023-03-15T08:37:13.820Z"
   },
   {
    "duration": 390,
    "start_time": "2023-03-15T08:47:02.827Z"
   },
   {
    "duration": 411,
    "start_time": "2023-03-15T08:53:18.416Z"
   },
   {
    "duration": 436,
    "start_time": "2023-03-15T08:53:29.463Z"
   },
   {
    "duration": 318,
    "start_time": "2023-03-15T08:59:21.840Z"
   },
   {
    "duration": 427,
    "start_time": "2023-03-15T09:01:47.421Z"
   },
   {
    "duration": 364,
    "start_time": "2023-03-15T09:02:57.506Z"
   },
   {
    "duration": 365,
    "start_time": "2023-03-15T09:03:26.451Z"
   },
   {
    "duration": 408,
    "start_time": "2023-03-15T09:04:42.458Z"
   },
   {
    "duration": 296,
    "start_time": "2023-03-15T09:04:52.586Z"
   },
   {
    "duration": 269,
    "start_time": "2023-03-15T09:04:58.719Z"
   },
   {
    "duration": 291,
    "start_time": "2023-03-15T09:05:07.651Z"
   },
   {
    "duration": 371,
    "start_time": "2023-03-15T09:05:21.964Z"
   },
   {
    "duration": 385,
    "start_time": "2023-03-15T09:05:45.929Z"
   },
   {
    "duration": 386,
    "start_time": "2023-03-15T09:05:51.267Z"
   },
   {
    "duration": 381,
    "start_time": "2023-03-15T09:16:56.939Z"
   },
   {
    "duration": 400,
    "start_time": "2023-03-15T09:18:39.822Z"
   },
   {
    "duration": 390,
    "start_time": "2023-03-15T09:18:53.212Z"
   },
   {
    "duration": 463,
    "start_time": "2023-03-15T09:19:23.968Z"
   },
   {
    "duration": 510,
    "start_time": "2023-03-15T09:20:44.724Z"
   },
   {
    "duration": 408,
    "start_time": "2023-03-15T09:20:58.823Z"
   },
   {
    "duration": 372,
    "start_time": "2023-03-15T09:21:20.136Z"
   },
   {
    "duration": 17,
    "start_time": "2023-03-15T09:57:46.010Z"
   },
   {
    "duration": 9,
    "start_time": "2023-03-15T09:59:11.636Z"
   },
   {
    "duration": 20,
    "start_time": "2023-03-15T09:59:30.065Z"
   },
   {
    "duration": 10,
    "start_time": "2023-03-15T09:59:44.329Z"
   },
   {
    "duration": 15,
    "start_time": "2023-03-15T10:00:05.714Z"
   },
   {
    "duration": 24,
    "start_time": "2023-03-15T10:00:20.576Z"
   },
   {
    "duration": 67,
    "start_time": "2023-03-15T10:09:36.225Z"
   },
   {
    "duration": 32,
    "start_time": "2023-03-15T10:09:42.473Z"
   },
   {
    "duration": 170,
    "start_time": "2023-03-15T10:10:21.375Z"
   },
   {
    "duration": 182,
    "start_time": "2023-03-15T10:11:08.375Z"
   },
   {
    "duration": 5,
    "start_time": "2023-03-15T13:02:42.074Z"
   },
   {
    "duration": 139,
    "start_time": "2023-03-15T13:06:33.942Z"
   },
   {
    "duration": 187,
    "start_time": "2023-03-15T13:07:05.887Z"
   },
   {
    "duration": 22,
    "start_time": "2023-03-15T13:44:19.876Z"
   },
   {
    "duration": 5,
    "start_time": "2023-03-15T13:47:43.898Z"
   },
   {
    "duration": 118,
    "start_time": "2023-03-15T14:02:39.298Z"
   },
   {
    "duration": 15,
    "start_time": "2023-03-15T14:20:28.968Z"
   },
   {
    "duration": 9,
    "start_time": "2023-03-15T14:20:50.769Z"
   },
   {
    "duration": 12,
    "start_time": "2023-03-15T14:20:59.191Z"
   },
   {
    "duration": 10,
    "start_time": "2023-03-15T14:21:08.688Z"
   },
   {
    "duration": 12,
    "start_time": "2023-03-15T14:21:13.627Z"
   },
   {
    "duration": 8,
    "start_time": "2023-03-15T14:21:22.628Z"
   },
   {
    "duration": 1131,
    "start_time": "2023-03-15T14:25:30.617Z"
   },
   {
    "duration": 72,
    "start_time": "2023-03-15T14:25:31.750Z"
   },
   {
    "duration": 22,
    "start_time": "2023-03-15T14:25:31.824Z"
   },
   {
    "duration": 11,
    "start_time": "2023-03-15T14:25:31.848Z"
   },
   {
    "duration": 44,
    "start_time": "2023-03-15T14:25:31.861Z"
   },
   {
    "duration": 12,
    "start_time": "2023-03-15T14:25:31.907Z"
   },
   {
    "duration": 23,
    "start_time": "2023-03-15T14:25:31.920Z"
   },
   {
    "duration": 77,
    "start_time": "2023-03-15T14:25:31.945Z"
   },
   {
    "duration": 14,
    "start_time": "2023-03-15T14:25:32.024Z"
   },
   {
    "duration": 31,
    "start_time": "2023-03-15T14:25:32.040Z"
   },
   {
    "duration": 30,
    "start_time": "2023-03-15T14:25:32.073Z"
   },
   {
    "duration": 13,
    "start_time": "2023-03-15T14:25:32.105Z"
   },
   {
    "duration": 177,
    "start_time": "2023-03-15T14:25:32.120Z"
   },
   {
    "duration": 144,
    "start_time": "2023-03-15T14:25:32.300Z"
   },
   {
    "duration": 16,
    "start_time": "2023-03-15T14:25:32.446Z"
   },
   {
    "duration": 399,
    "start_time": "2023-03-15T14:25:32.478Z"
   },
   {
    "duration": 264,
    "start_time": "2023-03-15T14:25:32.881Z"
   },
   {
    "duration": 391,
    "start_time": "2023-03-15T14:25:33.147Z"
   },
   {
    "duration": 253,
    "start_time": "2023-03-15T14:25:33.540Z"
   },
   {
    "duration": 347,
    "start_time": "2023-03-15T14:25:33.795Z"
   },
   {
    "duration": 13,
    "start_time": "2023-03-15T14:25:34.144Z"
   },
   {
    "duration": 205,
    "start_time": "2023-03-15T14:25:34.159Z"
   },
   {
    "duration": 13,
    "start_time": "2023-03-15T14:25:34.366Z"
   },
   {
    "duration": 25,
    "start_time": "2023-03-15T14:25:34.381Z"
   },
   {
    "duration": 198,
    "start_time": "2023-03-15T14:25:34.408Z"
   },
   {
    "duration": 6,
    "start_time": "2023-03-15T14:25:34.607Z"
   },
   {
    "duration": 17,
    "start_time": "2023-03-15T14:25:34.614Z"
   },
   {
    "duration": 26,
    "start_time": "2023-03-15T14:25:34.632Z"
   },
   {
    "duration": 247,
    "start_time": "2023-03-15T14:25:34.660Z"
   },
   {
    "duration": 260,
    "start_time": "2023-03-15T14:25:44.252Z"
   },
   {
    "duration": 111,
    "start_time": "2023-03-15T14:30:20.255Z"
   },
   {
    "duration": 11,
    "start_time": "2023-03-15T14:32:13.025Z"
   },
   {
    "duration": 161,
    "start_time": "2023-03-15T14:35:12.187Z"
   },
   {
    "duration": 7,
    "start_time": "2023-03-15T14:35:15.207Z"
   },
   {
    "duration": 211,
    "start_time": "2023-03-15T14:36:02.603Z"
   },
   {
    "duration": 7,
    "start_time": "2023-03-15T14:36:57.097Z"
   },
   {
    "duration": 18,
    "start_time": "2023-03-15T14:37:54.689Z"
   },
   {
    "duration": 26,
    "start_time": "2023-03-15T14:38:30.919Z"
   },
   {
    "duration": 12,
    "start_time": "2023-03-15T15:12:51.802Z"
   },
   {
    "duration": 38,
    "start_time": "2023-03-15T15:13:00.786Z"
   },
   {
    "duration": 27,
    "start_time": "2023-03-15T15:13:06.928Z"
   },
   {
    "duration": 42,
    "start_time": "2023-03-15T15:17:14.609Z"
   },
   {
    "duration": 34,
    "start_time": "2023-03-15T15:17:44.192Z"
   },
   {
    "duration": 46,
    "start_time": "2023-03-15T15:18:04.081Z"
   },
   {
    "duration": 26,
    "start_time": "2023-03-15T15:19:03.646Z"
   },
   {
    "duration": 25,
    "start_time": "2023-03-15T15:19:16.807Z"
   },
   {
    "duration": 12,
    "start_time": "2023-03-15T17:22:34.279Z"
   },
   {
    "duration": 11,
    "start_time": "2023-03-15T17:25:27.127Z"
   },
   {
    "duration": 1177,
    "start_time": "2023-03-15T17:26:01.179Z"
   },
   {
    "duration": 85,
    "start_time": "2023-03-15T17:26:02.359Z"
   },
   {
    "duration": 14,
    "start_time": "2023-03-15T17:26:02.446Z"
   },
   {
    "duration": 23,
    "start_time": "2023-03-15T17:26:02.463Z"
   },
   {
    "duration": 32,
    "start_time": "2023-03-15T17:26:02.489Z"
   },
   {
    "duration": 52,
    "start_time": "2023-03-15T17:26:02.523Z"
   },
   {
    "duration": 48,
    "start_time": "2023-03-15T17:26:02.577Z"
   },
   {
    "duration": 76,
    "start_time": "2023-03-15T17:26:02.628Z"
   },
   {
    "duration": 14,
    "start_time": "2023-03-15T17:26:02.706Z"
   },
   {
    "duration": 44,
    "start_time": "2023-03-15T17:26:02.723Z"
   },
   {
    "duration": 35,
    "start_time": "2023-03-15T17:26:02.769Z"
   },
   {
    "duration": 49,
    "start_time": "2023-03-15T17:26:02.806Z"
   },
   {
    "duration": 191,
    "start_time": "2023-03-15T17:26:02.857Z"
   },
   {
    "duration": 140,
    "start_time": "2023-03-15T17:26:03.050Z"
   },
   {
    "duration": 13,
    "start_time": "2023-03-15T17:26:03.192Z"
   },
   {
    "duration": 347,
    "start_time": "2023-03-15T17:26:03.207Z"
   },
   {
    "duration": 248,
    "start_time": "2023-03-15T17:26:03.556Z"
   },
   {
    "duration": 328,
    "start_time": "2023-03-15T17:26:03.806Z"
   },
   {
    "duration": 266,
    "start_time": "2023-03-15T17:26:04.135Z"
   },
   {
    "duration": 351,
    "start_time": "2023-03-15T17:26:04.403Z"
   },
   {
    "duration": 22,
    "start_time": "2023-03-15T17:26:04.756Z"
   },
   {
    "duration": 208,
    "start_time": "2023-03-15T17:26:04.780Z"
   },
   {
    "duration": 7,
    "start_time": "2023-03-15T17:26:04.990Z"
   },
   {
    "duration": 35,
    "start_time": "2023-03-15T17:26:04.999Z"
   },
   {
    "duration": 200,
    "start_time": "2023-03-15T17:26:05.036Z"
   },
   {
    "duration": 5,
    "start_time": "2023-03-15T17:26:05.238Z"
   },
   {
    "duration": 269,
    "start_time": "2023-03-15T17:26:05.244Z"
   },
   {
    "duration": 150,
    "start_time": "2023-03-15T17:26:05.516Z"
   },
   {
    "duration": 14,
    "start_time": "2023-03-15T17:26:05.668Z"
   },
   {
    "duration": 44,
    "start_time": "2023-03-15T17:26:05.684Z"
   },
   {
    "duration": 15,
    "start_time": "2023-03-15T17:26:05.730Z"
   },
   {
    "duration": 881,
    "start_time": "2023-03-15T17:30:24.622Z"
   },
   {
    "duration": 814,
    "start_time": "2023-03-15T17:31:14.934Z"
   },
   {
    "duration": 759,
    "start_time": "2023-03-15T17:31:49.006Z"
   },
   {
    "duration": 1085,
    "start_time": "2023-03-15T17:31:58.581Z"
   },
   {
    "duration": 84,
    "start_time": "2023-03-15T17:31:59.668Z"
   },
   {
    "duration": 11,
    "start_time": "2023-03-15T17:31:59.754Z"
   },
   {
    "duration": 6,
    "start_time": "2023-03-15T17:31:59.767Z"
   },
   {
    "duration": 21,
    "start_time": "2023-03-15T17:31:59.775Z"
   },
   {
    "duration": 11,
    "start_time": "2023-03-15T17:31:59.798Z"
   },
   {
    "duration": 13,
    "start_time": "2023-03-15T17:31:59.810Z"
   },
   {
    "duration": 54,
    "start_time": "2023-03-15T17:31:59.825Z"
   },
   {
    "duration": 15,
    "start_time": "2023-03-15T17:31:59.881Z"
   },
   {
    "duration": 10,
    "start_time": "2023-03-15T17:31:59.900Z"
   },
   {
    "duration": 9,
    "start_time": "2023-03-15T17:31:59.912Z"
   },
   {
    "duration": 7,
    "start_time": "2023-03-15T17:31:59.923Z"
   },
   {
    "duration": 197,
    "start_time": "2023-03-15T17:31:59.932Z"
   },
   {
    "duration": 134,
    "start_time": "2023-03-15T17:32:00.131Z"
   },
   {
    "duration": 21,
    "start_time": "2023-03-15T17:32:00.267Z"
   },
   {
    "duration": 343,
    "start_time": "2023-03-15T17:32:00.290Z"
   },
   {
    "duration": 261,
    "start_time": "2023-03-15T17:32:00.635Z"
   },
   {
    "duration": 332,
    "start_time": "2023-03-15T17:32:00.898Z"
   },
   {
    "duration": 260,
    "start_time": "2023-03-15T17:32:01.232Z"
   },
   {
    "duration": 386,
    "start_time": "2023-03-15T17:32:01.494Z"
   },
   {
    "duration": 13,
    "start_time": "2023-03-15T17:32:01.882Z"
   },
   {
    "duration": 183,
    "start_time": "2023-03-15T17:32:01.897Z"
   },
   {
    "duration": 5,
    "start_time": "2023-03-15T17:32:02.082Z"
   },
   {
    "duration": 40,
    "start_time": "2023-03-15T17:32:02.089Z"
   },
   {
    "duration": 177,
    "start_time": "2023-03-15T17:32:02.131Z"
   },
   {
    "duration": 6,
    "start_time": "2023-03-15T17:32:02.309Z"
   },
   {
    "duration": 308,
    "start_time": "2023-03-15T17:32:02.317Z"
   },
   {
    "duration": 156,
    "start_time": "2023-03-15T17:32:02.630Z"
   },
   {
    "duration": 7,
    "start_time": "2023-03-15T17:32:02.788Z"
   },
   {
    "duration": 43,
    "start_time": "2023-03-15T17:32:02.797Z"
   },
   {
    "duration": 13,
    "start_time": "2023-03-15T17:32:02.842Z"
   },
   {
    "duration": 810,
    "start_time": "2023-03-15T17:32:02.858Z"
   },
   {
    "duration": 10,
    "start_time": "2023-03-15T17:32:33.896Z"
   },
   {
    "duration": 15,
    "start_time": "2023-03-15T17:33:02.526Z"
   },
   {
    "duration": 10,
    "start_time": "2023-03-15T17:35:59.603Z"
   },
   {
    "duration": 25,
    "start_time": "2023-03-15T17:38:31.895Z"
   },
   {
    "duration": 36,
    "start_time": "2023-03-15T17:40:22.652Z"
   },
   {
    "duration": 839,
    "start_time": "2023-03-15T17:52:02.089Z"
   },
   {
    "duration": 16,
    "start_time": "2023-03-15T17:53:19.088Z"
   },
   {
    "duration": 17,
    "start_time": "2023-03-15T17:54:37.113Z"
   },
   {
    "duration": 17,
    "start_time": "2023-03-15T17:54:47.117Z"
   },
   {
    "duration": 51,
    "start_time": "2023-03-15T17:56:12.694Z"
   },
   {
    "duration": 774,
    "start_time": "2023-03-15T18:02:30.616Z"
   },
   {
    "duration": 5,
    "start_time": "2023-03-15T18:02:38.337Z"
   },
   {
    "duration": 6,
    "start_time": "2023-03-15T18:03:04.213Z"
   },
   {
    "duration": 1138,
    "start_time": "2023-03-15T18:13:40.897Z"
   },
   {
    "duration": 92,
    "start_time": "2023-03-15T18:13:42.037Z"
   },
   {
    "duration": 12,
    "start_time": "2023-03-15T18:13:42.131Z"
   },
   {
    "duration": 10,
    "start_time": "2023-03-15T18:13:42.146Z"
   },
   {
    "duration": 33,
    "start_time": "2023-03-15T18:13:42.157Z"
   },
   {
    "duration": 13,
    "start_time": "2023-03-15T18:13:42.193Z"
   },
   {
    "duration": 14,
    "start_time": "2023-03-15T18:13:42.208Z"
   },
   {
    "duration": 62,
    "start_time": "2023-03-15T18:13:42.224Z"
   },
   {
    "duration": 24,
    "start_time": "2023-03-15T18:13:42.291Z"
   },
   {
    "duration": 19,
    "start_time": "2023-03-15T18:13:42.320Z"
   },
   {
    "duration": 19,
    "start_time": "2023-03-15T18:13:42.341Z"
   },
   {
    "duration": 27,
    "start_time": "2023-03-15T18:13:42.362Z"
   },
   {
    "duration": 308,
    "start_time": "2023-03-15T18:13:42.411Z"
   },
   {
    "duration": 166,
    "start_time": "2023-03-15T18:13:42.721Z"
   },
   {
    "duration": 15,
    "start_time": "2023-03-15T18:13:42.889Z"
   },
   {
    "duration": 356,
    "start_time": "2023-03-15T18:13:42.906Z"
   },
   {
    "duration": 267,
    "start_time": "2023-03-15T18:13:43.264Z"
   },
   {
    "duration": 399,
    "start_time": "2023-03-15T18:13:43.533Z"
   },
   {
    "duration": 260,
    "start_time": "2023-03-15T18:13:43.934Z"
   },
   {
    "duration": 368,
    "start_time": "2023-03-15T18:13:44.196Z"
   },
   {
    "duration": 24,
    "start_time": "2023-03-15T18:13:44.567Z"
   },
   {
    "duration": 204,
    "start_time": "2023-03-15T18:13:44.597Z"
   },
   {
    "duration": 6,
    "start_time": "2023-03-15T18:13:44.803Z"
   },
   {
    "duration": 30,
    "start_time": "2023-03-15T18:13:44.811Z"
   },
   {
    "duration": 189,
    "start_time": "2023-03-15T18:13:44.843Z"
   },
   {
    "duration": 5,
    "start_time": "2023-03-15T18:13:45.035Z"
   },
   {
    "duration": 276,
    "start_time": "2023-03-15T18:13:45.042Z"
   },
   {
    "duration": 159,
    "start_time": "2023-03-15T18:13:45.321Z"
   },
   {
    "duration": 8,
    "start_time": "2023-03-15T18:13:45.483Z"
   },
   {
    "duration": 44,
    "start_time": "2023-03-15T18:13:45.493Z"
   },
   {
    "duration": 13,
    "start_time": "2023-03-15T18:13:45.539Z"
   },
   {
    "duration": 17,
    "start_time": "2023-03-15T18:13:45.554Z"
   },
   {
    "duration": 27,
    "start_time": "2023-03-15T18:13:45.577Z"
   },
   {
    "duration": 37,
    "start_time": "2023-03-15T18:13:45.606Z"
   },
   {
    "duration": 27,
    "start_time": "2023-03-15T18:13:45.645Z"
   },
   {
    "duration": 33,
    "start_time": "2023-03-15T18:13:45.674Z"
   },
   {
    "duration": 25,
    "start_time": "2023-03-15T18:13:45.709Z"
   },
   {
    "duration": 1295,
    "start_time": "2023-03-16T17:29:06.539Z"
   },
   {
    "duration": 144,
    "start_time": "2023-03-16T17:29:07.837Z"
   },
   {
    "duration": 12,
    "start_time": "2023-03-16T17:29:07.983Z"
   },
   {
    "duration": 3,
    "start_time": "2023-03-16T17:29:07.997Z"
   },
   {
    "duration": 17,
    "start_time": "2023-03-16T17:29:08.002Z"
   },
   {
    "duration": 12,
    "start_time": "2023-03-16T17:29:08.020Z"
   },
   {
    "duration": 12,
    "start_time": "2023-03-16T17:29:08.034Z"
   },
   {
    "duration": 219,
    "start_time": "2023-03-16T17:29:08.048Z"
   },
   {
    "duration": 16,
    "start_time": "2023-03-16T17:29:08.269Z"
   },
   {
    "duration": 11,
    "start_time": "2023-03-16T17:29:08.288Z"
   },
   {
    "duration": 11,
    "start_time": "2023-03-16T17:29:08.301Z"
   },
   {
    "duration": 11,
    "start_time": "2023-03-16T17:29:08.314Z"
   },
   {
    "duration": 189,
    "start_time": "2023-03-16T17:29:08.327Z"
   },
   {
    "duration": 129,
    "start_time": "2023-03-16T17:29:08.518Z"
   },
   {
    "duration": 13,
    "start_time": "2023-03-16T17:29:08.648Z"
   },
   {
    "duration": 370,
    "start_time": "2023-03-16T17:29:08.663Z"
   },
   {
    "duration": 251,
    "start_time": "2023-03-16T17:29:09.035Z"
   },
   {
    "duration": 420,
    "start_time": "2023-03-16T17:29:09.288Z"
   },
   {
    "duration": 239,
    "start_time": "2023-03-16T17:29:09.709Z"
   },
   {
    "duration": 396,
    "start_time": "2023-03-16T17:29:09.949Z"
   },
   {
    "duration": 12,
    "start_time": "2023-03-16T17:29:10.347Z"
   },
   {
    "duration": 176,
    "start_time": "2023-03-16T17:29:10.361Z"
   },
   {
    "duration": 6,
    "start_time": "2023-03-16T17:29:10.538Z"
   },
   {
    "duration": 14,
    "start_time": "2023-03-16T17:29:10.546Z"
   },
   {
    "duration": 198,
    "start_time": "2023-03-16T17:29:10.562Z"
   },
   {
    "duration": 5,
    "start_time": "2023-03-16T17:29:10.762Z"
   },
   {
    "duration": 243,
    "start_time": "2023-03-16T17:29:10.777Z"
   },
   {
    "duration": 137,
    "start_time": "2023-03-16T17:29:11.023Z"
   },
   {
    "duration": 7,
    "start_time": "2023-03-16T17:29:11.161Z"
   },
   {
    "duration": 26,
    "start_time": "2023-03-16T17:29:11.176Z"
   },
   {
    "duration": 12,
    "start_time": "2023-03-16T17:29:11.204Z"
   },
   {
    "duration": 19,
    "start_time": "2023-03-16T17:29:11.218Z"
   },
   {
    "duration": 9,
    "start_time": "2023-03-16T17:29:11.238Z"
   },
   {
    "duration": 28,
    "start_time": "2023-03-16T17:29:11.276Z"
   },
   {
    "duration": 18,
    "start_time": "2023-03-16T17:29:11.305Z"
   },
   {
    "duration": 5,
    "start_time": "2023-03-16T17:29:11.325Z"
   },
   {
    "duration": 10,
    "start_time": "2023-03-16T17:29:11.331Z"
   },
   {
    "duration": 404,
    "start_time": "2023-03-16T17:29:11.343Z"
   },
   {
    "duration": 436,
    "start_time": "2023-03-16T17:29:11.748Z"
   },
   {
    "duration": 52,
    "start_time": "2023-03-17T05:01:54.909Z"
   },
   {
    "duration": 1196,
    "start_time": "2023-03-17T05:02:02.111Z"
   },
   {
    "duration": 141,
    "start_time": "2023-03-17T05:02:03.309Z"
   },
   {
    "duration": 13,
    "start_time": "2023-03-17T05:02:03.451Z"
   },
   {
    "duration": 11,
    "start_time": "2023-03-17T05:02:03.466Z"
   },
   {
    "duration": 9,
    "start_time": "2023-03-17T05:02:03.478Z"
   },
   {
    "duration": 11,
    "start_time": "2023-03-17T05:02:03.488Z"
   },
   {
    "duration": 18,
    "start_time": "2023-03-17T05:02:03.501Z"
   },
   {
    "duration": 157,
    "start_time": "2023-03-17T05:02:03.521Z"
   },
   {
    "duration": 13,
    "start_time": "2023-03-17T05:02:03.680Z"
   },
   {
    "duration": 9,
    "start_time": "2023-03-17T05:02:03.696Z"
   },
   {
    "duration": 12,
    "start_time": "2023-03-17T05:02:03.707Z"
   },
   {
    "duration": 12,
    "start_time": "2023-03-17T05:02:03.720Z"
   },
   {
    "duration": 177,
    "start_time": "2023-03-17T05:02:03.733Z"
   },
   {
    "duration": 133,
    "start_time": "2023-03-17T05:02:03.912Z"
   },
   {
    "duration": 13,
    "start_time": "2023-03-17T05:02:04.046Z"
   },
   {
    "duration": 326,
    "start_time": "2023-03-17T05:02:04.061Z"
   },
   {
    "duration": 227,
    "start_time": "2023-03-17T05:02:04.389Z"
   },
   {
    "duration": 361,
    "start_time": "2023-03-17T05:02:04.619Z"
   },
   {
    "duration": 239,
    "start_time": "2023-03-17T05:02:04.989Z"
   },
   {
    "duration": 309,
    "start_time": "2023-03-17T05:02:05.230Z"
   },
   {
    "duration": 11,
    "start_time": "2023-03-17T05:02:05.541Z"
   },
   {
    "duration": 167,
    "start_time": "2023-03-17T05:02:05.553Z"
   },
   {
    "duration": 5,
    "start_time": "2023-03-17T05:02:05.722Z"
   },
   {
    "duration": 18,
    "start_time": "2023-03-17T05:02:05.728Z"
   },
   {
    "duration": 178,
    "start_time": "2023-03-17T05:02:05.748Z"
   },
   {
    "duration": 5,
    "start_time": "2023-03-17T05:02:05.928Z"
   },
   {
    "duration": 248,
    "start_time": "2023-03-17T05:02:05.934Z"
   },
   {
    "duration": 139,
    "start_time": "2023-03-17T05:02:06.191Z"
   },
   {
    "duration": 7,
    "start_time": "2023-03-17T05:02:06.331Z"
   },
   {
    "duration": 21,
    "start_time": "2023-03-17T05:02:06.341Z"
   },
   {
    "duration": 29,
    "start_time": "2023-03-17T05:02:06.364Z"
   },
   {
    "duration": 12,
    "start_time": "2023-03-17T05:02:06.395Z"
   },
   {
    "duration": 7,
    "start_time": "2023-03-17T05:02:06.409Z"
   },
   {
    "duration": 98,
    "start_time": "2023-03-17T05:02:06.418Z"
   },
   {
    "duration": 16,
    "start_time": "2023-03-17T05:02:06.518Z"
   },
   {
    "duration": 4,
    "start_time": "2023-03-17T05:02:06.535Z"
   },
   {
    "duration": 8,
    "start_time": "2023-03-17T05:02:06.541Z"
   },
   {
    "duration": 379,
    "start_time": "2023-03-17T05:02:06.551Z"
   },
   {
    "duration": 413,
    "start_time": "2023-03-17T05:02:06.932Z"
   },
   {
    "duration": 15,
    "start_time": "2023-03-17T05:03:05.541Z"
   },
   {
    "duration": 10,
    "start_time": "2023-03-17T05:04:22.462Z"
   },
   {
    "duration": 3,
    "start_time": "2023-03-17T05:31:34.274Z"
   },
   {
    "duration": 11,
    "start_time": "2023-03-17T05:31:39.078Z"
   },
   {
    "duration": 25,
    "start_time": "2023-03-17T06:25:13.007Z"
   },
   {
    "duration": 21,
    "start_time": "2023-03-17T06:25:58.262Z"
   },
   {
    "duration": 21,
    "start_time": "2023-03-17T06:26:50.413Z"
   },
   {
    "duration": 278,
    "start_time": "2023-03-17T06:29:49.006Z"
   },
   {
    "duration": 280,
    "start_time": "2023-03-17T06:50:13.887Z"
   },
   {
    "duration": 451,
    "start_time": "2023-03-17T06:51:40.970Z"
   },
   {
    "duration": 285,
    "start_time": "2023-03-17T07:09:49.175Z"
   },
   {
    "duration": 265,
    "start_time": "2023-03-17T07:10:20.250Z"
   },
   {
    "duration": 431,
    "start_time": "2023-03-17T07:14:32.064Z"
   },
   {
    "duration": 419,
    "start_time": "2023-03-17T07:15:05.618Z"
   },
   {
    "duration": 410,
    "start_time": "2023-03-17T07:19:38.321Z"
   },
   {
    "duration": 202,
    "start_time": "2023-03-17T07:22:16.718Z"
   },
   {
    "duration": 200,
    "start_time": "2023-03-17T07:22:58.528Z"
   },
   {
    "duration": 295,
    "start_time": "2023-03-17T07:23:48.879Z"
   },
   {
    "duration": 202,
    "start_time": "2023-03-17T07:25:55.975Z"
   },
   {
    "duration": 124,
    "start_time": "2023-03-17T07:30:05.018Z"
   },
   {
    "duration": 172,
    "start_time": "2023-03-17T07:30:18.856Z"
   },
   {
    "duration": 576,
    "start_time": "2023-03-17T07:31:02.872Z"
   },
   {
    "duration": 15,
    "start_time": "2023-03-17T07:31:31.353Z"
   },
   {
    "duration": 189,
    "start_time": "2023-03-17T07:35:46.017Z"
   },
   {
    "duration": 285,
    "start_time": "2023-03-17T07:36:14.994Z"
   }
  ],
  "kernelspec": {
   "display_name": "Python 3 (ipykernel)",
   "language": "python",
   "name": "python3"
  },
  "language_info": {
   "codemirror_mode": {
    "name": "ipython",
    "version": 3
   },
   "file_extension": ".py",
   "mimetype": "text/x-python",
   "name": "python",
   "nbconvert_exporter": "python",
   "pygments_lexer": "ipython3",
   "version": "3.9.13"
  },
  "toc": {
   "base_numbering": 1,
   "nav_menu": {},
   "number_sections": true,
   "sideBar": true,
   "skip_h1_title": true,
   "title_cell": "Table of Contents",
   "title_sidebar": "Contents",
   "toc_cell": false,
   "toc_position": {},
   "toc_section_display": true,
   "toc_window_display": false
  }
 },
 "nbformat": 4,
 "nbformat_minor": 2
}
